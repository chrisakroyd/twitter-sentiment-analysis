{
 "cells": [
  {
   "cell_type": "markdown",
   "metadata": {
    "collapsed": true
   },
   "source": [
    "# Data Exploration and Initial Development"
   ]
  },
  {
   "cell_type": "code",
   "execution_count": 1,
   "metadata": {},
   "outputs": [
    {
     "name": "stderr",
     "output_type": "stream",
     "text": [
      "c:\\users\\chris\\anaconda3\\envs\\chris-dl\\lib\\site-packages\\h5py\\__init__.py:36: FutureWarning: Conversion of the second argument of issubdtype from `float` to `np.floating` is deprecated. In future, it will be treated as `np.float64 == np.dtype(float).type`.\n",
      "  from ._conv import register_converters as _register_converters\n",
      "Using TensorFlow backend.\n"
     ]
    }
   ],
   "source": [
    "import pandas as pd\n",
    "import time\n",
    "import os\n",
    "import operator\n",
    "import sys\n",
    "import re\n",
    "\n",
    "module_path = os.path.abspath(os.path.join('..'))\n",
    "if module_path not in sys.path:\n",
    "    sys.path.append(module_path)\n",
    "\n",
    "import numpy as np\n",
    "import matplotlib.pyplot as plt\n",
    "\n",
    "from afinn import Afinn\n",
    "from src.neural_backend.load_data import get_data_sem_eval, get_data_sent_140\n",
    "from src.neural_backend.load_embeddings import read_embeddings_file\n",
    "\n",
    "from unidecode import unidecode\n",
    "from tqdm import tqdm\n",
    "from keras.preprocessing.text import Tokenizer\n",
    "from sklearn.utils import shuffle\n",
    "from collections import Counter\n",
    "from wordsegment import load, segment\n",
    "import seaborn as sns\n",
    "\n",
    "load()"
   ]
  },
  {
   "cell_type": "code",
   "execution_count": 296,
   "metadata": {},
   "outputs": [
    {
     "name": "stdout",
     "output_type": "stream",
     "text": [
      "Reading GLOVE file...\n"
     ]
    },
    {
     "name": "stderr",
     "output_type": "stream",
     "text": [
      "1193514it [01:19, 14929.24it/s]\n"
     ]
    }
   ],
   "source": [
    "embedding_index = read_embeddings_file('../data/embeddings/glove.twitter.27B.200d.txt', 'GLOVE')"
   ]
  },
  {
   "cell_type": "code",
   "execution_count": 624,
   "metadata": {},
   "outputs": [
    {
     "name": "stderr",
     "output_type": "stream",
     "text": [
      "c:\\users\\chris\\anaconda3\\envs\\chris-dl\\lib\\site-packages\\numpy\\lib\\arraysetops.py:472: FutureWarning: elementwise comparison failed; returning scalar instead, but in the future will perform elementwise comparison\n",
      "  mask |= (ar1 == a)\n"
     ]
    }
   ],
   "source": [
    "sent_140 = get_data_sent_140('../data/sent_140/training.1600000.processed.noemoticon.csv', dataset_size=600000, shuffle=True)"
   ]
  },
  {
   "cell_type": "code",
   "execution_count": 592,
   "metadata": {},
   "outputs": [],
   "source": [
    "sem_eval = get_data_sem_eval('../data/sem_eval/full/')"
   ]
  },
  {
   "cell_type": "code",
   "execution_count": 625,
   "metadata": {},
   "outputs": [
    {
     "data": {
      "text/html": [
       "<div>\n",
       "<style scoped>\n",
       "    .dataframe tbody tr th:only-of-type {\n",
       "        vertical-align: middle;\n",
       "    }\n",
       "\n",
       "    .dataframe tbody tr th {\n",
       "        vertical-align: top;\n",
       "    }\n",
       "\n",
       "    .dataframe thead th {\n",
       "        text-align: right;\n",
       "    }\n",
       "</style>\n",
       "<table border=\"1\" class=\"dataframe\">\n",
       "  <thead>\n",
       "    <tr style=\"text-align: right;\">\n",
       "      <th></th>\n",
       "      <th>class</th>\n",
       "      <th>date</th>\n",
       "      <th>query</th>\n",
       "      <th>user</th>\n",
       "      <th>text</th>\n",
       "    </tr>\n",
       "    <tr>\n",
       "      <th>id</th>\n",
       "      <th></th>\n",
       "      <th></th>\n",
       "      <th></th>\n",
       "      <th></th>\n",
       "      <th></th>\n",
       "    </tr>\n",
       "  </thead>\n",
       "  <tbody>\n",
       "    <tr>\n",
       "      <th>1678463751</th>\n",
       "      <td>positive</td>\n",
       "      <td>Sat May 02 06:47:26 PDT 2009</td>\n",
       "      <td>NO_QUERY</td>\n",
       "      <td>snarkyrainbow</td>\n",
       "      <td>@girl_on_recon it was friday. i was bored and ...</td>\n",
       "    </tr>\n",
       "    <tr>\n",
       "      <th>2001532220</th>\n",
       "      <td>negative</td>\n",
       "      <td>Tue Jun 02 01:11:44 PDT 2009</td>\n",
       "      <td>NO_QUERY</td>\n",
       "      <td>One_StepCloser</td>\n",
       "      <td>@rehmxo hate you! (only becouse you got to sle...</td>\n",
       "    </tr>\n",
       "    <tr>\n",
       "      <th>2014329123</th>\n",
       "      <td>positive</td>\n",
       "      <td>Wed Jun 03 01:10:12 PDT 2009</td>\n",
       "      <td>NO_QUERY</td>\n",
       "      <td>benkoe</td>\n",
       "      <td>@audreytang They should. But need then to acqu...</td>\n",
       "    </tr>\n",
       "    <tr>\n",
       "      <th>2012668411</th>\n",
       "      <td>positive</td>\n",
       "      <td>Tue Jun 02 21:04:05 PDT 2009</td>\n",
       "      <td>NO_QUERY</td>\n",
       "      <td>sorintudor</td>\n",
       "      <td>Povestea diminetii: The Asimov story in which ...</td>\n",
       "    </tr>\n",
       "    <tr>\n",
       "      <th>2068196770</th>\n",
       "      <td>positive</td>\n",
       "      <td>Sun Jun 07 13:39:58 PDT 2009</td>\n",
       "      <td>NO_QUERY</td>\n",
       "      <td>LaurenACTIVE</td>\n",
       "      <td>@dougiemcfly and your funnny  xxxxx</td>\n",
       "    </tr>\n",
       "  </tbody>\n",
       "</table>\n",
       "</div>"
      ],
      "text/plain": [
       "               class                          date     query            user  \\\n",
       "id                                                                             \n",
       "1678463751  positive  Sat May 02 06:47:26 PDT 2009  NO_QUERY   snarkyrainbow   \n",
       "2001532220  negative  Tue Jun 02 01:11:44 PDT 2009  NO_QUERY  One_StepCloser   \n",
       "2014329123  positive  Wed Jun 03 01:10:12 PDT 2009  NO_QUERY          benkoe   \n",
       "2012668411  positive  Tue Jun 02 21:04:05 PDT 2009  NO_QUERY      sorintudor   \n",
       "2068196770  positive  Sun Jun 07 13:39:58 PDT 2009  NO_QUERY    LaurenACTIVE   \n",
       "\n",
       "                                                         text  \n",
       "id                                                             \n",
       "1678463751  @girl_on_recon it was friday. i was bored and ...  \n",
       "2001532220  @rehmxo hate you! (only becouse you got to sle...  \n",
       "2014329123  @audreytang They should. But need then to acqu...  \n",
       "2012668411  Povestea diminetii: The Asimov story in which ...  \n",
       "2068196770                @dougiemcfly and your funnny  xxxxx  "
      ]
     },
     "execution_count": 625,
     "metadata": {},
     "output_type": "execute_result"
    }
   ],
   "source": [
    "sent_140.head()"
   ]
  },
  {
   "cell_type": "code",
   "execution_count": 626,
   "metadata": {},
   "outputs": [
    {
     "data": {
      "text/html": [
       "<div>\n",
       "<style scoped>\n",
       "    .dataframe tbody tr th:only-of-type {\n",
       "        vertical-align: middle;\n",
       "    }\n",
       "\n",
       "    .dataframe tbody tr th {\n",
       "        vertical-align: top;\n",
       "    }\n",
       "\n",
       "    .dataframe thead th {\n",
       "        text-align: right;\n",
       "    }\n",
       "</style>\n",
       "<table border=\"1\" class=\"dataframe\">\n",
       "  <thead>\n",
       "    <tr style=\"text-align: right;\">\n",
       "      <th></th>\n",
       "      <th>class</th>\n",
       "      <th>text</th>\n",
       "    </tr>\n",
       "    <tr>\n",
       "      <th>id</th>\n",
       "      <th></th>\n",
       "      <th></th>\n",
       "    </tr>\n",
       "  </thead>\n",
       "  <tbody>\n",
       "    <tr>\n",
       "      <th>619950566786113536</th>\n",
       "      <td>neutral</td>\n",
       "      <td>Picturehouse's, Pink Floyd's, 'Roger Waters: T...</td>\n",
       "    </tr>\n",
       "    <tr>\n",
       "      <th>619969366986235905</th>\n",
       "      <td>neutral</td>\n",
       "      <td>Order Go Set a Watchman in store or through ou...</td>\n",
       "    </tr>\n",
       "    <tr>\n",
       "      <th>619971047195045888</th>\n",
       "      <td>negative</td>\n",
       "      <td>If these runway renovations at the airport pre...</td>\n",
       "    </tr>\n",
       "    <tr>\n",
       "      <th>619974445185302528</th>\n",
       "      <td>neutral</td>\n",
       "      <td>If you could ask an onstage interview question...</td>\n",
       "    </tr>\n",
       "    <tr>\n",
       "      <th>619987808317407232</th>\n",
       "      <td>positive</td>\n",
       "      <td>A portion of book sales from our Harper Lee/Go...</td>\n",
       "    </tr>\n",
       "  </tbody>\n",
       "</table>\n",
       "</div>"
      ],
      "text/plain": [
       "                       class  \\\n",
       "id                             \n",
       "619950566786113536   neutral   \n",
       "619969366986235905   neutral   \n",
       "619971047195045888  negative   \n",
       "619974445185302528   neutral   \n",
       "619987808317407232  positive   \n",
       "\n",
       "                                                                 text  \n",
       "id                                                                     \n",
       "619950566786113536  Picturehouse's, Pink Floyd's, 'Roger Waters: T...  \n",
       "619969366986235905  Order Go Set a Watchman in store or through ou...  \n",
       "619971047195045888  If these runway renovations at the airport pre...  \n",
       "619974445185302528  If you could ask an onstage interview question...  \n",
       "619987808317407232  A portion of book sales from our Harper Lee/Go...  "
      ]
     },
     "execution_count": 626,
     "metadata": {},
     "output_type": "execute_result"
    }
   ],
   "source": [
    "sem_eval.head()"
   ]
  },
  {
   "cell_type": "markdown",
   "metadata": {},
   "source": [
    "# Text Preprocessor Development"
   ]
  },
  {
   "cell_type": "code",
   "execution_count": 479,
   "metadata": {},
   "outputs": [],
   "source": [
    "from ftfy import fix_text\n",
    "import re\n",
    "\n",
    "FLAGS = re.MULTILINE | re.DOTALL\n",
    "\n",
    "REGEX_LOOKUP = {\n",
    "    \"DATE\": \"(?:(?:(?:(?:(?<!:)\\\\b\\\\'?\\\\d{1,4},? ?)?\\\\b(?:[Jj]an(?:uary)?|[Ff]eb(?:ruary)?|[Mm]ar(?:ch)?|[Aa]pr(?:il)?|May|[Jj]un(?:e)?|[Jj]ul(?:y)?|[Aa]ug(?:ust)?|[Ss]ept?(?:ember)?|[Oo]ct(?:ober)?|[Nn]ov(?:ember)?|[Dd]ec(?:ember)?)\\\\b(?:(?:,? ?\\\\'?)?\\\\d{1,4}(?:st|nd|rd|n?th)?\\\\b(?:[,\\\\/]? ?\\\\'?\\\\d{2,4}[a-zA-Z]*)?(?: ?- ?\\\\d{2,4}[a-zA-Z]*)?(?!:\\\\d{1,4})\\\\b))|(?:(?:(?<!:)\\\\b\\\\'?\\\\d{1,4},? ?)\\\\b(?:[Jj]an(?:uary)?|[Ff]eb(?:ruary)?|[Mm]ar(?:ch)?|[Aa]pr(?:il)?|May|[Jj]un(?:e)?|[Jj]ul(?:y)?|[Aa]ug(?:ust)?|[Ss]ept?(?:ember)?|[Oo]ct(?:ober)?|[Nn]ov(?:ember)?|[Dd]ec(?:ember)?)\\\\b(?:(?:,? ?\\\\'?)?\\\\d{1,4}(?:st|nd|rd|n?th)?\\\\b(?:[,\\\\/]? ?\\\\'?\\\\d{2,4}[a-zA-Z]*)?(?: ?- ?\\\\d{2,4}[a-zA-Z]*)?(?!:\\\\d{1,4})\\\\b)?))|(?:\\\\b(?<!\\\\d\\\\.)(?:(?:(?:[0123]?[0-9][\\\\.\\\\-\\\\/])?[0123]?[0-9][\\\\.\\\\-\\\\/][12][0-9]{3})|(?:[0123]?[0-9][\\\\.\\\\-\\\\/][0123]?[0-9][\\\\.\\\\-\\\\/][12]?[0-9]{2,3}))(?!\\\\.\\\\d)\\\\b))\",\n",
    "    \"EMAIL\": \"(?:^|(?<=[^\\\\w@.)]))(?:[\\\\w+-](?:\\\\.(?!\\\\.))?)*?[\\\\w+-]@(?:\\\\w-?)*?\\\\w+(?:\\\\.(?:[a-z]{2,})){1,3}(?:$|(?=\\\\b))\",\n",
    "    \"EMOJI\": \"[\\uD83C-\\uDBFF\\uDC00-\\uDFFF]+\",\n",
    "    \"IP\": \"\\d{1,3}\\.\\d{1,3}\\.\\d{1,3}\\.\\d{1,3}\",\n",
    "    \"TIME\": \"(?:(?:\\d+)?\\.?\\d+(?:AM|PM|am|pm|a\\.m\\.|p\\.m\\.))|(?:(?:[0-2]?[0-9]|[2][0-3]):(?:[0-5][0-9])(?::(?:[0-5][0-9]))?(?: ?(?:AM|PM|am|pm|a\\.m\\.|p\\.m\\.))?)\",\n",
    "    \"MONEY\": \"(?:[$€£¢]\\d+(?:[\\.,']\\d+)?(?:[MmKkBb](?:n|(?:il(?:lion)?))?)?)|(?:\\d+(?:[\\.,']\\d+)?[$€£¢])\",\n",
    "    \"URL\": \"http[s]?://(?:[a-zA-Z]|[0-9]|[$-_@.&+]|[!*\\(\\),]|(?:%[0-9a-fA-F][0-9a-fA-F]))+\",\n",
    "#     \"NUMBERS\": \"[-+]?[.\\d]*[\\d]+[:,.\\d]*\",\n",
    "    \"NUMBERS\": \"[-+]?([\\d]+[.\\d]*)\",\n",
    "    \"EMPHASIS\": \"(?:\\\\*\\\\b\\\\w+\\\\b\\\\*)\",\n",
    "    \"PERCENT\": \"[-+]?([\\d]+[.\\d]*)\\s{0,1}%\",\n",
    "    \"SCORES\" : \"\\d+\\s{0,1}-\\s{0,1}\\d+\"\n",
    "}\n",
    "\n",
    "\n",
    "# Preprocessing Regex's\n",
    "url_regex = re.compile(REGEX_LOOKUP['URL'])\n",
    "ip_regex = re.compile(REGEX_LOOKUP['IP'])\n",
    "date_regex = re.compile(REGEX_LOOKUP['DATE'])\n",
    "emoji_regex = re.compile(REGEX_LOOKUP['EMOJI'])\n",
    "email_regex = re.compile(REGEX_LOOKUP['EMAIL'])\n",
    "time_regex = re.compile(REGEX_LOOKUP['TIME'])\n",
    "money_regex = re.compile(REGEX_LOOKUP['MONEY'])\n",
    "numbers_regex = re.compile(REGEX_LOOKUP['NUMBERS'])\n",
    "percent_regex = re.compile(REGEX_LOOKUP['PERCENT'])\n",
    "scores_regex = re.compile(REGEX_LOOKUP['SCORES'])\n",
    "\n",
    "control_chars = re.compile('[\\n\\t\\r\\v\\f\\0]')\n",
    "parenthesis_regex = re.compile('([\\[\\]()])')\n",
    "hearts_regex = re.compile(r'(♥)|(<3{1,})')\n",
    "users_regex = re.compile(\"@\\w+\")\n",
    "tokenize_punct = re.compile(r'([.,?!\"]{1})')\n",
    "repeated_punct = re.compile('([!?.]){2,}')\n",
    "elongated_words = re.compile(r\"\\b(\\S*?)(.)\\2{2,}\\b\")\n",
    "\n",
    "word_split = re.compile(r'[/\\-_\\\\/]')\n",
    "all_caps_regex = re.compile(r'([A-Z]){2,}')\n",
    "\n",
    "hashtag_regex = re.compile(\"#\\S+\")\n",
    "mentions_regex = re.compile('(?<=^|(?<=[^a-zA-Z0-9-_.]))@([A-Za-z_]+[A-Za-z0-9_]+)')\n",
    "\n",
    "hashtag_splitter_regex = re.compile(r'((?<=[a-z])[A-Z]|[A-Z](?=[a-z]))')\n",
    "# seperates things like the'\n",
    "# seperate_apostrophes = re.compile(\"(\\w+)('\\w*)\")\n",
    "seperate_apostrophes = re.compile(\"(([A-zA-Z]){3,})(')\")\n",
    "# seperates things like 'the\n",
    "seperate_errant_apostrophes = re.compile(\"(')(([A-zA-Z]){3,})\")\n",
    "arrows = re.compile(\"[<>]\")\n",
    "\n",
    "def allcaps(text):\n",
    "    text = text.group()\n",
    "    return text.lower() + \" <allcaps> \"\n",
    "\n",
    "def hashtag(text):\n",
    "    text = text.group()\n",
    "    hashtag_body = text[1:]\n",
    "    is_uppercase = hashtag_body.isupper()\n",
    "    hashtag_body = ' '.join(segment(hashtag_body))\n",
    "    \n",
    "    if is_uppercase:\n",
    "        result = \" <hashtag> {} <allcaps> </hashtag>\".format(hashtag_body)\n",
    "    else:\n",
    "        hashtag_body = hashtag_splitter_regex.sub(r' \\1', hashtag_body)\n",
    "        result = \" \".join([\" <hashtag>\"] + hashtag_body.split(r\"(?=[A-Z])\") + [\"</hashtag> \"])\n",
    "    return result\n",
    "\n",
    "\n",
    "class TextPreProcessor:\n",
    "    def __init__(self, embedding_profile=None):\n",
    "        self.embedding_profile = embedding_profile\n",
    "\n",
    "    def preprocess(self, string):\n",
    "        string = self.clean(string)\n",
    "        # Add annotations e.g. 11:55pm -> <time>\n",
    "        string = self.annotate(string)\n",
    "        \n",
    "        return string\n",
    "    \n",
    "    def clean(self, text):\n",
    "        # Fix unicode characters         \n",
    "        text = fix_text(text)\n",
    "        text = unidecode(text)\n",
    "        # Replace newline and other control characters\n",
    "        text = control_chars.sub(' ', text)\n",
    "        text = arrows.sub(' ', text)\n",
    "        return text\n",
    "    \n",
    "    def unpack_contractions(self, text):\n",
    "        \"\"\"\n",
    "        Replace *English* contractions in ``text`` str with their unshortened forms.\n",
    "        N.B. The \"'d\" and \"'s\" forms are ambiguous (had/would, is/has/possessive),\n",
    "        so are left as-is.\n",
    "        ---------\n",
    "        Important Note: The function is taken from textacy (https://github.com/chartbeat-labs/textacy).\n",
    "        \"\"\"\n",
    "        text = re.sub(\n",
    "            r\"(\\b)([Aa]re|[Cc]ould|[Dd]id|[Dd]are||[Dd]oes|[Dd]o|[Hh]ad|[Hh]as|[Hh]ave|[Ii][Ss]|[Mm]ay|[Mm]ight|[Mm]ust|[Ss]hould|[Ww]as|[Ww]ere|[Ww]ould|[Nn]eed)[Nn]'[Tt]\",\n",
    "            r\"\\1\\2 not\", text)\n",
    "        text = re.sub(\n",
    "            r\"(\\b)([Hh]e|[Hh]ow|[Ii]|[Ss]he|[Tt]hat|[Tt]hey|[Ww]e|[Ww]hat|[Ww]ho|[Yy]ou)'ll\",\n",
    "            r\"\\1\\2 will\", text)\n",
    "        text = re.sub(r\"(\\b)([Tt]hat|[Tt]hey|[Hh]ow|[Ww]e|[Ww]hat|[Ww]ho|[Yy]ou)'re\", r\"\\1\\2 are\",\n",
    "                      text)\n",
    "        text = re.sub(\n",
    "            r\"(\\b)([Ii]|[Cc]ould|[Ss]hould|[Tt]hey|[Ww]e|[Ww]hat|[Ww]ho|[Ww]ould|[Yy]ou|[Mm]ight|[Mm]ust|[Mm]ay)'ve\",\n",
    "            r\"\\1\\2 have\", text)\n",
    "        # non-standard\n",
    "        text = re.sub(r\"(\\b)([Cc]a)n't\", r\"\\1\\2n not\", text)\n",
    "        text = re.sub(r\"(\\b)([Ii])'m\", r\"\\1\\2 am\", text)\n",
    "        text = re.sub(r\"(\\b)([Ll]et)'s\", r\"\\1\\2 us\", text)\n",
    "        text = re.sub(r\"(\\b)([Ww])on't\", r\"\\1\\2ill not\", text)\n",
    "        text = re.sub(r\"(\\b)([Ss])han't\", r\"\\1\\2hall not\", text)\n",
    "        text = re.sub(r\"(\\b)([Yy])(?:'all|a'll)\", r\"\\1\\2ou all\", text)\n",
    "        text = re.sub(r\"(\\b)([Cc])'[Mm]on\", r\"\\1\\2ome on\", text)\n",
    "        text = re.sub(r\"(\\b)([Ww])/\", \" with \", text)\n",
    "        text = re.sub(r\"(\\b)([Ww])/([Oo])\", \" without \", text)\n",
    "        text = re.sub(r\"(\\b)([Hh])rs\", \"hours\", text)\n",
    "        text = re.sub(r\"(\\b)([Mm])ins\", \"minutes\", text)\n",
    "        text = re.sub(r\"(\\b)([Pp])ls\", \"please\", text)\n",
    "        text = re.sub(r\"(\\b)([Ss])ry\", \"sorry\", text)\n",
    "        text = re.sub(r\"(\\b)([Tt])ht\", \"that\", text)\n",
    "        text = re.sub(r\"(\\b)([Ii])nt'l\", \"international\", text)\n",
    "        text = re.sub(r\"(\\b)([Uu])(\\b)\", \" you \", text)\n",
    "        text = re.sub(r\"\\b([\\/])\\b\", \" or \", text)\n",
    "        # Unambigous shortened day names.         \n",
    "        text = re.sub(\n",
    "            r\"(\\b)([Mm]on|[Tt]ues|[Tt]hurs|[Ff]ri)(\\b)\",\n",
    "            r\"\\1\\2day\", text)\n",
    "        \n",
    "        # Add a space around 's, 'd, 'll and n't due to enable word vectors to be used.         \n",
    "        text = re.sub(r\"\\b(\\w+)('s|'d|'ll)\", r\"\\1 \\2\", text)\n",
    "        text = re.sub(r\"\\b(\\w+)(n't)\", r\"\\1 n't\", text)\n",
    "        \n",
    "        # Expand out common text symbols         \n",
    "        text = text.replace('&', ' and ')\n",
    "        text = text.replace('@', ' at ')\n",
    "        \n",
    "        return text\n",
    "    \n",
    "    def unpack_placements(self, text):\n",
    "        text = re.sub(r'1[sS][tT]', 'first', text)\n",
    "        text = re.sub(r'2[nN][dD]', 'second', text)\n",
    "        text = re.sub(r'3[rR][dD]', 'third', text)\n",
    "        text = re.sub(r'4[tT][hH]', 'fourth', text)\n",
    "        text = re.sub(r'5[tT][hH]', 'fifth', text)\n",
    "        text = re.sub(r'6[tT][hH]', 'sixth', text)\n",
    "        text = re.sub(r'7[tT][hH]', 'seventh', text)\n",
    "        text = re.sub(r'8[tT][hH]', 'eigth', text)\n",
    "        text = re.sub(r'9[tT][hH]', 'ninth', text)\n",
    "        text = re.sub(r'10[tT][hH]', 'tenth', text)\n",
    "        \n",
    "        return text\n",
    "    \n",
    "    def replace_smileys(self, text):\n",
    "        def re_sub(pattern, repl):\n",
    "            return re.sub(pattern, repl, text, flags=FLAGS)\n",
    "        loleyes = r\"[8:=;]\"\n",
    "        eyes = r\"[8:=;Xx]\"\n",
    "        nose = r\"['`^\\-0Oo]?\"\n",
    "        \n",
    "        text = re_sub(r\"\\B{}{}[)D]+|[(D]+{}{}\".format(eyes, nose, nose, eyes), ' <smile> ')\n",
    "        text = re_sub(r\"\\B{}{}[pPbB]+\".format(loleyes, nose), ' <lolface> ')\n",
    "        text = re_sub(r\"\\B{}{}[(?]+|\\)+{}{}\".format(eyes, nose, nose, eyes), ' <sadface> ')\n",
    "        text = re_sub(r\"\\B{}{}[\\/\\\\|l]\".format(eyes, nose), ' <neutralface> ')\n",
    "        text = re_sub(r\"\\B{}{}[*]\".format(eyes, nose), ' <kisses> ')\n",
    "        \n",
    "        # Replace kisses e.g. xx, xoxoxo\n",
    "        text = re.sub(r'(\\b([Xx][Oo]){1,}\\b)|(\\b[Xx]{2,}\\b)|(\\b[Xx]$)', ' <kisses> ', text)\n",
    "\n",
    "        return text\n",
    "    \n",
    "    def annotate_basic_attributes(self, text):\n",
    "        # Replace ips\n",
    "        text = ip_regex.sub(' <ip> ', text)\n",
    "        # Replace URLs\n",
    "        text = url_regex.sub(' <url> ', text)\n",
    "        # Replace Emails\n",
    "        text = email_regex.sub(' <email> ', text)\n",
    "        # Replace User Names\n",
    "        text = users_regex.sub(' <user> ', text)\n",
    "        # Replace Dates/Time\n",
    "        text = date_regex.sub(' <date> ', text)\n",
    "        text = time_regex.sub(' <time> ', text)\n",
    "        # Replace abstract number values with an annotation\n",
    "        text = money_regex.sub(' <currency> ', text)\n",
    "        text = percent_regex.sub(' <percent> ', text)\n",
    "        # Replaces simple sport scores etc.\n",
    "        text = scores_regex.sub(' <score> ', text)\n",
    "        return text\n",
    "    \n",
    "    def annotate_hashtags(self, text):\n",
    "        text = re.sub(r'#', ' #', text)\n",
    "        text = hashtag_regex.sub(hashtag, text)\n",
    "        \n",
    "        return text\n",
    "    \n",
    "    def annotate_text_features(self, text):\n",
    "        # Add in repeat annotation         \n",
    "        text = repeated_punct.sub(r' \\1 <repeat> ', text)\n",
    "        \n",
    "        text = tokenize_punct.sub(r' \\1 ', text)\n",
    "        # Add in annotations for all-caps and elongated words  \n",
    "        text = all_caps_regex.sub(allcaps, text)\n",
    "        text = elongated_words.sub(r\"\\1\\2 <elong> \", text)\n",
    "        return text\n",
    "    \n",
    "    def annotate(self, text):\n",
    "        # Annotate basic variables e.g. IP, URL's, Dates, times, scores etc.\n",
    "        text = self.annotate_basic_attributes(text)\n",
    "        # Unpack can't -> can not, c'mon -> come on\n",
    "        text = self.unpack_contractions(text)\n",
    "        # 1st, 2nd, 3rd  -> First, Second, Third. Performed post-date annotation so we don't remove any useful details\n",
    "        text = self.unpack_placements(text)\n",
    "        # Replace various different smileys with a common annotation.\n",
    "        text = self.replace_smileys(text)\n",
    "        \n",
    "        # Split words \n",
    "        text = word_split.sub(' ', text)\n",
    "        \n",
    "        # Add spaces around parenthesis.\n",
    "        text = parenthesis_regex.sub(r' \\1 ', text)\n",
    "        \n",
    "        # Add in wraparound annotations which surround text\n",
    "        # Introduce a space before hash symbols to prevent issues where hastags are next to each other\n",
    "        # e.g. #test#chicken\n",
    "        text = self.annotate_hashtags(text)\n",
    "        \n",
    "        # Replace <3 (less than three) with the more meaningful <heart> annotation         \n",
    "        text = hearts_regex.sub(' <heart> ', text)\n",
    "        # Replace Numbers\n",
    "        text = numbers_regex.sub(' <number> ', text)\n",
    "        # Remove multi spaces - Prevents errant <repeat> signals appearing in text\n",
    "        text = re.sub('\\s+', ' ', text)\n",
    "        # Annotate text features e.g. elongated words, repeated punctuation.\n",
    "        text = self.annotate_text_features(text)\n",
    "    \n",
    "        text = seperate_apostrophes.sub(r' \\1 \\2 ', text)\n",
    "        text = seperate_errant_apostrophes.sub(r' \\1 \\2 ', text)\n",
    "        # Remove a load of unicode emoji characters\n",
    "        text = emoji_regex.sub('', text)\n",
    "        \n",
    "        text = text.replace('*', '')\n",
    "\n",
    "        # Remove multi spaces\n",
    "        text = re.sub('\\s+', ' ', text)\n",
    "        # Remove ending space if any\n",
    "        if len(text) > 1:\n",
    "            text = re.sub('\\s+$', '', text)\n",
    "\n",
    "        # If this string is a single space replace with an <empty> tag.\n",
    "        if text == ' ':\n",
    "            text = '<empty>'\n",
    "\n",
    "        return text.strip().lower()\n",
    "    \n",
    "def tokenize(text):\n",
    "        # Different regex parts for smiley faces\n",
    "        eyes = r\"[8:=;]\"\n",
    "        nose = r\"['`\\-^]?\"\n",
    "\n",
    "        # function so code less repetitive\n",
    "        def re_sub(pattern, repl):\n",
    "            return re.sub(pattern, repl, text, flags=FLAGS)\n",
    "\n",
    "        text = re_sub(r\"https?:\\/\\/\\S+\\b|www\\.(\\w+\\.)+\\S*\", \"<url>\")\n",
    "        text = re_sub(r\"{}{}[)dD]+|[)dD]+{}{}\".format(eyes, nose, nose, eyes), \"<smile>\")\n",
    "        text = re_sub(r\"{}{}p+\".format(eyes, nose), \"<lolface>\")\n",
    "        text = re_sub(r\"{}{}\\(+|\\)+{}{}\".format(eyes, nose, nose, eyes), \"<sadface>\")\n",
    "        text = re_sub(r\"{}{}[\\/\\\\|l*]\".format(eyes, nose), \"<neutralface>\")\n",
    "        text = re_sub(r\"/\", \" / \")\n",
    "        text = re_sub(r\"@\\w+\", \"<user>\")\n",
    "        text = re_sub(r\"<3\", \"<heart>\")\n",
    "        text = re_sub(r\"[-+]?[.\\d]*[\\d]+[:,.\\d]*\", \"<number>\")\n",
    "        text = re_sub(r\"#\\S+\", hashtag)\n",
    "        text = re_sub(r\"([!?.]){2,}\", r\"\\1 <repeat>\")\n",
    "        text = re_sub(r\"\\b(\\S*?)(.)\\2{2,}\\b\", r\"\\1\\2 <elong>\")\n",
    "\n",
    "        text = mentions_regex.sub('<mention>', text)\n",
    "        text = re_sub(r\"([A-Z]){2,}\", allcaps)\n",
    "\n",
    "        return text.lower()"
   ]
  },
  {
   "cell_type": "code",
   "execution_count": 480,
   "metadata": {},
   "outputs": [],
   "source": [
    "preprocessor = TextPreProcessor()"
   ]
  },
  {
   "cell_type": "code",
   "execution_count": 481,
   "metadata": {},
   "outputs": [
    {
     "name": "stdout",
     "output_type": "stream",
     "text": [
      "Original: Next, I'm just going to sit on my couch and wait for the robots to take me and use me for my body's ability to generate electricity.\n",
      "\n",
      "Processed Old: next, i'm just going to sit on my couch and wait for the robots to take me and use me for my body's ability to generate electricity.\n",
      "\n",
      "Processed New: next , i am just going to sit on my couch and wait for the robots to take me and use me for my body 's ability to generate electricity .\n",
      "\n"
     ]
    }
   ],
   "source": [
    "text_sample = sem_eval.sample(n=1).iloc[0]['text']\n",
    "\n",
    "print('Original: ' + text_sample +'\\n')\n",
    "print('Processed Old: ' + tokenize(text_sample) +'\\n')\n",
    "print('Processed New: ' + preprocessor.preprocess(text_sample) +'\\n')"
   ]
  },
  {
   "cell_type": "code",
   "execution_count": 447,
   "metadata": {},
   "outputs": [
    {
     "data": {
      "text/plain": [
       "'but i smoked so it all gucci ai not doing nun tomorrow doe'"
      ]
     },
     "execution_count": 447,
     "metadata": {},
     "output_type": "execute_result"
    }
   ],
   "source": [
    "preprocessor.preprocess('but i smoked so it all gucci ai n\\'t doing nun tomorrow doe')"
   ]
  },
  {
   "cell_type": "code",
   "execution_count": 468,
   "metadata": {},
   "outputs": [
    {
     "data": {
      "text/plain": [
       "'tomorrow at number , i will be fangirling over the tv show \" \" styled to rock \" \" which has fashion designing and user omfg i\\'ll <allcaps> be <allcaps> in <allcaps> heaven <allcaps>'"
      ]
     },
     "execution_count": 468,
     "metadata": {},
     "output_type": "execute_result"
    }
   ],
   "source": [
    "preprocessor.preprocess('tomorrow at <number> , i will be fangirling over the tv show \" \" styled to rock \" \" which has fashion designing and <user> omfg I\\'LL BE IN HEAVEN')"
   ]
  },
  {
   "cell_type": "markdown",
   "metadata": {},
   "source": [
    "### Poor Performance Edge Cases"
   ]
  },
  {
   "cell_type": "code",
   "execution_count": 23,
   "metadata": {},
   "outputs": [
    {
     "data": {
      "text/plain": [
       "'dang it . first sydney show ss sold out . <repeat> my driver didnt get ticket . <repeat> <heart> angel swoooooooon <heart> him x <number>'"
      ]
     },
     "execution_count": 23,
     "metadata": {},
     "output_type": "execute_result"
    }
   ],
   "source": [
    "bad_messages = [\n",
    "    { 'Id': '2188330665', 'text': 'is watching the dark knight for the 38247326723647823647328647823647832729th time. baby sitting tomorrow and working at winn dixie'},\n",
    "    { 'Id': '1965672455', 'text':'Mileyfansaywhat\",\"Oh.  The voting is over!   But don\\'t worry, I already voted for you about 100000000000000000000000000000000000 times earlier!!!!!!  &lt;3'},\n",
    "    { 'Id': '1965839680', 'text':'Mileyfansaywhat\",\"Oh.  The voting is over!   But don\\'t worry, I already voted for you about 100000000000000000000000000000000000 times earlier!!!!!!  &lt;3'},\n",
    "    { 'Id': '2226457514', 'text':'Wordpress tells me I have  [ 11111111111111111111111111111111200 Spam ] messages. Why cant they be real visitor messages '},\n",
    "    { 'Id': '1880336388', 'text': \"dang it.1st sydney show ss sold out..my driver didnt get ticket  ..&lt;3 angel *swoooooooon* &lt;3 him x10000000000000000000000000000000000000\" },\n",
    "]\n",
    "\n",
    "\n",
    "preprocessor.preprocess(bad_messages[4]['text'])"
   ]
  },
  {
   "cell_type": "markdown",
   "metadata": {},
   "source": [
    "# Sequence Length Estimation"
   ]
  },
  {
   "cell_type": "code",
   "execution_count": 559,
   "metadata": {},
   "outputs": [],
   "source": [
    "def process(df):\n",
    "    rows = []\n",
    "\n",
    "    for index, tweet in tqdm(df.iterrows()):\n",
    "        try:\n",
    "            start_time = time.time()\n",
    "            tweet['text'] = preprocessor.preprocess(tweet['text'])\n",
    "            if (time.time() - start_time) > 5.0:\n",
    "                print(tweet['id'])\n",
    "                print(tweet['text'])\n",
    "            rows.append(tweet)\n",
    "        except:\n",
    "            pass\n",
    "    return pd.DataFrame(rows)"
   ]
  },
  {
   "cell_type": "code",
   "execution_count": 593,
   "metadata": {},
   "outputs": [
    {
     "name": "stderr",
     "output_type": "stream",
     "text": [
      "61850it [00:59, 1036.69it/s]\n"
     ]
    },
    {
     "data": {
      "text/html": [
       "<div>\n",
       "<style scoped>\n",
       "    .dataframe tbody tr th:only-of-type {\n",
       "        vertical-align: middle;\n",
       "    }\n",
       "\n",
       "    .dataframe tbody tr th {\n",
       "        vertical-align: top;\n",
       "    }\n",
       "\n",
       "    .dataframe thead th {\n",
       "        text-align: right;\n",
       "    }\n",
       "</style>\n",
       "<table border=\"1\" class=\"dataframe\">\n",
       "  <thead>\n",
       "    <tr style=\"text-align: right;\">\n",
       "      <th></th>\n",
       "      <th>class</th>\n",
       "      <th>text</th>\n",
       "      <th>text_len</th>\n",
       "    </tr>\n",
       "    <tr>\n",
       "      <th>id</th>\n",
       "      <th></th>\n",
       "      <th></th>\n",
       "      <th></th>\n",
       "    </tr>\n",
       "  </thead>\n",
       "  <tbody>\n",
       "    <tr>\n",
       "      <th>619950566786113536</th>\n",
       "      <td>neutral</td>\n",
       "      <td>picturehouse 's , pink floyd 's , ' roger wate...</td>\n",
       "      <td>29</td>\n",
       "    </tr>\n",
       "    <tr>\n",
       "      <th>619969366986235905</th>\n",
       "      <td>neutral</td>\n",
       "      <td>order go set a watchman in store or through ou...</td>\n",
       "      <td>26</td>\n",
       "    </tr>\n",
       "    <tr>\n",
       "      <th>619971047195045888</th>\n",
       "      <td>negative</td>\n",
       "      <td>if these runway renovations at the airport pre...</td>\n",
       "      <td>24</td>\n",
       "    </tr>\n",
       "    <tr>\n",
       "      <th>619974445185302528</th>\n",
       "      <td>neutral</td>\n",
       "      <td>if you could ask an onstage interview question...</td>\n",
       "      <td>19</td>\n",
       "    </tr>\n",
       "    <tr>\n",
       "      <th>619987808317407232</th>\n",
       "      <td>positive</td>\n",
       "      <td>a portion of book sales from our harper lee or...</td>\n",
       "      <td>32</td>\n",
       "    </tr>\n",
       "  </tbody>\n",
       "</table>\n",
       "</div>"
      ],
      "text/plain": [
       "                       class  \\\n",
       "id                             \n",
       "619950566786113536   neutral   \n",
       "619969366986235905   neutral   \n",
       "619971047195045888  negative   \n",
       "619974445185302528   neutral   \n",
       "619987808317407232  positive   \n",
       "\n",
       "                                                                 text  \\\n",
       "id                                                                      \n",
       "619950566786113536  picturehouse 's , pink floyd 's , ' roger wate...   \n",
       "619969366986235905  order go set a watchman in store or through ou...   \n",
       "619971047195045888  if these runway renovations at the airport pre...   \n",
       "619974445185302528  if you could ask an onstage interview question...   \n",
       "619987808317407232  a portion of book sales from our harper lee or...   \n",
       "\n",
       "                    text_len  \n",
       "id                            \n",
       "619950566786113536        29  \n",
       "619969366986235905        26  \n",
       "619971047195045888        24  \n",
       "619974445185302528        19  \n",
       "619987808317407232        32  "
      ]
     },
     "execution_count": 593,
     "metadata": {},
     "output_type": "execute_result"
    }
   ],
   "source": [
    "sem_copy = sem_eval.copy()\n",
    "\n",
    "sem_copy['text_len'] = process(sem_copy)['text'].apply(lambda x: len(x.split()))\n",
    "sem_copy.head()"
   ]
  },
  {
   "cell_type": "code",
   "execution_count": 627,
   "metadata": {
    "scrolled": false
   },
   "outputs": [
    {
     "name": "stderr",
     "output_type": "stream",
     "text": [
      "600000it [05:04, 1969.64it/s]\n"
     ]
    },
    {
     "data": {
      "text/html": [
       "<div>\n",
       "<style scoped>\n",
       "    .dataframe tbody tr th:only-of-type {\n",
       "        vertical-align: middle;\n",
       "    }\n",
       "\n",
       "    .dataframe tbody tr th {\n",
       "        vertical-align: top;\n",
       "    }\n",
       "\n",
       "    .dataframe thead th {\n",
       "        text-align: right;\n",
       "    }\n",
       "</style>\n",
       "<table border=\"1\" class=\"dataframe\">\n",
       "  <thead>\n",
       "    <tr style=\"text-align: right;\">\n",
       "      <th></th>\n",
       "      <th>class</th>\n",
       "      <th>date</th>\n",
       "      <th>query</th>\n",
       "      <th>user</th>\n",
       "      <th>text</th>\n",
       "      <th>text_len</th>\n",
       "    </tr>\n",
       "    <tr>\n",
       "      <th>id</th>\n",
       "      <th></th>\n",
       "      <th></th>\n",
       "      <th></th>\n",
       "      <th></th>\n",
       "      <th></th>\n",
       "      <th></th>\n",
       "    </tr>\n",
       "  </thead>\n",
       "  <tbody>\n",
       "    <tr>\n",
       "      <th>1678463751</th>\n",
       "      <td>positive</td>\n",
       "      <td>Sat May 02 06:47:26 PDT 2009</td>\n",
       "      <td>NO_QUERY</td>\n",
       "      <td>snarkyrainbow</td>\n",
       "      <td>&lt;user&gt; it was friday . i was bored and home al...</td>\n",
       "      <td>17</td>\n",
       "    </tr>\n",
       "    <tr>\n",
       "      <th>2001532220</th>\n",
       "      <td>negative</td>\n",
       "      <td>Tue Jun 02 01:11:44 PDT 2009</td>\n",
       "      <td>NO_QUERY</td>\n",
       "      <td>One_StepCloser</td>\n",
       "      <td>&lt;user&gt; hate you ! ( only becouse you got to sl...</td>\n",
       "      <td>12</td>\n",
       "    </tr>\n",
       "    <tr>\n",
       "      <th>2014329123</th>\n",
       "      <td>positive</td>\n",
       "      <td>Wed Jun 03 01:10:12 PDT 2009</td>\n",
       "      <td>NO_QUERY</td>\n",
       "      <td>benkoe</td>\n",
       "      <td>&lt;user&gt; they should . but need then to acquire ...</td>\n",
       "      <td>12</td>\n",
       "    </tr>\n",
       "    <tr>\n",
       "      <th>2012668411</th>\n",
       "      <td>positive</td>\n",
       "      <td>Tue Jun 02 21:04:05 PDT 2009</td>\n",
       "      <td>NO_QUERY</td>\n",
       "      <td>sorintudor</td>\n",
       "      <td>povestea diminetii: the asimov story in which ...</td>\n",
       "      <td>14</td>\n",
       "    </tr>\n",
       "    <tr>\n",
       "      <th>2068196770</th>\n",
       "      <td>positive</td>\n",
       "      <td>Sun Jun 07 13:39:58 PDT 2009</td>\n",
       "      <td>NO_QUERY</td>\n",
       "      <td>LaurenACTIVE</td>\n",
       "      <td>&lt;user&gt; and your funnny &lt;kisses&gt;</td>\n",
       "      <td>5</td>\n",
       "    </tr>\n",
       "  </tbody>\n",
       "</table>\n",
       "</div>"
      ],
      "text/plain": [
       "               class                          date     query            user  \\\n",
       "id                                                                             \n",
       "1678463751  positive  Sat May 02 06:47:26 PDT 2009  NO_QUERY   snarkyrainbow   \n",
       "2001532220  negative  Tue Jun 02 01:11:44 PDT 2009  NO_QUERY  One_StepCloser   \n",
       "2014329123  positive  Wed Jun 03 01:10:12 PDT 2009  NO_QUERY          benkoe   \n",
       "2012668411  positive  Tue Jun 02 21:04:05 PDT 2009  NO_QUERY      sorintudor   \n",
       "2068196770  positive  Sun Jun 07 13:39:58 PDT 2009  NO_QUERY    LaurenACTIVE   \n",
       "\n",
       "                                                         text  text_len  \n",
       "id                                                                       \n",
       "1678463751  <user> it was friday . i was bored and home al...        17  \n",
       "2001532220  <user> hate you ! ( only becouse you got to sl...        12  \n",
       "2014329123  <user> they should . but need then to acquire ...        12  \n",
       "2012668411  povestea diminetii: the asimov story in which ...        14  \n",
       "2068196770                    <user> and your funnny <kisses>         5  "
      ]
     },
     "execution_count": 627,
     "metadata": {},
     "output_type": "execute_result"
    }
   ],
   "source": [
    "sent_140_copy = sent_140.copy()\n",
    "\n",
    "sent_140_copy['text_len'] = process(sent_140_copy)['text'].apply(lambda x: len(x.split()))\n",
    "sent_140_copy.head()"
   ]
  },
  {
   "cell_type": "code",
   "execution_count": 618,
   "metadata": {},
   "outputs": [
    {
     "data": {
      "text/plain": [
       "<matplotlib.axes._subplots.AxesSubplot at 0x1ff0a28af98>"
      ]
     },
     "execution_count": 618,
     "metadata": {},
     "output_type": "execute_result"
    },
    {
     "data": {
      "image/png": "[encoded data removed]",
      "text/plain": [
       "<Figure size 1440x1280 with 1 Axes>"
      ]
     },
     "metadata": {},
     "output_type": "display_data"
    }
   ],
   "source": [
    "fig = plt.figure(figsize=(18, 16), dpi= 80, facecolor='w', edgecolor='k')\n",
    "sem_copy['text_len'].value_counts()[:50].plot(kind='bar')"
   ]
  },
  {
   "cell_type": "code",
   "execution_count": 629,
   "metadata": {},
   "outputs": [
    {
     "data": {
      "text/plain": [
       "<matplotlib.axes._subplots.AxesSubplot at 0x1ff0832dc18>"
      ]
     },
     "execution_count": 629,
     "metadata": {},
     "output_type": "execute_result"
    },
    {
     "data": {
      "image/png": "[encoded data removed]",
      "text/plain": [
       "<Figure size 1440x1280 with 1 Axes>"
      ]
     },
     "metadata": {},
     "output_type": "display_data"
    }
   ],
   "source": [
    "fig = plt.figure(figsize=(18, 16), dpi= 80, facecolor='w', edgecolor='k')\n",
    "sent_140_copy['text_len'].value_counts()[:50].plot(kind='bar')"
   ]
  },
  {
   "cell_type": "code",
   "execution_count": 622,
   "metadata": {},
   "outputs": [
    {
     "name": "stdout",
     "output_type": "stream",
     "text": [
      "304\n"
     ]
    },
    {
     "data": {
      "text/plain": [
       "'press <allcaps> : \" r you worried murray dominated his third round ? \" djoker <allcaps> and roger <allcaps> : \" only if he dominated all <allcaps> his matches like we did . \" <hashtag> usopen <number> </hashtag> <hashtag> tennis </hashtag>'"
      ]
     },
     "execution_count": 622,
     "metadata": {},
     "output_type": "execute_result"
    }
   ],
   "source": [
    "n_length = 50\n",
    "bigger_than_n = sem_copy[sem_copy['text_len'] > 40]\n",
    "print(len(bigger_than_n))\n",
    "bigger_than_n.iloc[56]['text']"
   ]
  },
  {
   "cell_type": "markdown",
   "metadata": {},
   "source": [
    "# OOV's"
   ]
  },
  {
   "cell_type": "code",
   "execution_count": 448,
   "metadata": {},
   "outputs": [
    {
     "name": "stderr",
     "output_type": "stream",
     "text": [
      "61474it [00:57, 1060.36it/s]\n"
     ]
    }
   ],
   "source": [
    "MAX_FEATS = 200000\n",
    "\n",
    "sem_copy = sem_eval.copy()\n",
    "\n",
    "oov_df = process(sem_copy)\n",
    "\n",
    "tokenizer = Tokenizer(num_words=MAX_FEATS, filters='\"%()*+,-.:;=[\\]^_`{|}~')\n",
    "tokenizer.fit_on_texts(oov_df['text'])"
   ]
  },
  {
   "cell_type": "code",
   "execution_count": 449,
   "metadata": {},
   "outputs": [],
   "source": [
    "def calc_stats(df, embeddings_index):\n",
    "    stats = {}\n",
    "    oovs = {}\n",
    "    \n",
    "    filter_set = {'%', '(', ')', '*', '+',',', '-', '.', ':', ';', '=', '[', '\\\\',']','^','_','`','{','|','}','~','\"'}\n",
    "    \n",
    "    for index, tweet in tqdm(df.iterrows()):\n",
    "        splitted = tweet['text'].split()\n",
    "        for word in splitted:\n",
    "            word = re.sub('[\"%()*+,-.:;=[\\]^_`{|}~]', '', word)\n",
    "            \n",
    "#             if word not in :\n",
    "            stats[word] = stats.get(word, 0) + 1 \n",
    "            embedding_vector = embeddings_index.get(word)\n",
    "            if embedding_vector is None:\n",
    "                oovs[word] = oovs.get(word, 0) + 1\n",
    "                \n",
    "    return stats, oovs\n",
    "\n",
    "def get_oovs(embeddings_index, word_index):\n",
    "    oovs = []\n",
    "    \n",
    "    stats = {}\n",
    "    \n",
    "    for word, i in tqdm(word_index.items()):\n",
    "        embedding_vector = embeddings_index.get(word)\n",
    "        if embedding_vector is not None:\n",
    "            # words not found in embedding index will be all-zeros.\n",
    "            continue\n",
    "        else:\n",
    "            stats[word] = stats.get(word, 0) + 1\n",
    "            oovs.append(word)\n",
    "    return oovs"
   ]
  },
  {
   "cell_type": "code",
   "execution_count": 450,
   "metadata": {},
   "outputs": [
    {
     "name": "stderr",
     "output_type": "stream",
     "text": [
      "100%|████████████████████████████████████████████████████████████████████████| 44566/44566 [00:00<00:00, 958355.22it/s]\n"
     ]
    }
   ],
   "source": [
    "oovs = get_oovs(embedding_index, tokenizer.word_index)"
   ]
  },
  {
   "cell_type": "code",
   "execution_count": 451,
   "metadata": {
    "scrolled": true
   },
   "outputs": [
    {
     "name": "stderr",
     "output_type": "stream",
     "text": [
      "61474it [00:06, 9904.77it/s]\n"
     ]
    }
   ],
   "source": [
    "stats, oov_stats = calc_stats(oov_df, embedding_index)"
   ]
  },
  {
   "cell_type": "code",
   "execution_count": 471,
   "metadata": {},
   "outputs": [
    {
     "name": "stdout",
     "output_type": "stream",
     "text": [
      "Number of words: 44566\n",
      "OOVs: 5922\n"
     ]
    }
   ],
   "source": [
    "print('Number of words: {}'.format(len(tokenizer.word_index)))\n",
    "print('OOVs: {}'.format(len(oovs)))"
   ]
  },
  {
   "cell_type": "code",
   "execution_count": 472,
   "metadata": {},
   "outputs": [
    {
     "data": {
      "image/png": "[encoded data removed]",
      "text/plain": [
       "<Figure size 1440x1584 with 1 Axes>"
      ]
     },
     "metadata": {},
     "output_type": "display_data"
    }
   ],
   "source": [
    "graph_dict = oov_stats\n",
    "\n",
    "top_oovs = dict(sorted(graph_dict.items(), key=operator.itemgetter(1), reverse=True)[1:11])\n",
    "plt.figure(figsize=(20,22))\n",
    "plt.bar(range(len(top_oovs)), top_oovs.values(), align='center')\n",
    "plt.xticks(range(len(top_oovs)), top_oovs.keys())\n",
    "\n",
    "plt.show()"
   ]
  },
  {
   "cell_type": "code",
   "execution_count": 473,
   "metadata": {},
   "outputs": [
    {
     "name": "stdout",
     "output_type": "stream",
     "text": [
      "['rightists', 'calibraska', 'brexit', 'westworld', \"'t\", 'poroshenko', \"'i\", 'appleevent', 'boruto', '$$$', 'swachh', 'nekromantix', 'kozol', 'fairplex', 'sollee', 'pavol', 'demitra', 'lechlade', 'asiata', 'vernau', 'haltwhistle', 'knollwood', 'circoloco', 'runrig', 'summersville', 'mikheil', 'yushin', \"i'm\", 'seavey', 'a$ap', 'byrdak', 'khader', 'petrolia', 'bellusci', 'bloodborne', 'cashee', 'northglenn', 'deniesse', 'gampel', 'henryville', 'bhilwara', 'degrom', \"'we\", '$$', 'seaholm', 'brentley', 'cofield', 'alsip', 'arsht', 'liacouras', 'footymad', 'wead', 'runako', 'timmonsville', \"'if\", 'trumpland', 'sydmun', 'lvms', 'volstead', 'mcquarrie', \"'a\", 'dapl', 'lllink', 'lavalantula', \"'do\", 'trayce', 'deflategate', 'eader', 'ghoncheh', 'ghavami', 'votejkt', \"up'\", 'bifurcated', 'biform', 'fifthird', 'netfli', 'topdawgent', 'mtvstarof', 'hatchimal', 'peshmerga', 'burdwan', 'ylianna', 'schwarber', 'grichuk', \"'no\", 'distich', 'connotative', 'taijuan', 'jivatma', \"me'\", 'intuc', 'aacta', 'tpab', 'kimoji', 'shuafat', 'cucks', 'odesa', 'cnis', 'ipoop', 'a$$', 'jerricho', 'amiibo', 'varoufakis', \"o'\", 'gurdaspur', \"n'\", 'foreconscious', 'dichotomous', 'inexpressibles', \"'to\", 'ietour', 'bipartite', 'faslane', 'ikeme', \"it'\", 'citiez', 'thortheelf', 'chittering', 'overpaints', 'arcelona', 'nataf', 'shaabi', 'lrby', 'trumpsters', 'ebell', 'isation', 'populists', 'terkel', 'drumpf', 'interred', \"'on\", 'ijunk', 'nexes', 'landco', 'hurrraaaaah', 'pricewise', 'dandiya', '$syt', 'etnz', 'reelzchannel', \"'go\", \"'it\", 'fitar', 'voty', 'radicalised', \"on'\", 'chibok', 'jumu', 'baserunner', 'fleek', 'oneplus', 'lingmerth', 'yazidis', 'popptartvision', 'eduok', 'ogorchukwu', \"'up\", 'kxxv', 'dragqueens', 'dyadic', 'wilhelmsen', 'najran', 'strowman', 'orsillo', 'eigthird', 'dudleys', \"'o\", 'onemk', 'bertolacci', 'rowyso', \"'in\", \"s'\", 'arjhay', 'talkatora', \"'he\", 'tihty', 'houthis', 'gilmorerichard', '$millions', 'hatchimals', 'cjtf', 'hashid', 'hoffel', 'globalism', 'hillarys', '$s', 'scamander', 'peotus', 'kellyanne', 'semite', 'unsilent', 'bigly', 'shariatpur', 'naiwu', \"'my\", 'eversheds', 'tankies', 'ossetia', 'savchenko', '$tsla', 'tippecanoe', 'kobach', 'crosscheck', 'daerimdong', 'sharmeen', 'chunjiday', 'dawnpart', 'sekera', 'wdbj', \"'a'\", 'skrastins', 'salei', 'refaat', 'fleebaggers', 'tumulty', 'perryton', 'arolladora', 'chagrined', 'terkura', 'iorpuu', 'madbum', 'kumawat', '$mon', 'annulments', 'mainframes', 'rumourz', 'trumka', 'monguno', 'keuchel', 'mckellan', 'speith', 'niebrugge', 'swimfin', 'osinbajo', 'ftii', 'takbeers', 'tropeano', 'kliq', 'bajrangi', 'mnjtf', 'kurian', 'stitutes', 'podgodz', 'yellowjacket', 'ibnl', 'hoors', 'yakubs', 'halifa', 'taroor', 'nirvananews', 'dizzyness', 'lukmon', 'quarrymen', \"da'\", 'cfmf', 'kluber', 'phoeni', \"'mr\", 'khalistan', 'whoevr', 'nieuwenhuis', \"'at\", 'bogeyed', 'maulers', 'brownbag', 'hozier', 'yezidis', 'evince', 'accruement', \"x'd\", 'coconscious', 'unfearfulness', 'cuddyer', 'stieb', 'rusney', 'submition', 'superslam', 'davro', 'chalupny', 'duadic', 'enlivened', 'jizya', 'incesticide', 'housebreak', 'nephesh', 'bbtm', 'pinkprint', 'pomposity', 'burgoyne', 'confidentness', 'mgla', \"i'll\", 'chunin', 'sixthird', 'musictimes', 'nobr', 'mazafaka', 'signalizing', 'oakman', 'staver', 'pachyderm', 'wellfleet', 'barsculpt', 'tonette', 'obergefell', \"'w'\", 'judeo', 'admendment', 'syndergaard', 'babygate', 'asatru', \"i'am\", 'backops', 'ghori', 'lucatiel', 'survation', 'ballymurphy', 'blighttown', 'mtvstarsof', \"'r\", 'spiteri', 'larries', 'barpeta', 'dedivanovic', 'semites', 'opeds', 'kimojis', 'houthi', 'reneged', 'antisemites', 'hezbullah', 'haldol', 'keenness', 'cnnm', 'westword', 'lopetegui', 'rygalski', 'burtle', 'bearakeet', 'smuggles', 'hezb', 'shamkha', 'jsoc', 'yezidi', 'dabiq', 'firebombing', 'shoaf', 'shufat', 'haftar', 'borzutzky', 'stelson', 'icide', 'uncrc', 'mareb', \"'so\", 'tinkercad', 'imura', 'ontrump', 'affirmatively', 'grifting', 'divests', 'trumpers', 'regrann', 'linum', 'jpusbrasil', 'disavowing', 'lularoe', 'preselect', 'gamergate', 'disavowed', 'freewheelin', 'pizzagate', 'neofascist', 'edzard', 'wingrove', '$cubs', '$i', '$am', 'beaw', '$ads', 'grundstrom', 'hebei', 'convolutional', 'bajoran', 'unelectable', 'decriminalisation', 'barbiturates', 'ekf', 'corkins', \"dy'\", 'aconite', 'ebriefing', 'nodapl', 'gazillionaire', \"'us\", 'voucherize', \"a'\", 'vireo', 'plagarized', 'trumpkins', 'ghostler', 'mooreder', 'mirwaiz', 'goading', \"'ed\", 'swalwell', 'democrates', 'isadore', '$nflx', 'erdog', 'jacobite', 'stillfayt', 'starquest', 'deadfidel', 'foxbusiness', 'jamui', 'fraudfake', 'newsrussian', 'hackersfbi', 'yuuuge', 'pourier', 'wnbc', 'ersparadise', 'sumbodies', 'kxlu', 'zhuo', 'wilhelmsson', 'oommen', 'kwvr', 'muddafuggaz', 'minutesk', 'wstp', 'callington', 'grandriver', 'urdayum', 'ography', 'snottsdale', 'gelndale', 'giiiiirls', 'macdailynews', 'balsiger', 'fyxnews', 'kemoner', 'kenston', 'wetnwyde', 'nirmalkar', 'pssas', 'tgun', 'tiarafact', 'radtke', 'zanzeer', \"no'\", 'royallieu', 'liberalised', \"af'\", 'iranplast', 'armatrading', '$msft', 'centretown', 'jaswant', 'moripe', 'gedman', 'morvite', 'fantazia', 'stuverud', 'pottsgrove', 'cassill', 'amfm', 'mashasha', 'characterizes', 'yndash', 'rachunek', 'michaeling', 'bogosian', 'fgye', 'duratma', 'bttn', 'ewser', 'skanx', 'arkestra', 'leaside', 'evalesco', 'muldaur', 'bennyt', 'panaji', 'rauh', 'oranjestad', 'jubeir', 'inmarsat', 'pivopivo', 'songwoo', 'fhv', 'waslike', \"i'\", 'kicx', 'debonna', 'wcoc', 'tfaw', 'gamlingay', 'cougarplex', 'kandid', 'ransacks', 'skash', 'icecarats', 'simulia', 'perlak', '$aapl', 'pdtb', 'lockstep', 'soetero', 'travi$', 'odessey', 'annulling', 'dreamwave', 'snoopadelic', 'cityman', 'masotti', 'inals', 'hawkmoon', 'msapc', 'watchos', 'poppik', 'funkstar', 'slaybells', 'fannibal', 'linuxone', 'exertis', 'perficient', 'shortstack', 'deepcut', 'kampuchea', 'gerontocracy', 'djamena', 'hemba', 'noprogress', 'explodeand', 'harison', 'lifecome', 'harrowingly', 'codgers', 'laundrie', 'brigding', 'aderemi', 'opadokun', 'gypped', 'superc', 'therera', 'brasted', 'capeflyer', 'preoredering', 'seprember', 'exhilirating', 'risiiiiing', 'lacis', 'gamgara', 'philad', 'zinged', 'cryinfhedjs', 'redoubles', 'sorbets', 'abco', 'graeters', 'dallying', 'kculture', 'wondertwins', 'solstace', 'muthas', 'statesborough', 'swilcan', 'ouimet', 'bothwick', 'jonshon', 'oosthuisen', 'spwar', 'therealbeckman', 'rineanna', 'rockall', 'barbasol', 'flubbed', 'irisheyes', 'chuene', 'asslamau', 'sawine', 'kamati', 'bhooka', 'khuf', 'zeeyasmi', 'alamr', 'schniederjans', 'owsum', 'chutiyaan', 'karachiates', 'liaqatabad', 'schneiderjens', 'oosthuzien', 'malaralondon', 'hamayoon', 'amanzai', 'mubii', 'injerd', 'sulaimania', 'bojack', 'umcp', 'gapc', 'subverted', 'preeid', 'itlaaaah', 'dubsmash', 'wwer', 'ollins', 'bagrangi', 'cenema', 'lolywood', \"'me'\", 'olaad', 'shyaar', 'daayiee', 'swiffle', 'wadatwitter', 'kolossus', 'thordis', 'fourxbrid', 'banglavision', \"b'\", 'shirm', 'carolemc', 'hopster', 'enhen', 'moooost', 'yeeeeaaaar', 'dolorous', 'suchess', 'wjxt', 'sahlens', 'meeding', 'scyfy', 'svengoolie', 'welma', 'catilac', 'asdfksjhabaishebs', 'crikes', 'sharkna', 'yhbhikoieidhui', 'wnci', 'lavalantuala', 'lavarantula', 'hypenado', 'sawhand', 'inssnjsnsnssn', 'jaengy', 'perrott', 'hampt', 'benifited', 'kenova', 'butthurtedness', 'lavantula', 'naidoc', 'shaknado', 'diserved', 'dhamal', 'oppertunities', 'siys', 'joabyxnx', 'rukuh', 'avodogs', 'todorov', '$$s', 'ospreay', 'sweatfest', 'dislodging', 'luccroy', 'myluk', 'candycanepark', 'massimillano', 'ujjwal', 'usedby', 'baitfish', 'wrangled', 'nonado', 'clrly', 'owasi', 'wyso', 'yearaka', 'faljari', 'survivals', 'muazu', 'critise', 'luams', 'sacrifies', 'demnewswire', 'rlivetweet', 'pyroclastic', 'wrangles', 'shawaal', 'hartzel', 'rres', 'trailiing', 'bttom', 'snarknado', 'shakiness', 'soriono', 'rohtagi', 'lakvi', 'saverday', 'culprid', 'midroll', 'constitutionthe', 'taimouraga', 'chipkawing', 'vitiate', 'humqnity', 'mayyat', 'fooligan', 'grandfath', 'hangd', 'yureka', 'siculars', 'swindal', 'adrsd', 'laywers', 'cotham', 'pottys', 'dupreme', 'politicle', 'whoose', 'congree', 'janaja', 'chuha', 'deseved', 'deservd', 'vlieghe', 'shraddhanjali', 'mahim', 'wxtu', 'othor', 'thekedar', 'schudge', 'erdely', 'buttsecks', 'gcj', 'rockfeast', 'nagbash', 'ramehswaram', 'advancescreening', 'pakielamero', 'wiphbdute', 'picott', 'freebasing', 'basejumping', 'expectactions', 'skrubs', 'qwn', 'prestitute', 'ntnl', 'craptacular', 'thenet', 'swaders', \"'sm\", 'surendranath', 'eversong', 'dayhiatus', 'fifthe', 'xians', 'likeyesterday', 'tarir', 'britishisms', 'ciecmate', 'bullwinkles', 'mymiddletons', 'talkatives', 'zbikowski', 'superst', 'lilf', 'erdos', 'eastchase', 'meningreen', 'thenyou', 'razorsharp', 'figuier', 'sympathatics', 'buice', 'taubenheim', 'trachsel', 'okechukwu', 'hellafun', 'festaviss', 'transfusing', 'tackboard', 'recroding', 'armacost', 'boxingego', 'slothnado', 'respectiv', 'aluo', 'demned', 'dakers', 'nativewings', 'innumerate', 'osukoya', 'chilcot', 'julush', 'rachpal', 'alqueda', 'alshabaab', 'aqeeda', 'opers', 'axelmania', 'lectual', 'jmwe', 'glasnow', 'ferino', 'exchnagr', 'hugsxo', 'assemebled', 'esident', 'meetthepress', 'chucktodd', 'betro', 'getairtel', 'prayes', 'watsoever', 'celeberate', 'ntastic', 'blabbin', 'shitwanks', 'gennext', 'narutos', 'noveselic', 'clattered', 'sbnabs', 'cubster', 'rickrolls', 'schc', 'arriived', 'hildogs', 'tanahashi', 'werp', 'disingenuously', 'haramain', 'emploees', 'giffer', 'triumverate', 'cttm', 'sportscasting', 'mundee', 'raissman', 'thero', 'ilega', \"'''\", 'telecasters', 'cntent', 'hangng', 'prestigue', 'brainbuster', 'memorialized', 'versoin', 'stagefright', 'brftm', 'weasle', 'parinirvana', 'closexout', 'halvsies', 'oldglory', 'timeplay', 'abelardos', 'kellh', 'khlifah', 'ronday', 'mamox', 'meekom', 'kakkest', 'giraffage', 'survisor', 'transwoman', 'heymanhustle', 'itits', 'adlaksjskdh', 'nurfm', 'chiffarobe', 'osamp', 'sabkuchfixkaregamr', 'effusive', 'gathbhandhan', 'mahamet', 'yohr', 'okwaraji', 'wpop', 'reunicorns', 'marada', 'zootv', 'checkng', 'senjutsu', 'wunited', 'lawnchair', 'deciever', 'raafidha', 'dandkpop', 'cesoro', 'teuchi', 'babaginda', 'afme', 'bogys', 'sedc', 'wsaw', 'kaliopi', 'gogdulah', 'texteira', 'diptera', 'candatidates', 'eligable', 'cottocanelo', 'willingto', 'takfeer', 'dawlah', 'jurists', 'kalongs', 'miwaukee', 'rougned', 'nlroy', 'hokaga', 'breau', 'siltitng', 'windwo', 'montamania', 'flipkartsupport', 'crwys', 'narunata', 'fancomic', 'twivia', 'sneachta', 'boget', 'insanelly', 'herrerra', 'quadding', 'lwanga', 'malenko', 'dosu', 'izamoje', 'udhampur', 'naved', 'inniit', 'oliaeh', 'srsl', 'monotheistic', 'livecast', 'bewn', 'orbited', 'cubits', 'tawney', 'healthc', 'storley', 'swatton', 'haramist', 'bcoming', 'genisys', 'werleman', 'firenado', 'sagacious', 'suuupppeeerrslam', 'procyon', 'ferventness', 'metatextual', 'spytty', 'skyhooks', 'gwoza', 'edsummit', \"n'em\", 'incenting', 'lbon', 'kissanime', 'gorzelanny', 'wpeh', 'fortunefilmz', \"'na\", 'lenaerts', 'davemattwright', 'shhiittty', 'paperview', 'swidell', 'midatlantic', 'prosectors', 'womanslaughter', 'dechambeau', 'curiousty', 'dhammal', 'wdym', 'securement', 'pierrie', 'orignally', 'outpoint', 'stylistically', 'rarefy', 'ignoratio', 'npfl', 'betonline', 'zquadom', 'bythenumber', 'onspotify', 'videoreleased', 'assuredness', 'sidestepped', 'notdoi', 'manslaughtered', 'alderwiereld', 'rondy', 'bsmn', 'dhimmi', 'ianetta', 'ampliation', 'jynxing', 'dcy', 'oungfly', 'shitternet', 'crappity', 'entelechy', 'argumentu', 'yibo', 'tazila', 'heretical', 'nokor', 'overweening', 'travone', 'skcajbndf', 'otev', 'brashness', 'gayathri', 'elenchus', 'extan', 'furthered', 'urena', 'gimmer', 'pitchs', 'tumefy', 'tailpiece', 'lesnae', 'beeges', 'nippu', 'engesser', 'unbashfulness', 'relatedness', 'nccooqymh', 'escapists', 'alawis', 'stephanopolous', 'ucretst', 'comandment', 'degroms', 'yagotta', 'ajna', 'suuuuuperslam', 'homering', \"'x'\", 'cenawinslol', 'significative', 'unanalyzable', 'attainmen', 'summersla', 'sosl', 'istenedto', 'seungrisenpai', 'counterprotested', 'srepresentation', 'trinitarian', 'rickrolling', 'intoxicants', 'careening', 'whute', 'aphug', 'okeem', 'ampbell', 'blackhaws', 'denominative', 'eminating', 'disjunction', 'wgntv', 'fridaus', \"'e\", 'suberbs', 'ballyhooing', 'tiffsqa', 'lowkwy', 'strawhat', 'toboo', 'ogochukwu', 'zquad', 'zroughts', 'stauch', 'wtaj', 'hampion', 'tsktskshameshame', 'khvoakmlb', 'expatiate', 'oxyh', 'zrgn', 'toufah', 'golravea', 'jidenna', 'crackerd', 'purusha', 'wsnts', 'steverson', 'ultimax', 'holocausts', 'savageries', 'cbbbots', 'concomitant', 'comburent', 'samardjzia', 'trippah', 'nloth', 'adjuvant', 'cavqc', 'ieru', 'mailcelebrity', 'launchdaily', 'rafidis', 'unquit', 'sufflate', 'patels', 'implicative', 'stabilised', 'solipsistic', 'tazawa', 'foxcroft', 'dognapping', 'gonuts', 'wisconsins', 'christianty', 'souix', 'ticketcrush', 'rasenshuriken', 'hopefulness', 'symbologi', 'caityln', 'synard', 'dudle', 'bbase', 'appendant', 'dumdass', 'overlake', 'wahabism', 'ashould', 'artblogger', 'kanken', 'pumpkinocalypse', 'ostrovsky', 'twerktwerk', 'rasoolullah', 'nexu', 'tasselled', 'naijaprizes', 'adeniji', 'amakson', 'pneuma', 'ohmvx', 'wyw', 'aryans', 'shenxin', 'baiely', 'effectd', 'navah', 'mahamat', 'backhair', 'mccallon', 'ahhhhdnfcn', 'weedhoppers', 'azwajal', 'jiskani', 'imegine', 'ankoku', 'misguiding', 'sukuraman', 'lipsynch', 'vealed', 'hrsno', 'meatwadzone', 'erats', 'bromell', 'arliehartman', 'thnallah', 'peping', 'zerries', 'epxerience', 'samajhty', 'creeated', 'sgfg', 'satchwill', 'hisbshed', 'vester', 'myniallerproblems', 'khazarian', 'splendors', 'hatick', 'youngfreesinglelive', 'maggoot', 'kizumonogatari', 'splatfest', 'thepalmtoptiger', 'sweeeaaaaar', 'nonessential', 'connoiss', 'salkeandote', 'vanson', 'kissame', 'weeped', 'katsuo', 'seigaku', 'gokkgaquz', 'rabulizzat', 'orientalist', 'peacecamp', 'kowtow', 'obta', 'erformance', 'unconventionally', 'ottawan', 'nunavat', 'zacca', 'zffuck', 'saladinio', 'tiitle', 'puuuunk', 'bullyed', 'outflank', 'netnewsledger', 'walkbacks', 'bora$', 'kenryn', 'dcum', 'unpolite', 'thinkpieces', 'arrietta', 'flakka', 'breakthro', 'kimkumkum', 'salisu', 'practisin', 'reconfirmed', 'moonmans', 'hahahaahhahah', 'hixrc', \"'is\", 'dagboru', 'rushdi', 'rememberyself', 'vangu', 'vahalla', 'enlivens', 'khadeer', 'aamiri', 'karmapa', 'fwar', 'motivatonal', 'mextraxx', 'gfin', 'wrongfullyy', 'calirfornia', 'mashupped', 'oostdyk', 'ausmila', 'longria', 'mitski', 'tinydesk', 'cnnpolitics', 'hartleys', 'nelenieshuewjshs', 'yerrrrrrtt', 'itsssks', 'firsskt', 'sshckhool', 'karimozena', 'hollywoodbowl', 'ticibhfi', 'veronas', 'virilis', 'budgin', 'giaf', 'colabello', '$h', 'jounin', 'armello', 'melaninhoe', 'hopers', 'preloads', 'spsn', 'golam', 'brissie', 'johncenajonhcenacenacenace', 'oatch', 'demonstratively', 'intersented', 'omgjsjsnznz', 'playability', 'oskur', 'twelver', \"'ba\", 'turenci', 'wraiths', 'boooreeed', 'bollea', 'preprepared', 'meccan', 'dteams', 'hamgover', 'deputise', 'suuuupppeer', 'slaaaam', 'thunderdoooome', 'veatch', 'theymca', 'socialrm', 'adrid', 'krbizbr', 'sneery', 'bbleng', 'ghters', 'resurr', 'sportcaster', 'nullifier', 'sulayman', 'takfir', 'mushrikin', 'koski', 'suuuuuuuuuuupper', 'kimsfirstladytodolist', 'westday', 'septober', \"'ok'\", 'adebyor', 'colwell', 'powerslaves', 'rediscovers', 'vestibules', 'ichiraku', 'dgtr', 'apraxia', 'bobbymoo', 'jreynoldsmp', 'nipplegate', 'recommanding', 'jfdlsajfdsads', 'maiker', 'beetus', 'linemans', 'admnt', 'deshields', 'suleymanov', 'robus', 'darshak', 'pressboston', 'xsunday', 'fernandini', 'wuqdomjly', \"ye'eh\", 'eurofm', 'roachford', 'grabhorn', 'rereleasing', 'laylat', 'guiterriez', 'leftards', \"on'em\", 'hopecity', 'hiltonteper', 'mysen', 'boily', 'encrypting', 'altafini', 'dauntlessness', 'lifelight', 'funkee', 'deebos', 'cmpt', 'indiscrete', 'sogh', 'uused', 'celibrate', 'gladiatorial', 'inbreeds', 'mgsvtpo', 'obumma', 'chistians', 'preconscious', 'ikkitousen', 'kreygasm', 'kisans', 'poooooont', 'almajiri', 'dehumanise', 'dluxe', 'robeen', 'congregatin', 'obagoal', 'buddists', 'elderkin', 'chourasia', 'delhizens', 'ozfm', 'tikrit', 'englisg', 'pedophillia', 'tranie', 'desborough', 'beethovens', 'kwambe', 'jorit', 'zayun', 'symptomatologic', 'cbsf', 'stateofunion', 'tading', 'niallersjhoran', 'pathognomonic', 'eovaldi', 'cohoes', 'wireimage', 'ablaz', 'lambast', 'chargesk', 'ukff', 'kantay', 'hbcn', 'sjaco', 'benintendi', 'afco', 'aaom', 'mapleleaf', 'buddhadasa', 'bhikkhu', 'privity', 'unessential', 'horlen', 'berkus', 'assadism', 'kragthorpe', 'qually', 'gaybor', 'scir', 'unafraidness', 'hokagy', 'coverstory', 'technolgies', 'swihart', 'condoled', 'royalspr', 'taifas', 'livelyhoods', 'sommin', 'lovullo', 'everyythingg', 'bankerslife', 'missjanet', 'thiem', 'jklasdfg', 'kaser', 'pendred', 'arzst', 'gotchyas', 'jdkkflf', 'yankem', 'monteys', 'attacktd', 'mbuso', 'nkabinde', 'nabave', 'mashokhel', 'undergirding', 'jibbi', 'referenc', 'untimidness', 'ruxandra', 'gamestyle', 'mughals', 'morphological', 'goaless', 'whiley', 'jabines', 'qadianis', 'quide', 'chuutalk', 'ckdsradio', 'auktop', 'incarnated', 'forbearing', 'elwira', 'amplificat', 'mostert', 'wariness', 'qznvguukz', 'gharara', 'mxy', 'soxfest', 'videoboard', 'ogunjobi', 'hasslehoff', 'pvris', 'sceni', 'onechanbara', 'gallups', 'weby', 'rassooli', 'heterotrophic', 'mooslims', 'taqiyah', 'lietonon', 'adrenlaine', 'idekyn', 'galacti', 'revcoak', 'djokovicvbautistaagut', 'gleeman', 'gayliath', 'gamelab', 'georiga', 'ellewell', 'chritianity', 'maseed', 'statutorily', \"m'a\", 'actuallyall', 'ahmadiyyat', 'neeley', 'inhab', 'disappointedly', 'sheona', 'mcque', 'congeries', 'megesh', 'nzkp', 'aardwolf', 'pukhtun', 'petroulaki', 'austealian', 'godell', 'lawlessly', 'estia', 'stenstra', \"'u\", 'clinto', 'runith', 'galillee', 'patsies', 'torirs', 'motiveless', 'cqnl', 'xfg', 'rasengans', 'speightoo', 'wearching', 'ahmediya', 'plectrums', 'seachtar', 'ellern', 'evisceration', 'yepo', 'foranderson', 'yotlob', 'rowand', 'exgirlfriends', 'regins', 'wrastle', 'maziel', 'twsrc', 'ferdowskids', 'niqabs', 'entailed', 'beaxh', 'yemoji', 'printings', 'songsmith', 'translat', 'holacost', 'youremyvitamins', 'punkrag', 'flickerwood', 'goallessdraw', 'semetic', 'inneresting', 'mahasana', 'hernangomez', 'odegaard', 'sayyijnfn', 'hoxsie', 'rrmastered', 'procural', 'functiona', 'anacortes', 'courcelle', 'neroazzuro', 'yahwe', 'roseen', 'gefell', 'dimensionaughts', 'wwont', 'oxoby', 'poolstick', 'brisson', 'asffsgw', 'abetz', 'cyss', 'yasurek', 'mymilan', 'tronnor', 'inury', 'dolothrodo', 'thiskp', 'opguy', 'malahat', 'sharratt', 'unislamic', 'shittown', 'moulinparikh', 'sonysix', 'cartografia', 'vhyx', 'bortolami', 'geurnica', 'mooroolbark', 'ragia', 'rothlesburger', 'ahbaya', 'muslimed', 'lavuo', 'watced', 'markmeets', 'caroemerald', 'nmbrs', 'rabbiting', 'neise', 'warthen', 'harvery', 'yoventura', 'villainized', 'handidly', 'transmute', 'tilez', 'degromatior', 'earlymodblood', 'cepedes', 'larrie', 'mitam', 'chalabi', 'andersonstown', 'doshua', 'zoggie', 'manouver', 'gvrment', 'survelliance', 'logyin', 'sosmnl', 'gdecny', 'bingewatching', 'bendixen', 'terlingo', 'norhtern', 'daystillmitam', 'kneelt', 'tryeth', 'ullukapathas', 'appeasers', 'justuce', 'noew', 'aggreement', 'odinson', 'vampss', 'rearrested', 'motilal', 'maynot', 'thegreenarrow', 'streepthis', 'tlusty', 'stempniak', 'mulaney', 'dehumanizations', 'grandadwas', 'demontrations', 'twatishness', 'wirse', 'mongerer', 'bloodbourne', 'heartrending', 'centenera', 'culwell', 'getva', 'scognamiglio', 'uneasyness', 'jungleworms', 'spotif', 'thority', 'authorising', 'centraleuropeantime', 'forthriver', 'glencairn', 'selfrespecting', 'khazakstan', 'faridkot', 'refracted', 'merkal', 'bonhomie', 'publicrecord', 'leeeettle', 'universality', 'relativist', 'triceracop', 'hackerman', 'subraman', 'restitute', 'kaalaadhan', 'thunderer', 'mosny', 'modimafia', 'fantaztik', 'mirrah', 'shatrughan', 'smithwick', 'anonimity', 'akakeya', 'guidicipietro', 'maghaberry', 'okkervil', 'groovies', 'khaiye', 'juban', 'lagam', 'lagaiye', 'pilloried', 'jotunheim', 'quandel', 'siddu', 'indowantsblink', 'munibond', 'khets', 'misinforemd', 'kinekor', 'orop', 'crosbie', 'briancat', 'serqet', 'minutester', 'holande', 'castigate', 'strided', 'athertons', 'misfired', 'againto', 'ardboe', 'brouis', 'mediaguardian', 'nalumfe', 'magaraj', 'nathuram', 'itthe', 'encomium', 'boseman', 'vinopolis', \"of'\", 'chilcott', 'wafted', 'pissgod', 'caramele', 'photoops', 'gqmenoftheyear', 'gqmoty', 'thepchaiya', 'legandx', 'villeins', 'skooma', 'ellerslie', 'diablerizes', 'raffensberger', 'dunsworth', 'northcutt', 'doggon', 'annihilators', 'empirikul', 'curtishowell', 'orographic', 'thglo', 'hbhbhb', 'cuddalore', 'wagoning', 'beatsmiths', 'whatbptc', 'bladesboy', 'timesofindia', 'aooesr', 'puducherry', 'irregularitie', 'jahagir', 'fascinatingly', 'wokeness', 'soloway', 'mcivor', 'aterpilar', 'rematc', 'higt', 'abuzeid', 'itma', 'littell', 'broadeningday', 'supersurf', 'alisah', 'debicki', 'abbamania', 'nevill', 'rotd', 'bharo', 'cassper', 'faaaaya', 'zidler', 'clady', 'lightlly', 'scruffing', 'thefw', 'helwani', 'ontitle', 'numbertwos', 'riveters', 'governemnt', 'theyrnow', 'aljz', 'ufz', 'chajnz', 'hurstbridge', 'marathoned', 'bundelkhand', 'fertittas', 'savours', 'litti', 'chokha', 'papakura', 'lovng', \"''i\", 'yodamole', 'nwphs', 'giorgini', 'bulayegi', 'cringeing', 'frosinnone', 'lutharia', 'arcimboldi', 'templr', 'fbomb', 'bombardiers', 'supplant', 'quarantot', \"'tf\", 'madvillainy', 'ziering', \"'yo\", 'jcoleofficial', 'lamarckian', 'streamerino', 'caissie', 'hefzi', 'leoncavallo', 'behlive', 'baadshaho', 'rothemere', 'attrocities', 'looooonnngg', 'curren$y', 'civalwar', 'claptons', 'sourcestoi', 'sadelle', 'gothicists', 'clubroom', 'administratio', 'samac', 'tasering', 'sunhold', 'treakies', 'sardonically', 'exportin', 'mailjet', 'rayjay', 'taxpros', 'riverbeds', 'mongcast', 'staunchly', 'cartoomics', 'sfira', 'flouts', 'foxnewshealth', 'terrorsm', 'wdout', 'dependng', 'rukna', 'theocracies', 'prismo', 'essebsi', 'roome', 'eyaaocampo', 'ganne', 'mihalovic', 'mariyln', 'bitie', 'coulsons', \"f'n\", 'nowtv', 'eglx', 'karashian', 'vincess', 'dgates', 'magkakaanak', 'donbas', 'howevr', 'vwp', 'gladesville', 'jazzstandardnyc', 'contextualize', 'ayatollahs', 'billion$', 'mirky', 'baemax', 'shekel', 'nowit', 'killingtheonetheylived', 'riversid', 'halischuk', 'netralize', 'starqoutes', 'firesage', 'razes', 'yesilgiresun', 'ibna', 'sheeeeeeeesh', 'regionwide', 'jephthah', 'afsaneh', 'moqadam', 'ozar', 'precons', 'giannelli', 'grtmilano', 'nadean', 'fourthday', 'jewry', 'lehem', 'jeonghan', 'shabath', 'ergkamp', 'connoisseurship', 'discompose', 'rezaian', 'doenmeah', 'manturov', 'porpose', 'leket', 'refinding', 'intafada', 'ahmadineijad', 'discolouration', 'christofascist', 'hekmati', 'endeavouring', \"'g\", 'mcgi', 'karwan', 'shohoda', 'urmra', 'kerblai', 'closr', 'corsport', 'deploring', 'bbhmm', 'jarrica', 'quizling', 'targetg', 'sattouf', 'lycanthropy', 'manceron', 'lavrentiev', 'mervagli', 'beilber', 'painset', 'shimmercakes', 'frieks', 'callhim', 'zisser', 'nilomoni', 'smritini', 'proximate', 'prashanth', 'conjectural', 'mandana', 'responsibe', 'alliegance', 'newsha', 'tavakolian', 'pasquina', 'ngubane', 'chaac', 'anhur', 'lvf', 'abledorfenheim', 'waywithin', 'nusrah', 'shriman', 'mumbaitimes', 'recoiled', 'hohohohohohohoho', 'partitioned', 'counterweight', 'conure', 'authenic', 'simsdomination', 'videowelcome', 'defaces', 'competentto', 'atsouth', 'tetweeted', 'nonwhite', 'glsagow', 'cryuff', 'rosengard', 'rorylorelaiemilymiss', 'mrskim', 'lukesukie', 'babetteemilie', 'loralie', 'momthats', 'parisd', 'sookied', 'pattyinvisible', 'pariswho', 'parisinvisible', 'sokie', 'kirkcolor', 'evauation', 'zahhar', 'qaradawi', 'adventurism', 'scalation', 'helicoptersof', 'toameh', 'scottsman', 'katabthawratalashreen', 'flaghttps', 'erekat', 'fastkarateboxingminidrill', 'jumpingbeandrill', 'nottopspeed', 'philistineenemiessamsonslew', 'fastpowerpunch', 'movesbowieaction', 'notfastest', 'assescalledphilistines', 'fastwhipactionbowiesmilinkukrinottopspeed', 'samsontheultimatemaf', 'ighter', 'fightinghimfacetoface', 'fastbigbowie', 'punchaction', 'notquickest', 'begstobedestroyedsameas', 'schoenfeld', 'markups', 'commisions', 'econed', 'draggle', 'penguala', 'discouncted', 'faughyer', 'shalhoub', 'allying', 'alakhbar', 'prohezbollah', 'tajideen', 'gwot', 'qalawiyeh', 'hzb', 'qaraqosh', 'petertownsend', 'muharabin', 'luciferian', 'counterjihadus', 'ciivlians', 'whatwe', 'crewfor', 'playinggames', 'zour', 'dragonlady', 'altaqqh', 'justofies', 'ajmi', 'arimah', 'lotan', 'beersheba', 'firesdivine', 'maaleh', 'hachamisha', 'hahamisha', 'sepulchre', 'apprehending', 'shoafat', 'shuhafat', 'sitewidecode', 'blackfrisale', 'annexxed', 'weilding', 'kotzias', 'devaluate', 'carthaginians', 'temenhint', 'brsc', 'aldresi', 'khorasan', 'saiqa', 'kuwaifiya', 'drissi', 'niraj', 'drqadriwithmoeedpirzada', 'dmsc', 'madkhali', 'omrani', 'srsg', 'kathimerini', 'bircham', 'wisewood', 'edoho', 'hololens', 'psvr', 'mannequinchallenge', \"po'\", 'mbfm', 'halloum', 'preetisingh', 'sanket', 'sremmurd', 'fashandstocks', 'centcom', 'zuhour', 'bayji', 'vbied', 'dijlah', 'intisar', 'hashd', 'behnam', 'infogrphic', 'humvees', 'terrirory', 'arbeed', 'khadhra', 'armyhumanity', 'protectionno', 'sinjar', 'istanbuli', 'bazwia', 'gogjali', 'breakinghashid', 'baquba', 'werethe', 'whiteheadstamped', 'borzutskymarch', 'blackacre', 'bachelder', 'literatuer', 'mccp', 'eters', 'owchh', 'lythgoepanto', 'ohsskxvsjsb', 'gaidelines', 'ditaiwan', 'tubshroom', 'eveeeeeeeeeeer', 'frooooozen', 'ralate', 'peled', 'palestinethat', 'palestinianauthority', 'supresses', 'qaddum', 'bollyn', 'futureagroup', 'gazaare', 'satanyahu', 'hilweh', 'leibowitz', 'mehlove', 'cassidythe', 'youseriously', 'munsch', 'radwell', 'haemophobic', 'zayday', 'chanelles', 'repostapphappy', 'ccxp', 'botva', 'actormichael', 'cudlitz', 'themeedes', 'merlet', 'doglorisophiaglennabrahambobjacquilizzietyreesegovernadorsambethnoahandreamika', 'greaving', 'thizizuz', 'salesexpert', 'spresident', 'deace', 'figger', 'nypmetro', 'mainelyonline', 'suckersjill', 'navaee', 'jitso', 'archambault', 'antislavery', 'rollett', 'strenthening', 'vrill', 'belfouredeclaration', 'tuwal', 'amyntor', 'tuapse', 'hudaidah', 'samiwishing', \"ta'iz\", 'yemenite', 'backd', 'reshufled', 'spottd', 'leavng', 'metastasizes', 'civicus', 'constriction', 'homuz', 'hodeidah', 'aselow', 'inleague', 'upsmoke', 'layied', 'puterprsn', 'boomboomb', 'documens', 'ksrelief', 'hudaida', 'morgaine', 'tenthousand', 'condemnations', 'sitzprobe', 'inkeddisney', 'yayofamilia', 'allocine', 'lambastes', 'mcga', 'guarandamntee', 'speakerwe', 'patraeus', 'kerryarmed', '$$$$$$$', 'thecorruption', 'canbestopped', 'ssssssnakes', 'trumppence', 'psychopathskids', 'constructionists', 'disgracer', 'omney', 'crankies', 'niffler', 'cannkt', 'pearlwhen', 'alreadythe', 'amazingthe', 'fanniburger', 'whopperito', 'managemnt', 'mcstreamer', 'frenchfriesright', 'dailyartspace', 'yahnker', 'videothat', 'iswanting', 'wikilinks', 'unconscion', 'itution', 'clintondedicated', 'tochildren', 'clapouts', 'chiefdivider', 'allepo', 'yolandaadams', 'papahanaumokuakea', 'uptickah', 'thinku', 'inewstv', \"is'\", 'singletaken', 'applyme', 'lollygaggers', 'adolfs', 'stopsorosnow', 'forpresssecretary', '$urbn', '$ctrp', 'djqvu', 'uthphcg', 'weteak', 'blouberg', 'somebodddyy', 'miguelt', 'uberweddings', 'uphd', 'ngsba', 'georgiatech', 'dprintindustry', 'meshmixer', 'workplease', 'dewang', 'degradable', 'beeverycreative', 'tetherless', 'lulzbot', 'muckychris', 'farsoon', 'formnext', 'openrc', 'ninjaflex', 'cnntech', 'tekuniverse', 'dreamcreator', 'waslive', 'nanalyze', 'squirtels', 'nanostructures', 'sutros', 'sttmnt', 'fakahontas', 'demorats', 'yankd', 'brokrd', 'chrgs', 'cfpd', 'mjrpty', 'kelllyanne', 'desrespectful', 'halderman', 'highligts', 'tunneltoday', 'bestexpect', 'hoopingheaven', 'actps', 'unquailfied', 'pokahontas', 'carsonorb', 'globalnews', 'daplw', 'pipelineit', 'outcries', 'pipelinemajor', 'wilansky', 'dorrajarrod', 'coughswill', 'perfectand', 'chainbut', 'disappeari', 'blainehide', 'confirmja', 'followerme', 'spermatozoa', 'lehua', 'infodocket', 'tempietto', 'possibiities', 'verfugbar', 'gevr', 'tiltbrush', 'googleearth', 'gennyb', 'nehlen', 'jonestime', 'dixonracist', 'hypocriteshame', 'kissmike', 'wordsjust', 'statepick', 'draintheswampalert', 'trumpworthy', 'citizenshi', 'evdnce', 'dmocrcy', 'wrenchingly', 'interventionalist', 'putined', 'ioffe', 'yikessteven', 'rybeck', 'ngratulations', 'decadesputin', 'yournewstour', 'hisfuck', \"'by\", 'whathefuu', 'foundationa', \"pa'ca\", 'mordidito', 'emco', 'puertoriqueno', 'datca', 'linseed', 'littledown', 'repostappthis', \"'im\", 'jealosy', \"pa'\", 'gabbard', 'riefenstahl', 'psyoper', 'altrighter', 'kempt', 'jerksteve', 'worsedonald', 'trumpbroke', 'andnow', 'hirono', 'rainchecks', 'kissingers', 'mediacoming', 'liebman', 'siemian', 'needsq', 'slurpage', 'beautifulfuture', 'indiafuture', 'boassy', 'chessley', 'jazzhandssupply', 'surprisefinally', 'altcollect', 'akaryn', 'overwya', 'christmaswya', 'wendyswonders', 'rockmantic', 'hugfun', 'sportshall', 'kerrington', 'dcookies', 'defundpp', 'frpavone', 'rapeugees', 'pregancy', 'abominab', 'healh', 'progland', 'thomistic', 'ensoulment', 'oppositon', 'develpmnt', 'undoutably', 'buzzfeednews', 'euthenasia', 'beastality', 'sheeeeiiiiit', 'dredged', 'permenantly', 'ferdous', 'facd', 'mundothe', 'alabed', 'recaptures', 'nubul', 'securitycouncil', 'hanano', 'airdrops', 'asymptotic', 'jackbooted', 'mamaloshen', 'excusers', 'identitarians', 'hitleryou', 'shitposting', 'horsehoe', 'roosh', 'volumizer', 'speciesism', 'thekatvond', 'compromiseno', 'sorryit', 'nonconsentual', 'testg', 'revcom', 'riotsso', 'lamprecht', 'bumas', 'potusmaga', 'sorosite', 'intifadas', 'theashleygraham', 'etnow', 'maledom', 'gianvito', 'luddingtonme', 'berkleevalencia', 'sightly', 'dziena', 'britishvogue', 'versioning', 'psycops', 'senorhappythanksgiving', 'ovember', 'allgans', 'salavador', 'federalise', 'bubbys', 'emoloyees', 'furhur', 'comitatus', 'harambes', 'womentrumpinator', 'folktimetravelled', 'apreciating', 'pennebaker', 'yetthis', 'motchoulski', 'decrepitudeaplenty', 'newsoms', 'obnxious', 'existbefore', 'mcguinn', 'heartmbdtf', 'dropoutfreewheelin', 'dylanridin', 'ratwhen', 'oncnbctv', 'peerage', 'mardibum', 'pannick', 'clubthe', 'judgeswhy', 'italyexit', 'lawalso', 'insularity', 'antuley', 'impanel', 'foindation', 'donators', 'clintoncart', 'coachdb', 'foundatio', 'mishandle', 'clintonfoundation', 'putinhack', 'takenserious', 'pollste', 'cnnp', 'olitics', 'unequaled', 'predidential', 'haghtag', 'myfamilyweir', 'stepgrandma', 'decendent', 'karoli', 'liesrussiamisogynyracismcomey', 'blackm', 'abount', 'shitcomey', 'hillarywikileaks', 'himcame', 'firstand', 'thingsare', 'pleonasm', 'liberalscry', 'cotus', 'mounger', 'fantasists', 'sheryll', 'laist', 'socjus', 'doublethink', 'gummit', 'reservatio', 'disillu', 'strangelovian', 'stepovers', 'timegood', 'wuou', 'neeting', 'becausemessi', 'accodring', 'thesport', 'messineymarsuarez', 'ronaldoben', 'sunquest', 'longlived', 'appld', 'cubathe', 'arici', 'nonissue', '$he', '$yelp', '$my', '$fig', '$two', '$ago', '$im', '$ms', '$axe', '$at', '$a', '$zen', '$fun', 'schwarbscf', 'almorarf', 'kbss', 'rizzc', 'willywith', 'leavecubs', 'seriestrump', 'electionthe', 'outcould', 'thetunnelbear', 'childrenneed', 'gleyber', 'theaccessoriedoll', 'rajbehra', 'bandhavgarh', 'siskiyou', '$bam', '$are', '$for', '$fit', '$pay', '$out', 'webtoons', 'gjy', 'yeonaehyeogmyeong', 'verrett', 'fastcast', 'uptonkate', 'reimposition', 'alsingace', 'alsameea', 'inneffective', 'apostates', 'painlesswhich', 'naipasa', 'maipasa', 'deterent', 'tvdeath', 'itnot', 'whoevedr', 'reimposing', 'maltreatment', 'nervana', 'machinelearnbot', 'machinelearn', 'interpretable', '$nvda', 'pierian', 'topological', 'vinyals', 'szilard', 'noyd', 'phrenology', 'precog', 'kcws', 'reprogrammable', 'busloads', 'distressful', 'pullall', 'presidentelect', 'prezs', 'tautologies', 'kvia', 'lolhillary', 'her$$', 'normalway', 'repubicans', 'exsposed', 'blackfrisave', 'pubicly', 'dilettantes', 'darlena', 'eatimate', 'sorros', 'deliverancing', 'struggleville', 'liarswhose', 'irredeemables', 'citz', 'raphel', 'govmts', 'harambe', 'launchs', 'radicalise', 'forein', 'cryostasis', 'weightpop', 'nothingelectors', 'upwithwatts', 'byproducts', 'hippocrite', 'docotor', 'euthanasiapeople', 'tshop', 'heartstick', 'thanasia', 'bioethicist', 'mccoskrie', 'nitschke', 'cushings', 'debounce', 'cmmttee', 'synthesised', 'baeyer', 'livew', \"e're\", 'absolvera', 'previlegies', 'nabh', 'newslaundry', 'nespral', 'andanar', 'sovereigntyfidel', 'convulsive', 'holocastro', 'tantrumming', 'pipelinebut', 'dudewe', 'iciec', 'reinsures', 'eveloy', 'fracknation', 'megantic', 'pandered', 'sourses', 'treati', 'cernunnos', 'mahlsman', 'editorialized', 'bfracking', 'skillanthropy', 'aukey', 'maxboost', 'doomsayers', 'shortwe', 'iottie', 'eotw', 'nightme', 'fireme', 'fofop', 'powerport', 'trltevzw', 'thestartuptimes', 'agothat', 'agoi', 'matrimohno', 'mcelhenney', 'godlessness', 'modeyou', 'denialism', 'outdtanding', 'labelsamerican', 'peoplewars', 'sorosdebbie', 'wassermanhoward', 'bidenvictor', 'thornjeffery', 'epsteinjohn', 'podestatony', 'podestajoe', 'pedophilic', 'langmchs', 'hildabeast', 'soldiew', 'geirge', 'sickwatch', 'predated', 'polanyi', 'luncht', 'radioisotope', 'glycotargeting', 'glycosylation', 'thermography', 'whenbi', 'demonetisation', 'wellmune', 'recordgold', 'esperienced', 'hateability', 'schyer', 'loafters', 'discussio', 'anymorei', 'dayif', 'abortionyou', 'ieyasu', 'effete', 'forit', 'timeor', 'usefultrump', 'legislations', 'foregrips', 'extemporaneousness', 'lybra', 'flamable', 'ccfa', 'nhmrc', 'oreganol', 'shuddha', 'mangaluru', 'renoux', 'fmrc', 'bookon', 'extracellular', 'macrophage', 'mythbewildering', 'folliculitis', 'decalvans', 'miasms', 'yrolds', '$amzn', 'sydtc', 'transcendently', 'immigrationarranged', 'preclearance', 'travelupdate', 'stevepi', 'surpirise', \"'e'\", 'seminarw', 'egomaniacs', 'rfugly', 'fudali', 'compains', 'censuring', 'dangerthere', 'koreathey', 'coalesced', 'goigng', 'hailkim', 'thirda', 'nddumpy', 'hovan', 'trmp', 'trimp', 'buddiesby', 'vaultboy', 'unsporting', 'vladamir', 'muumuu', 'reunifies', 'manasseh', 'jimping', 'dipshi', 'diplomatsnorth', 'haxx', 'koreai', 'bioculars', 'nukey', 'nukeys', 'unhahaha', 'kostina', 'defec', 'trainingjune', 'schoolh', 'putinophile', 'putinphile', 'manipulat', 'kohchang', 'abeuf', 'trollhouse', 'bullst', 'poklonskaya', 'entrenches', 'ruaf', 'ifac', 'holodomor', 'familyrall', 'putinista', 'organicdid', 'dugin', 'weisburd', 'haganah', 'neomcarthyite', 'unconvenient', 'subman', 'interventionists', 'orthbayanarchists', 'buzzphrase', 'abysmally', 'idpol', 'psyop', 'intnse', 'disppointed', 'performatively', 'woolfe', 'innocuo', 'psedoseculiars', 'tempetions', 'leftistsnot', 'cpim', 'overwhel', 'playsthat', 'volumeuse', 'homag', 'jyrki', 'burnsdavid', 'bowieleonard', 'cohenalexis', 'arquettegene', 'wilderchristina', 'grimmieprincechynabig', 'angflo', 'hallellujah', 'gnay', 'bazini', 'deathi', 'druskin', 'peopledo', 'waterguns', 'coollook', 'luvving', 'privileging', 'frahdi', 'deelz', 'myhearts', 'thisreally', 'cappies', 'hottake', 'rcaf', 'buffoonish', 'sputnikint', 'wishfully', 'referensum', 'frexit', 'miletich', 'merkle', 'marchieren', 'salvina', 'brainsmarine', 'baselessly', 'frauke', 'renzis', 'triumphalism', 'forgone', 'antipoverty', 'imperiled', 'privatizes', 'carmeli', 'asideby', 'redistrib', 'ascs', 'taxcuts', 'bullwork', 'bluecollar', 'forceing', 'savingsnada', 'ssdi', 'qhp', 'votersobamacare', 'gonemedicare', 'gonemedicaid', 'gonesoc', 'gonewho', 'ganjapreneur', 'bronstein', 'crowdrising', 'cannabi', '$advt', '$psiq', 'pressassistant', 'errico', 'seedo', 'cannabislupus', 'wlns', 'outlives', 'oill', 'privitization', 'guessturesme', 'assclownswant', 'electard', 'ryansand', 'puppetno', 'cardsurvey', 'cuthope', 'plagiarizes', 'blamee', 'tenpenny', 'circuiting', 'plagiarising', 'million$$', 'pantsuits', 'modelmelania', 'trumpie', 'airhornshello', 'airhorns', 'roddenbury', 'unmuted', 'sdevodid', 'shuttled', 'shyof', 'puritanical', 'pentagonme', 'thetrump', 'angrywhite', 'mcfuckmyass', 'truthing', 'conwayed', 'antibully', 'extemporaneously', 'predilection', 'trumpmodel', 'knauss', 'ozai', 'culeeraa', 'postdated', 'unifiers', 'incitin', 'bronotsaurus', 'documentarian', 'castratos', 'messmoorize', 'reifenstahl', 'gnuo', 'pponents', 'campaigntruth', 'protalinski', 'zorin', 'zemlin', 'sourcecodes', 'paytm', 'vxvm', 'underpay', 'streetsmuhammad', 'shkreets', 'historytolearn', 'fighty', 'shinola', 'hurriyat', 'mazher', 'ceaz', 'amndmt', 'addle', 'beetrays', 'lugenpresse', 'asbolutely', 'culturewicher', 'folktales', 'valuesthe', 'conflated', 'marcism', 'goebbles', 'unwinnable', 'goebb', 'moviesmovies', 'guysthe', 'vanliew', 'georgesoros', 'sellars', 'marginizimg', 'subpoen', 'fusterclucks', 'founderol', 'beydoun', 'surplusend', 'recessionend', 'litigating', 'actuaries', 'obamahealthcare', 'repeation', 'gburgdem', 'healthcsre', 'floridaians', 'begala', 'manyfl', 'stdly', 'renwg', 'cvrg', 'bnfit', 'bdlg', 'wallnot', 'andnot', 'castrocare', 'dpcc', 'ldrshp', 'delauro', \"go'\", 'fixme', 'timedana', 'shumer', 'swampbitch', 'sunmoon', 'nekodesiree', 'usathis', 'gamefaqs', 'overwatch', 'berseria', 'zestiria', 'gameoh', 'salehead', 'commissionspersona', 'nowpleasemy', 'akechi', 'orderpastor', 'godtweet', 'akhoon', 'laudato', \"si'\", 'italianrosaryparts', 'laboriously', 'pedophillic', 'prophesized', 'fuers', 'moremahatma', 'applyig', 'omtime', 'influntl', 'paolina', 'delgates', 'greenlighting', 'otherwards', 'eligibles', 'hilllary', 'voteso', 'namby', 'pamby', 'whingers', 'countingvoted', 'collegeshe', 'votesiow', 'trumpster', 'obolon', 'kuchma', 'caucescu', 'mushka', 'ukronazis', 'avakov', 'saakasjvili', 'eurohipocrites', 'trumpthink', 'annhialate', 'valshman', 'poroshenkodrooling', 'gaidar', 'blairites', 'jewphobia', 'stauffenberg', 'thescotsman', 'nazbols', 'torpedoeing', 'altright', 'newright', 'disinfomedia', 'incautious', 'righti', 'taiyuan', 'europression', 'leftistswoke', 'rightistsbespoke', 'commentatirs', 'hahahahahaahhahahaahha', 'degeneracy', 'hypersuspicious', 'teachercast', 'sampatue', 'robotsrobots', 'researchpreneur', 'dharmasena', 'robotsedven', 'moorebricktowntom', 'edven', 'oej', 'alphys', 'swordswomen', 'extradi', 'ossethia', 'extraditing', 'dekanoidze', 'kyivpost', 'orchestrates', 'oppoblock', 'intentionall', 'alternatehistoryhub', '$uber', '$gm', '$f', '$bmw', '$goog', 'ownershipelectric', 'swappable', 'ostp', 'democratizing', 'roboats', 'odunlami', 'noological', 'xbvtgis', 'serenola', 'ivsucceed', 'securityto', 'raidtrump', 'okthere', 'prudently', 'sprightliness', 'fdvc', 'crixq', 'ouqa', 'verifications', 'wwprd', 'pokespec', 'willtrump', 'prebus', 'islamophoic', 'noahpinion', 'thinkthat', 'themuslimlawyer', 'administrati', 'shltheads', 'supremacistsbut', 'denouce', 'jewmedia', 'kiddieshit', 'biostwitter', 'shruggers', 'teamfact', 'buyitnow', 'hackread', 'telsa', 'teslas', 'teslamotors', 'mensjournal', 'waqasthe', 'reliabilit', 'templatemonster', 'yeartesla', 'cannibalizing', 'narooma', 'vevc', 'litty', 'aleahdivine', 'faceswaps', 'iannelli', 'fistfights', 'tfac', 'refractors', 'aposentaram', 'bryanttim', 'duncankevin', 'garnettmo', 'williamsray', 'allenkevin', 'martinelton', 'brigids', 'vyrnwy', 'bradim', 'rheineck', 'attackeerd', 'aarberg', 'mossison', 'cahir', 'cmereiwantcha', 'intercounty', 'podomatic', 'einladungsturnier', 'sixmilebridge', 'updatetipp', 'firehawks', 'madeine', 'westbeld', 'aphrodisia', 'herbo', 'wkls', 'wallst', 'dupicitous', 'isds', 'jgsf', 'ecologically', 'ppbos', 'himand', 'geoblocking', 'mainsteam', 'stengal', 'koshimizu', 'trumplove', 'presidenttpp', 'deadisis', 'deadclinton', 'kleptocrat', 'fascistcabinet', 'outworks', 'eschews', 'jocular', 'togetherso', 'megarich', 'alfis', 'escews', 'okeydoke', 'unbind', 'webaddress', 'motherkers', 'trumpprotest', 'laterprotest', 'nowdapl', 'donorsdapl', 'disgruntles', 'lotp', 'mcghan', 'presidunce', 'teachrs', 'scaramucci', 'elving', 'poisinous', 'privatizers', 'reportgiuliani', 'transitiondavid', 'lawyerso', 'wednesay', 'reportbazzar', 'autismwoke', 'autistus', 'availablity', 'avlbl', 'rotravirus', 'ofinept', 'inhalable', 'wakeful', 'mucosal', 'immunities', 'immunised', 'sometimespedo', 'serumsi', 'noethematt', 'ummsl', 'librarianship', 'wavelike', 'legallypromote', 'banksdonate', 'uxotr', 'interthreading', 'mpmpdm', 'jnwlmk', 'arounddy', 'hurford', 'reducetarianism', 'vegetaria', 'aphg', 'tulku', 'demic', 'reportingly', 'detroitpridetigerscongrats', 'converj', 'detroitpride', 'vatica', 'khoin', 'bloemfonte', 'graaff', 'blessedben', 'tarasenkomlb', 'verlandernfl', 'sportsoccer', 'posnanskiwhen', 'bwar', 'registrationmaking', 'noncitizens', 'overwlmngly', 'repugnants', 'ferreting', 'thiscountry', 'widescale', 'finagling', 'vilely', 'muffles', 'hrcr', 'ussian', 'interferencevoter', 'fbiw', 'ikileaks', 'gerryma', 'effortkris', 'suppressiongerrymandering', 'eavy', 'precivilwar', 'huntwiki', 'captainslog', 'behavo', 'breakingtrump', 'uncounted', 'crosschecking', 'herrion', 'strandhill', 'trumpty', 'wewedonald', 'biuld', 'ingeniously', 'undersecretary', 'materializes', 'qarnayn', 'yajjuj', 'majjuj', 'knowwhat', 'chicagobill', 'busybeagle', 'halfmastiff', 'djawadi', 'shapewood', 'rabeeya', 'wahhabism', 'bosting', 'truni', 'dhimt', 'magificent', 'experiencethank', 'hairpsray', 'efronception', 'titless', 'bomerzayn', 'barechested', 'tatumfor', 'mezac', 'maarvi', 'hugens', 'blonksy', 'caresn', 'aflpa', 'schickel', 'missimo', 'scheckelhoff', 'beeeotch', 'jesiah', 'oiershdjkfwle', 'snobish', 'comeupance', 'sustenio', 'comedys', 'edlefsen', 'duvernay', 'nfty', 'jerred', 'sunderlands', 'norelle', 'mornjng', 'apewalkin', 'akademy', 'fowrard', 'ashwaubenon', 'underpinned', 'steelguru', 'mettenbergers', 'ecaasu', 'homepolish', 'aquib', 'barroquillo', 'nwca', 'kianta', 'bfme', 'sscx', 'filmclub', 'marsing', 'slingbo', 'videothe', 'pinkroom', 'finchelor', 'qsu', 'mountainlair', 'rostu', 'onroe', 'jerebko', 'watchez', 'stickz', 'twitterites', 'peperonata', 'resheduled', 'rubbishy', 'jubiliant', 'moshes', 'gmayl', 'osfc', 'physix', 'proact', 'mssive', 'ungentlemanly', 'sthebest', 'jargaritas', 'gahhhhden', 'wivescelebrate', 'williford', 'pfrom', 'mangere', 'apper', 'npsf', 'bucketist', 'rybacks', 'ppsssssst', 'modafacka', 'exorcisism', 'avaunt', 'ocdsupertoaster', 'voodoos', 'broxburn', 'skyliners', 'ellai', 'biggerstaff', 'jbsa', 'odysseas', 'elytis', 'beingsalmankhan', 'vacany', 'ciswrug', 'asddgffghj', 'torpoint', 'sunwood', 'drumlines', 'lefraud', 'nyelle', 'definitaly', 'arsneal', 'trafoord', 'hooisers', 'eksms', 'powerites', 'deztanee', 'uloom', 'hifz', 'masquarade', 'nfll', 'peiece', 'roosies', 'santorem', 'zadkovich', 'incepted', 'optomistic', 'gastaut', 'miiiija', 'ohbabyjesus', 'actorusa', 'hattingh', 'mcnastys', 'dalys', 'augustea', 'loveeedd', 'tlxhah', \"ma'\", 'transwomen', 'avca', 'buttiglione', 'intri', 'njea', 'adviory', 'zellner', 'culler', 'nationalpostsports', 'sewickley', 'hyungjunthebest', 'battleshots', 'puppeting', 'bhaang', 'kembreys', 'crossgate', 'lavarnway', 'bgdl', 'illies', 'mangok', 'puthumugangal', 'thevai', 'nthlondonapplerepair', 'mnesia', 'appleguy', 'dropbacks', 'slfp', 'igleisas', \"x'\", 'proudrt', 'artytype', 'kuppajoes', 'eunich', 'kilomathon', 'timot', 'shiuld', 'mwaxh', 'werebears', 'forcefu', 'durdle', 'sjgc', 'shinners', 'divinetworks', 'ewswire', 'smithies', 'seismo', 'kogarah', 'hustlevania', 'globex', 'mowtown', 'vokle', 'medicore', 'grodna', 'edgebrook', 'peover', 'memorible', 'heemfording', 'mytachs', 'frizbi', 'lobstering', 'fourthbest', 'fttb', 'lahoma', 'strongside', 'bubunuin', \"be'\", 'hualien', 'ynwalfc', 'scrapins', 'yotefox', 'skiexpo', 'opperman', 'southpointe', 'galvins', 'vanuatus', 'fraggin', 'hhmk', 'rateable', 'africaid', 'ipcpr', 'stms', 'sewanee', 'pasrb', 'miniputt', 'gcwcc', 'brindabella', 'bgmc', 'kugan', 'lsca', 'gcats', 'thilakan', 'malayala', 'calivlers', 'netpac', 'kerela', 'garlett', 'iaprsa', 'lamarsh', 'eliizabeth', 'cascaded', 'letsmovedown', 'iupa', 'realcollabo', 'workcharge', 'lucap', 'timoteij', 'chippen', 'grimmauld', 'ntwrks', 'beichi', 'taumata', 'wpit', 'racegoer', 'kiasma', 'npes', 'bokamal', 'equpiment', 'recoverable', 'invoic', 'anutys', 'thewlis', 'verion', 'bloganother', 'oremti', 'manotick', 'ognissanti', 'arps', 'malig', 'unsheathed', 'jeeyyzus', 'paidnfulleastsaidup', 'relegating', 'sharpenings', 'girasis', 'chowchila', 'cosmostanza', 'grannyfest', 'masebe', 'sahia', 'charater', 'ballymore', 'kenpom', 'theeb', 'courtice', 'denean', 'nkwelle', 'ceasfire', 'showkase', 'choth', 'ghoulishly', 'mausky', 'ephemere', 'termer', 'kepr', 'betrenders', '$cme', 'herf', 'margenthaler', 'kjjz', 'triumvirat', 'clubsbl', 'iacz', 'daav', 'rumnee', 'metrostars', 'mineworkers', 'hifly', 'saweeeeet', 'makikipaglaban', 'sandata', 'blens', 'adff', \"go'on\", 'mumblin', 'fumblin', 'monteal', 'vestry', 'brownhills', 'tlsxhah', 'floode', 'japanophile', 'arruba', 'givemefootball', 'gerts', 'hbsbhsdv', 'larkburger', 'dyngus', 'heschmeyer', 'drummoyne', 'wben', 'swiftober', 'slicers', 'hidind', 'cdos', 'byrooooooon', 'harrisooooooon', 'sapt', 'mccashin', 'eljabl', 'uuggghfghfgd', 'hospitali', 'hopefullycome', 'bjlr', 'kuromori', 'bolanos', 'youmacon', 'zeitoun', 'shinchiro', 'tsumeb', 'equilavilent', 'bastich', 'xyrielians', 'headadmin', 'drinkig', 'ionaa', 'linnaeus', 'nonstopsinging', 'zaitoun', 'setprinterinfo', 'xcfc', 'rackley', 'straton', 'iatse', 'forgetrt', 'surprisec', 'perigion', 'bearsden', \"'kl\", 'rationalsupport', 'brandywell', 'roadkills', 'natertater', 'blakboy', 'rauschenberg', 'dholna', 'bhulaiyaa', 'localiez', 'sulidis', 'puruse', 'speakerless', 'reichard', 'kyoce', 'septemer', 'filthiness', 'iniskeen', 'metrople', 'lietenant', 'eunthere', 'mudbugs', 'yogurmet', 'underfaker', 'bellafiore', 'auditons', 'earthqua', 'dodridge', 'shareece', 'jotted', 'msbwy', 'brekie', 'naejang', 'huddersf', 'sunbird', 'belconnen', 'ralow', 'latis', 'makuahine', 'exhibitn', 'claytoneer', 'corseted', 'amywhere', 'robinette', 'amreen', 'jumpcity', 'chychytcuit', 'hirzallah', 'freightened', \"we'l\", 'thanhnii', 'storck', 'smackdo', 'scfa', 'mcsexy', 'internationaldirectionerday', 'hollywoodcrush', 'wendouree', 'moutniho', 'danielsan', 'squashy', 'picplz', 'fantasty', 'reynella', 'ssomethhin', 'mysts', 'raviteja', 'afpendi', 'ratitng', 'disptaches', 'sputtered', 'rowldawg', 'rhons', 'fukaoka', 'wulords', 'cfbl', 'isakson', 'cliffgpbi', 'amaziiiiingggga', 'logoslife', 'amazonuk', 'fedbid', 'sanjit', 'fareoh', 'aggtown', 'mykfresh', 'bramlett', 'irlam', 'qlders', 'simoneau', 'valobasis', 'daroon', 'thorbjorn', 'nonqb', 'castlepalooza', 'buzztown', 'espnny', 'tristars', 'unikent', 'upasana', 'ratmansky', 'sofhmores', 'aimhigher', 'chengde', 'sophoslabs', 'castlepalloza', 'janglybeastfest', 'showaddywaddy', 'infosecisland', 'mcintire', 'bowab', 'bctwf', 'horti', 'trailblazzers', 'altchek', 'iherd', 'jboogie', 'scotsirish', 'zirkle', 'kagisingmo', 'nambubulabog', 'tapanco', 'csoc', 'pagkakaabalahan', 'bustout', 'shneider', 'kshgkjh', 'zjhsdkhfg', 'hethen', 'liquidmetal', 'lqmt', 'nbcsnl', 'catalyze', 'alpfa', 'cocanougher', 'davlar', 'squiched', 'cuuuuhraaaaaaaaze', 'keiffer', 'tition', 'acalac', 'rampling', 'contactee', 'bushee', 'manwho', 'obma', 'skeuomorphic', 'msakni', 'zaharion', 'fulcher', 'nigglettes', 'galafianakis', 'particulalry', 'shobhit', 'muscling', 'schmeh', 'chdn', 'whippa', 'twmpath', 'ifeat', 'ogalla', 'animalsense', 'nadell', \"'aw\", \"tv'\", 'accredated', 'rebt', \"'id\", 'redpacket', 'oasisedmonton', 'sunpoor', 'skeumorphism', 'timeshifting', 'chhatrapati', 'issueing', 'pedigrees', 'unhatched', 'gotw', 'fellating', 'ojays', 'snighter', 'rlk', 'irieapril', 'castelton', 'bucksadschool', 'lbjsc', 'boxford', 'calstate', 'theeuropeandream', 'parkmall', 'borefest', 'yardline', 'eckerd', 'galifanakis', 'zomour', 'quinfecta', 'malanday', 'wjct', 'bootfuck', 'veilrt', 'wexham', 'kahwined', 'maclay', 'rcvkg', 'eacs', 'baseplate', \"mo'\", 'gamecoach', 'baages', 'fearsomely', 'excv', 'eott', 'pysyk', 'provias', 'loccer', 'dionje', 'wheller', 'tvmovie', 'terrif', 'photoplus', 'econpmics', 'fdahs', 'lmfaoasdfghjklomg', 'capellas', 'balletcenter', 'firwework', 'teichert', 'itvplayer', 'apuleius', 'comeposed', 'lulwhuuuut', 'chimenti', 'toughs', 'evolt', 'googlehangouts', 'aissf', 'drubes', 'kniteforce', 'headl', 'vintagenow', 'playthru', 'viagara', 'dalken', 'soultion', 'lscc', 'otimes', 'indiathe', 'weekl', 'settingt', 'hentgen', 'zubuchon', 'bemmy', 'ashwni', 'thingrt', 'superbpwl', 'veitch', 'cuntsniff', 'neild', 'prizegiving', 'nuary', 'weighton', 'ghts', 'dejanae', 'chungking', 'semetary', 'agdin', 'playig', 'poboycitos', 'wwoz', 'nachtgeschrei', 'anthonee', 'bercik', 'broadcastin', 'knickas', 'outkicked', 'alondraa', 'deaaall', 'ouncers', 'guadato', 'manhattsn', 'ogalo', 'disorientating', 'lbpv', 'slimefest', 'hordern', 'opossom', 'ttoa', \"'ai\", 'alresford', 'pessim', 'durston', 'monstography', 'cmie', 'metafest', 'sweetteapumpkinpie', 'feminised', 'morcella', 'abastillas', 'handrt', 'qabiil', 'mncim', 'babaman', 'fekken', 'habif', 'ralz', 'rrfp', 'millicic', 'coolamon', 'yesinea', 'oportonity', 'gubbay', 'bayford', 'daffadam', 'medlam', 'sunjennifer', 'triksta', 'octobr', 'kreckman', 'perishables', 'deeafro', 'unamazed', 'mpac', 'corresponded', 'bunwatch', 'strattonfaxon', 'imbongis', 'effat', 'hayyyuy', 'yogacity', 'poptsers', 'upjab', 'donwade', 'kiboro', 'effigies', 'sussexy', 'riannon', 'bodg', 'abigayle', 'autodrafted', 'boytsov', 'repio', 'multibillion', 'crotchal', 'elmbridge', 'bibleball', 'livication', 'dipiazza', 'reneg', 'foreverjeti', 'tamias', 'franzese', 'tomolols', 'playtoes', 'stylestalker', 'foxct', 'postgames', 'mussers', 'preaseason', 'plarium', 'runman', 'yooruce', 'farrackhan', 'the$', 'omfgomfgomfgomfg', 'joooooooy', 'fabc', 'lazydaysies', 'onaciq', 'asalaamu', 'dotp', 'mickels', 'fraundley', 'waitibg', 'bbod', 'openess', 'crazzzzyy', 'yehive', 'vallco', 'paido', 'mursak', 'lyfestyle', 'visafone', 'chipleading', 'chiplead', 'runday', 'heisesec', 'gmable', 'pratna', 'mvpc', 'thants', 'huwar', 'patibag', 'cmst', 'brydens', 'tweeterthon', 'pczeey', \"a'f\", 'wkhs', 'ztra', 'nodarioty', 'manydj', 'anysing', 'alexndria', 'kidols', 'wattecamps', 'traffod', 'frobisher', 'picotto', 'haaamaaazing', 'entrechat', 'funfest', 'chadmm', 'urray', 'gloaming', 'igate', 'postters', 'anido', 'bloodbeast', 'killatoria', 'predomination', 'concenttrate', 'romagnola', 'technogym', 'stillready', 'enefits', 'acrylat', 'lectue', 'corbi', 'extravangaza', 'bilangual', 'skipety', 'wionder', 'arraba', 'arrabe', 'pagkafriends', 'pagkaarte', 'johnllyod', 'woodchicks', 'kantup', 'reziduals', 'macdougal', 'melleby', 'mittagong', 'timeskevin', 'santospartyhaus', 'sowerbutt', 'chanot', 'pruijn', 'billiat', 'manyama', 'forumcast', 'mlimani', 'antroposophical', 'stiverne', 'foulke', 'suryakumar', 'comotto', \"'s'\", 'gabriola', 'truckeroo', 'omdayss', 'jonya', 'johal', 'dmdk', 'vijayakanth', 'colocinni', 'appreicated', 'mulleady', 'kilbeggan', 'panellist', 'presentating', 'gcard', 'fundimentals', 'afropolitans', 'jeremyrennerseyes', 'dontari', 'ampro', 'kewei', 'tortolitas', 'surfcomber', 'middleweights', 'kinnucans', 'bware', 'darkeness', 'crazypants', 'mckew', 'whiptail', 'vrdw', 'northford', 'scinerds', 'recusal', 'biggerst', 'unscene', 'adminkim', 'ernasty', 'euleilah', 'cockspur', 'octaveia', 'iknowushould', 'marleeeene', 'cinemonkeys', 'hkp', 'collocini', 'helemma', 'farmerville', 'sanzar', 'rafeef', 'ziadah', 'longthorne', 'allysin', 'slowdow', 'sockers', 'quickish', 'redbacks', 'chronicler', 'optajoe', 'villaaaans', 'cosart', 'pinery', 'minuteseok', 'vronsky', 'medowlark', 'stiemer', 'agme', 'elektable', 'cybertonian', 'zacchara', 'dekanich', 'talahassee', 'grenader', 'getrt', 'schulmann', 'mottoes', 'twinkees', 'zeimer', 'imprvd', 'everagain', 'pratices', 'spectaculathon', 'shmellout', 'broncineers', 'koramangala', 'sunsport', 'popscene', 'vsow', 'landaco', 'jeffb', 'patco', 'eumaeus', 'tingzz', 'microwavers', 'approache', 'bonnell', 'dundeel', 'wlmxrhfu', 'blackhall', 'dartfordgot', 'slaniesse', 'ghthouse', 'quarterb', 'spleaders', 'darwins', 'klonoa', 'loveiseunhaehyuk', 'ayegbeini', 'nicklin', 'reasonabley', 'ambozia', 'mayoroflondon', 'dhafrah', 'decemember', 'lelouche', 'chummed', 'bikeless', 'adkahsk', 'jimando', 'negoti', 'isaacon', 'apothecarium', 'allenvalladares', 'trannsylvania', 'hassler', 'conjuncted', 'wabasha', 'nccdc', 'dunkface', 'tysoned', 'diaje', 'vadalabene', 'extragalactic', 'tjff', 'buccigross', 'watercott', 'mecury', 'whitmire', 'magicsnsd', 'canham', \"''c\", 'nzma', 'quotepenguins', 'kitching', 'mattole', 'kneehigh', 'milkily', 'cinematically', 'tltltltltlltltlt', 'bettyvirginia', 'omalatai', 'peacocc', 'ypaac', 'fancans', 'minotaurs', 'termies', 'vindicators', 'benesch', 'tomgrant', 'allencarlanz', 'tahr', 'ljudski', 'margar', 'bardsey', 'mataf', 'brandenberg', 'cotugno', 'consultin', 'hamsey', 'aantayan', 'midcourt', 'superriors', 'starcatcher', 'happyeigthmonthsarysarahgl', 'pbbu', 'halloweird', 'naugles', 'holsey', 'absconded', 'colloccini', 'auroral', 'fashionpulis', 'evatt', 'jumby', 'antones', 'gundogg', 'vivanta', 'maxxima', 'timeswashing', 'awaydawn', 'comislamabad', 'stantonbury', 'uppc', 'jarvey', 'boyshort', 'babybels', 'vinculated', 'gentleme', 'nurgh', 'ingleton', 'sasabo', 'amnz', 'quotationspage', 'ziiing', 'vanroekel', 'blarring', 'paytime', 'kanyi', 'slisten', 'bazura', 'kirshner', 'kolchak', 'huzah', 'abetted', 'yquot', 'mostyn', 'alcantra', 'reverserobocall', 'phonejacker', 'miinaj', 'ghostpoet', 'mercurys', 'youlve', 'datsuns', 'vasicek', 'venic', 'bleakest', 'chund', 'tenaction', 'mccrimmon', 'foytlin', 'rachetts', 'damanged', 'steinlager', \"'er\", 'jochel', 'coira', 'ungracious', 'tlbreaking', 'involun', 'photies', 'mubarck', 'godgalovesgodney', 'kimama', 'kakuchi', 'hirou', 'surapong', 'brintey', 'beohner', 'leadup', 'presleys', 'lchris', 'scotlandrugbyteam', 'singsnap', 'jclabb', 'wagenheim', 'tirbutes', 'manslaugher', 'saffers', 'installmen', 'shating', 'soleli', 'cosn', 'bourdeuxs', 'murses', 'appleland', 'disemboweled', 'saadra', 'gadgetdom', 'spyshots', 'jungers', 'whippington', 'nohle', 'uide', 'vacicek', 'suengyeon', 'wagnoli', 'leshore', 'novemember', 'mcmcfmcfcok', 'chigozie', 'agbim', 'chibuzor', 'premeirship', 'nollyhood', 'sdma', 'ketball', 'outoftheblue', 'drillhall', 'guested', 'zylona', 'alongsid', 'titss', 'tricounty', 'detroys', 'viqueens', 'gaurika', 'radiosurgery', 'pjob', 'straightstuntin', 'tigernet', 'awwwwwright', 'cfru', \"i''m\", 'februray', 'peusto', 'cordles', 'sportchek', 'brookly', 'mascotfight', 'lunachix', 'amarosa', 'jetsinsider', 'zogbia', 'nikaragua', 'gulport', 'aglines', 'nebraskans', 'huntzinger', 'holperin', 'wirch', 'liquidambar', \"'be\", 'epsdes', 'uswmt', 'mornngs', 'ipercoop', 'colonise', 'wotm', 'biosimilars', 'patfull', 'sparkleberry', 'lowis', 'frankmusik', 'nklage', 'brandian', 'sindri', 'dueeet', 'whooverville', \"'b'\", 'milansofficial', 'freedon', 'levitan', 'convictio', 'restaining', 'crookly', 'merlinmedia', 'picbadge', 'chicagoriffic', 'haynesworth', 'poelher', 'firstq', 'timoleague', 'draggi', 'acccg', 'lionsrt', \"'x\", 'hansworth', 'jetsgo', 'rooody', 'tollner', 'sangz', 'dantrai', 'polizeros', 'banglad', 'wsjd', 'stfosb', 'whigfield', 'whangamata', 'ruskies', 'jurrel', 'staytunned', 'briens', 'mcgeezers', 'rangels', 'prsns', 'walbridge', 'metenolone', 'egbn', 'periscopes', 'gallowgate', 'kwames', 'cosburn', 'grulkefest', 'revercomb', 'khedi', 'prombley', 'sreven', 'indhi', 'theloniousstudios', 'journolist', 'fourthird', 'slayor', 'wescoal', 'nydn', 'gorch', 'favog', 'stevietv', 'clockwinder', 'mcadory', 'suadonte', 'panchayats', \"'c\", 'mattock', 'cyberzone', \"ko'\", 'elicited', 'gansbaai', 'haggins', 'rossomando', 'whomadewho', 'plunking', 'lichty', 'intermsa', 'badhabitz', 'omgyu', 'biasseu', 'ksghskjfghksfjgsg', 'sechin', 'hafc', 'shreddie', 'sshes', 'shanney', 'wooooooooaaaaaaaaaaaaaaaaah', 'mediapolis', 'noesen', 'rakell', 'phinsider', 'blackall', 'unobscured', 'anointment', 'teare', 'ooshma', 'bangl', 'tccic', 'todoroff', 'harbutz', 'istrategies', 'otool', 'henshall', 'thown', 'drctd', 'beitthemeans', 'tuggo', 'bathrms', 'ahsaan', 'salish', 'accuplacer', 'armbars', 'klasnic', 'quadrotor', 'rhoatl', 'liiiiiiiiiiiiiiiiiiiiiiiiiiiiiiiiiistoo', 'sejesong', 'imbizo', 'youtubablehd', 'mmaw', 'eekly', 'ghygftrdghgc', 'bluewkd', 'aubtourage', 'stolenspace', 'caseyface', 'koxx', 'thelema', 'maroccan', 'frontignan', 'shaaaataaaaaaaaap', 'sanitisers', 'tronics', 'cutoms', 'mohamm', 'iahs', 'kcrg', 'tohse', 'denure', 'oflinkedin', 'masvidal', 'juddmonte', 'bhupinder', 'cufi', 'beatified', 'upns', 'rayys', 'charrish', 'mathnasium', 'mathing', 'usaaf', 'klingler', 'gaffrey', 'affadavit', 'llani', 'stansbury', 'upco', 'udofia', 'hyfc', 'scenecity', 'echorev', 'nulc', 'isba', 'romannucci', 'blandin', 'ccsao', 'ungaretti', 'brick$quad', 'swiftbroadband', 'norqway', 'weapo', 'eagels', 'wichitans', 'awaitrt', 'nindooooot', 'osauna', 'ulong', 'xinru', 'pandomonthly', 'debagged', 'bicyclefilmfestival', 'coloum', 'seabuiscuit', 'ostend', 'scoggins', 'spectr', 'mysoginists', 'mthds', 'solemnis', 'simchat', 'hahahahqa', 'sierranya', 'limeligh', 'struggeling', 'sjoekoe', 'calanders', 'mrwa', 'corncobs', 'kamvar', 'hockenberry', 'medialab', 'chayas', 'cabbaged', 'poyntz', 'furney', 'shackelford', 'hiestand', 'limewax', 'zolex', 'playcentre', 'infity', 'infinitieth', 'anniversity', 'passalong', 'lenghty', 'rrrrrrtt', 'finnest', 'minnes', 'rattlestick', 'bbsr', 'autorickshaw', 'shatec', 'ogunribido', 'vbns', 'swooooooooooooon', 'danferguson', 'supercharging', 'tsere', 'mabone', 'mankad', 'muchoforex', 'alwayyyyyyyz', 'szcze', 'sdtrk', 'sunee', 'bashaara', 'omegapharma', 'jonrowe', 'mushes', 'chroniclel', 'oztix', '$kmi', 'rerread', 'nmrhs', 'nesba', 'unbent', 'emmalin', 'manyatta', 'thorbjornsen', 'guernville', 'kifs', 'teatrett', \"'''''''\", 'redlicki', 'gregurovic', 'americaplatz', 'luxford', 'otball', 'stoneleigh', 'adambehindthemusic', 'wusb', 'streetfm', 'proudofallstar', 'flyout', 'yets', 'metormix', 'lestar', 'ormiley', 'lomardi', 'pisseeed', 'kylngan', 'matakbuhan', 'notjudge', 'latifaa', 'premeres', 'hetton', 'nataaashaann', 'cainer', 'forracing', 'fishguard', 'uysa', 'eunjini', 'passafire', 'mayhall', 'commonweath', 'trosk', 'motorscooters', 'evanscence', 'mdsl', 'dstl', 'vestron', 'makerere', 'moggill', 'clownvis', 'riverfolk', 'teamltd', 'shaara', 'igtoa', 'snowsqualls', 'priding', 'alliums', 'alliumsvancouver', 'limaland', 'allibhoy', 'likeah', 'luley', 'giffen', 'mainroom', 'gunplays', 'uninvolving', 'vulindela', 'brisfest', 'atfernoon', 'madrasha', 'ccdjo', 'thuuuuuursday', 'wpsl', 'bcae', 'handsley', 'dempsie', 'capistranos', 'tomorrowcome', 'docudrama', 'muldowney', 'aaronovitch', 'nifwa', 'natash', 'hogia', 'imagre', 'contaldo', 'majerle', 'biels', 'metallicas', 'coddyy', 'quotage', 'clockenflap', 'miketindall', 'glaws', 'festve', 'pensdown', 'hairstrks', 'hartigan', 'wgts', 'garnter', 'itba', 'supposingly', 'hahaish', 'seasonw', 'atws', 'bcls', 'norell', 'ofarrel', 'mamaway', 'kftc', 'gsdm', \"''''\", 'dunkelweizen', 'studykas', 'barrowland', 'yodephy', 'kilmacolm', 'hwrc', 'rockapalooza', 'aternoon', 'glencross', 'smoqued', 'dennisport', 'srla', 'gelfand', 'rowson', 'kzht', 'beckey', 'pabh', 'tynie', 'boroughbridge', 'dolak', 'veneranda', 'verbana', 'alkek', 'concra', 'jfaa', 'cawfields', 'manran', 'skerryvore', 'vatersay', 'perrcy', 'vneu', 'cccr', 'debona', 'herbet', 'birkett', 'eitner', 'diggly', 'hadrians', 'knockhill', 'guradian', 'fastrackids', 'chaisson', 'moshtastic', 'rhyn', 'fastrak', 'hawthornes', 'sysak', 'britlit', 'jungfraujoch', 'midorilied', 'russmalone', 'weissenhofer', 'skyliving', \"fo'\", 'uofu', 'dannok', 'supehero', 'mobtown', 'marsmonth', 'shitei', 'cardassians', 'ppropriate', 'sustenpass', 'whereub', 'realizm', 'cabooze', \"e'\", 'wfpk', 'almondsbury', 'dependingon', 'iesb', 'aments', 'westonator', 'reakwon', 'kahri', 'songkla', 'rukeyser', 'dalllas', 'unterseen', 'brienz', 'hykeham', 'kwafaku', 'mautz', 'fungeon', 'doublewide', 'nuremburg', 'amgst', 'chldrn', 'shoooooooooot', 'depdir', 'dunky', 'cinelove', 'bernia', 'fastpasses', 'wianno', 'kspn', 'mamedyarov', 'chervona', 'samove', 'folkrockinpsychedelia', 'reshow', 'welshies', 'mobbies', 'holicks', 'imaf', 'danladi', 'baluchi', 'globetops', 'banjaxed', 'hepc', 'verdacious', 'vaessen', 'mekupvjcm', 'pureapplication', 'vmplplfdr', 'rolldawg', 'igem', 'sakonnet', 'prattle', 'lawrences', 'twaimz', 'kunkle', 'fanstatic', 'townace', 'cehod', 'ditherer', 'garuba', 'jerrilyn', 'ambassad', 'florewood', 'eblola', 'ecohub', 'youarebeingridiculous', 'wishesfor', 'gamling', 'chemweaps', 'snyderman', 'inaugurational', 'whatvhdjd', 'tetrad', 'hzkjkanajajans', 'rembwj', 'boatcrews', 'tongass', 'keivarae', 'narwal', 'hindusthan', 'asfcclassof', 'clickbait', 'eilar', 'mnerbtkn', 'ladysif', 'restonic', 'tenebrarum', 'triscygaming', 'folston', 'rayge', 'chazelle', 'drumlets', 'outstandi', 'custs', 'illinoiscentral', 'congrss', 'leiff', 'trendlines', 'lawsui', 'udlp', 'xplorer', 'elmsdale', 'phillps', 'sparkplugs', 'nlcsgame', 'skillsusa', 'weightings', 'unweighted', 'lawsbians', 'rougue', 'sobchak', 'shomer', 'thirtyone', 'earsay', 'bfish', 'nymburk', 'raivio', 'outc', 'schtum', 'luverz', 'turlough', 'tractators', 'randip', 'scupad', 'geniusfootball', 'lateisha', 'rumbelows', 'everu', 'trustfull', 'madal', 'ocmea', 'boou', 'ikue', 'bsca', 'forensi', 'rashtriya', 'sprowston', 'sweepings', 'towles', 'hief', 'golbal', 'manufactureing', 'neodesha', 'jamoke', 'dharamsalart', 'rebull', 'adorrbbs', 'sorabh', 'brandes', 'subscribtion', 'heupel', 'tuggle', 'maseru', 'skulltullas', 'sunandas', 'wtgawm', 'redgrift', 'kesic', 'mrozek', 'bhoolte', 'enyatta', 'prognostic', 'abhiyaan', 'resignd', 'aftrwrds', 'acceptd', 'offrd', 'kozun', 'kuwelcome', 'kamwana', 'absar', 'lafafa', 'sahafi', 'narendr', 'saxet', 'healthline', 'bissinger', 'schlubby', '$lake', 'preettyy', 'lonavala', 'panthro', 'bokampers', 'easybeats', 'mississipppi', 'intercoms', 'kittleson', 'harryandlouis', 'gamakatsu', 'prefunk', 'mykenzi', 'greenler', 'cescboy', 'ationfantasy', 'familiesgiants', 'kleinpeter', 'alumnis', 'avging', 'cowb', 'bumgardner', 'obanikoro', 'mansarovar', 'jokehave', 'sulusyon', 'wyalong', 'rizaul', 'evenko', 'swachhhtaabhiyaan', 'udhav', 'gingras', 'mazzega', 'lumby', 'twdseason', 'habibur', 'budman', 'tyyl', 'chowkidar', 'sideout', 'breakdances', 'aapt', 'rulemaking', 'galvanised', 'emagination', 'jshs', 'pesak', 'deamicis', 'bostonherald', 'eitd', 'recollecting', 'wylong', 'airbridgecargo', 'airlink', 'thov', 'condolance', 'pprwrk', 'mcdcc', 'aldub', 'maalden', 'tiberian', 'langthorne', 'mussic', 'thsoul', 'yayadub', 'siedah', 'mawm', 'kingvention', 'tingalingalingalingashingshongbhungbhaaanng', 'martinlos', 'wowowowowoowowowwowowowoow', 'cameyyboo', 'dehelicoptering', 'bereden', 'sheerly', 'prendeville', 'thekindfox', 'rugid', 'maribolhd', 'shelbydenise', 'diamods', 'ssmississippi', 'penicuik', 'derosion', 'truetriz', 'appeases', 'technascribe', 'truthstream', 'insectiside', 'genenration', 'theophrastus', 'devoloping', 'dicamba', 'monopolist', 'smooshing', 'gucciardi', 'melbouirne', 'dihydrogen', 'expediencies', 'gearity', 'dinotrux', 'helfstein', 'longmirepremieres', 'anyonr', 'snkrs', 'toughed', 'genlivecast', 'whoopse', 'amibo', 'youkblow', 'apjeae', 'splatoon', 'bryyus', 'faceplaces', 'pikman', 'katbonn', 'betwwn', 'fifthshot', 'exageratin', 'uvqeda', 'chromesthesia', 'vuvw', 'wspjek', 'huaxin', 'equipm', 'kwcauf', 'pqd', 'scudobb', 'paphian', 'warrantable', 'ctcift', 'dithers', 'capitulated', 'hilliar', 'dumham', 'undocked', 'crapifying', 'contaminant', 'infoteckno', 'cloudbnb', 'appln', 'ergasias', 'psip', 'maxymiser', 'mscd', 'snarez', 'gybe', 'apgrod', 'sqg', 'memcached', 'earworms', 'radiom', 'akchote', 'sufers', 'wattleton', 'appendectomies', 'appendixes', 'prolifers', 'foetuses', 'shannonbream', 'disallows', 'anned', 'sunsara', 'sistersong', 'parenthhod', 'kcci', 'venial', 'ruffe', 'hylka', 'canonize', 'travestys', 'sanhedrin', 'annnounced', 'tecniq', 'wisctv', 'concelebrates', 'concelebrated', 'churchpop', 'sogic', 'clipboarding', 'hereinvancouver', 'landel', \"im'ma\", 'bitchm', 'parparparparparparpar', 'winnowing', 'intheam', 'dawnbusters', 'madetx', 'dkeu', 'huppke', 'siou', 'bastersised', 'uproarious', 'nativist', 'deism', 'unambiguously', 'equalprotection', 'vitiated', 'smartset', 'ecognized', 'olshey', 'shirking', 'cygs', 'oponents', 'skrongest', 'serana', 'unseeded', 'willaims', 'celic', 'goolagong', 'enoff', 'webitalian', 'gangsterishness', 'ghostwritten', 'charnley', 'gldo', 'marijune', 'dominatri', 'teleca', 'cinealta', 'dldtelaviv', 'rareware', 'kylo', 'forcebook', 'rowy', 'edgelords', 'fullarton', 'mamamoo', 'moomoos', 'nsider', 'apppearing', 'skaroulis', 'shedden', 'innerkip', 'ctober', 'inteliquent', 'overnighted', 'floriduh', 'tmonews', 'lycamobile', 'techyupd', 'abtch', 'limantur', 'babbled', 'conceet', 'tickwts', 'agaian', 'concerrt', 'toxie', 'winefestival', 'keszthely', 'skeepung', 'cryiiiing', 'sherringham', 'kumatomo', 'ointb', 'ocotber', 'shitverse', 'getyourmindwright', 'stayonyourgrind', 'sparkbox', 'virture', 'sensies', 'pairin', 'atpf', 'grrrrrrrreat', 'tigermania', 'iwatched', 'undercoverjuggalo', '$cientology', 'fabulized', 'sakurazaka', 'northwe', 'tushi', 'kovic', 'critisisms', 'inspirationally', 'campbeltown', 'renationalise', 'cands', 'circumnavigate', 'dunderheads', 'girfuy', 'ignominy', 'replicants', 'feasibly', 'putative', 'mahri', 'rilley', 'panderer', 'abhorrence', 'laring', 'atrack', 'bighting', 'credibly', 'tsiprass', 'ipras', 'quisling', \"'v\", 'emasculation', 'demagogs', 'reschudeled', 'thanou', 'austerian', 'pronounceable', 'resignaton', 'stenmark', 'lafazanis', 'capitulating', 'loverdos', 'gennimata', 'perphaps', 'pendarves', 'grimbergen', 'ilegals', 'usurps', 'indipendant', 'nuttily', 'kaylei', 'pellsy', 'jiyuugaoka', 'knispel', 'phinal', 'phreddy', 'morenike', 'gamepack', \"'d'\", 'aylien', 'kskddkdkkjsjus', 'clavia', 'yktd', 'gotopless', 'blippers', 'bigdon', 'mosleymayorga', 'askjeeves', 'indrajit', 'sidelin', 'ndows', 'gunscape', 'xelite', 'lpay', 'ibarhimovic', \"he''ll\", 'condenders', 'p$g', 'zlachan', 'shawdowed', 'pleeeeeeze', 'greizmann', 'newooffice', 'somesuch', 'isntall', 'nacr', 'diehardfans', 'bitlocker', 'ftatr', 'lescalleet', 'theriault', 'nauss', 'nnouncing', 'jaypart', 'yuckiest', 'islide', 'silvr', 'replacmnt', 'jandals', 'uroboros', 'timesx', 'puchase', 'tablettv', 'unsignable', 'instacart', 'qchf', 'bluetoo', 'nienaber', 'streichelt', 'outmaneuvered', 'eurocrats', 'chabrier', 'accussing', 'youngish', 'seceded', 'gunboat', 'kckstr', 'bendgate', 'appyea', 'domayne', 'guardiantech', 'aales', 'supprting', 'nachukia', 'centreback', 'warchest', \"te'ne\", 'bronnt', 'portsnews', 'creampuffs', 'spartaa', 'goobiefor', 'rcbm', 'ubli', 'batmania', 'peschi', 'fairhead', 'persuaders', 'rowett', 'hardacres', 'habourer', 'mediacityuk', 'lochgoilhead', 'carluke', 'chatterley', 'gerontius', 'witchell', 'bbcnow', 'cbbcis', 'kuenssberg', 'chockablock', 'ajavon', 'lynnhurst', 'kugler', 'anthrop', \"'f\", 'ultimatex', 'jetaun', 'jennison', 'buscher', 'montalto', 'iowapublictelevision', 'antizionist', 'stopthespincycle', 'kesmoov', 'ratiwa', 'thesejulez', 'posioned', 'briekc', 'atics', 'funkstardlx', 'sandyford', 'pucklechurch', 'digitallioness', 'upfull', 'explosition', 'saxilby', 'scruple', 'louisianan', 'parentood', 'skimm', 'amnd', 'nanometrology', 'hosaka', 'gallerist', 'grantwriting', 'wkshp', 'virginradio', 'chinenye', 'oguejiofor', 'zuoma', 'ammers', 'wastefulness', 'berekum', 'roannad', 'uttley', 'seanzi', 'handlebards', 'kensinton', 'mounrinh', 'lhsc', 'bcst', 'brannagan', 'teyona', 'omarian', 'intermarque', 'alsinas', 'santullo', 'dwnloads', 'jthrone', 'sheerhan', 'irishness', 'avecessi', 'fightweets', 'togging', 'hackery', 'hmvfe', 'remorseless', 'renegotiation', 'taghoot', 'srvcs', 'heartlessness', 'absented', 'sentimentalists', 'titmouse', 'sunsation', 'ssecrist', 'creativecollab', \"'no'\", 'chinning', 'bbday', 'nicoletrevino', 'koosta', 'fangayz', 'starli', 'moonbyul', 'machimiya', 'therealpsl', 'muayad', 'republication', 'chessing', 'runningmate', 'cascamorras', 'trumpin', 'shrolong', 'adamczykankara', 'islamo', 'egpytian', 'mukhtars', 'entranc', 'cenbank', 'basci', 'legislat', 'erdoganum', 'towrds', 'luthern', 'theafter', 'glibert', 'djojk', 'tiebreaks', 'laaazzzy', 'berdy', 'bopanna', 'breakpts', 'deliciano', 'dlwp', 'ciarans', 'braaivleis', 'befokte', 'preesed', 'ejectable', 'pymnts', 'offiically', 'fmea', 'decklists', 'hardhome', 'skrein', 'zcms', 'seasns', 'fiddlenp', 'kyhwana', 'announment', 'connotes', 'ecodesign', 'ivsh', 'nightguard', 'bruxism', '$myec', 'decouple', 'uncoupling', 'motovloggers', 'apurv', 'angout', 'capabiliti', 'worldbuilding', 'unintuitive', 'gnomies', 'hellmouth', 'csnba', 'mindbender', 'owsley', 'besic', 'xword', \"'ol\", 'fennario', 'hfu', 'nderpants', 'taiul', 'calgarycmmc', 'cmmc', 'mckernan', 'pappademas', 'akbota', 'sakizuke', 'sickrage', 'tracon', 'maddin', 'wonderfalls', 'duceppe', 'goldschimdt', 'elexn', 'pogey', 'crreated', 'distnce', 'saphic', 'netherby', 'ignatieff', 'pottergenes', 'malazan', 'scworld', 'rithin', 'creevey', 'palfreyman', 'herdman', 'bunnydoodles', 'sketchdaily', 'rehashes', 'dwarfing', 'llary', 'pagliano', 'wtvox', 'highvail', 'vdzjs', 'beadonor', 'twhyb', 'mynextbigproject', 'fedramp', 'blsaud', 'gerstner', 'smartcamp', 'traversive', 'visut', 'skandinavisk', 'karrieremesse', 'enchoice', 'ibmstu', 'omlis', 'alpah', 'noapps', 'netezza', 'inmail', 'harreld', 'necessaries', 'proclamat', 'plhek', 'itoa', 'informix', 'proceedures', 'ayfx', 'silverpop', 'tabulating', 'illserve', 'tresco', 'treliske', 'quickkey', 'yashan', 'speedenews', 'customfoldericons', 'annonced', 'signded', 'healthkit', 'kander', 'codigames', 'arpg', 'lumino', 'cataloguing', 'articlesection', 'classpagepandroid', 'ugmonk', 'munzee', 'maxipad', 'kweent', '$tm', 'postexistence', 'pokeymanz', 'studyrelief', 'transloader', 'relegious', 'actof', 'ievent', 'applewatch', 'unvieling', 'splus', 'gediminas', 'breyana', 'tsirtech', 'isopropanol', 'czarface', 'algeba', 'colberts', 'matronly', 'fairgoers', 'germophobe', 'fioriana', 'craphole', 'presient', 'irandeal', 'hawkie', 'cobbling', 'blessfull', 'gropy', 'mcmorning', 'manawaiopuna', 'humanicators', 'tftbl', 'skoyles', 'nsuba', 'trevorrow', 'tvtop', 'wwcpd', 'lungnsquats', 'devantae', 'daugaardonomics', 'myro', 'beibber', 'clubstore', 'gionarta', 'harnanes', 'seasoncard', 'actiderm', 'omins', 'ballybunion', 'lovekerryk', 'atomicko', 'analasys', 'madelines', 'coldrick', 'oppressively', 'fodmap', 'vaselines', 'documentarously', 'alburm', 'glamorized', 'sackcloth', 'gluma', 'groul', 'orccon', 'kiryas', 'ludaday', 'cornhusker', 'stylesx', 'notbb', 'pfbc', 'vergecast', 'walkenhorst', 'martymcfly', 'suec', 'spinningfields', 'hoverdrift', 'affle', 'suggestacorbynsmear', 'kenbrook', 'huws', 'communale', 'ssanget', 'brucker', 'otautau', 'plunket', 'ermahgaaad', 'daaaarn', 'filmgoers', 'rosebery', 'melson', 'tachyon', 'holidayed', 'jodhi', 'tvkf', \"i'ld\", 'argv', 'mrchip', 'backlift', 'alciato', 'jetsapp', 'schreier']"
     ]
    },
    {
     "name": "stdout",
     "output_type": "stream",
     "text": [
      "\n"
     ]
    }
   ],
   "source": [
    "print(oovs)"
   ]
  },
  {
   "cell_type": "code",
   "execution_count": 474,
   "metadata": {},
   "outputs": [
    {
     "name": "stdout",
     "output_type": "stream",
     "text": [
      "Num Words: 6\n"
     ]
    },
    {
     "data": {
      "text/html": [
       "<div>\n",
       "<style scoped>\n",
       "    .dataframe tbody tr th:only-of-type {\n",
       "        vertical-align: middle;\n",
       "    }\n",
       "\n",
       "    .dataframe tbody tr th {\n",
       "        vertical-align: top;\n",
       "    }\n",
       "\n",
       "    .dataframe thead th {\n",
       "        text-align: right;\n",
       "    }\n",
       "</style>\n",
       "<table border=\"1\" class=\"dataframe\">\n",
       "  <thead>\n",
       "    <tr style=\"text-align: right;\">\n",
       "      <th></th>\n",
       "      <th>class</th>\n",
       "      <th>text</th>\n",
       "    </tr>\n",
       "  </thead>\n",
       "  <tbody>\n",
       "    <tr>\n",
       "      <th>629615241995882496</th>\n",
       "      <td>neutral</td>\n",
       "      <td>big brother starting next friday ? at the end ...</td>\n",
       "    </tr>\n",
       "    <tr>\n",
       "      <th>805469395967299584</th>\n",
       "      <td>neutral</td>\n",
       "      <td>ashley graham debuted another &lt;allcaps&gt; new 'd...</td>\n",
       "    </tr>\n",
       "    <tr>\n",
       "      <th>805591867458981892</th>\n",
       "      <td>negative</td>\n",
       "      <td>the patches ] are being used to kill people wi...</td>\n",
       "    </tr>\n",
       "    <tr>\n",
       "      <th>264185341668364288</th>\n",
       "      <td>negative</td>\n",
       "      <td>&lt;number&gt; ) do not mention the score: 'do we wa...</td>\n",
       "    </tr>\n",
       "    <tr>\n",
       "      <th>187754734453661696</th>\n",
       "      <td>negative</td>\n",
       "      <td>&lt;user&gt; i put 'do not take out or upload a seco...</td>\n",
       "    </tr>\n",
       "  </tbody>\n",
       "</table>\n",
       "</div>"
      ],
      "text/plain": [
       "                       class  \\\n",
       "629615241995882496   neutral   \n",
       "805469395967299584   neutral   \n",
       "805591867458981892  negative   \n",
       "264185341668364288  negative   \n",
       "187754734453661696  negative   \n",
       "\n",
       "                                                                 text  \n",
       "629615241995882496  big brother starting next friday ? at the end ...  \n",
       "805469395967299584  ashley graham debuted another <allcaps> new 'd...  \n",
       "805591867458981892  the patches ] are being used to kill people wi...  \n",
       "264185341668364288  <number> ) do not mention the score: 'do we wa...  \n",
       "187754734453661696  <user> i put 'do not take out or upload a seco...  "
      ]
     },
     "execution_count": 474,
     "metadata": {},
     "output_type": "execute_result"
    }
   ],
   "source": [
    "word = ' \\'do '\n",
    "word_df = oov_df[oov_df['text'].str.contains(word)]\n",
    "print('Num Words: ' + str(len(word_df)))\n",
    "word_df.head()"
   ]
  },
  {
   "cell_type": "code",
   "execution_count": 478,
   "metadata": {},
   "outputs": [
    {
     "data": {
      "text/plain": [
       "\"the jimmy mcgovern doc just highlights everything that was released on wed 'do you think id protect people if i thought they 'd kill me son ? '\""
      ]
     },
     "execution_count": 478,
     "metadata": {},
     "output_type": "execute_result"
    }
   ],
   "source": [
    "word_df.iloc[5]['text']"
   ]
  },
  {
   "cell_type": "markdown",
   "metadata": {},
   "source": [
    "# Features"
   ]
  },
  {
   "cell_type": "code",
   "execution_count": 4,
   "metadata": {},
   "outputs": [],
   "source": [
    "feature_df = sem_eval.copy()"
   ]
  },
  {
   "cell_type": "code",
   "execution_count": 36,
   "metadata": {},
   "outputs": [],
   "source": [
    "def create_polarity_dict():\n",
    "    words = Afinn(emoticons=True)\n",
    "    emoticon_lookup_dict = words._dict\n",
    "    \n",
    "    # Emojis are replaced with annotiations e.g. :) -> <smile> and :D -> <smile> perform the same process on the afinn keys\n",
    "    emoji_keys = [':)', ':(', ':|', ':]', ':[', ':}', ':{', ':/', ':\\\\', ':*', ':-)', ':-(', ':-|', ':-]', ':-[', ':-}', ':-?', ':->', ':-*', ':-D', ':-P', ':-S', ':-p', ':-/', ':D', ':P', ':S', ':p', ':o)', \":'(\", '(:', '):', '(-:', ')-:', ';-(', ';)', ';(', ';-)', ';-D', '=(', '=/', '=\\\\', '=^/', '=P', '\\\\o/', '♥', ':-))', ':-)))', ':-))))', ':-)))))', ':-))))))', ':-)))))))', ':-))))))))', ':-)))))))))', '://', ':))', ':)))', ':))))', ':)))))', ':))))))', ':)))))))', ':))))))))', ':)))))))))', ':))))))))))', ':-((', ':-(((', ':-((((', ':((', ';))', ';)))', '<3', '<33', '<333', '<3333', '<33333', '<333333', '<3333333', '<33333333', '<333333333', '8(', '8)', '8-D', '8-)', '8-(', 'X-D', 'x-D']\n",
    "    emoji_type_lookup = {}\n",
    "\n",
    "    for key in emoji_keys:\n",
    "        val = preprocessor.replace_smileys(key).split()[0].strip()\n",
    "\n",
    "        if val == key:\n",
    "            val = hearts_regex.sub('<heart>', key)\n",
    "\n",
    "        if not val == key:\n",
    "            emoji_type_lookup[key] = val\n",
    "\n",
    "\n",
    "    annotation_counts = Counter(emoji_type_lookup.values())\n",
    "    annotation_polarity = {}\n",
    "\n",
    "    for key in emoji_type_lookup:\n",
    "        annotation = emoji_type_lookup[key]\n",
    "        annotation_polarity[annotation] = annotation_polarity.get(annotation, 0) + words.score(key)\n",
    "\n",
    "    for key in annotation_polarity:\n",
    "        annotation_polarity[key] /= annotation_counts[key]\n",
    "    # Create a fresh afinn scorer\n",
    "    words = Afinn()\n",
    "    # Grab the thing we care about\n",
    "    polarity_dict = words._dict\n",
    "    \n",
    "    # Add our annotation polarity scores to the afinn dict.\n",
    "    for key in annotation_polarity:\n",
    "        polarity_dict[key] = annotation_polarity[key]\n",
    "    \n",
    "    return polarity_dict\n",
    "\n",
    "def safe_div(x, y):\n",
    "    return x / y if y else 0\n",
    "\n",
    "def create_sentiment_features(text, polarity_dict):\n",
    "    score = 0\n",
    "    positive_score = 0\n",
    "    positive_count = 0\n",
    "    negative_score = 0\n",
    "    negative_count = 0\n",
    "    # For computing sentiment ranges.   \n",
    "    positive_max = 0\n",
    "    negative_max = 0\n",
    "       \n",
    "    for word in text.split():\n",
    "        # Remove characters also removed by the tokenizer\n",
    "        word = re.sub('[\"%()*+,-.:;=[\\]^_`{|}~]', '', word)\n",
    "        \n",
    "        if word in polarity_dict:\n",
    "            word_score = polarity_dict[word]\n",
    "            \n",
    "            if word_score > 0:\n",
    "                positive_score += word_score\n",
    "                positive_count += 1\n",
    "                if word_score > positive_max:\n",
    "                    positive_max = word_score\n",
    "                    \n",
    "            elif word_score < 0:\n",
    "                negative_score += word_score\n",
    "                negative_count += 1\n",
    "                if word_score > negative_max:\n",
    "                    negative_max = word_score\n",
    "                \n",
    "            score += word_score\n",
    "            \n",
    "\n",
    "    tweet_average = safe_div((positive_score + negative_score), (positive_count + negative_count))\n",
    "    average_positivity = safe_div(positive_score, positive_count)\n",
    "    average_negativity = safe_div(negative_score, negative_count)\n",
    "    sentiment_range = average_positivity - average_negativity\n",
    "    positive_range = positive_max - tweet_average\n",
    "    negative_range = negative_max - tweet_average\n",
    "    \n",
    "    return tweet_average, average_positivity, average_negativity, sentiment_range, positive_range, negative_range\n",
    "    \n",
    "    "
   ]
  },
  {
   "cell_type": "code",
   "execution_count": 37,
   "metadata": {},
   "outputs": [
    {
     "name": "stderr",
     "output_type": "stream",
     "text": [
      "49568it [02:44, 300.74it/s]\n"
     ]
    }
   ],
   "source": [
    "polarity = create_polarity_dict()\n",
    "\n",
    "def create_features(df, polarity_dict):\n",
    "    rows = []\n",
    "    for index, tweet in tqdm(df.iterrows()):\n",
    "        \n",
    "        tweet['orig_text'] = tweet['text']\n",
    "        tweet['text'] = preprocessor.preprocess(tweet['text'])\n",
    "        \n",
    "        average_sent, average_pos, average_neg, sent_range, pos_range, neg_range = create_sentiment_features(tweet['text'], polarity_dict)\n",
    "        \n",
    "        tweet['average_sentiment'] = average_sent\n",
    "        tweet['average_positivity'] = average_pos\n",
    "        tweet['average_negativity'] = average_neg\n",
    "        tweet['sentiment_range'] = sent_range\n",
    "        tweet['positivity_range'] = pos_range\n",
    "        tweet['negativity_range'] = neg_range\n",
    "        rows.append(tweet)\n",
    "        \n",
    "    return pd.DataFrame(rows)\n",
    "    \n",
    "feature_df = create_features(feature_df, polarity)"
   ]
  },
  {
   "cell_type": "code",
   "execution_count": 38,
   "metadata": {},
   "outputs": [
    {
     "data": {
      "text/html": [
       "<div>\n",
       "<style scoped>\n",
       "    .dataframe tbody tr th:only-of-type {\n",
       "        vertical-align: middle;\n",
       "    }\n",
       "\n",
       "    .dataframe tbody tr th {\n",
       "        vertical-align: top;\n",
       "    }\n",
       "\n",
       "    .dataframe thead th {\n",
       "        text-align: right;\n",
       "    }\n",
       "</style>\n",
       "<table border=\"1\" class=\"dataframe\">\n",
       "  <thead>\n",
       "    <tr style=\"text-align: right;\">\n",
       "      <th></th>\n",
       "      <th>class</th>\n",
       "      <th>text</th>\n",
       "      <th>orig_text</th>\n",
       "      <th>average_sentiment</th>\n",
       "      <th>average_positivity</th>\n",
       "      <th>average_negativity</th>\n",
       "      <th>sentiment_range</th>\n",
       "      <th>positivity_range</th>\n",
       "      <th>negativity_range</th>\n",
       "    </tr>\n",
       "  </thead>\n",
       "  <tbody>\n",
       "    <tr>\n",
       "      <th>620152459676282880</th>\n",
       "      <td>negative</td>\n",
       "      <td>the hidden budget tax rises george osborne did...</td>\n",
       "      <td>The hidden Budget tax rises George Osborne did...</td>\n",
       "      <td>1.00</td>\n",
       "      <td>1.0</td>\n",
       "      <td>0.0</td>\n",
       "      <td>1.0</td>\n",
       "      <td>0.00</td>\n",
       "      <td>-1.00</td>\n",
       "    </tr>\n",
       "    <tr>\n",
       "      <th>620331316597391361</th>\n",
       "      <td>negative</td>\n",
       "      <td>&lt;user&gt; you know go set a watchman is not being...</td>\n",
       "      <td>@BBCNews You know Go Set a Watchman is not bei...</td>\n",
       "      <td>2.00</td>\n",
       "      <td>2.0</td>\n",
       "      <td>0.0</td>\n",
       "      <td>2.0</td>\n",
       "      <td>0.00</td>\n",
       "      <td>-2.00</td>\n",
       "    </tr>\n",
       "    <tr>\n",
       "      <th>620419137018429441</th>\n",
       "      <td>negative</td>\n",
       "      <td>also just now starting miss usa &lt;allcaps&gt; so n...</td>\n",
       "      <td>Also just now starting Miss USA so nobody text...</td>\n",
       "      <td>0.25</td>\n",
       "      <td>3.0</td>\n",
       "      <td>-2.5</td>\n",
       "      <td>5.5</td>\n",
       "      <td>3.75</td>\n",
       "      <td>-0.25</td>\n",
       "    </tr>\n",
       "    <tr>\n",
       "      <th>620548396529618944</th>\n",
       "      <td>negative</td>\n",
       "      <td>talk about post holiday blues &lt;number&gt; seconds...</td>\n",
       "      <td>Talk about post holiday blues.15 seconds of Ge...</td>\n",
       "      <td>3.00</td>\n",
       "      <td>3.0</td>\n",
       "      <td>0.0</td>\n",
       "      <td>3.0</td>\n",
       "      <td>0.00</td>\n",
       "      <td>-3.00</td>\n",
       "    </tr>\n",
       "    <tr>\n",
       "      <th>620646196827140096</th>\n",
       "      <td>negative</td>\n",
       "      <td>so watchman is an earlier draft of mockingbird...</td>\n",
       "      <td>So Watchman is an earlier draft of Mockingbird...</td>\n",
       "      <td>2.50</td>\n",
       "      <td>2.5</td>\n",
       "      <td>0.0</td>\n",
       "      <td>2.5</td>\n",
       "      <td>0.50</td>\n",
       "      <td>-2.50</td>\n",
       "    </tr>\n",
       "  </tbody>\n",
       "</table>\n",
       "</div>"
      ],
      "text/plain": [
       "                       class  \\\n",
       "620152459676282880  negative   \n",
       "620331316597391361  negative   \n",
       "620419137018429441  negative   \n",
       "620548396529618944  negative   \n",
       "620646196827140096  negative   \n",
       "\n",
       "                                                                 text  \\\n",
       "620152459676282880  the hidden budget tax rises george osborne did...   \n",
       "620331316597391361  <user> you know go set a watchman is not being...   \n",
       "620419137018429441  also just now starting miss usa <allcaps> so n...   \n",
       "620548396529618944  talk about post holiday blues <number> seconds...   \n",
       "620646196827140096  so watchman is an earlier draft of mockingbird...   \n",
       "\n",
       "                                                            orig_text  \\\n",
       "620152459676282880  The hidden Budget tax rises George Osborne did...   \n",
       "620331316597391361  @BBCNews You know Go Set a Watchman is not bei...   \n",
       "620419137018429441  Also just now starting Miss USA so nobody text...   \n",
       "620548396529618944  Talk about post holiday blues.15 seconds of Ge...   \n",
       "620646196827140096  So Watchman is an earlier draft of Mockingbird...   \n",
       "\n",
       "                    average_sentiment  average_positivity  average_negativity  \\\n",
       "620152459676282880               1.00                 1.0                 0.0   \n",
       "620331316597391361               2.00                 2.0                 0.0   \n",
       "620419137018429441               0.25                 3.0                -2.5   \n",
       "620548396529618944               3.00                 3.0                 0.0   \n",
       "620646196827140096               2.50                 2.5                 0.0   \n",
       "\n",
       "                    sentiment_range  positivity_range  negativity_range  \n",
       "620152459676282880              1.0              0.00             -1.00  \n",
       "620331316597391361              2.0              0.00             -2.00  \n",
       "620419137018429441              5.5              3.75             -0.25  \n",
       "620548396529618944              3.0              0.00             -3.00  \n",
       "620646196827140096              2.5              0.50             -2.50  "
      ]
     },
     "execution_count": 38,
     "metadata": {},
     "output_type": "execute_result"
    }
   ],
   "source": [
    "sentiment_df = feature_df[feature_df['average_sentiment'] > 0.0]\n",
    "sentiment_df = sentiment_df[sentiment_df['class'] == 'negative']\n",
    "sentiment_df.head()"
   ]
  },
  {
   "cell_type": "code",
   "execution_count": 49,
   "metadata": {},
   "outputs": [
    {
     "data": {
      "text/plain": [
       "1720"
      ]
     },
     "execution_count": 49,
     "metadata": {},
     "output_type": "execute_result"
    }
   ],
   "source": [
    "len(sentiment_df)"
   ]
  },
  {
   "cell_type": "code",
   "execution_count": 94,
   "metadata": {},
   "outputs": [
    {
     "ename": "NameError",
     "evalue": "name 'sentiment_df' is not defined",
     "output_type": "error",
     "traceback": [
      "\u001b[1;31m---------------------------------------------------------------------------\u001b[0m",
      "\u001b[1;31mNameError\u001b[0m                                 Traceback (most recent call last)",
      "\u001b[1;32m<ipython-input-94-35a71f72da61>\u001b[0m in \u001b[0;36m<module>\u001b[1;34m()\u001b[0m\n\u001b[1;32m----> 1\u001b[1;33m \u001b[0mrow\u001b[0m \u001b[1;33m=\u001b[0m \u001b[0mshuffle\u001b[0m\u001b[1;33m(\u001b[0m\u001b[0msentiment_df\u001b[0m\u001b[1;33m)\u001b[0m\u001b[1;33m.\u001b[0m\u001b[0miloc\u001b[0m\u001b[1;33m[\u001b[0m\u001b[1;36m0\u001b[0m\u001b[1;33m]\u001b[0m\u001b[1;33m\u001b[0m\u001b[0m\n\u001b[0m\u001b[0;32m      2\u001b[0m \u001b[0mprint\u001b[0m\u001b[1;33m(\u001b[0m\u001b[1;34m'Original: '\u001b[0m \u001b[1;33m+\u001b[0m \u001b[0mrow\u001b[0m\u001b[1;33m[\u001b[0m\u001b[1;34m'orig_text'\u001b[0m\u001b[1;33m]\u001b[0m\u001b[1;33m)\u001b[0m\u001b[1;33m\u001b[0m\u001b[0m\n\u001b[0;32m      3\u001b[0m \u001b[0mprint\u001b[0m\u001b[1;33m(\u001b[0m\u001b[1;34m'Processed: '\u001b[0m \u001b[1;33m+\u001b[0m \u001b[0mrow\u001b[0m\u001b[1;33m[\u001b[0m\u001b[1;34m'text'\u001b[0m\u001b[1;33m]\u001b[0m\u001b[1;33m)\u001b[0m\u001b[1;33m\u001b[0m\u001b[0m\n",
      "\u001b[1;31mNameError\u001b[0m: name 'sentiment_df' is not defined"
     ]
    }
   ],
   "source": [
    "row = shuffle(sentiment_df).iloc[0]\n",
    "print('Original: ' + row['orig_text'])\n",
    "print('Processed: ' + row['text'])"
   ]
  },
  {
   "cell_type": "code",
   "execution_count": null,
   "metadata": {},
   "outputs": [],
   "source": []
  }
 ],
 "metadata": {
  "kernelspec": {
   "display_name": "Python 3",
   "language": "python",
   "name": "python3"
  },
  "language_info": {
   "codemirror_mode": {
    "name": "ipython",
    "version": 3
   },
   "file_extension": ".py",
   "mimetype": "text/x-python",
   "name": "python",
   "nbconvert_exporter": "python",
   "pygments_lexer": "ipython3",
   "version": "3.6.3"
  }
 },
 "nbformat": 4,
 "nbformat_minor": 1
}
