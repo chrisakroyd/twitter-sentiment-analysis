{
 "cells": [
  {
   "cell_type": "markdown",
   "metadata": {
    "collapsed": true
   },
   "source": [
    "# Data Exploration "
   ]
  },
  {
   "cell_type": "code",
   "execution_count": 44,
   "metadata": {},
   "outputs": [],
   "source": [
    "import pandas as pd\n",
    "import time\n",
    "import os\n",
    "import operator\n",
    "import sys\n",
    "\n",
    "module_path = os.path.abspath(os.path.join('..'))\n",
    "if module_path not in sys.path:\n",
    "    sys.path.append(module_path)\n",
    "\n",
    "import numpy as np\n",
    "import matplotlib.pyplot as plt\n",
    "\n",
    "from afinn import Afinn\n",
    "from src.load_data import get_data_sem_eval, get_data_sent_140\n",
    "from src.load_embeddings import read_embeddings_file\n",
    "\n",
    "from unidecode import unidecode\n",
    "from tqdm import tqdm\n",
    "from keras.preprocessing.text import Tokenizer\n",
    "from sklearn.utils import shuffle\n",
    "from collections import Counter\n",
    "import seaborn as sns"
   ]
  },
  {
   "cell_type": "code",
   "execution_count": 8,
   "metadata": {},
   "outputs": [
    {
     "name": "stdout",
     "output_type": "stream",
     "text": [
      "Reading GLOVE file...\n"
     ]
    },
    {
     "name": "stderr",
     "output_type": "stream",
     "text": [
      "1193514it [01:18, 15110.91it/s]\n"
     ]
    },
    {
     "name": "stdout",
     "output_type": "stream",
     "text": [
      "positive    800000\n",
      "negative    800000\n",
      "Name: class, dtype: int64\n",
      "neutral     22211\n",
      "positive    19625\n",
      "negative     7732\n",
      "Name: class, dtype: int64\n"
     ]
    }
   ],
   "source": [
    "embedding_index = read_embeddings_file('../data/glove.twitter.27B/glove.twitter.27B.200d.txt', 'GLOVE')\n",
    "sent_140 = get_data_sent_140('../data/training.1600000.processed.noemoticon.csv', dataset_size=500000)\n",
    "sem_eval = get_data_sem_eval('../data/full_dataset/')"
   ]
  },
  {
   "cell_type": "code",
   "execution_count": 9,
   "metadata": {},
   "outputs": [
    {
     "data": {
      "text/html": [
       "<div>\n",
       "<style scoped>\n",
       "    .dataframe tbody tr th:only-of-type {\n",
       "        vertical-align: middle;\n",
       "    }\n",
       "\n",
       "    .dataframe tbody tr th {\n",
       "        vertical-align: top;\n",
       "    }\n",
       "\n",
       "    .dataframe thead th {\n",
       "        text-align: right;\n",
       "    }\n",
       "</style>\n",
       "<table border=\"1\" class=\"dataframe\">\n",
       "  <thead>\n",
       "    <tr style=\"text-align: right;\">\n",
       "      <th></th>\n",
       "      <th>class</th>\n",
       "      <th>id</th>\n",
       "      <th>date</th>\n",
       "      <th>query</th>\n",
       "      <th>user</th>\n",
       "      <th>text</th>\n",
       "    </tr>\n",
       "  </thead>\n",
       "  <tbody>\n",
       "    <tr>\n",
       "      <th>1484659</th>\n",
       "      <td>positive</td>\n",
       "      <td>2067720728</td>\n",
       "      <td>Sun Jun 07 12:50:31 PDT 2009</td>\n",
       "      <td>NO_QUERY</td>\n",
       "      <td>PrincessRonald</td>\n",
       "      <td>@alliYu I should have! I want Asian food, make...</td>\n",
       "    </tr>\n",
       "    <tr>\n",
       "      <th>587388</th>\n",
       "      <td>negative</td>\n",
       "      <td>2216298099</td>\n",
       "      <td>Wed Jun 17 19:17:54 PDT 2009</td>\n",
       "      <td>NO_QUERY</td>\n",
       "      <td>Wiens111</td>\n",
       "      <td>@nonsanaementis Just re-read the CNN article p...</td>\n",
       "    </tr>\n",
       "    <tr>\n",
       "      <th>1230452</th>\n",
       "      <td>positive</td>\n",
       "      <td>1991568748</td>\n",
       "      <td>Mon Jun 01 07:16:33 PDT 2009</td>\n",
       "      <td>NO_QUERY</td>\n",
       "      <td>LostInTweets</td>\n",
       "      <td>Taking a break from moving to eat and watch Th...</td>\n",
       "    </tr>\n",
       "    <tr>\n",
       "      <th>3847</th>\n",
       "      <td>negative</td>\n",
       "      <td>1468687248</td>\n",
       "      <td>Tue Apr 07 03:10:10 PDT 2009</td>\n",
       "      <td>NO_QUERY</td>\n",
       "      <td>PixieFlute</td>\n",
       "      <td>@BeththePQ your blog won't let me comment agai...</td>\n",
       "    </tr>\n",
       "    <tr>\n",
       "      <th>1244126</th>\n",
       "      <td>positive</td>\n",
       "      <td>1994725942</td>\n",
       "      <td>Mon Jun 01 12:21:42 PDT 2009</td>\n",
       "      <td>NO_QUERY</td>\n",
       "      <td>LoveCarmen</td>\n",
       "      <td>Omg this apple pie lara bar is the best tastin...</td>\n",
       "    </tr>\n",
       "  </tbody>\n",
       "</table>\n",
       "</div>"
      ],
      "text/plain": [
       "            class          id                          date     query  \\\n",
       "1484659  positive  2067720728  Sun Jun 07 12:50:31 PDT 2009  NO_QUERY   \n",
       "587388   negative  2216298099  Wed Jun 17 19:17:54 PDT 2009  NO_QUERY   \n",
       "1230452  positive  1991568748  Mon Jun 01 07:16:33 PDT 2009  NO_QUERY   \n",
       "3847     negative  1468687248  Tue Apr 07 03:10:10 PDT 2009  NO_QUERY   \n",
       "1244126  positive  1994725942  Mon Jun 01 12:21:42 PDT 2009  NO_QUERY   \n",
       "\n",
       "                   user                                               text  \n",
       "1484659  PrincessRonald  @alliYu I should have! I want Asian food, make...  \n",
       "587388         Wiens111  @nonsanaementis Just re-read the CNN article p...  \n",
       "1230452    LostInTweets  Taking a break from moving to eat and watch Th...  \n",
       "3847         PixieFlute  @BeththePQ your blog won't let me comment agai...  \n",
       "1244126      LoveCarmen  Omg this apple pie lara bar is the best tastin...  "
      ]
     },
     "execution_count": 9,
     "metadata": {},
     "output_type": "execute_result"
    }
   ],
   "source": [
    "sent_140.head()"
   ]
  },
  {
   "cell_type": "code",
   "execution_count": 10,
   "metadata": {},
   "outputs": [
    {
     "data": {
      "text/html": [
       "<div>\n",
       "<style scoped>\n",
       "    .dataframe tbody tr th:only-of-type {\n",
       "        vertical-align: middle;\n",
       "    }\n",
       "\n",
       "    .dataframe tbody tr th {\n",
       "        vertical-align: top;\n",
       "    }\n",
       "\n",
       "    .dataframe thead th {\n",
       "        text-align: right;\n",
       "    }\n",
       "</style>\n",
       "<table border=\"1\" class=\"dataframe\">\n",
       "  <thead>\n",
       "    <tr style=\"text-align: right;\">\n",
       "      <th></th>\n",
       "      <th>class</th>\n",
       "      <th>text</th>\n",
       "    </tr>\n",
       "    <tr>\n",
       "      <th>id</th>\n",
       "      <th></th>\n",
       "      <th></th>\n",
       "    </tr>\n",
       "  </thead>\n",
       "  <tbody>\n",
       "    <tr>\n",
       "      <th>619950566786113536</th>\n",
       "      <td>neutral</td>\n",
       "      <td>Picturehouse's, Pink Floyd's, 'Roger Waters: T...</td>\n",
       "    </tr>\n",
       "    <tr>\n",
       "      <th>619969366986235905</th>\n",
       "      <td>neutral</td>\n",
       "      <td>Order Go Set a Watchman in store or through ou...</td>\n",
       "    </tr>\n",
       "    <tr>\n",
       "      <th>619971047195045888</th>\n",
       "      <td>negative</td>\n",
       "      <td>If these runway renovations at the airport pre...</td>\n",
       "    </tr>\n",
       "    <tr>\n",
       "      <th>619974445185302528</th>\n",
       "      <td>neutral</td>\n",
       "      <td>If you could ask an onstage interview question...</td>\n",
       "    </tr>\n",
       "    <tr>\n",
       "      <th>619987808317407232</th>\n",
       "      <td>positive</td>\n",
       "      <td>A portion of book sales from our Harper Lee/Go...</td>\n",
       "    </tr>\n",
       "  </tbody>\n",
       "</table>\n",
       "</div>"
      ],
      "text/plain": [
       "                       class  \\\n",
       "id                             \n",
       "619950566786113536   neutral   \n",
       "619969366986235905   neutral   \n",
       "619971047195045888  negative   \n",
       "619974445185302528   neutral   \n",
       "619987808317407232  positive   \n",
       "\n",
       "                                                                 text  \n",
       "id                                                                     \n",
       "619950566786113536  Picturehouse's, Pink Floyd's, 'Roger Waters: T...  \n",
       "619969366986235905  Order Go Set a Watchman in store or through ou...  \n",
       "619971047195045888  If these runway renovations at the airport pre...  \n",
       "619974445185302528  If you could ask an onstage interview question...  \n",
       "619987808317407232  A portion of book sales from our Harper Lee/Go...  "
      ]
     },
     "execution_count": 10,
     "metadata": {},
     "output_type": "execute_result"
    }
   ],
   "source": [
    "sem_eval.head()"
   ]
  },
  {
   "cell_type": "markdown",
   "metadata": {},
   "source": [
    "# Text Preprocessor Development"
   ]
  },
  {
   "cell_type": "code",
   "execution_count": 11,
   "metadata": {},
   "outputs": [],
   "source": [
    "from ftfy import fix_text\n",
    "import re\n",
    "\n",
    "FLAGS = re.MULTILINE | re.DOTALL\n",
    "\n",
    "REGEX_LOOKUP = {\n",
    "    \"DATE\": \"(?:(?:(?:(?:(?<!:)\\\\b\\\\'?\\\\d{1,4},? ?)?\\\\b(?:[Jj]an(?:uary)?|[Ff]eb(?:ruary)?|[Mm]ar(?:ch)?|[Aa]pr(?:il)?|May|[Jj]un(?:e)?|[Jj]ul(?:y)?|[Aa]ug(?:ust)?|[Ss]ept?(?:ember)?|[Oo]ct(?:ober)?|[Nn]ov(?:ember)?|[Dd]ec(?:ember)?)\\\\b(?:(?:,? ?\\\\'?)?\\\\d{1,4}(?:st|nd|rd|n?th)?\\\\b(?:[,\\\\/]? ?\\\\'?\\\\d{2,4}[a-zA-Z]*)?(?: ?- ?\\\\d{2,4}[a-zA-Z]*)?(?!:\\\\d{1,4})\\\\b))|(?:(?:(?<!:)\\\\b\\\\'?\\\\d{1,4},? ?)\\\\b(?:[Jj]an(?:uary)?|[Ff]eb(?:ruary)?|[Mm]ar(?:ch)?|[Aa]pr(?:il)?|May|[Jj]un(?:e)?|[Jj]ul(?:y)?|[Aa]ug(?:ust)?|[Ss]ept?(?:ember)?|[Oo]ct(?:ober)?|[Nn]ov(?:ember)?|[Dd]ec(?:ember)?)\\\\b(?:(?:,? ?\\\\'?)?\\\\d{1,4}(?:st|nd|rd|n?th)?\\\\b(?:[,\\\\/]? ?\\\\'?\\\\d{2,4}[a-zA-Z]*)?(?: ?- ?\\\\d{2,4}[a-zA-Z]*)?(?!:\\\\d{1,4})\\\\b)?))|(?:\\\\b(?<!\\\\d\\\\.)(?:(?:(?:[0123]?[0-9][\\\\.\\\\-\\\\/])?[0123]?[0-9][\\\\.\\\\-\\\\/][12][0-9]{3})|(?:[0123]?[0-9][\\\\.\\\\-\\\\/][0123]?[0-9][\\\\.\\\\-\\\\/][12]?[0-9]{2,3}))(?!\\\\.\\\\d)\\\\b))\",\n",
    "    \"EMAIL\": \"(?:^|(?<=[^\\\\w@.)]))(?:[\\\\w+-](?:\\\\.(?!\\\\.))?)*?[\\\\w+-]@(?:\\\\w-?)*?\\\\w+(?:\\\\.(?:[a-z]{2,})){1,3}(?:$|(?=\\\\b))\",\n",
    "    \"EMOJI\": \"[\\uD83C-\\uDBFF\\uDC00-\\uDFFF]+\",\n",
    "    \"IP\": \"\\d{1,3}\\.\\d{1,3}\\.\\d{1,3}\\.\\d{1,3}\",\n",
    "    \"TIME\": \"(?:(?:\\d+)?\\.?\\d+(?:AM|PM|am|pm|a\\.m\\.|p\\.m\\.))|(?:(?:[0-2]?[0-9]|[2][0-3]):(?:[0-5][0-9])(?::(?:[0-5][0-9]))?(?: ?(?:AM|PM|am|pm|a\\.m\\.|p\\.m\\.))?)\",\n",
    "    \"MONEY\": \"(?:[$€£¢]\\d+(?:[\\.,']\\d+)?(?:[MmKkBb](?:n|(?:il(?:lion)?))?)?)|(?:\\d+(?:[\\.,']\\d+)?[$€£¢])\",\n",
    "    \"URL\": \"http[s]?://(?:[a-zA-Z]|[0-9]|[$-_@.&+]|[!*\\(\\),]|(?:%[0-9a-fA-F][0-9a-fA-F]))+\",\n",
    "    \"NUMBERS\": \"[-+]?[.\\d]*[\\d]+[:,.\\d]*\",\n",
    "    \"PERCENT\": \"(\\d+.)*\\d+\\s{0,1}%\",\n",
    "    \"SCORES\" : \"\\d+\\s*-\\s*\\d+\"\n",
    "}\n",
    "\n",
    "\n",
    "# Preprocessing Regex's\n",
    "url_regex = re.compile(REGEX_LOOKUP['URL'])\n",
    "ip_regex = re.compile(REGEX_LOOKUP['IP'])\n",
    "date_regex = re.compile(REGEX_LOOKUP['DATE'])\n",
    "emoji_regex = re.compile(REGEX_LOOKUP['EMOJI'])\n",
    "email_regex = re.compile(REGEX_LOOKUP['EMAIL'])\n",
    "time_regex = re.compile(REGEX_LOOKUP['TIME'])\n",
    "money_regex = re.compile(REGEX_LOOKUP['MONEY'])\n",
    "numbers_regex = re.compile(REGEX_LOOKUP['NUMBERS'])\n",
    "percent_regex = re.compile(REGEX_LOOKUP['PERCENT'])\n",
    "scores_regex = re.compile(REGEX_LOOKUP['SCORES'])\n",
    "\n",
    "control_chars = re.compile('[\\n\\t\\r\\v\\f\\0]')\n",
    "\n",
    "parenthesis_regex = re.compile('([\\[\\]()])')\n",
    "hearts_regex = re.compile(r'(♥)|(<3{1,})')\n",
    "users_regex = re.compile(\"@\\w+\")\n",
    "tokenize_punct = re.compile(r'([.,?!\"]{1})')\n",
    "repeated_punct = re.compile('([!?.]){2,}')\n",
    "elongated_words = re.compile(r\"\\b(\\S*?)(.)\\2{2,}\\b\")\n",
    "word_split = re.compile(r'[/\\-_\\\\]')\n",
    "all_caps_regex = re.compile(r'([A-Z]){2,}')\n",
    "emphasis_regex = re.compile('(\\*)(?:\\w+ ?){1,}(\\*)')\n",
    "hashtag_regex = re.compile(\"#\\S+\")\n",
    "mentions_regex = re.compile('(?<=^|(?<=[^a-zA-Z0-9-_.]))@([A-Za-z_]+[A-Za-z0-9_]+)')\n",
    "\n",
    "# seperates things like the'\n",
    "seperate_apostrophes = re.compile(\"(\\w+)('\\w*)\")\n",
    "# seperates things like 'the\n",
    "seperate_errant_apostrophes = re.compile(\"(')(([A-zA-Z]){3,})\")\n",
    "\n",
    "def allcaps(text):\n",
    "    text = text.group()\n",
    "    return text.lower() + \" <allcaps> \"\n",
    "\n",
    "\n",
    "def hashtag(text):\n",
    "    text = text.group()\n",
    "    hashtag_body = text[1:]\n",
    "    if hashtag_body.isupper():\n",
    "        result = \" <hashtag> {} <allcaps> \".format(hashtag_body)\n",
    "    else:\n",
    "        test_regex = re.compile(r'((?<=[a-z])[A-Z]|[A-Z](?=[a-z]))')\n",
    "        hashtag_body = test_regex.sub(r' \\1', hashtag_body)\n",
    "        result = \" \".join([\" <hashtag>\"] + hashtag_body.split(r\"(?=[A-Z])\") + [\"</hashtag> \"])\n",
    "    return result\n",
    "\n",
    "def emphasis(text):\n",
    "    text = text.group()\n",
    "    emph_body = text[1:-1]\n",
    "    result = \" \".join([\"<emphasis>\"] + emph_body.split(r\"(?=[A-Z])\") + [\"</emphasis>\"])\n",
    "    return result\n",
    "\n",
    "class TextPreProcessor:\n",
    "    def __init__(self, embedding_profile=None):\n",
    "        self.embedding_profile = embedding_profile\n",
    "\n",
    "    def preprocess(self, string):\n",
    "        string = self.clean(string)\n",
    "        return string\n",
    "    \n",
    "    def unpack_contractions(self, text):\n",
    "        \"\"\"\n",
    "        Replace *English* contractions in ``text`` str with their unshortened forms.\n",
    "        N.B. The \"'d\" and \"'s\" forms are ambiguous (had/would, is/has/possessive),\n",
    "        so are left as-is.\n",
    "        ---------\n",
    "        Important Note: The function is taken from textacy (https://github.com/chartbeat-labs/textacy).\n",
    "        \"\"\"\n",
    "        text = re.sub(\n",
    "            r\"(\\b)([Aa]re|[Cc]ould|[Dd]id|[Dd]are||[Dd]oes|[Dd]o|[Hh]ad|[Hh]as|[Hh]ave|[Ii]s|[Mm]ay|[Mm]ight|[Mm]ust|[Ss]hould|[Ww]as|[Ww]ere|[Ww]ould|[Nn]eed)n't\",\n",
    "            r\"\\1\\2 not\", text)\n",
    "        text = re.sub(\n",
    "            r\"(\\b)([Hh]e|[Hh]ow|[Ii]|[Ss]he|[Tt]hat|[Tt]hey|[Ww]e|[Ww]hat|[Ww]ho|[Yy]ou)'ll\",\n",
    "            r\"\\1\\2 will\", text)\n",
    "        text = re.sub(r\"(\\b)([Tt]hat|[Tt]hey|[Hh]ow|[Ww]e|[Ww]hat|[Ww]ho|[Yy]ou)'re\", r\"\\1\\2 are\",\n",
    "                      text)\n",
    "        text = re.sub(\n",
    "            r\"(\\b)([Ii]|[Cc]ould|[Ss]hould|[Tt]hey|[Ww]e|[Ww]hat|[Ww]ho|[Ww]ould|[Yy]ou|[Mm]ight|[Mm]ust|[Mm]ay)'ve\",\n",
    "            r\"\\1\\2 have\", text)\n",
    "        # non-standard\n",
    "        text = re.sub(r\"(\\b)([Cc]a)n't\", r\"\\1\\2n not\", text)\n",
    "        text = re.sub(r\"(\\b)([Ii])'m\", r\"\\1\\2 am\", text)\n",
    "        text = re.sub(r\"(\\b)([Ll]et)'s\", r\"\\1\\2 us\", text)\n",
    "        text = re.sub(r\"(\\b)([Ww])on't\", r\"\\1\\2ill not\", text)\n",
    "        text = re.sub(r\"(\\b)([Ss])han't\", r\"\\1\\2hall not\", text)\n",
    "        text = re.sub(r\"(\\b)([Yy])(?:'all|a'll)\", r\"\\1\\2ou all\", text)\n",
    "        text = re.sub(r\"(\\b)([Cc])'[Mm]on\", r\"\\1\\2ome on\", text)\n",
    "        text = re.sub(r\"(\\b)([Ww])/\", \"with\", text)\n",
    "        text = re.sub(r\"(\\b)([Ww])/([Oo])\", \"without\", text)\n",
    "        text = re.sub(r\"(\\b)([Hh])rs\", \"hours\", text)\n",
    "        text = re.sub(r\"(\\b)([Mm])ins\", \"minutes\", text)\n",
    "        text = re.sub(r\"(\\b)([Pp])ls\", \"please\", text)\n",
    "        \n",
    "        # Add a space around 's, 'd due to enable word vectors to be used.         \n",
    "        text = re.sub(r\"(\\w+)'s\", r\" \\1 's\", text)\n",
    "        text = re.sub(r\"(\\w+)'d\", r\" \\1 'd\", text)\n",
    "        \n",
    "        return text\n",
    "    \n",
    "    def unpack_placements(self, text):\n",
    "        text = re.sub(r'1[sS][tT]', 'first', text)\n",
    "        text = re.sub(r'2[nN][dD]', 'second', text)\n",
    "        text = re.sub(r'3[rR][dD]', 'third', text)\n",
    "        text = re.sub(r'4[tT][hH]', 'fourth', text)\n",
    "        text = re.sub(r'5[tT][hH]', 'fifth', text)\n",
    "        text = re.sub(r'6[tT][hH]', 'sixth', text)\n",
    "        text = re.sub(r'7[tT][hH]', 'seventh', text)\n",
    "        text = re.sub(r'8[tT][hH]', 'eigth', text)\n",
    "        text = re.sub(r'9[tT][hH]', 'ninth', text)\n",
    "        text = re.sub(r'10[tT][hH]', 'tenth', text)\n",
    "        \n",
    "        return text\n",
    "    \n",
    "    def replace_smileys(self, text):\n",
    "        def re_sub(pattern, repl):\n",
    "            return re.sub(pattern, repl, text, flags=FLAGS)\n",
    "        loleyes = r\"[8:=;]\"\n",
    "        eyes = r\"[8:=;Xx]\"\n",
    "        nose = r\"['`^\\-0Oo]?\"\n",
    "        \n",
    "        text = re_sub(r\"\\B{}{}[)dD>]+|\\b[<(dD]+{}{}\".format(eyes, nose, nose, eyes), ' <smile> ')\n",
    "        text = re_sub(r\"\\B{}{}[pPbB]+\".format(loleyes, nose), ' <lolface> ')\n",
    "        text = re_sub(r\"\\B{}{}[(?]+|\\)+{}{}\".format(eyes, nose, nose, eyes), ' <sadface> ')\n",
    "        text = re_sub(r\"\\B{}{}[\\/\\\\|l]\".format(eyes, nose), ' <neutralface> ')\n",
    "        text = re_sub(r\"\\B{}{}[*]\".format(eyes, nose), ' <kisses> ')\n",
    "        \n",
    "        # Replace kisses e.g. xx, xoxoxo\n",
    "        text = re.sub(r'(\\b([Xx][Oo]){1,}\\b)|(\\b[Xx]{2,}\\b)|(\\b[Xx]$)', ' <kisses> ', text)\n",
    "\n",
    "        return text\n",
    "\n",
    "    def clean(self, text):\n",
    "        # Fix unicode characters         \n",
    "        text = fix_text(text)\n",
    "        text = unidecode(text)\n",
    "        \n",
    "        # Replace newline and other control characters\n",
    "        text = control_chars.sub(' ', text)\n",
    "        # Replace ips\n",
    "        text = ip_regex.sub(' <ip> ', text)\n",
    "        # Replace URLs\n",
    "        text = url_regex.sub(' <url> ', text)\n",
    "        # Replace Emails\n",
    "        text = email_regex.sub(' <email> ', text)\n",
    "        # Replace User Names\n",
    "        text = users_regex.sub(' <user> ', text)\n",
    "        # Replace Dates/Time\n",
    "        text = date_regex.sub(' <date> ', text)\n",
    "        text = time_regex.sub(' <time> ', text)\n",
    "        # Replace abstract number values with an annotation\n",
    "        text = money_regex.sub(' <currency> ', text)\n",
    "        text = percent_regex.sub(' <percent> ', text)\n",
    "        # Replaces simple sport scores etc.\n",
    "        text=  scores_regex.sub(' <score> ', text)\n",
    "        \n",
    "        # Unpack can't -> can not, c'mon -> come on\n",
    "        text = self.unpack_contractions(text)\n",
    "        # 1st, 2nd, 3rd  -> First, Second, Third. Performed post-date annotation so we don't remove any useful details\n",
    "        text = self.unpack_placements(text)\n",
    "        # Replace various different smileys with a common annotation.\n",
    "        text = self.replace_smileys(text)\n",
    "        \n",
    "        # Split words \n",
    "        text = word_split.sub(' ', text)\n",
    "        \n",
    "        # Add in wraparound annotations which surround text\n",
    "        # Introduce a space before hash symbols to prevent issues where hastags are next to each other\n",
    "        # e.g. #test#chicken\n",
    "        text = re.sub(r'#', ' #', text)\n",
    "        text = hashtag_regex.sub(hashtag, text)\n",
    "#         text = emphasis_regex.sub(emphasis, text)\n",
    "        \n",
    "        \n",
    "        # Replace <3 (less than three) with the more meaningful <heart> annotation         \n",
    "        text = hearts_regex.sub(' <heart> ', text)\n",
    "        # Replace Numbers\n",
    "        text = numbers_regex.sub(' <number> ', text)\n",
    "        # Add spaces around parenthesis.\n",
    "        text = parenthesis_regex.sub(r' \\1 ', text)\n",
    "        # Remove multi spaces - Prevents errant <repeat> signals appearing in text\n",
    "        text = re.sub('\\s+', ' ', text)\n",
    "        # Add in repeat annotation         \n",
    "        text = repeated_punct.sub(r' \\1 <repeat> ', text)\n",
    "        \n",
    "        text = tokenize_punct.sub(r' \\1 ', text)\n",
    "        # Add in annotations for all-caps and elongated words  \n",
    "        text = all_caps_regex.sub(allcaps, text)\n",
    "        text = elongated_words.sub(r\"\\1\\2 <elong> \", text)\n",
    "        \n",
    "        # Expand out common text symbols         \n",
    "        text = text.replace('&', ' and ')\n",
    "        text = text.replace('@', ' at ')\n",
    "        text = seperate_apostrophes.sub(r' \\1 \\2 ', text)\n",
    "        text = seperate_errant_apostrophes.sub(r' \\1 \\2 ', text)\n",
    "        # Remove a load of unicode emoji characters\n",
    "        text = emoji_regex.sub('', text)\n",
    "\n",
    "        # Remove multi spaces\n",
    "        text = re.sub('\\s+', ' ', text)\n",
    "        # Remove ending space if any\n",
    "        if len(text) > 1:\n",
    "            text = re.sub('\\s+$', '', text)\n",
    "\n",
    "        # If this string is a single space replace with an <empty> tag.\n",
    "        if text == ' ':\n",
    "            text = '<EMPTY>'\n",
    "\n",
    "        return text.strip().lower()\n",
    "    \n",
    "def tokenize(text):\n",
    "        # Different regex parts for smiley faces\n",
    "        eyes = r\"[8:=;]\"\n",
    "        nose = r\"['`\\-^]?\"\n",
    "\n",
    "        # function so code less repetitive\n",
    "        def re_sub(pattern, repl):\n",
    "            return re.sub(pattern, repl, text, flags=FLAGS)\n",
    "\n",
    "        text = re_sub(r\"https?:\\/\\/\\S+\\b|www\\.(\\w+\\.)+\\S*\", \"<url>\")\n",
    "        text = re_sub(r\"{}{}[)dD]+|[)dD]+{}{}\".format(eyes, nose, nose, eyes), \"<smile>\")\n",
    "        text = re_sub(r\"{}{}p+\".format(eyes, nose), \"<lolface>\")\n",
    "        text = re_sub(r\"{}{}\\(+|\\)+{}{}\".format(eyes, nose, nose, eyes), \"<sadface>\")\n",
    "        text = re_sub(r\"{}{}[\\/\\\\|l*]\".format(eyes, nose), \"<neutralface>\")\n",
    "        text = re_sub(r\"/\", \" / \")\n",
    "        text = re_sub(r\"@\\w+\", \"<user>\")\n",
    "        text = re_sub(r\"<3\", \"<heart>\")\n",
    "        text = re_sub(r\"[-+]?[.\\d]*[\\d]+[:,.\\d]*\", \"<number>\")\n",
    "        text = re_sub(r\"#\\S+\", hashtag)\n",
    "        text = re_sub(r\"([!?.]){2,}\", r\"\\1 <repeat>\")\n",
    "        text = re_sub(r\"\\b(\\S*?)(.)\\2{2,}\\b\", r\"\\1\\2 <elong>\")\n",
    "\n",
    "        text = mentions_regex.sub('<mention>', text)\n",
    "        text = re_sub(r\"([A-Z]){2,}\", allcaps)\n",
    "\n",
    "        return text.lower()"
   ]
  },
  {
   "cell_type": "code",
   "execution_count": 12,
   "metadata": {},
   "outputs": [],
   "source": [
    "preprocessor = TextPreProcessor()"
   ]
  },
  {
   "cell_type": "code",
   "execution_count": 33,
   "metadata": {},
   "outputs": [
    {
     "name": "stdout",
     "output_type": "stream",
     "text": [
      "Original: Everyone come the the volleyball game at East tomorrow before the football game! #playoffs2012\n",
      "\n",
      "Processed Old: everyone come the the volleyball game at east tomorrow before the football game!  <hashtag> playoffs<number> </hashtag> \n",
      "\n",
      "Processed New: everyone come the the volleyball game at east tomorrow before the football game ! <hashtag> playoffs <number> </hashtag>\n",
      "\n"
     ]
    }
   ],
   "source": [
    "text_sample = sem_eval.sample(n=1).iloc[0]['text']\n",
    "\n",
    "print('Original: ' + text_sample +'\\n')\n",
    "print('Processed Old: ' + tokenize(text_sample) +'\\n')\n",
    "print('Processed New: ' + preprocessor.preprocess(text_sample) +'\\n')"
   ]
  },
  {
   "cell_type": "markdown",
   "metadata": {},
   "source": [
    "# Sequence Length Estimation"
   ]
  },
  {
   "cell_type": "code",
   "execution_count": 63,
   "metadata": {},
   "outputs": [],
   "source": [
    "def process(df):\n",
    "    df_copy = df.copy()\n",
    "\n",
    "    for index, tweet in tqdm(df_copy.iterrows()):\n",
    "        try:\n",
    "            start_time = time.time()\n",
    "            tweet['text'] = preprocessor.preprocess(tweet['text'])\n",
    "            if (time.time() - start_time) > 5.0:\n",
    "                print(tweet['id'])\n",
    "\n",
    "        except:\n",
    "            pass\n",
    "    return df_copy"
   ]
  },
  {
   "cell_type": "code",
   "execution_count": 470,
   "metadata": {},
   "outputs": [
    {
     "name": "stderr",
     "output_type": "stream",
     "text": [
      "49568it [00:29, 1686.12it/s]\n"
     ]
    },
    {
     "data": {
      "text/html": [
       "<div>\n",
       "<style scoped>\n",
       "    .dataframe tbody tr th:only-of-type {\n",
       "        vertical-align: middle;\n",
       "    }\n",
       "\n",
       "    .dataframe tbody tr th {\n",
       "        vertical-align: top;\n",
       "    }\n",
       "\n",
       "    .dataframe thead th {\n",
       "        text-align: right;\n",
       "    }\n",
       "</style>\n",
       "<table border=\"1\" class=\"dataframe\">\n",
       "  <thead>\n",
       "    <tr style=\"text-align: right;\">\n",
       "      <th></th>\n",
       "      <th>class</th>\n",
       "      <th>text</th>\n",
       "      <th>text_len</th>\n",
       "    </tr>\n",
       "    <tr>\n",
       "      <th>id</th>\n",
       "      <th></th>\n",
       "      <th></th>\n",
       "      <th></th>\n",
       "    </tr>\n",
       "  </thead>\n",
       "  <tbody>\n",
       "    <tr>\n",
       "      <th>619950566786113536</th>\n",
       "      <td>neutral</td>\n",
       "      <td>Picturehouse's, Pink Floyd's, 'Roger Waters: T...</td>\n",
       "      <td>29</td>\n",
       "    </tr>\n",
       "    <tr>\n",
       "      <th>619969366986235905</th>\n",
       "      <td>neutral</td>\n",
       "      <td>Order Go Set a Watchman in store or through ou...</td>\n",
       "      <td>25</td>\n",
       "    </tr>\n",
       "    <tr>\n",
       "      <th>619971047195045888</th>\n",
       "      <td>negative</td>\n",
       "      <td>If these runway renovations at the airport pre...</td>\n",
       "      <td>24</td>\n",
       "    </tr>\n",
       "    <tr>\n",
       "      <th>619974445185302528</th>\n",
       "      <td>neutral</td>\n",
       "      <td>If you could ask an onstage interview question...</td>\n",
       "      <td>19</td>\n",
       "    </tr>\n",
       "    <tr>\n",
       "      <th>619987808317407232</th>\n",
       "      <td>positive</td>\n",
       "      <td>A portion of book sales from our Harper Lee/Go...</td>\n",
       "      <td>30</td>\n",
       "    </tr>\n",
       "  </tbody>\n",
       "</table>\n",
       "</div>"
      ],
      "text/plain": [
       "                       class  \\\n",
       "id                             \n",
       "619950566786113536   neutral   \n",
       "619969366986235905   neutral   \n",
       "619971047195045888  negative   \n",
       "619974445185302528   neutral   \n",
       "619987808317407232  positive   \n",
       "\n",
       "                                                                 text  \\\n",
       "id                                                                      \n",
       "619950566786113536  Picturehouse's, Pink Floyd's, 'Roger Waters: T...   \n",
       "619969366986235905  Order Go Set a Watchman in store or through ou...   \n",
       "619971047195045888  If these runway renovations at the airport pre...   \n",
       "619974445185302528  If you could ask an onstage interview question...   \n",
       "619987808317407232  A portion of book sales from our Harper Lee/Go...   \n",
       "\n",
       "                    text_len  \n",
       "id                            \n",
       "619950566786113536        29  \n",
       "619969366986235905        25  \n",
       "619971047195045888        24  \n",
       "619974445185302528        19  \n",
       "619987808317407232        30  "
      ]
     },
     "execution_count": 470,
     "metadata": {},
     "output_type": "execute_result"
    }
   ],
   "source": [
    "sem_eval['text_len'] = process(sem_eval)['text'].apply(lambda x: len(x.split()))\n",
    "sem_eval.head()"
   ]
  },
  {
   "cell_type": "code",
   "execution_count": null,
   "metadata": {},
   "outputs": [],
   "source": [
    "sent_140['text_len'] = process(sent_140)['text'].apply(lambda x: len(x.split()))\n",
    "sent_140.head()"
   ]
  },
  {
   "cell_type": "code",
   "execution_count": null,
   "metadata": {},
   "outputs": [],
   "source": [
    "sem_eval['text_len'].value_counts()"
   ]
  },
  {
   "cell_type": "code",
   "execution_count": null,
   "metadata": {},
   "outputs": [],
   "source": [
    "sent_140['text_len'].value_counts()"
   ]
  },
  {
   "cell_type": "markdown",
   "metadata": {},
   "source": [
    "# OOV's"
   ]
  },
  {
   "cell_type": "code",
   "execution_count": 64,
   "metadata": {},
   "outputs": [
    {
     "name": "stderr",
     "output_type": "stream",
     "text": [
      "49568it [00:27, 1801.82it/s]\n"
     ]
    }
   ],
   "source": [
    "MAX_FEATS = 200000\n",
    "\n",
    "oov_df = process(sem_eval)\n",
    "\n",
    "tokenizer = Tokenizer(num_words=MAX_FEATS, filters='\"%()*+,-.:;=[\\]^_`{|}~')\n",
    "tokenizer.fit_on_texts(oov_df['text'])"
   ]
  },
  {
   "cell_type": "code",
   "execution_count": 65,
   "metadata": {},
   "outputs": [],
   "source": [
    "def calc_stats(df, embeddings_index):\n",
    "    stats = {}\n",
    "    oovs = {}\n",
    "    \n",
    "    filter_set = {'%', '(', ')', '*', '+',',', '-', '.', ':', ';', '=', '[', '\\\\',']','^','_','`','{','|','}','~','\"'}\n",
    "    \n",
    "    for index, tweet in tqdm(df.iterrows()):\n",
    "        splitted = tweet['text'].split()\n",
    "        for word in splitted:\n",
    "            word = re.sub('[\"%()*+,-.:;=[\\]^_`{|}~]', '', word)\n",
    "            \n",
    "#             if word not in :\n",
    "            stats[word] = stats.get(word, 0) + 1 \n",
    "            embedding_vector = embeddings_index.get(word)\n",
    "            if embedding_vector is None:\n",
    "                oovs[word] = oovs.get(word, 0) + 1\n",
    "                \n",
    "    return stats, oovs\n",
    "\n",
    "def get_oovs(embeddings_index, word_index):\n",
    "    oovs = []\n",
    "    \n",
    "    stats = {}\n",
    "    \n",
    "    for word, i in tqdm(word_index.items()):\n",
    "        embedding_vector = embeddings_index.get(word)\n",
    "        if embedding_vector is not None:\n",
    "            # words not found in embedding index will be all-zeros.\n",
    "            continue\n",
    "        else:\n",
    "            stats[word] = stats.get(word, 0) + 1\n",
    "            oovs.append(word)\n",
    "    return oovs"
   ]
  },
  {
   "cell_type": "code",
   "execution_count": 66,
   "metadata": {},
   "outputs": [
    {
     "name": "stderr",
     "output_type": "stream",
     "text": [
      "100%|████████████████████████████████████████████████████████████████████████| 40692/40692 [00:00<00:00, 924539.52it/s]\n"
     ]
    }
   ],
   "source": [
    "oovs = get_oovs(embedding_index, tokenizer.word_index)"
   ]
  },
  {
   "cell_type": "code",
   "execution_count": 356,
   "metadata": {
    "scrolled": true
   },
   "outputs": [
    {
     "name": "stderr",
     "output_type": "stream",
     "text": [
      "49568it [00:05, 9852.65it/s] \n"
     ]
    }
   ],
   "source": [
    "stats, oov_stats = calc_stats(oov_df, embedding_index)"
   ]
  },
  {
   "cell_type": "code",
   "execution_count": 357,
   "metadata": {},
   "outputs": [
    {
     "name": "stdout",
     "output_type": "stream",
     "text": [
      "Number of words: 40770\n",
      "OOVs: 5971\n"
     ]
    }
   ],
   "source": [
    "print('Number of words: {}'.format(len(tokenizer.word_index)))\n",
    "print('OOVs: {}'.format(len(oovs)))"
   ]
  },
  {
   "cell_type": "code",
   "execution_count": 86,
   "metadata": {},
   "outputs": [
    {
     "data": {
      "text/plain": [
       "\"it's\""
      ]
     },
     "execution_count": 86,
     "metadata": {},
     "output_type": "execute_result"
    }
   ],
   "source": [
    "re.sub(r\"(')(([A-zA-Z]){3,})\", r' \\1 \\2 ', \"it's\")"
   ]
  },
  {
   "cell_type": "code",
   "execution_count": 443,
   "metadata": {},
   "outputs": [
    {
     "data": {
      "image/png": "[encoded data removed]",
      "text/plain": [
       "<Figure size 1440x1584 with 1 Axes>"
      ]
     },
     "metadata": {},
     "output_type": "display_data"
    }
   ],
   "source": [
    "graph_dict = oov_stats\n",
    "\n",
    "top_oovs = dict(sorted(graph_dict.items(), key=operator.itemgetter(1), reverse=True)[1:5])\n",
    "plt.figure(figsize=(20,22))\n",
    "plt.bar(range(len(top_oovs)), top_oovs.values(), align='center')\n",
    "plt.xticks(range(len(top_oovs)), top_oovs.keys())\n",
    "\n",
    "plt.show()"
   ]
  },
  {
   "cell_type": "code",
   "execution_count": 444,
   "metadata": {},
   "outputs": [
    {
     "name": "stdout",
     "output_type": "stream",
     "text": [
      "['<kisses>', \"'t\", 'calibraska', \"'i\", 'boruto', 'swachh', 'nekromantix', 'kozol', 'fairplex', 'sollee', 'pavol', 'demitra', 'lechlade', 'asiata', 'circoloco', 'vernau', 'haltwhistle', 'knollwood', 'runrig', 'summersville', '$$$', 'yushin', 'seavey', 'a$ap', 'deflategate', 'byrdak', 'khader', 'petrolia', 'bellusci', 'cashee', 'northglenn', 'deniesse', 'gampel', 'henryville', 'bhilwara', '>>>', 'degrom', 'bloodborne', 'seaholm', 'brentley', 'cofield', 'alsip', 'arsht', 'liacouras', 'footymad', 'runako', 'timmonsville', \"'l\", 'lvms', 'volstead', 'mcquarrie', 'lavalantula', '$$', 'wead', 'lllink', 'badotweet', \"'a\", \"'if\", 'trayce', 'refugeecrisis', 'pricewise', 'ghoncheh', 'ghavami', 'bifurcated', 'biform', 'titlefor', '>>>>', 'fifthird', 'topdawgent', 'gsaw', 'ylianna', 'bajrangi', 'schwarber', \"'do\", 'grichuk', 'distich', 'connotative', 'jivatma', 'monthswithoutzayn', \"'we\", 'intuc', 'aacta', 'tpab', '<<<', 'kimoji', 'cnis', 'ipoop', 'a$$', 'jerricho', \"'or\", 'burdwan', 'amiibo', 'varoufakis', \"'e\", 'calibraksa', 'gurdaspur', 'foreconscious', 'dichotomous', 'inexpressibles', 'bipartite', 'faslane', 'ikeme', \"'ed\", \"'in\", 'citiez', 'thorthe', 'chittering', 'overpaints', 'mcgi', 'econokit', 'bizikent', 'ijunk', 'nexes', \"'on\", 'flexthursday', 'landco', 'hurrraaaaah', 'evalesco', 'brexit', 'dandiya', 'aldub', '$syt', 'etnz', 'reelzchannel', 'bbcgolf', 'fitar', 'voty', 'wallofcow', \"'oh\", '>>>>>>', 'chibok', 'femnath', 'jumu', \"'ah\", 'baserunner', 'fleek', 'giffor', \"'no\", 'lingmerth', 'yazidis', 'popptartvision', 'eduok', 'ogorchukwu', \"'up\", 'kxxv', 'dyadic', 'wilhelmsen', 'mtvvm', 'strowman', 'orsillo', 'eigthird', 'dudleys', \"'o\", 'onemk', 'bertolacci', 'rowyso', 'obergefell', 'arjhay', 'talkatora', \"'r\", 'tihty', 'houthis', 'daerimdong', 'sharmeen', 'chunjiday', 'iditaro', 'louderthan', 'sekera', 'wdbj', 'smwldn', 'skrastins', 'salei', 'londonriots', 'refaat', 'fleebaggers', 'tumulty', 'perryton', 'arolladora', 'phxcc', 'gamlingay', 'chagrined', 'terkura', 'iorpuu', 'madbum', 'kumawat', '$mon', 'skimm', 'annulments', 'migrantcrisis', 'refugeeswelcome', 'applewatch', 'mainframes', 'rumourz', 'bluemix', 'trumka', 'nsuba', 'gsow', 'monguno', 'keuchel', \"'go\", 'nationalicecreamday', 'mckellan', 'icecreamday', 'speith', 'niebrugge', \"'it\", 'hdog', 'swimfin', 'osinbajo', 'aprillives', 'ftii', 'takbeers', 'tropeano', 'kliq', 'mnjtf', 'kurian', 'radicalised', 'podgodz', 'yellowjacket', 'ibnl', 'hoors', 'yakubs', 'taroor', 'nirvananews', 'dizzyness', 'maternityleave', 'lukmon', 'chilcot', 'meetthepress', 'quarrymen', 'npfl', 'letsgobluejays', 'cfmf', 'kluber', 'acaucus', 'oneplus', 'wwetickets', \"'mr\", 'gcpr', 'khalistan', 'nieuwenhuis', \"'at\", 'bogeyed', 'maulers', 'brownbag', 'hozier', 'zquad', 'yezidis', 'evince', 'accruement', 'coconscious', 'unfearfulness', 'cuddyer', 'brockvs', 'stieb', 'rusney', 'submition', 'superslam', 'davro', 'chalupny', 'duadic', 'cbbbots', 'enlivene', 'jizya', 'incesticide', 'housebreak', 'nephesh', 'bbtm', \"'to\", 'heroofgaming', \"'an\", 'pinkprint', 'pomposity', 'kanyewestforpresident', 'burgoyne', 'confidentness', 'mgla', 'chunin', 'ssnhq', 'sixthird', 'musictimes>', \"'eh\", 'mazafaka', 'signalizing', 'oakman', 'kreygasm', 'staver', 'pachyderm', 'wellfleet', 'kimdavis', \"'u\", 'barsculpt', 'tonette', 'admendment', 'syndergaard', 'mitam', 'babygate', 'asatru', \"'am\", 'backops', 'whywisd', 'ghori', 'lucatiel', 'survation', 'brouis', 'ballymurphy', 'blighttown', 'gwith', 'timesofindia', 'aact', '<curtis>', 'spiteri', 'larries', 'barpeta', 'disneyfineart', 'baadshaho', 'dedivanovic', 'womeninpolitics', 'semites', 'kimojis', 'sharkdiving', 'hezbullah', 'cnnm', 'seventhings', 'pourier', 'naiambb', 'wnbc', \"'ma\", 'ersparadise', 'sumbodies', \"'aw\", 'kxlu', 'zhuo', 'wilhelmsson', 'asematy', 'oommen', 'kwvr', 'theidoctor', 'muddafuggaz', 'minutesk', 'wstp', 'there>w', 'callington', 'freakend', 'grandriver', 'actvotes', 'lsca', 'snottsdale', 'gelndale', 'giiiiirls', 'macdailynews', 'cgvb', 'defendourcoast', '><', 'balsiger', 'fyxnews', 'kemoner', 'kenston', 'wyde', 'nirmalkar', 'pssas', 'tgun', 'tiarafact', 'radtke', \"'my\", 'withb', 'swagcorner', 'zanzeer', 'cityswag', 'royallieu', 'loanwatch', 'liberalised', '<<<<<<', \"'nt\", 'iranplast', 'siuenation', 'armatrading', 'youjustruinedmylife', '$msft', 'centretown', 'jaswant', 'moripe', 'foxct', 'gedman', 'runday', \"'f\", 'morvite', 'fantazia', 'stuverud', 'rtesoccer', 'pottsgrove', 'cassill', 'weatherbomb', 'amfm', 'mashasha', 'roaste', 'teamjorchel', 'characterizes', 'yndash', 'rachunek', 'michaeling', 'ltothe', 'bogosian', 'fgye', 'duratma', 'bttn', 'bsbp', 'ewser', 'withher', 'skanx', 'afleaglestigers', 'arkestra', 'leaside', 'muldaur', 'bennyt', 'panaji', 'oranjestad', 'jubeir', 'inmarsat', 'pivopivo', 'songwoo', 'waslike', 'emwl', 'kicx', 'brisfest', 'debonna', 'srla', 'wcoc', 'tfaw', 'cougarplex', 'ransacks', 'skash', 'abhiyaan', 'icecarats', 'weekendishere', 'simulia', 'perlak', '$aapl', 'pdtb', 'lockstep', 'soetero', 'travi$', 'odessey', 'annulling', 'dreamwave', 'snoopadelic', 'stingon', 'cityman', 'masotti', 'inals', 'enophobic', 'lateshow', 'hawkmoon', 'msapc', 'watchos', 'poppik', 'funkstar', 'saxilby', 'slaybells', 'fannibal', 'linuxone', 'exertis', 'perficient', 'shortstack', 'usedtobe', 'kampuchea', 'gerontocracy', 'tradinglaw', 'makeworkpay', 'cellent', 'djamena', 'hemba', 'itsmissusa', 'cantyouworkoutmore', '<feeling', 'noprogress', 'explodeand', 'harison', 'lifecome', 'harrowingly', 'codgers', 'laundrie', 'brigding', 'aderemi', 'opadokun', 'ambrosefor', 'wwechampion', 'gypped', 'bemorethanpretty', 'superc', 'eternaljam', \"'ad\", 'therera', 'brasted', 'capeflyer', 'preoredering', 'seprember', 'exhilirating', 'risiiiiing', 'lacis', 'welovebensons', 'gamgara', 'philad', 'zinged', 'cryinfhedjs', 'btowneats', 'redoubles', 'sorbets', 'abco', 'icecreammonth', 'withvincent', 'graeters', 'dallying', 'bloggerperks', 'igotitfree', 'kculture', 'wondertwins', 'solstace', 'muthas', 'statesborough', 'therealhungergames', 'andalso', 'stillnotoverit', 'swilcan', 'ouimet', 'doingirelandproud', 'bothwick', 'letsseeyougetincontention', 'easeup', 'controlthecontrollables', 'jonshon', 'oosthuisen', 'spwar', 'therealbeckman', 'longlunch', 'amazingamateur', 'rineanna', 'helookslikemaryrobinson', 'rockonrockall', 'solveabet', 'barbasol', 'flubbed', 'freedogs', 'torontobluejays', 'chuene', 'asslamau', 'sawine', 'kamati', 'bhooka', 'khuf', 'kosongkosong', 'zeeyasmi', 'alamr', 'schniederjans', 'owsum', 'chutiyaan', 'karachiates', 'liaqatabad', 'mohajirs', 'schneiderjens', 'finalround', 'oosthuzien', 'malaralondon', 'hamayoon', 'amanzai', 'mubii', 'injerd', 'sulaimania', 'bojack', 'awaran', 'umcp', 'gapc', 'subverted', 'preeid', 'itlaaaah', 'dubsmash', 'wwer', 'ollins', 'bagrangi', 'cenema', 'lolywood', 'iloveamerica', 'olaad', 'shyaar', 'daayiee', 'faisalkhan', 'swiffle', 'buffalodog', 'wadatwitter', 'kolossus', 'thordis', 'royalparty', 'bronnygate', 'fourxbrid', 'rpconfessions', 'banglavision', 'princegeorge', 'shirm', 'carolemc', 'northernpowerhouse', 'familylegend', 'workfail', 'hopster', 'enhen', 'moooost', 'yeeeeaaaar', 'dolorous', 'suchess', 'dailyheader', 'nationalhotdogday', 'wjxt', 'sahlens', 'realquestiontho', 'meeding', 'demthrones', 'foodtravelchat', 'scyfy', 'spsmarket', 'svengoolie', 'tucknado', 'welma', 'catilac', 'asdfksjhabaishebs', 'crikes', 'wnci', 'lavalantuala', 'lavarantula', 'frugaladventure', 'hypenado', 'sawhand', 'sharkmovies', 'inssnjsnsnssn', 'jaengy', 'weatherhounds', 'perrott', 'hampt', 'benifited', 'kenova', 'butthurtedness', 'lavantula', 'notanapology', 'diggety', 'suckmynado', 'wefullydontundertandhowhashtagswork', 'naidoc', 'shaknado', 'calibrasksa', 'diserved', 'dhamal', 'oppertunities', 'siys', 'joabyxnx', 'rukuh', 'avodogs', 'todorov', 'wigov', 'beyondyarnterritory', '$$s', 'ospreay', 'sweatfest', 'booksbeneaththebridge', 'fintastic', 'dislodging', 'luccroy', 'myluk', 'candycanepark', 'massimillano', 'ujjwal', 'usedby', 'baitfish', 'wrangled', 'nonado', 'clrly', 'owasi', 'pgrbi', 'wyso', 'myweekinmovies', 'yearaka', 'simonika', 'jekylln', 'star>box', 'faljari', 'mfancam', 'wallofcows', 'survivals', 'muazu', 'economicsfest', 'critise', 'luams', 'metalmusic', 'sacrifies', 'playitloud', 'demnewswire', 'traderlivetweet', 'pyroclastic', 'wrangles', 'shawaal', 'hartzel', 'rres', 'trailiing', 'bttom', 'yakubdebate', 'snarknado', 'hulkpls', 'shakiness', 'soriono', 'rohtagi', 'lakvi', 'saverday', 'culprid', 'midroll', 'constitutionthe', 'paybac', 'kbefore', 'taimouraga', 'chipkawing', 'vitiate', 'humqnity', 'mayyat', 'fooligan', 'grandfath', 'hangd', 'yureka', 'siculars', 'swindal', 'yakubtohang', 'adrsd', 'laywers', 'cotham', 'pottys', 'dupreme', 'politicle', 'whoose', 'congree', 'janaja', 'chuha', 'deseved', 'deservd', 'vlieghe', 'teachenglish', 'shraddhanjali', 'mahim', 'rockfile', 'wxtu', 'othor', 'thekedar', 'schudge', 'presidentialrace', 'crowde', 'erdely', 'buttsecks', 'gcj', 'rockfeast', 'nagbash', 'ramehswaram', 'advancescreening', 'qctimes', 'pakielamero', 'gthird', 'smhowzow', 'wiphbdute', 'picott', 'freebasing', 'basejumping', 'expectactions', 'skrubs', 'goodnightlolla', 'reggaenews', 'rqwn', 'legendofmusic', 'fcfilmmedia', 'prestitute', 'ntnl', 'craptacular', 'thenet', 'swaders', \"'sm\", 'surendranath', 'eversong', 'fifthe', 'xians', 'likeyesterday', 'tarir', 'britishisms', 'ciecmate', 'fadingchildhood', 'bullwinkles', 'mymiddletons', 'talkatives', 'zbikowski', 'superst', 'lilf', 'erdos', 'eastchase', 'meningreen', 'thenyou', 'razorsharp', 'lifesavior', 'figuier', 'sympathatics', 'buice', 'taubenheim', 'trachsel', 'chicagocubs', 'okechukwu', 'worldheavyweightchampionship', 'echampionship', 'onpaceguy', 'hellafun', 'keeppeoplewatching', 'festaviss', 'transfusing', 'tackboard', 'recroding', 'armacost', 'boxingego', 'slothnado', 'respectiv', 'aluo', 'demned', 'dakers', 'nativewings', 'foreverloner', 'innumerate', 'osukoya', 'julush', 'rachpal', 'alqueda', 'alshabaab', 'aqeeda', 'nigeriamagazine', 'axelmania', 'cleg', 'ghantallectuals', 'jmwe', 'glasnow', 'ferino', 'exchnagr', 'hugsxo', 'assemebled', 'esident', 'chucktodd', 'enlightenedrepublican', 'betro', 'prayes', 'watsoever', 'celeberate', 'gopdebate', 'ntastic', 'hottake', 'sethrollins', 'blabbin', 'shitwanks', 'yourlifesucks', 'buymecoffeetoo', 'lifegoalcomplete', 'motog', 'gennext', 'cantsingforshit', 'narutos', 'noveselic', 'clattered', 'sbnabs', 'cubster', 'narutohokage', 'rickrolls', 'shepherdshut', 'withtb', 'arriived', 'hildogs', 'tanahashi', 'werp', 'disingenuously', 'haramain', 'thespiritualstate', 'nottheband', 'emploees', 'giffer', 'triumverate', 'withhoward', 'sendmebackstage', 'turnoutthelightsthepartysover', 'whoisrobharris', 'cttm', 'sportscasting', 'mundee', 'raissman', 'thero', 'ilega', 'mmacrypt', \"'''\", 'telecasters', 'gopclowncar', 'cntent', 'hangng', 'prestigue', 'brainbuster', 'memorialized', 'versoin', 'stagefright', 'fandomreviews', 'brftm', 'exley', 'weasle', 'parinirvana', 'closexout', 'halvsies', 'flcbaseball', 'timeplay', 'abelardos', 'kellh', 'redarmys', 'awaydaysonly', 'khlifah', 'ronday', 'afmobi', 'withour', 'aliisthegoat', 'mamox', 'meekom', 'kakkest', 'giraffage', 'straightouttacompton', 'survisor', 'transwoman', 'heymanhustle', 'itits', 'extremeweightloss', 'adlaksjskdh', 'nurfm', 'teamfollower', 'chiffarobe', 'osamp', 'sheepand', 'effusive', 'gathbhandhan', 'mahamet', 'yohr', 'okwaraji', 'reunicorns', 'marada', 'speedoflight', 'zootv', 'checkng', 'hewillchokeon', 'pgachampionship', 'senjutsu', 'wunited', 'tanmk', 'nottheweekend', 'lawnchair', 'hhbu', 'deciever', 'golfchat', 'kidrockcruise', 'metalnews', 'raafidha', 'cesoro', 'teuchi', 'lengendary', 'countryconcert', 'babaginda', 'afme', 'bogys', 'wealltried', 'espnnow', 'sedc', 'navyyard', 'wsaw', 'kaliopi', 'gogdulah', 'musicforkath', 'texteira', 'religionofpeace', 'diptera', 'candatidates', 'eligable', 'cottocanelo', 'willingto', 'takfeer', 'dawlah', 'jurists', 'kalongs', 'whoevr', 'miwaukee', 'rougned', 'churcfofchrist', 'nlroy', 'hokaga', 'siltitng', 'windwo', 'montamania', 'flipkartsupport', 'crwys', 'narunata', 'fancomic', 'twivia', 'bottleless', 'roughstart', 'sneachta', 'boget', 'insanelly', 'herrerra', 'quadding', 'foreleft', 'justiceforjohnsonbackers', 'boogersugarftw', 'lwanga', 'slamof', 'malenko', 'aussiewine', 'dosu', 'izamoje', 'udhampur', 'naved', 'inniit', 'oliaeh', 'srsl', 'monotheistic', 'newsonlineng', 'johncenavssethrollns', 'livecast', 'bewn', 'orbited', 'cubits', 'titlefortitle', 'tawney', 'lesnarvstaker', 'healthc', 'storley', 'swatton', 'haramist', 'bcoming', 'genisys', 'werleman', 'firenado', 'dpumpkin', 'sagacious', 'suuupppeeerrslam', 'procyon', 'ferventness', 'metatextual', 'spytty', 'skyhooks', 'gwoza', 'dsummit', 'traveldiaries', 'bdayvaycay', 'incenting', 'lbon', 'kissanime', 'worstroadtripever', 'gorzelanny', 'wpeh', 'firstworldhandicappedproblems', 'fortunefilmz', \"'na\", 'lenaerts', 'davemattwright', 'shhiittty', 'withjay', 'paperview', 'swidell', 'midatlantic', 'prosectors', 'womanslaughter', 'dechambeau', 'curiousty', 'dhammal', 'disgustingtrends', 'wdym', 'securement', 'africanbaze', 'pierrie', 'orignally', 'tategotscrewed', 'outpoint', 'bantemweightchampuonship', 'stylistically', 'rarefy', 'ignoratio', 'betonline', 'zquadom', 'theghostisneartour', 'bythenumber', 'onspotify', 'videoreleased', 'assuredness', 'sidestepped', 'fridayvibes', 'notdoi', 'manslaughtered', 'goggleeyedhomonculus', 'alderwiereld', 'rondy', 'rollinsisthe', 'bsmn', 'dhimmi', 'ianetta', 'ampliation', 'jynxing', 'dcy', 'oungfly', 'shitternet', 'crappity', 'entelechy', 'argumentu', 'yibo', 'tazila', 'heretical', 'nokor', 'overweening', 'travone', 'withsnarky', 'skcajbndf', 'otev', 'brashness', 'gayathri', 'elenchus', 'extan', 'furthered', 'urena', 'gimmer', 'pitchs', 'tumefy', 'tailpiece', 'lesnae', 'beeges', 'nippu', 'engesser', 'unbashfulness', 'relatedness', 'nccooqymh', 'escapists', 'alawis', 'stephanopolous', 'dobetterbywomen', 'doesthatcount', 'cheersforthethunderstorm', 'ucretst', 'comandment', 'degroms', 'ajna', 'suuuuuperslam', 'homering', 'unbreakabletour', 'nymets', 'taijuan', 'jumpedin', 'carnivalatbray', 'grungeteens', 'cenawinslol', 'titlevs', 'significative', 'unanalyzable', 'attainmen', 'summersla', 'sosl', 'istenedto', 'withchristopher', 'seungrisenpai', 'counterprotested', 'srepresentation', 'trinitarian', 'dhsfizix', 'thefifthelement', 'rickrolling', 'intoxicants', 'dtnation', 'careening', 'whute', 'aphug', 'okeem', 'ampbell', 'blackhaws', 'denominative', 'wearegood', 'nobusinessrunningforpresident', 'critics>', 'fanrates', 'eminating', 'disjunction', 'wgntv', 'immigrantlivesmatter', 'brocklesnar', 'fridaus', 'oxoxoxoxoxoxo', 'mashers', 'suberbs', 'ballyhooing', 'islamistheproblem', 'tiffsqa', 'lowkwy', 'strawhat', '>falling', 'toboo', 'ogochukwu', 'concertseason', 'zroughts', 'stauch', 'reclaimthemorning', 'tongueouttuesday', 'throwawaydogs', 'wtaj', 'hampion', 'seventhe', 'tsktskshameshame', 'gopbs', 'khvoakmlb', 'expatiate', 'oxyh', 'zrgn', 'toufah', 'golravea', 'jidenna', 'crackerd', 'purusha', 'winningateverything', 'wsnts', 'steverson', 'ultimax', 'holocausts', 'welovesport', 'sportsnownow', 'savageries', 'concomitant', 'comburent', 'samardjzia', 'trippah', 'nloth', 'adjuvant', 'cavqc', 'ieru', 'nohillary', 'cenavs', 'mailcelebrity', 'launchdaily', 'rafidis', 'unquit', 'sufflate', 'patels', 'implicative', 'stabilised', 'solipsistic', '>top', '>does', '>puts', 'tazawa', 'espnsucks', 'espnblockedatourhouse', 'foxcroft', 'dognapping', 'gonuts', 'wisconsins', 'cryingforever', 'christianty', 'souix', 'scenez', 'ticketcrush', 'rasenshuriken', 'hopefulness', 'symbologi', 'caityln', 'synard', 'dudle', 'scottwalker', 'catmom', 'gotmypictureforinstagramready', 'bbase', 'appendant', 'dumdass', 'overlake', 'wahabism', 'ashould', 'artblogger', 'kanken', 'pumpkinocalypse', 'ostrovsky', 'twerktwerk', 'rasoolullah', 'nexu', 'tasselled', 'naijaprizes', 'adeniji', 'amakson', 'pneuma', 'ohmvx', 'motwyw', 'adeslaz', 'fridaze', 'sfanfic', 'aryans', 'politicalpride', 'shenxin', 'baiely', 'effectd', 'tuesday>>', 'navah', 'billsvsteelers', 'macgoessheeran', 'mahamat', 'backhair', 'mccallon', 'ahhhhdnfcn', 'weedhoppers', 'azwajal', 'jiskani', 'imegine', 'ankoku', 'misguiding', 'sukuraman', 'lipsynch', 'vealed', 'woodshe', 'hrsnosleep', 'meatwadzone', 'erats', 'bromell', 'restoringunity', 'arliehartman', 'baqiya', 'thnallah', 'peping', 'zerries', 'epxerience', 'samajhty', 'kanescomedygold', 'toteve', 'passthenaanbread', 'creeated', 'milemp', 'sgfg', 'satchwill', 'hisbshed', 'wearemilan', 'yuge', 'vester', 'myniallerproblems', 'khazarian', 'splendors', 'hatick', 'youngfreesinglelive', 'maggoot', 'schoolphotoselfie', 'kizumonogatari', 'splatfest', 'thepalmtoptiger', 'sweeeaaaaar', 'nonessential', 'connoiss', 'salkeandote', 'najran', 'vansonmans', 'kissame', 'weeped', 'nocommet', 'katsuo', 'seigaku', 'gokkgaquz', 'rabulizzat', 'orientalist', 'peacecamp', 'toriesnotwelcome', 'kowtow', 'obta', 'erformance', 'unconventionally', 'ottawan', 'nunavat', 'zacca', 'chetbaker', 'zffuck', 'saladinio', 'tiitle', 'puuuunk', 'bullyed', 'outflank', 'netnewsledger', 'walkbacks', 'noideas', 'curtschilling', 'bora$', 'kenryn', 'suckitupnicki', 'bgbound', 'dcum', 'unpolite', 'thinkpieces', 'seniorquote', 'arrietta', 'vmabert', 'flakka', 'staywoke', 'breakthro', 'kimkumkum', 'salisu', 'practisin', 'reconfirmed', 'moonmans', 'hahahaahhahah', 'wecanonlyhope', 'letuspray', 'hixrc', \"'is\", 'dagboru', 'watetezi', 'rushdi', 'rememberyself', 'skimmlife', 'teampink', 'vangu', 'vahalla', 'enlivens', 'pullyourfingeroutlevy', 'whitepeopleareclueless', 'khadeer', 'aamiri', 'karmapa', 'broctober', 'fwar', 'motivatonal', 'mextraxx', 'oladeile', 'gfin', 'wrongfullyy', 'zayngetofftheroof', 'calirfornia', 'mashupped', 'oostdyk', 'ausmila', 'longria', 'mitski', 'tinydesk', 'cnnpolitics', 'hartleys', 'nelenieshuewjshs', 'yerrrrrrtt', 'itsssks', 'firsskt', 'sshckhool', 'karimozena', 'hollywoodbowl', 'ticibhfi', 'veronas', 'prematurebutitsok', 'virilis', 'budgin', 'giaf', 'colabello', '$h', 'iwatchtoomuchtv', 'jounin', 'armello', 'melaninhoe', 'hopers', 'preloads', 'golam', 'brissie', 'johncenajonhcenacenacenace', 'oatch', 'demonstratively', 'intersented', 'rivalryweek', 'omgjsjsnznz', 'playability', 'oskur', 'twelver', \"'ba\", 'turenci', 'wraiths', 'ngress', 'boooreeed', 'bollea', 'preprepared', 'meccan', 'dteams', 'hamgover', 'deputise', 'suuuupppeer', 'slaaaam', 'thunderdoooome', 'veatch', 'theymca', 'plfans', 'betterwithbirk', 'socialrm', 'adrid', 'krbizbr', 'snoozetime', 'sneery', 'bbleng', 'ghters', 'resurr', 'sportcaster', 'dcde', 'dumasswalker', 'rallytime', 'nullifier', 'sulayman', 'takfir', 'mushrikin', 'koski', 'suuuuuuuuuuupper', 'kimsfirstladytodolist', 'westday', 'getitnow', 'septober', 'adebyor', 'colwell', 'powerslaves', 'rediscovers', 'vestibules', 'nobrollies', 'ichiraku', 'dgtr', 'apraxia', 'dnesday', 'vhappy', 'bobbymoo', 'jreynoldsmp', 'uptheirons', 'nipplegate', 'serieswin', 'recommanding', 'nlgja', 'jfdlsajfdsads', 'maiker', 'beetus', 'evicte', 'soundingoff', 'linemans', 'admnt', 'deshields', 'badeditor', 'cheesymusic', 'suleymanov', 'robus', 'darshak', 'pressboston', 'fernandini', 'wuqdomjly', 'eurofm', 'networkwith', 'mprofessionals', 'roachford', 'grabhorn', 'rereleasing', 'samesex', 'laylat', 'guiterriez', 'leftards', 'thugh', 'hopecity', 'hiltonteper', 'mysen', 'boily', 'encrypting', 'altafini', 'dauntlessness', 'lifelight', 'balstock', 'bahston', 'funkee', 'deebos', 'cmpt', 'indiscrete', 'sogh', 'buildingthelist', 'uused', 'celibrate', 'gladiatorial', 'inbreeds', 'bwhereareyou', 'mgsvtpo', 'obumma', 'makeamove', 'teamkrispy', 'chistians', 'kimdavies', 'preconscious', 'ikkitousen', 'metalfriday', 'kisans', 'royalblood', 'poooooont', 'almajiri', 'dehumanise', 'unopene', 'dluxe', 'thingstodoinmilan', 'robeen', 'congregatin', 'itsgonnabeagoodday', 'obagoal', 'buddists', 'elderkin', 'chourasia', 'delhizens', 'ozfm', 'tikrit', 'englisg', 'bradywins', 'pedophillia', 'clarkpub', 'pctm', 'dcomplex', 'tranie', 'imissmybrother', 'desborough', 'beethovens', 'kwambe', 'jorit', 'zayun', 'symptomatologic', 'cbsf', 'stateofunion', 'tading', 'niallersjhoran', 'pathognomonic', 'eovaldi', 'cohoes', 'bradyapology', 'wireimage', 'wwehampton', 'ablaz', 'lambast', 'hogroast', 'chargesk', 'xbana', 'concertday', 'ukff', 'freakysht', 'hbcn', 'sjaco', 'benintendi', 'afco', 'tanzaniavs', 'aaom', 'nocup', 'tanzaniav', 'afconqualifier', 'deustche', 'buddhadasa', 'bhikkhu', 'privity', 'unessential', 'horlen', 'berkus', 'assadism', 'kragthorpe', 'qually', 'cunningplan', 'gaybor', 'scir', 'someonetocallmylover', 'unafraidness', 'hokagy', 'coverstory', 'technolgies', 'swihart', 'condoled', 'royalspr', 'taifas', 'runforthehills', 'livelyhoods', 'sommin', 'lovullo', 'everyythingg', 'bankerslife', 'missjanet', 'thiem', 'jklasdfg', 'kaser', 'pendred', 'arzst', 'gotchyas', 'jdkkflf', 'yankem', 'monteys', 'attacktd', 'getmoving', 'theinspiration', 'mbuso', 'nkabinde', 'nabave', 'mashokhel', 'undergirding', 'jibbi', 'referenc', 'untimidness', 'ruxandra', 'gamestyle', 'letyourlightshine', 'withno', 'mughals', 'morphological', 'goaless', 'whiley', 'activerecoveryday', 'jabines', 'qadianis', 'quide', 'chuutalk', 'ckdsradio', 'incarnated', 'forbearing', 'elwira', 'ucntcme', 'amplificat', 'mostert', 'pizzaday', 'otwol', 'wariness', 'qznvguukz', 'steelersvspatriots', 'gharara', 'mxy', 'sfbs', 'soxfest', 'videoboard', 'whby', 'ogunjobi', 'hasslehoff', 'pvris', 'sceni', 'catholicchurch', 'onechanbara', 'gallups', 'weby', 'rassooli', 'heterotrophic', 'mooslims', 'taqiyah', 'lietonon', 'adrenlaine', 'idekyn', 'galacti', 'fenwaypark', 'revcoak', 'vbautistaagut', 'gleeman', 'gayliath', 'gamelab', 'georiga', 'ellewell', 'chritianity', 'maseed', 'statutorily', 'actuallyall', 'ahmadiyyat', 'neeley', 'inhab', 'disappointedly', 'wwenews', 'auroraborealis', 'sheona', 'mcque', 'congeries', 'megesh', 'nzkp', 'aardwolf', 'pukhtun', 'petroulaki', 'austealian', 'godell', 'lawlessly', 'estia', 'stenstra', 'clinto', 'runith', 'galillee', 'bondgeek', 'patsies', 'torirs', 'motiveless', 'blissfulignorance', 'cqnl', 'rasengans', 'speightoo', 'wearching', 'ahmediya', 'tomorrow>>', 'hottaeks', 'plectrums', 'seachtar', 'ellern', 'evisceration', 'crosbynet', 'committoyourpractice', 'crybab', 'yepo', 'likeican', 'foranderson', 'backthe', 'ustennisopen', 'cycletouringitaly', 'yotlob', 'lotuskitty', 'rowand', 'exgirlfriends', 'regins', 'wrastle', 'refugeescrisis', 'maziel', 'reveilleyogastudio', 'twsrc', 'ferdowskids', 'niqabs', 'entailed', 'calabasashigh', 'beaxh', 'meatban', 'yemoji', 'printings', 'songsmith', 'this>>>>', 'translat', 'stopfoodwaste', 'holacost', 'withwings', 'youremyvitamins', 'punkrag', 'flickerwood', 'thingstodoin', 'fallharvest', 'goallessdraw', 'semetic', 'inneresting', 'naijaurban', 'mahasana', 'hernangomez', 'odegaar', 'sayyijnfn', 'hoxsie', 'mysteriousways', 'losingto', 'piece>naruto>dbz', '>bleach', 'woyproblems', 'bountygate', 'goodellgate', 'rrmastered', 'mflpogo', 'procural', 'functiona', 'anacortes', 'courcelle', 'neroazzuro', 'yahwe', 'roseen', 'shortweek', 'dimensionaughts', 'did>>>', 'caitlynjenner', 'hockinghillsyogastudio', 'wwont', 'oxoby', 'poolstick', 'brisson', 'asffsgw', 'abetz', 'judeo', 'cyss', 'yasurek', 'mymilan', 'trevsniptweets', 'tronnor', 'inury', 'tribemania', 'tribelive', 'illuminaticonfirmed', 'thiskp', 'opguy', 'malahat', 'sharratt', 'unislamic', 'shittown', 'moulinparikh', 'sonysix', 'brokencircuit', 'cartografia', 'bortolami', 'geurnica', 'mooroolbark', 'drmurray', 'atmananda', 'ragia', 'rothlesburger', 'ahbaya', 'muslimed', 'lavuo', 'noshoesnation', 'baruchcollege', 'watced', 'markmeets', 'bermanhasnopower', 'caroemerald', 'nmbrs', 'rabbiting', 'mrhappy', 'metsvsroyals', 'neise', 'warthen', 'harvery', 'yoventura', 'villainized', 'handidly', 'transmute', 'tilez', 'dastal', 'degromatior', 'earlymodblood', 'cepedes', 'beroyal', 'billandted', 'cyberday', 'thefilm', 'larrie', 'sinnfein', 'chalabi', 'andersonstown', 'doshua', 'zoggie', 'manouver', 'dubw', 'theperksofworkingatthevenue', 'gvrment', 'survelliance', 'wifefail', 'logyinmanila', 'sosmnl', 'gdecny', 'bingewatching', 'ffshoes', 'tvguidetweet', 'bendixen', 'chrisevans', 'sebastianstan', 'terlingo', 'norhtern', 'ohnobriana', 'kneelt', 'tryeth', 'alternativemusic', 'ullukapatha', 'ullukapathas', 'appeasers', 'justuce', 'noew', 'aggreement', 'odinson', 'vampss', 'rearrested', 'motilal', 'maynot', 'thegreenarrow', 'awakenthenorth', 'vikingclan', 'streepthis', 'sipselfie', 'whatsfairforone', 'tlusty', 'stempniak', 'mulaney', 'warcriminal', 'parisshootings', 'dehumanizations', 'grandadwas', 'parisinflames', 'demontrations', 'twatishness', 'wirse', 'mongerer', 'prayforparis', 'narrowmindedprick', 'bloodbourne', 'heartrending', 'centenera', 'culwell', 'pascon', 'ipeaceprocess', 'getva', 'scognamiglio', 'uneasyness', 'jungleworms', 'spotif', 'thority', 'authorising', 'curtises', 'roopride', 'curtismusic', 'mohammedcartoons', 'centraleuropeantime', 'forthriver', 'glencairn', 'selfrespecting', 'khazakstan', '<desiree>', 'faridkot', 'refracted', 'merkal', 'bonhomie', 'publicrecord', 'leeeettle', 'universality', 'relativist', 'triceracop', 'hackerman', 'subraman', 'restitute', 'kaalaadhan', 'carolfilm', 'thunderer', 'mosny', 'quiplash', 'modimafia', 'fantaztik', 'herecomesthesun', 'mirrah', 'witw', 'shatrughan', 'smithwick', 'anonimity', 'akakeya', 'guidicipietro', 'spacemusic', 'beegeesthirdalbum', 'maghaberry', 'okkervil', 'groovies', 'khaiye', 'juban', 'lagam', 'lagaiye', 'pilloried', 'jotunheim', 'jvupdates', 'quandel', 'siddu', 'ytaa', 'wudr', 'beforewegosa', 'munibond', 'khets', 'misinforemd', 'rahulstumped', 'kinekor', 'orop', 'crosbie', 'briancat', 'serqet', 'minutester', 'holande', 'castigate', 'strided', 'athertons', 'misfired', 'guardiannews', 'takentoosoon', 'cabaretsupperclub', '>she', '<goblet', 'ardboe', 'mediaguardian', 'risenation', 'brianatellsall', 'nalumfe', 'thefix', 'magaraj', 'nathuram', 'sorryboss', 'itthe', 'encomium', 'boseman', 'vinopolis', 'chilcott', 'nomoretearsin', 'wafted', 'pissgod', 'skinne', 'caramele', 'photoops', 'qmenoftheyear', 'gqmoty', 'thepchaiya', 'baizeofglory', 'legandx', 'villeins', 'skooma', 'ellerslie', 'gwithworkers', 'diablerizes', 'raffensberger', 'dunsworth', 'northcutt', 'concertreview', 'musicreview', 'doggon', 'annihilators', 'empirikul', 'curtishowell', 'orographic', 'thglo', 'hbhbhb', 'cuddalore', 'aldovsmcgregor', 'wagoning', 'beatsmiths', 'whatbptc', 'bladesboy', 'suvelo', 'aooesr', 'puducherry', 'irregularitie', 'abutterfly', 'jahagir', 'tvupdate', 'backtostroz', 'woodfire', 'fascinatingly', 'wokeness', 'soloway', 'changingtheworld', 'mcivor', 'aterpilar', 'rematc', 'higt', 'flyhighkendrick', 'abuzeid', 'itma', 'littell', 'broadeningday', 'supersurf', 'manlikegatsby', 'alisah', 'debicki', 'abbamania', 'nevill', 'rotd', 'bharo', 'cassper', 'faaaaya', 'minutesaway', 'zidler', 'clady', 'lightlly', 'scruffing', 'withmain', 'thefw', 'helwani', 'ontitle', \"'he\", 'riveters', 'governemnt', 'theyrnow', 'ufz', 'chajnz', 'hurstbridge', 'marathoned', 'bundelkhand', 'fertittas', 'askcairney', 'silvios', 'savours', 'litti', 'chokha', 'papakura', 'lovng', \"''i\", 'yodamole', 'nwphs', 'creativemornings', 'giorgini', 'bulayegi', 'cringeing', 'frosinnone', 'lutharia', 'arcimboldi', 'templr', 'fbomb', 'bombardiers', 'supplant', 'whyamistupid', 'quarantot', \"'tf\", 'madvillainy', 'ziering', \"'yo\", 'jcoleofficial', 'lamarckian', 'withpulsing', 'streamerino', 'caissie', 'hefzi', 'leoncavallo', 'bestunsignedband', 'empowerwomen', 'womenissues', 'luxury>', 'behlive', 'london>milan>la', '>doncaster', 'sydstorm', 'flightdelay', 'rothemere', 'uism', 'ilovethesehashtagemojis', 'attrocities', 'looooonnngg', 'kindaexcited', 'curren$y', 'civalwar', 'claptons', 'sourcestoi', 'sadelle', 'gothicists', 'theforceawakens', 'clubroom', 'administratio', 'samac', 'tasering', 'janzour', 'sunhold', 'treakies', 'sardonically', 'exportin', 'stoparmstrade', 'mailjet', 'rayjay', 'taxpros', 'riverbeds', 'mongcast', 'staunchly', 'gagaupdate', 'opeds', 'cartoomics', 'sfira', 'flouts', 'foxnewshealth', 'terrorsm', 'wdout', 'dependng', 'rukna', 'maineart', 'lovekpt', 'theocracies', 'prismo', 'essebsi', 'roome', 'youngromans', 'eyaaocampo', 'lilmix', 'ganne', 'bellamilano', 'mihalovic', 'mariyln', 'bitie', 'coulsons', 'houthi', 'nowtv', 'eglx', 'karashian', 'vincess', 'dgates', 'magkakaanak', 'donbas', 'howevr', 'vwp', 'gladesville', 'jazzstandardnyc', 'contextualize', 'ayatollahs', 'billion$', 'toddn', 'mirky', 'yseali', 'baemax', 'shekel', 'nowit', 'killingtheonetheylived', 'riversid', 'vanityproject', 'shouldbesecyioned', 'bliars', 'halischuk', 'netralize', 'firesage', 'razes', 'reneged', 'yesilgiresun', 'ibna', 'selamatulangtahunlouis', 'antisemites', 'sheeeeeeeesh', 'regionwide', 'jephthah', 'afsaneh', 'moqadam', 'ozar', 'precons', 'sqlsaturday', 'giannelli', 'tmilano', 'nadean', 'fourthday', 'grothe', 'offduty', 'jewry', 'spikebot', 'lehem', 'jeonghan', 'fakingnews', 'shabath', 'ergkamp', 'connoisseurship', 'discompose', 'biebertickets', 'rezaian', 'freejason', 'doenmeah', 'manturov', 'porpose', 'leket', 'refinding', 'intafada', 'ahmadineijad', 'discolouration', 'cucks', 'christofascist', 'hekmati', 'purposetour', 'endeavouring', \"'g\", 'karwan', 'shohoda', 'urmra', 'kerblai', 'closr', 'corsport', 'socringeworthy', 'awkwardacting', 'deploring', 'bbhmm', 'jarrica', 'quizling', 'targetg', 'sattouf', 'lycanthropy', 'manceron', 'lavrentiev', 'mervagli', 'vscoedit', 'vscoitaly', 'beilber', 'yougivemepurpose', 'painset', 'shimmercakes', 'frieks', 'understate', 'callhim', 'zisser', 'nilomoni', 'smritini', 'pappuon', 'proximate', 'prashanth', 'wrongchoice', 'theforceisstrongwiththisone', 'conjectural', 'mandana', 'responsibe', 'alliegance', 'newsha', 'tavakolian', 'pasquina', 'ngubane', 'haldol', 'chaac', 'anhur', 'planetx', 'delightdelaysweeps', 'lvf', 'keenness', 'makeamericagreatagain', 'tripofalifetime', 'abledorfenheim', 'waywithin', 'nusrah', 'lootcrate', 'shriman', 'mumbaitimes', 'recoiled', 'hohohohohohohoho', 'partitioned', 'counterweight', 'conure', 'caresn', 'cheerpracticeonhalloween', 'aflpa', 'schickel', 'missimo', 'scheckelhoff', 'beeeotch', 'iusocc', 'jesiah', 'oiershdjkfwle', 'snobish', 'comeupance', 'sustenio', 'comedys', 'edlefsen', 'duvernay', 'bookofquotes', 'smartbaby', 'shatoetry', 'nfty', 'nightsinfrontofthetelly', 'jerred', 'withend', 'sunderlands', 'thunlun', 'norelle', 'mornjng', 'junkthe', 'apewalkin', '>phoenix', '>dallas', '>houston', 'hopethisistrue', 'ademy', 'fowrard', 'gomavs', 'ashwaubenon', 'underpinned', 'steelguru', 'mettenbergers', 'ecaasu', 'homepolish', 'aquib', 'stdlav', 'feedback>', 'barroquillo', 'nwca', 'kianta', 'bfme', 'brockuproblems', 'burningdaylight', 'sscx', 'filmclub', 'marsing', 'videothe', 'pinkroom', 'finchelor', 'lfanproblems', 'qsu', 'mountainlair', 'herbaddiction', 'nflplayersarehaterstoo', 'pageantday', 'hammersticks', 'rostu', 'onroe', 'jerebko', 'watchez', 'stickz', 'twitterites', 'peperonata', 'resheduled', 'daboswinneyproblems', 'rubbishy', 'wantthistohappennow', 'fanupmu', 'jubiliant', 'santaanita', 'wreckemtech', 'moshes', 'gmayl', 'osfc', 'physix', 'proact', 'ineedmoregirlfriends', 'firepioli', 'mssive', 'wiflc', 'sunsetcinema', 'ungentlemanly', 'pasoccer', 'sthebest', 'jargaritas', 'alumnireturning', 'gahhhhden', 'bostongirl', 'citychick', 'wivescelebrate', 'williford', 'mangere', 'immissinout', 'haveatrebelforme', 'apper', 'npsf', 'bucketist', 'rybacks', 'ppsssssst', 'modafacka', 'exorcisism', 'feederclub', 'dontshopadopt', 'avaunt', 'ocdsupertoaster', 'voodoos', 'broxburnmorons', 'notupinhere', 'skyliners', 'ellai', 'hailtothevictors', 'biggerstaff', 'sinsavers', 'jbsa', 'odysseas', 'elytis', 'beingsalmankhan', 'biggestretard', 'vacany', 'loudguitar', 'sisterlife', 'swrug', 'iwishbrodywouldwearone', 'isheturnedornot', 'asddgffghj', 'bestcelebcouple', 'badfever', 'verysickgirl', 'torpoint', 'sunwood', 'drumlines', 'lefraud', 'withpats', 'nyelle', 'definitaly', 'arsneal', 'trafoord', 'foxbusiness', 'unionjfollowme', 'vodkaonhold', 'hooisers', 'indianamensbasetball', 'eksms', 'knicks>rt', 'powerites', '<bj', 'deztanee', 'uloom', 'hifz', 'trynnaturnthisdayaround', 'masquarade', 'lizlemon', 'nfll', 'peiece', 'bottlesonbottles', 'roosies', 'mixitup', 'withair', 'santorem', 'testifyhis', 'zadkovich', 'incepted', 'wakefiel', 'letsgohawk', 'iowacheer', 'iowafootball', 'tvnirvana', 'optomistic', 'gastaut', 'thinkingofthefans', 'miiiija', 'ohbabyjesus', 'bullshifter', '>i', 'actorusa', 'tebowmania', 'hattingh', 'mcnastys', 'dalys', 'augustea', 'loveeedd', 'dropdeadgorgeous', 'tlxhah', 'avca', 'buttiglione', 'intri', 'njea', 'dontknowwhatyourtalkingbout', 'butok', 'adviory', 'zellner', 'culler', 'nationalpostsports', 'bollyfit', 'sewickley', 'hyungjunthebest', 'battleshots', 'puppeting', 'bhaang', 'kembreys', 'crossgate', 'lavarnway', 'bgdl', 'yerbabue', 'fiyastarter', 'icsprobs', 'illies', 'imsickandnothingison', 'mangok', 'puthumugangal', 'thevai', 'bewarethe', 'siriwantstokillme', 'withsf', 'nthlondonapplerepair', 'rockstarmarylive', 'schoolsfunding', 'itshowyoufinish', 'gotheeeem', 'appleguy', 'publicpolicy', 'dropbacks', 'slfp', 'igleisas', 'artytype', 'kuppajoes', 'eunich', 'kilomathon', 'timot', 'cantwaitt', 'noagenda', 'shiuld', 'mwaxh', 'werebears', 'forcefu', '<tech', 'news>', 'durdle', 'noshamenogame', 'sjgc', 'shinners', 'thelivingroom', 'divinetworks', 'ewswire', 'smithies', 'seismo', 'kogarah', 'hustlevania', 'atlanticforum', 'iguarded', 'globex', 'mowtown', 'vokle', 'medicore', 'grodna', 'edgebrook', 'ohwaitthatsmydreamwishlist', 'peover', 'lcclife', 'memorible', 'heemfording', 'mytachs', 'frizbi', 'lobstering', 'fourthbest', 'fttb', 'igfame', 'thankyoubitch', 'lahoma', 'strongside', 'miaafb', 'needers', 'bubunuin', 'smartdaughter', 'sillydad', 'hualien', 'ynwalfc', 'doworkshop', 'scrapins', 'withpres', 'yotefox', 'skiexpo', 'opperman', 'southpointe', 'galvins', 'vanuatus', 'fraggin', '<u>wake', 'hhmk', 'rateable', 'africaid', 'ipcpr', 'iloveyourg', 'invisiblechildren', 'toomuchexcitement', 'stms', 'sewanee', 'pasrb', 'gcwcc', 'bigdebute', 'brindabella', 'bgmc', 'kugan', 'uncareingworld', 'boldblackbeautiful', 'thilakan', 'malayala', 'calivlers', 'abosheshey', 'netpac', 'kerela', 'garlett', 'iaprsa', 'lamarsh', 'eliizabeth', 'allregion', 'cascaded', 'letsmovedown', 'iupa', 'realcollabo', 'kseventhanniversary', 'epao', 'workcharge', 'latechsuckd', 'lucap', 'timoteij', 'chippen', 'grimmauld', 'ntwrks', 'terrierball', 'dontfancy', 'arfieldingoal', 'beichi', 'isadore', 'taumata', 'thirdtier', 'wpit', '<ip>', 'racegoer', 'kiasma', 'npes', 'bokamal', 'iwishitwerebetter', 'equpiment', 'recoverable', 'invoic', '>rt', 'anutys', 'thewlis', 'verion', 'bloganother', 'oremti', 'fumatu', 'manotick', 'ognissanti', 'arps', 'notlookingforwardtodennys', 'malig', 'unsheathed', 'jeeyyzus', 'leggggoo', 'argoslive', 'youregettingpinched', 'orpunched', 'whatweightgain', 'trueposh', 'relegating', 'arcelona', 'sharpenings', 'allifacts', 'girasis', 'chowchila', 'cosmostanza', 'grannyfest', 'masebe', 'sahia', 'charater', 'ballymore', 'kenpom', 'theeb', 'courtice', 'noworkforme', 'denean', 'nkwelle', 'aonair', 'ceasfire', 'showkase', 'choth', 'ghoulishly', 'mausky', 'alexandermcqueen', 'ephemere', 'termer', 'kepr', 'toarthur', 'betrenders', 'mybodyisready', '$cme', 'herf', \"'xo\", '<strong>taipei', 'strong>', 'gaffaw', 'margenthaler', 'kjjz', 'triumvirat', 'clubsbl', 'iacz', 'daav', 'rumnee', 'metrostars', 'mineworkers', 'hifly', 'saweeeeet', 'makikipaglaban', 'sandata', 'blens', 'sbaseball', 'adff', 'shmacke', 'mumblin', 'fumblin', 'monteal', 'vestry', 'newjackets', 'sameswag', 'nopipelines', 'notankers', 'brownhills', 'tlsxhah', 'justaguess', 'gdcf', 'floode', 'japanophile', 'arruba', 'givemefootball', 'smallvictory', 'ifyoulovemeyouwillcome', 'gerts', 'hbsbhsdv', 'larkburger', 'dyngus', 'heschmeyer', 'drummoyne', 'wben', 'swiftober', 'slicers', 'hidind', 'cdos', 'byrooooooon', 'harrisooooooon', 'sapt', 'mccashin', 'askdongho', 'eljabl', 'capebretonpost', 'uuggghfghfgd', 'idcwhatthehatershavetosay', 'anniesboobs', 'hospitali', 'girlytrucker', 'hopefullycome', 'bjlr', 'hejustlovesthebeards', 'kuromori', 'bolanos', 'youmacon', 'zeitoun', 'shinchiro', 'tsumeb', 'equilavilent', 'bastich', 'xyrielians', 'headadmin', 'drinkig', 'smartkids', 'ionaa', 'linnaeus', 'nonstopsinging', 'bestsubject', 'zaitoun', 'setprinterinfo', 'xcfc', 'rackley', 'straton', 'iatse', 'forgetrt', 'surprisec', 'hollowell<', 'perigion', 'teamproud', 'bearsden', \"'kl\", 'ovtv', 'rationalsupport', 'brandywell', 'phillipifest', 'roadkills', 'natertater', 'withsly', 'badmovie', 'toddeugenefreeman', 'blakboy', 'renowne', 'rauschenberg', 'dholna', 'bhulaiyaa', 'fkbs', '<ramcharan', 'uofr', 'psci', 'localiez', 'sulidis', 'puruse', 'speakerless', 'needssleep', 'goingtobealongday', 'reichard', 'kyoce', 'lackofexperienceshows', 'septemer', 'filthiness', 'bumblebrag', 'changingthesubject', 'iniskeen', 'teamcause', 'lietenant', 'eunthere', 'mudbugs', 'yogurmet', 'abaseball', 'underfaker', 'bellafiore', 'theworldsend', 'auditons', 'earthqua', 'dodridge', 'shareece', 'practiceupdate', 'jotted', 'msbwy', 'apologiesinadvance', 'pakesuarasuperngebass', 'brekie', 'wheresdinner', 'naejang', 'huddersf', 'sunbird', 'belconnen', 'ralow', 'ichigono', 'hitstick', 'makuahine', 'exhibitn', 'claytoneer', 'corseted', 'amywhere', 'sheisthefemalebigbuck', 'robinette', 'amreen', 'jumpcity', 'chychytcuit', 'womenfor', 'hirzallah', 'freightened', 'futuregrequestion', 'thanhnii', 'hallowe', 'storck', 'westworld', 'smackdo', 'scfafootball', 'mcsexy', 'totps', 'tedxsendai', 'internationaldirectionerday', 'sozmate', 'hollywoodcrush', 'wendouree', 'thisbetterbeajoke', 'moutniho', 'danielsan', 'squashy', 'picplz', 'fantasty', 'miaklose', 'ithoughtitwasclever', 'reynella', 'ssomethhin', 'isthisreallyreal', 'fifthtime', 'mysts', 'raviteja', 'goddoesgoodthing', 'afpendi', 'ratitng', 'fantasyfootballproblems', 'disptaches', 'gotoreros', 'sputtered', 'rowldawg', '>ice', 'rhons', 'fukaoka', 'wulords', 'cfbl', 'isakson', 'cliffgpbi', 'amaziiiiingggga', 'logoslife', 'fedbid', 'sanjit', 'girlswhoplayrugby', 'fareoh', 'aggtown', 'mykfresh', 'grannyalert', 'bramlett', 'irlam', 'standforqld', 'qlders', 'lefooding', 'simoneau', 'valobasis', 'daroon', 'thorbjorn', 'nonqb', 'castlepalooza', 'buzztown', 'kingturnezbet', 'espnny', 'tristars', 'unikent', 'upasana', 'ratmansky', 'sofhmores', 'aimhigher', 'gomaine', 'chengde', 'tnxw', 'leapinno', 'sophoslabs', 'castlepalloza', 'janglybeastfest', 'showaddywaddy', 'infosecisland', 'mcintire', 'bowab', 'bctwf', 'horti', 'trailblazzers', 'altchek', 'iherd', 'jboogie', 'scotsirish', 'zirkle', 'kagisingmo', 'nambubulabog', 'taongbahay', 'buyingmoney', 'tapanco', 'csoc', 'pagkakaabalahan', 'theglorydays', 'bustout', 'shneider', 'kshgkjh', 'zjhsdkhfg', 'hethen', 'liquidmetal', 'lqmt', 'nbcsnl', 'worthitbut', 'catalyze', 'alpfa', 'cocanougher', 'saucerpass', 'davlar', 'squiched', 'liamneesonisbosstho', 'cuuuuhraaaaaaaaze', 'keiffer', 'alldayb', 'acalac', 'snarklife', 'rampling', 'contactee', 'bushee', 'manwho', 'obma', 'skeuomorphic', 'playersnews', 'msakni', 'zaharion', 'fulcher', 'samsimmons', 'nigglettes', 'rockpunk', 'pagesleft', 'galafianakis', 'particulalry', 'shobhit', 'firedooley', 'angelinvestor', 'muscling', 'schmeh', 'chdn', 'whippa', 'twmpath', 'ifeat', 'ogalla', 'animalsense', 'nadell', 'accredated', 'rebt', 'overratededucation', 'ofinal', \"'id\", 'splapa', 'redpacket', 'oasisedmonton', 'sunpoor', 'skeumorphism', 'aubig', 'illegaleagles', 'lovesgotaholdonme', 'washingon', 'thankyoutimeshifting', 'chhatrapati', 'knutsfordlitfest', 'issueing', 'redjohn', 'pedigrees', 'unhatched', 'gotw', 'dcshows', 'fellating', 'ojays', 'snighter', 'cantcontainexcitement', 'saphila', 'uprlka', 'irieapril', 'mrandmrscheek', 'longharryimagine', 'stickingtoit', 'tippecanoe', 'castelton', 'bucksadschool', 'lbjsc', 'boxford', 'calstate', 'theeuropeandream', 'getoffmytv', 'parkmall', 'borefest', 'yardline', 'eckerd', 'galifanakis', 'pleaseohplease', 'zomour', 'dressinglikeaslutcomeswithaprice', 'mogganaut', 'quinfecta', 'malanday', 'wjct', 'bootfuck', 'veilrt', 'wexham', 'wuwbb', 'kahwined', 'iwillcry', 'maclay', 'withhim', 'rcvkg', 'godeacs', 'positivetroll', 'baseplate', 'gamecoach', 'baages', 'fearsomely', 'uwcl', 'alfc', 'jayisour', 'wucl', 'excv', 'eott', 'pysyk', 'provias', 'biebsmeetbieberwhirls', 'loccer', 'askllcoolj', 'transfertalk', 'dionje', 'wheller', 'overdoser', 'thonglor', 'penygraig', 'gacky', 'imwearingblue', 'istillloveeastview', 'tvmovie', 'buymethat', 'terrif', 'btwftr', 'photoplus', 'econpmics', 'fdahs', 'lmfaoasdfghjklomg', 'hrsaintenough', 'coreformulas', 'capellas', 'balletcenter', 'firwework', 'marlinsmysteryfanrevealed', 'teichert', 'itvplayer', 'apuleius', 'comeposed', 'poundinggrape', 'pennycan', 'lulwhuuuut', 'chimenti', 'toughs', 'keepitrollin', 'esherrugby', 'obamanewpromises', 'evolt', 'googlehangouts', 'aissf', 'drubes', 'kniteforce', 'headl', 'vintagenow', 'playthru', 'viagara', 'dalken', 'soultion', 'blackandwhitearmy', 'lscc', 'arefreshersreadyforbane', 'shermanoff', 'trapout', 'otimes', 'indiathe', 'weekl', 'kingsbu', 'friday>>>', 'morning<<<<<<<<<<<<<<<<<<<<<<<<<<<<<<<<<<<<<<<<<<<<<<<<<<', 'settingt', 'missherlots', 'jasonwu', 'hentgen', 'zubuchon', 'bemmy', 'latepass', 'ashwni', 'thingrt', 'superbpwl', 'milkchocolateday', 'veitch', 'cuntsniff', 'neild', 'prizegiving', 'nuary', 'ciscos', 'worldisending', 'cantwaittofindout', 'tyrf', 'txcot', 'soundsexciting', 'weighton', 'shedseven', 'ghts', 'dejanae', 'thereisnothingontv', 'chungking', 'semetary', 'agdin', 'playig', 'poboycitos', 'wwoz', 'nachtgeschrei', 'anthonee', 'bercik', 'broadcastin', 'knickas', 'whoboutit', 'gazillionaire', 'bemilwaukee', 'flibs', 'outkicked', 'alondraa', 'makeredknapparover', 'shelikesrosie', 'seriousfan', 'deaaall', 'clhr', 'ouncers', 'guadato', 'manhattsn', 'ogalo', 'disorientating', 'lbpv', 'slimefest', 'hordern', 'opossom', 'ttoa', 'alresford', 'pessim', 'durston', 'monstography', 'countdowntokickoff', 'cmie', 'metafest', 'sweetteapumpkinpie', 'risolutore', 'feminised', 'battleofthesexes', 'morcella', 'abastillas', 'qabiil', 'mncim', 'babaman', 'memoriesofhell', 'nycdoe', 'commentawards', 'rushingflow', 'fekken', 'habif', 'sarally', 'ralz', 'rrfp', 'millicic', 'coolamon', 'yesinea', 'oportonity', 'gubbay', 'bayford', 'fuckuover', 'americascup', 'daffadam', 'medlam', 'sunjennifer', 'usxd', 'triksta', 'fundingdrive', 'octobr', 'kreckman', 'perishables', 'deeafro', 'unamazed', 'mpac', 'corresponded', 'bunwatch', 'strattonfaxon', 'imbongis', 'thard', 'effat', 'hayyyuy', 'yogacity', 'paceit', 'poptsers', 'upjab', 'donwade', 'kiboro', 'effigies', 'sussexy', 'riannon', 'bodg', 'wingsday', 'abigayle', 'estatesales', 'autodrafted', 'boytsov', 'bustamove', 'repio', 'multibillion', 'crotchal', 'elmbridge', 'bibleball', 'livication', 'dipiazza', 'reneg', 'poorcustomerservice', 'foreverjeti', 'tamias', 'vicepogi', 'franzese', 'csask', 'tomolols', 'playtoes', 'vegvegveg', 'stylestalker', 'cmaawards', 'bulldogbash', 'postgames', 'mussers', 'preaseason', 'rallyitalia', 'ripdt', 'plarium', 'fuckyouviagogo', 'cntrltour', 'runman', 'yooruce', 'farrackhan', 'the$', 'omfgomfgomfgomfg', 'joooooooy', 'fabc', 'lazydaysies', 'onaciq', 'lastweekendhome', 'asalaamu', 'releasethegumby', 'mohrstories', 'dotp', 'mickels', 'cantdecidewhethertocareornot', 'fraundley', '>>>>>>>>', 'waitibg', 'cbcnorth', 'bbod', 'crazzzzyy', 'yehive', 'vallco', 'paido', 'mursak', 'lyfestyle', '>bruce<', 'visafone', 'chipleading', 'chiplead', '>avg', 'heisesec', 'gmable', 'thirstythirsday', 'pratna', 'mvpc', 'umesvolleyball', 'ridgemount', 'iwontbesocial', 'thants', '>>>>>>>>>>>>>>>>>>>>>>>>>>>>>', 'huwar', 'patibag', 'cmst', 'ultimatfighterfridays', 'brydens', 'mixingitup', 'tacobellisgettingold', 'tweeterthon', 'ourday', 'pczeey', 'redvelvetcupcakebreakfast', 'wkhs', 'tiwia', 'ztra', 'likemagic', 'quatchi', 'nodarioty', 'manydj', 'anysing', 'alexndria', 'smwfilmcamp', 'kidols', 'wattecamps', 'traffod', 'frobisher', 'picotto', 'haaamaaazing', 'zeargasm', 'entrechat', 'funfest', 'chadmm', 'urray', 'gloaming', 'igate', 'headingtohipstertown', 'eotpro', 'postters', 'anido', 'bloodbeast', 'killatoria', 'predomination', 'richkidproblems', 'letsgetoursecondcarsout', 'concenttrate', 'romagnola', 'technogymvillage', 'stillready', 'wfrienefits', 'smwvan', 'acrylat', 'nyuscps', 'lectue', 'corbi', 'youppiwillbehere', 'extravangaza', 'bilangual', 'shoptilwedrop', 'skipety', 'wionder', 'arraba', 'arrabe', 'hearthorses', 'pagkafriends', 'pagkaarte', 'johnllyod', 'woodchicks', 'bestgif', 'kantup', 'letthemknowthecraic', 'reziduals', 'macdougal', 'snogood', 'excitedthough', 'melleby', 'mittagong', 'asiabrief', 'timeskevin', 'santospartyhaus', 'sowerbutt', 'acidalumni', 'chanot', 'pruijn', 'billiat', 'manyama', 'awkwardrushedplanning', 'forumcast', 'stayingthefuckawayfromtumblr', 'halifa', 'mlimani', 'antroposophical', 'stiverne', 'foulke', 'suryakumar', 'comotto', 'earlyvoting', 'gabriola', 'rackcitybitch', 'smwb', 'truckeroo', 'omdayss', 'wouldntmind', 'jonya', 'easyontheears', 'nicesurprise', 'someguy', 'johal', 'toughcall', 'boilingmad', 'dmdk', 'vijayakanth', 'colocinni', 'wufc', 'jbmeetdanica', 'appreicated', 'tjustbecause', 'mulleady', 'kilbeggan', 'greatexpectations', 'panellist', 'presentating', 'gcard', 'stillinthehat', 'fundimentals', 'afropolitans', 'jeremyrennerseyes', 'fightingtalk', 'whataseason', 'bruinfam', 'dontari', 'ampro', 'kewei', 'tortolitas', 'surfcomber', 'middleweights', 'kinnucans', 'bware', 'darkeness', 'crazypants', 'mckew', 'whiptail', 'wolr', 'vrdw', 'ihavenoregrets', 'northford', 'scinerds', 'recusal', 'ouimybuddy', 'ucheerleaders', 'biggerst', 'maxcc', 'unscene', 'adminkim', 'ernasty', 'euleilah', 'cockspur', 'octaveia', 'noshortcuts', 'duhast', 'duhastmich', 'iknowushould', 'marleeeene', 'cinemonkeys', 'hkp', 'collocini', 'helemma', 'winningmentality', 'farmerville', 'ncatsu', 'sanzar', 'missyallboyz', 'rafeef', 'ziadah', 'longthorne', 'allysin', 'slowdow', 'socomx', 'sockersweek', 'sarurdaykitchen', 'hernew', 'idowhatican', 'quickish', 'wewillmakeadate', 'redbacks', 'chronicler', 'runforrestrun', 'optajoe', 'azfl', 'rightwingparanoia', 'villaaaans', 'cosart', 'pinery', 'minuteseok', 'vronsky', 'medowlark', 'girls>boys', 'stiemer', 'agme', 'elektable', 'cybertonian', 'jspace', 'zacchara', 'dekanich', 'talahasseeevents', 'grenader', 'getrt', 'schulmann', 'thinkaboutitnobhead', 'mottoes', 'bsulife', 'twinkees', 'zeimer', 'online>', 'imprvd', 'everagain', 'pratices', 'spectaculathon', 'nowaynicki', 'shmellout', 'cheeseplease', 'twostreaks', 'proudsoldier', 'broncineers', 'koramangala', 'whenharrymetsally', 'sunsport', 'popscene', 'vsow', 'talibkweli', 'landaco', 'soextra', 'ttums', 'jeffb', 'patco', 'eumaeus', 'tingzz', 'microwavers', 'proudtobeatiger', 'approache', 'bonnell', 'classicmovielotto', 'dundeel', 'wlmxrhfu', 'blackhall', 'dartfordgot', 'hasslepare', 'slaniesse', 'ghthouse', 'quarterb', 'spleaders', 'thanksweather', 'kadventures', 'darwins', 'itsyourtime', 'klonoa', 'loveiseunhaehyuk', 'ayegbeini', 'nicklin', 'reasonabley', 'cheersforthenetboys', 'ambozia', 'mayoroflondon', 'motochat', 'dhafrah', 'piginpoo', 'decemember', 'lelouche', 'chummed', 'bikeless', 'adkahsk', 'jimando', 'littlepariskitchen', 'negoti', 'p><p>ricky', 'apothecarium', 'heatingtime', '<evil', 'laugh>', 'allenvalladares', 'trannsylvania', 'hassler', 'conjuncted', 'wabasha', 'nccdc', 'takemeimyours', 'dunkface', 'tysoned', 'diaje', 'vadalabene', 'extragalactic', 'reallystupid', 'wescoas', 'ffffdate', 'rosamexicano', 'tjff', 'buccigross', 'family<<<<<<<<<<<<<<<', 'thealienlife', 'watercott', 'mecury', 'whitmire', 'nsyncforlife', 'magicsnsd', 'canham', 'vnzma', 'vnzm', 'thrillingclimax', 'quotepenguins', 'greathattickfromrobbie', 'kitching', 'mattole', 'youcanbelievethat', 'kneehigh', 'milkily', 'cinematically', 'mommyonamission', 'tltltltltlltltlt', 'dragonslive', 'bettyvirginia', 'bunnystyle', 'omalatai', 'peacocc', 'ypaac', 'fancans', 'minotaurs', 'termies', 'vindicators', 'benesch', 'tomgrant', 'allencarlanz', 'tomorrow>>>', 'tahr', 'ljudski', 'innovationgeneration', 'margar', 'dontsleeponthisone', 'bardsey', 'sporno', 'mataf', 'brandenberg', 'letsgovcu', 'cotugno', 'consultin', 'hamsey', 'cuprun', 'aantayan', 'liverintraining', 'midcourt', 'spacefact', 'biggelon', 'superriors', '>>>be', 'starcatcher', 'happyeigthmonthsarysarahgl', 'pbbu', 'yardofcocktail', 'halloweird', 'naugles', 'goodfoodchannel', 'holsey', 'absconded', 'bgreat', 'richwoo', 'colloccini', 'auroral', 'fashionpulis', 'evatt', 'jumby', 'antones', 'thetalk', 'whatapair', 'gundogg', 'footballphonein', 'divasof', 'vivanta', 'maxxima', 'timeswashing', 'awaydawn', 'comislamabad', 'stantonbury', 'uppc', 'jarvey', 'boyshort', 'wasntexpectingthat', 'babybels', 'vinculated', 'sheenroast', 'gentleme', 'nurgh', 'waok', 'cantmissthat', 'ingleton', 'sasabo', 'infobiz', 'iamhappyagain', 'amnz', '<yay', 'quotationspage', 'ziiing', 'vanroekel', 'blarring', 'paytime', 'kanyi', 'slisten', 'bazura', 'withbiden', 'kirshner', 'bieberbestedagain', 'kolchak', 'huzah', 'abetted', 'yquot', 'mostyn', 'alcantra', 'reverserobocall', 'phonejacker', 'sckcs', 'miinaj', 'ghostpoet', 'mercurys', 'youlve', 'plusinvites', 'datsuns', 'shedidntcallbecause', 'canuc', 'vasicek', 'ugadawgswag', 'venic', 'bleakest', 'chund', 'tenaction', 'shouldbegood', 'inappropriatefuneralsongs', 'mccrimmon', 'foytlin', 'rachetts', 'spidersense', 'youcantcheatdeath', 'damanged', 'steinlager', \"'er\", 'jochel', 'withdeals', 'loveabitofbiff', 'coira', 'iwishtheywouldbringback', 'ungracious', 'blackthornendmyrealhome', 'tlbreaking', 'involun', 'photies', 'mplug', 'mubarck', 'veryfunnyfilm', 'special<', 'ishappy', 'godgalovesgodney', 'kimama', 'kakuchi', 'hirou', 'surapong', 'brintey', 'dawnsearlylight', 'beohner', 'gogaga', 'leadup', 'presleys', 'lchris', 'scotlandrugbyteam', 'singsnap', 'jclabb', 'wagenheim', 'tirbutes', 'addictedtonetflixinstant', 'oyd', 'manslaugher', 'saffers', 'installmen', 'shating', 'ufcrio', 'nycproblems', 'mexd', 'soleli', 'livingthegoodlife', 'cosn', 'bourdeuxs', 'murses', 'appleland', 'disemboweled', 'singlecell', 'saadra', 'gadgetdom', 'spyshots', 'jungers', 'whippington', 'nohle', 'uide', 'vacicek', 'suengyeon', 'thatsthekindofdayitsbeen', 'wagnoli', 'pizzasweats', 'leshore', 'novemember', 'fawsl', 'bradyrules', 'sucksucksucksuck', 'rungeordierun', 'mcmcfmcfcok', 'chigozie', 'agbim', 'chibuzor', 'indieweekend', 'realbackyard', 'darkpassenger', 'premeirship', 'thatincludesbeingbetterchristians', 'nollyhood', 'jhub', 'sdma', 'teamravens', 'rodomontade', 'freewheelin', 'outoftheblue', 'drillhall', 'newnickname', 'guested', 'zylona', 'gettincrazy', 'alongsid', 'titss', 'tricounty', 'getyourfix', 'missyoubabe', 'detroys', 'nervousmuch', 'pawwl', 'viqueens', 'gaurika', 'radiosurgery', 'momyoubettagetmethatshirt', 'lookingfoward', 'pjob', 'lejog', 'straightstuntin', 'tigernet', 'awwwwwright', 'cfru', 'oolego', 'februray', 'goonerpower', 'peusto', 'datameet', 'kenwrightout', 'cordles', 'sportchek', 'brookly', 'mascotfight', 'lunachix', 'echelonfamily', 'amarosa', 'jetsinsider', 'zogbia', 'nikaragua', 'gulport', 'winnipegjets', 'aglines', 'nebraskans', 'huntzinger', 'backwoodslivin', 'holperin', 'wirch', 'geekgirl', 'liquidambar', \"'be\", 'epsdes', 'uswmt', 'mornngs', 'ipercoop', 'colonise', 'wotm', 'biosimilars', 'patfull', 'sparkleberry', 'wirec', 'areyoufreakingkiddingme', 'lowis', 'comeonyoublues', 'frankmusik', 'nklage', 'brandian', 'sindri', 'dueeet', 'blackbirdgang', 'whooverville', 'couldbebythebeach', 'milansofficial', 'freedon', 'levitan', 'convictio', 'tourfcb', 'restaining', 'crookly', 'twittwit', 'merlinmedia', 'picbadge', 'chicagoriffic', 'whatabadass', 'haynesworth', 'poelher', 'firstq', 'spellcheckjoke', 'timoleague', 'corkbuzz', 'draggi', 'elastix', 'heavenforgiveme', 'acccg', 'lionsrt', 'callmatterface', \"'x\", 'hansworth', 'rooody', 'tollner', 'thishasgottabeagoodlife', '>same', 'boi<lol', 'sangz', 'getnthefucoutofhere', 'ivaluemylife', 'dantrai', 'polizeros', 'banglad', 'wsjd', 'stfosb', 'catherinebel', 'yaycollege', 'whigfield', 'lrank', 'whangamata', 'behindthegoal', 'ruskies', 'jurrel', 'staytunned', 'briens', 'yclassics', 'mcgeezers', 'rangels', 'backtohauntthescum', 'prsns', 'walbridge', 'hmsbounty', 'truevolfan', 'gobigorange', 'metenolone', 'egbn', 'loadofbollocks', 'periscopes', 'gallowgate', 'kwames', 'cosburn', 'grulkefest', 'gozags', 'noexam', 'mtvb', 'revercomb', 'khedi', 'prombley', 'sreven', 'justsharing', 'pulaskiday', 'bruceness', 'kandifactory', 'butilovethemsomuch', 'itssoearly', 'indhi', 'theloniousstudios', 'journolist', 'fourthird', 'slayor', 'wescoal', 'nydn', 'gorch', 'favog', 'stevietv', 'clockwinder', '<<<<', 'rtrivia', 'mcadory', 'suadonte', 'hadtohurt', 'shoutfore', 'panchayats', \"'c\", 'hustlehardwednesdays', 'mattock', 'mythbusting', 'cyberzone', 'taptotweet', 'trackofthe', 'elicited', 'gansbaai', 'sonotintech', 'haggins', 'rossomando', 'yaknowyawanna', 'whomadewho', 'plunking', 'hotdiggitydog', 'lichty', 'westsalemyounglife', 'intermsa', 'badhabitz', 'omgyu', 'biasseu', 'ksghskjfghksfjgsg', 'sechin', 'missthe', 'shreddie', 'sshes', 'freepizza', 'shanney', 'wooooooooaaaaaaaaaaaaaaaaah', 'onetowatch', 'withtia', 'mediapolis', 'noesen', 'rakell', 'gfyh', 'thaoshow', 'flosc', 'tourofcalifornia', 'hhgttg', 'thatmakessense', 'noitdoesnt', 'phinsider', 'blackall', 'imaginaryfriends', 'unobscured', 'anointment', 'teare', 'greatkickoff', 'ooshma', 'mayfourthbewithyou', 'bangl', 'tccic', 'todoroff', 'harbutz', 'istrategies', 'otool', 'henshall', 'thown', 'tlvbog', 'gamingitup', '>>>>>', 'univb', 'drctd', 'beitthemeans', 'tuggo', 'bathrms', 'ahsaan', 'salish', 'accuplacer', 'armbars', 'klasnic', 'quadrotor', 'rhoatl', 'liiiiiiiiiiiiiiiiiiiiiiiiiiiiiiiiiistoo', 'dmvsofficialhost', 'quizzage', 'lmove', 'sejesong', 'imbizo', 'youtubablehd', 'cakecrawl', 'mmaw', 'eekly', 'ghygftrdghgc', 'bluewkd', 'ihoops', 'aubtourage', 'goading', 'shariq', 'stolenspace', 'caseyface', 'ilroy', 'stoproguetipsters', 'koxx', 'thelema', 'maroccan', 'frontignan', 'shaaaataaaaaaaaap', 'sanitisers', 'tronics', 'cutoms', 'ogoplay', 'mohamm', 'kcrgfnl', 'tohse', 'denure', 'oflinkedin', 'masvidal', 'stateofloveandtrust', 'juddmonte', 'bhupinder', 'legalizeweed', 'indvafg', 'cufi', 'beatified', 'nacamam', 'bestlunche', 'upns', 'rayys', 'charrish', 'parisnice', 'mathnasium', 'mathing', 'usaaf', 'klingler', 'gaffrey', 'cufidc', 'affadavit', 'mitd', 'llani', 'stansbury', 'upco', 'udofia', 'hyfc', 'scenecity', 'echorev', 'nulc', 'isba', 'romannucci', 'blandin', 'ccsao', 'ungaretti', 'brick$quad', 'targetonourbacks', 'hatedbyall', 'swiftbroadband', 'norqway', 'weapo', 'eagels', 'wichitans', 'awaitrt', 'nindooooot', 'alwaysinourshadow', 'osauna', 'isulong', 'iaogui', 'uroutoftouch', 'pandomonthly', 'debagged', 'bicyclefilmfestival', 'coloum', 'seabuiscuit', 'ostend', 'wordtomymuva', 'scoggins', 'spectr', 'mysoginists', 'mthds', 'solemnis', 'simchat', 'hahahahqa', 'sierranya', 'raleighnews', 'coldsummernights', 'limeligh', 'withpolo', 'bodemeister', 'struggeling', 'sjoekoe', 'calanders', 'ladieshereicome', 'mrwa', 'purehonesty', 'koated', 'corncobs', 'shakeandbakejays', 'bootstoasses', 'betthat', 'kamvar', 'hockenberry', 'whywouldyounot', 'chayas', 'cabbaged', 'poyntz', 'furney', 'shackelfor', 'hiestand', 'limewax', 'zolex', 'playcentre', 'infity', 'infinitieth', 'anniversity', 'passalong', 'lenghty', '<via', 'instagram>', 'rrrrrrtt', 'finnest', 'minnes', 'leansix', 'rolltimber', 'soulis', 'rattlestick', 'bbsr', 'autorickshaw', 'shatec', 'ogunribido', 'vbnss', 'swooooooooooooon', 'danferguson', 'supercharging', 'tsere', 'mabone', 'vinoomankad', 'profgetcrunk', 'muchoforex', 'alwayyyyyyyz', 'szcze', 'sdtrk', 'sunee', 'bashaara', 'omegapharma', 'jonrowe', 'mushes', 'chroniclel', 'oztix', '$kmi', 'rerread', 'hitchhikersguide', 'nmrhs', 'nesba', 'unbent', 'emmalin', 'manyatta', 'thorbjornsen', 'guernville', 'kifs', 'teatrett', 'asianboyproblems', \"'''''''\", 'redlicki', 'gregurovic', 'imatmybreakingpoint', 'canttakethisanymore', 'americaplatz', 'luxford', 'otball', 'flightboys', 'stoneleigh', 'adambehindthemusic', 'wusb', 'streetfm', 'beatcleve', 'proudofallstar', 'flyout', 'yets', 'metormix', 'lestar', 'ormiley', 'maybewewillgetfreestuff', 'itsnoteasy', 'lomardi', 'pisseeed', 'kylngan', 'matakbuhan', 'onyourown', 'musicmakesallbeta', 'patiovortex', 'myaznow', 'instagramaz', 'notjudge', 'latifaa', 'idontwantit', 'startedfromthebottumnowwe', 'rehere', 'mathhomework', 'linearlagebra', 'anglamigeh', 'griffithvotes', 'unlessyourwillingto', 'asthmaticproblems', 'justwhatiwanted', 'premeres', 'hetton', 'nataaashaann', 'cainer', 'smashemsixers', 'forracing', 'fishguard', 'uysa', 'thisisourchance', 'eunjini', 'passafire', 'mayhall', 'commonweath', 'trosk', 'motorscooters', 'evanscence', 'mdsl', 'fhv', 'dstl', 'vestron', 'mysl', 'freedomchurch', 'makerere', 'moggill', 'clownvis', 'riverfolk', 'spiediefest', 'onlychildprobs', 'teamltd', 'shaara', 'igtoa', 'linksgolf', 'snowsqualls', 'priding', 'lovekids', 'alliums', 'alliumsvancouver', 'nomessing', 'theaccused', 'limaland', 'greatnorthrun', 'allibhoy', 'likeah', 'believeinbritain', 'fweekend', 'dirb', 'gomudcats', 'luley', 'giffen', 'mainroom', 'gunplays', 'uninvolving', 'puttingitoutthere', 'wetwild', 'bingofansrock', 'targetrun', 'vulindela', 'jumpingoffbridges', 'cowfish', 'atfernoon', 'madrasha', 'ccdjo', 'thuuuuuursday', 'wpsl', 'lovemyealges', 'billcosby', 'bcae', 'handsley', 'dempsie', 'capistranos', 'kingsroyal', 'tomorrowcome', 'docudrama', 'muldowney', 'twittless', 'aaronovitch', 'nifwa', 'natash', 'hogia', 'imagre', 'ironmanwales', 'contaldo', 'majerle', 'biels', 'metallicas', 'coddyy', 'quotage', 'monstertruckrally', 'clockenflap', 'miketindall', 'glaws', 'festve', 'pensdown', 'hairstrks', 'thebigsalad', 'hartigan', 'wgts', 'garnter', 'itba', 'gfmodelsearch', 'sdfair', 'babymakinmusic', 'supposingly', 'hahaish', 'butitshouldbe', 'seasonw', 'atws', 'expediaatatws', 'bcls', 'hotjam', 'norell', 'ofarrel', 'mamaway', 'kftc', 'shortstraw', 'singlebed', 'smaaash', 'midnightrun', 'gsdm', \"''''\", 'dunkelweizen', 'studykas', 'kennylofton', 'barrowland', 'bunchofdrunks', 'yodephy', 'kilmacolm', 'iscout', 'tdbluesfest', 'hwrc', 'rockapalooza', 'maythethirstbewithyou', 'chessdom', 'aternoon', 'glencross', 'smoqued', 'dennisport', 'cmonhearts', 'gelfand', 'rowson', 'kzht', 'beckey', 'whyistherumgone', 'pabh', 'hibsv', 'tynie', 'bwob', 'iparkback', 'boroughbridge', 'dolak', 'portlandevents', 'veneranda', 'withthursday', 'lallysmarine', 'boardbash', 'verbana', 'alkek', 'concra', 'withus', 'withthis', 'blewthemoffstage', 'jfaa', 'cawfields', 'facemasssssssk', 'manran', 'skerryvore', 'vatersay', 'teuchters', 'perrcy', 'ngsgigpick', 'vneu', 'cccr', 'debona', 'herbet', 'birkett', 'boxleitner', 'diggly', 'hadrians', 'knockhill', 'bringonthesun', 'hibeees', 'givemetissues', 'afhv', 'guradian', 'fastrackids', 'chaisson', 'moshtastic', 'rhyn', 'fastrak', 'nekroman', 'threshol', 'hawthornes', 'batmanrules', 'sysak', 'bbcnewsline', 'britlit', 'jungfraujoch', 'sinkingin', 'midorilie', 'russmalone', 'weissenhofer', 'skyliving', 'uofu', 'dannok', 'supehero', 'mobtown', 'marsmonth', 'shitei', 'cardassians', 'cantgetitcantbegot', 'ppropriate', 'sustenpass', 'whereub', 'realizm', 'cabooze', 'jammingatmydesk', 'peepot', 'wfpk', 'notenoughbudlight', 'wedoinggood', 'almondsbury', 'dependingon', 'mitchiesbday', 'aments', 'westonator', 'reakwon', 'kahri', 'songkla', 'weartynederby', 'rukeyser', 'dalllas', 'unterseen', 'brienz', 'funkyjiujitsu', 'hykeham', 'kwafaku', 'mautz', 'suchakid', 'fungeon', 'doublewide', 'nuremburg', 'amgst', 'chldrn', 'shoooooooooot', 'depdir', 'needmoreballs', 'mattcain', 'dirtypirate', 'dunky', 'cinelove', 'bernia', 'firstlightmaui', 'fastpasses', 'wianno', 'kspn', 'lacountyfair', 'mamedyarov', 'illbringabottlenexttime', 'chervona', 'samove', 'folkrockinpsychedelia', 'strou', 'reshow', 'welshies', 'mobbies', '>mainstream', 'brunsco', 'holicks', 'imaf', 'danladi', 'baluchi', 'globetops', 'banjaxed', 'hepc', 'verdacious', 'gogreenday', 'vaessen', 'yyjarts', 'mekupvjcm', 'pureapplication', 'vmplplfdr', 'worstdayofmylife', 'breakupcure', 'rolldawg', 'imthereal', 'igem', 'sakonnet', 'prattle', 'lawrences', 'twaimz', 'xlad', 'kunkle', 'fanstatic', 'cardealership', 'toyotacars', 'leaveyourwalletathome', 'townace', 'cehod', 'ditherer', 'garuba', 'jerrilyn', 'ambassad', 'florewood', 'boldindenver', 'toyotawins', 'eblola', 'ecohub', 'youarebeingridiculous', 'wishesfor', 'arshull', 'edurebelplaylist', 'chemweaps', 'snyderman', 'thehaguedate', 'inaugurational', 'whatvhdjd', 'tetrad', 'hzkjkanajajans', 'rembwj', 'boatcrews', 'tongass', 'pipoy', 'keivarae', 'narwal', 'hindusthan', 'cclassof', 'clickbait', 'eilar', 'mnerbtkn', 'ashtonweloveyou', 'agentsofshield', 'ladysif', 'restonic', 'qufh', 'tenebrarum', 'friendshipgoals', 'triscygaming', 'folston', 'rayge', 'chazelle', 'drumlets', 'freeghoncheh', 'outstandi', 'custs', 'illinoiscentral', 'congrss', 'leiff', 'lastfreemovieweekend', 'trendlines', 'lawsui', 'udlp', 'formycollection', 'lorer', 'wcff', 'elmsdale', 'dmascara', 'cawcaw', 'phillps', 'sparkplugs', 'skillsusa', 'weightings', 'unweighted', 'lawsbians', 'rougue', 'sobchak', 'shomer', 'fuckzuniga', 'thirtyone', 'earsay', 'uptheceltic', 'bfish', 'theowls', 'nymburk', 'raivio', 'outc', 'macjc', 'schtum', 'thereisnogod', 'luverz', 'turlough', 'tractators', 'randip', 'newseries', 'scupad', '>not', 'geniusfootball', 'lateisha', 'rumbelows', 'everu', 'trustfull', 'madal', 'ocmea', 'boou', 'ikue', 'bsca', 'forensi', 'rashtriya', 'sprowston', 'sweepings', 'towles', 'hief', 'golbal', 'manufactureing', 'vampirediariesseason', 'delenaforever', 'spoitforchoice', 'neodesha', 'fact>governments', 'jamoke', 'dharamsalart', 'geniuscoach', 'withassad', 'rebull', 'adorrbbs', 'sorabh', 'brandes', 'subscribtion', 'heupel', 'tuggle', 'shokingnews', 'maseru', 'skulltullas', 'sunandas', 'wtgawm', 'redgrift', 'kesic', 'mrozek', 'bhoolte', 'netflixqueen', 'enyatta', 'infectioncontrol', 'prognostic', 'resignd', 'aftrwrds', 'acceptd', 'offrd', 'kozun', 'nashlynn', 'kuwelcome', 'kamwana', 'absar', 'lafafa', 'sahafi', 'narendr', 'anynumbersulike', 'saxet', 'healthline', 'bissinger', 'schlubby', '$lake', 'tdsportsfact', 'preettyy', 'lonavala', 'panthro', 'bokampers', 'marketsong', 'easybeats', 'mississipppi', 'intercoms', 'usagp', 'octthird', 'kittleson', 'harryandlouis', 'bringbacksungwoo', 'gamakatsu', 'notadream', 'dafuckouttahere', 'prefunk', 'preparefshiporludicrousspeed', 'basketballisback', 'mykenzi', 'greenler', 'cescboy', 'ationfantasy', 'familiesgiants', 'kleinpeter', 'alumnis', 'avging', 'cowb', 'bumgardner', 'obanikoro', 'mansarovar', 'jokehave', 'yugadu', 'rayfcb', 'sulusyon', 'wyalong', 'rizaul', 'evenko', 'swachhhta', 'observationsoflifeonearth', 'hawksfamily', 'udhav', 'onlygoodsurprises', 'gingras', 'mazzega', 'lumby', 'habibur', 'budman', 'tyyl', 'lwlive', 'chowkidar', 'blackmoney', 'sideout', 'breakdances', 'burdwanblast', 'englishtvshow', 'englishtvseries', 'hollywoodtvseries', 'knottsscaryfarm', 'rulemaking', 'officethings', 'galvanised', 'emagination', 'bjshspride', 'pesak', 'deamicis', 'bostonheral', 'eitd', 'recollecting', 'findarealsportsstory', 'wylong', 'airbridgecargo', 'airlink', 'thov', 'condolance', 'pprwrk', 'mcdcc', 'maalden', 'tiberian', 'butthatsnoneofmybusiness', 'michaeljacksonbook', 'langthorne', 'mussic', 'thsoul', 'yayadub', 'aldubjourneytoforever', 'siedah', 'mawm', 'freddiemercury', 'dolocal', 'lql', 'kingvention', 'tingalingalingalingashingshongbhungbhaaanng', 'martinlos', 'wowowowowoowowowwowowowoow', 'withmoderate', 'cameyyboo', 'andhedid', 'dehelicoptering', 'bereden', 'sheerly', 'disneyinfinity', 'prendeville', 'thekindfox', 'rugid', 'maribolhd', 'shelbydenise', 'kamcord', 'techybutnotagamer', 'diamods', 'elemcode', 'ssmississippi', 'penicuik', 'flumplover', 'derosion', 'tcmp', 'truetriz', 'appeases', 'technascribe', 'truthstream', 'insectiside', 'genenration', 'theophrastus', 'devoloping', 'dicamba', 'monopolist', 'smooshing', 'gucciardi', 'farminglife', 'melbouirne', 'dihydrogen', 'expediencies', 'notenoughhoursinaday', 'gearity', 'dinotrux', 'helfstein', '$nflx', 'collegegoals', 'longmirepremieres', 'chavbants', 'anyonr', 'snkrs', 'is>>>', 'withcoupon', 'geauxgreek', 'rwednesday', 'toughed', 'genlivecast', 'treatyourfeet', 'whoopse', 'freshkicks', 'klgg', 'amibo', 'youkblow', 'apjeae', 'splatoon', 'bryyus', 'faceplaces', 'twitterconnect', 'trivia>', 'pikman', 'supermariomaker', 'katbonn', 'betwwn', 'exageratin', 'uvqeda', 'chromesthesia', 'vuvw', 'wspjek', 'hamily', 'huaxin', 'equipm', 'kwcauf', 'gadgetreview', 'ressmusic', 'holidayfails', 'pqd', 'scudobb', 'paphian', 'warrantable', 'ctcift', 'dithers', 'capitulated', 'hilliar', \"'us\", 'dumham', 'undocked', 'crapifying', 'contaminant', 'infoteckno', 'cloudbnb', 'appln', 'psip', 'maxymiser', 'mscd', 'snarez', 'amwritingfantasy', 'gybe', 'acwsgothenburg', 'exastack', 'apgrod', 'altgames', 'sqgne', 'memcached', 'earworms', 'radiom', 'akchote', 'sufers', 'wattleton', 'appendectomies', 'appendixes', 'prolifers', 'foetuses', 'shannonbream', 'disallows', 'anned', 'sunsara', 'sistersong', 'parenthhod', 'kcci', 'venial', 'ruffe', 'hylka', 'canonize', 'travestys', 'sanhedrin', 'annnounced', 'tecniq', 'wisctv', 'withscience', 'concelebrates', 'concelebrated', 'churchpop', 'vanpride', 'thisisnotajoketweet', 'sogic', 'burnabyschools', 'bpoli', 'clipboarding', 'hereinvancouver', 'landel', 'bitchm', 'beautifulwords', 'parparparparparparpar', 'nightofchampions', 'winnowing', 'intheam', 'dawnbusters', 'trumpkins', 'copols', 'madetx', 'oopsididitagain', 'oann', 'mcgnews', 'dkeu', 'huppke', 'bastersised', 'uproarious', 'nativist', 'oberfeige', 'readityourself', 'deism', 'unambiguously', 'equalprotection', 'vitiated', 'smartset', 'ecognized', 'netflixisdangerous', 'ithinkimgettingold', 'olshey', 'adultshit', 'andthenthereweretwo', 'shirking', 'cygs', 'oponents', 'serena>venus', 'veealways', 'skrongest', 'serenavs', 'serana', 'unseeded', 'willaims', 'celic', 'goolagong', 'enoff', 'gangsterishness', 'ghostwritten', 'charnley', 'gldo', 'marijune', 'ginandjuice', 'raremusic', 'teleca', 'withgreat', 'cinealta', 'dldtelaviv', 'techupdates', 'rareware', 'letsfootball', 'oculusrift', 'kylo', 'ijustnerdedsohardmyglassesbroke', 'forcebook', 'rowys', 'orememberallthememories', 'childrenslibrarian', 'edgelords', 'fullarton', 'mamamoo', 'moomoos', 'nsider', 'apppearing', 'rollinsvs', 'skaroulis', 'shedden', 'innerkip', 'labourday', 'labourdayclassic', 'ctober', 'inteliquent', 'overnighted', 'canadiancellphoneplanssuck', 'ubalt', 'sprintlikehell', 'floriduh', 'tmonews', 'lycamobile', 'techyup', 'limantur', 'swift>>>', 'babbled', 'conceet', 'tickwts', 'agaian', 'concerrt', 'newbrunswick', 'toxie', 'weekendsinloo', 'winefestival', 'keszthely', 'skeepung', 'cryiiiing', 'sherringham', 'kumatomo', 'tellafriend', 'ointb', 'ocotber', 'therewas', 'makehimhuge', 'shitverse', 'fingerfood', 'besttimeoftheday', 'getyourmindwright', 'stayonyourgrind', 'bubbleglow', 'silosobeach', 'withdj', 'beatulm', 'sparkbox', 'mamamiasfl', 'virture', 'sensies', 'pairin', 'tigertwirlchallenge', 'withtiger', 'tigersucks', 'atpf', 'grrrrrrrreat', 'tigermania', 'aldubbattle', 'newsdrop', 'ihavea', 'cruiserelatedproblem', 'iwatched', 'undercoverjuggalo', '$cientology', 'fabulized', 'sakurazaka', 'filmreview', 'northwe', 'tushi', 'kovic', 'critisisms', 'inspirationally', 'campbeltown', 'renationalise', 'cands', 'circumnavigate', 'dunderheads', 'girfuy', 'ignominy', 'replicants', 'libdemfightback', 'feasibly', 'putative', 'communityenergy', 'mahri', 'mexv', 'protestirandeal', 'rilley', 'stephencolbert', 'colbertlateshow', '<<<popcorn', 'panderer', 'abhorrence', 'laring', 'usamex', 'atrack', 'bighting', 'betteroffin', 'credibly', 'tsiprass', 'ipras', 'quisling', \"'v\", 'emasculation', 'demagogs', 'reschudeled', 'thanou', 'austerian', 'pronounceable', 'resignaton', 'stenmark', 'lafazanis', 'capitulating', 'loverdos', 'gennimata', 'perphaps', 'pendarves', 'grimbergen', 'ilegals', 'ukipmanifesto', 'usurps', 'indipendant', 'gaypolitics', 'nuttily', 'bbcbias', 'kaylei', 'pellsy', 'jiyuugaoka', 'knispel', 'mohreng', 'phinal', 'phreddy', 'morenike', 'gamepack', 'doubleseventh', 'goteem', 'aylien', 'backtofootball', 'kskddkdkkjsjus', '<<<<<', '>>>>>>>>>>>>>>>>>>>>>>>>>>>>', 'sunsetswithmearethebest', 'treturns', 'yktd', 'vscogrid', 'gotopless', 'toplesevent', 'blippers', 'yesplural', 'happypassiton', 'meetkvell', 'bigdon', 'ninasimone', 'massiveaction', 'prayforang', 'mixtapecominsoon', 'artdropday', 'askjeeves', 'uninstallahoy', 'indrajit', 'sidelin', 'ndows', 'progamecards', 'winxboxlive', 'gjallarhorn', 'gunscape', 'gearsof', 'xelite', 'lpay', 'ibarhimovic', 'psgfio', 'psgche', 'condenders', 'p$g', 'zlachan', 'shawdowed', 'pleeeeeeze', 'greizmann', 'dsgs', 'newooffice', 'somesuch', 'isntall', 'multiculturals', 'upgradeyourworld', 'nacr', 'contactcenter', 'diehardfans', 'bitlocker', 'ftatr', 'dundascactus', 'thatwasgoat', 'lescalleet', 'theriault', 'nauss', 'butitshisfavoriteband', 'startschoolyearoffwithnosleep', 'aftertheholiday', 'moderncurses', 'nnouncing', 'urbanartsent', 'smrecords', 'doingjusticeishine', 'yuckiest', 'islide', 'silvr', 'replacmnt', 'jandals', 'sophieandscottie', 'chapterbooks', 'juvenilefiction', 'uroboros', 'thegirlwho', 'andbreathe', 'timesx', 'puchase', 'sneakypete', 'tablettv', 'unsignable', 'handof', 'instacart', 'happyprimeday', 'qchf', 'bluetoo', '>gamergate', '>amazon', 'amazonprimeday', 'nienaber', 'merkelstreichelt', 'withoff', 'outmaneuvered', 'eurocrats', 'chabrier', 'accussing', 'youngish', 'enophobia', 'foxreg', 'seceded', 'gunboat', '<long', 'stuff>', 'destinythegame', 'appleevent', 'withold', 'techthings', 'wheretheladies', 'charlesmilander', 'kckstr', 'bendgate', 'appyea', 'bostonfest', 'domayne', 'showyourpoppik', 'guardiantech', 'aales', 'supprting', 'speaktofrank', 'nachukia', 'centreback', 'warchest', 'aismaros', \"'ne\", 'bronnt', 'bsff', 'portsnews', 'bbceurofooty', 'creampuffs', 'spartaa', 'tikisad', 'goobie', 'rcbm', 'ubli', 'poojokes', 'takethatbobcats', 'batmania', 'twitchstreaming', 'peschi', 'fairhead', 'hsbcfraud', 'axschat', 'persuaders', 'rowett', 'hardacres', 'habourer', 'mediacityuk', 'lochgoilhead', 'carluke', 'chatterley', 'theatreofdreams', 'gerontius', 'witchell', 'bbcnow', 'eddtheduck', 'kuenssberg', 'chockablock', 'ajavon', 'lynnhurst', 'kugler', 'anthrop', 'wanews', 'kevcars', 'ultimatex', 'gophoenix', 'bentleyvolleybal', 'hudsonvalley', 'jetaun', 'jennison', 'buscher', 'arriveinstyle', 'montalto', 'weddingcars', 'iowapublictelevision', 'iacaucus', 'antizionist', 'stopthespincycle', 'butthurtaf', 'kesmoov', 'ratiwa', 'salutejayz', 'thesejulez', 'posioned', 'briekc', 'atics', 'ifiwereaboy', 'myvoiceisflawless', 'capeclothconvo', 'bestinlombok', 'nycctseek', 'funkstardlx', 'sandyford', 'pucklechurch', 'bobmaley', 'digitallioness', 'upfull', 'enjoy>>>', 'emancipateyourself', 'explosition', 'shopinsidermorning', 'scruple', 'louisianan', 'notthatguy', 'parentood', 'amnd', 'nanometrology', 'hosaka', 'gallerist', 'grantwriting', 'wkshp', 'virginradio', 'chinenye', 'oguejiofor', 'zuoma', 'getfound', 'ammers', 'nyckids', 'wastefulness', 'berekum', 'ahosc', 'roannad', 'uttley', 'seanzi', 'handlebards', 'kensinton', 'mounrinh', 'lhsc', 'afcbcst', 'vintagefashion', 'brannagan', 'teyona', 'omarian', 'intermarque', 'alsinas', 'santullo', 'dwnloads', 'onehellofanighttour', 'jthrone', 'sheerhan', 'irishness', 'avecessi', 'wretribution', 'rigge', 'fightweets', 'conormcgregorvjosealdo', 'togging', 'iamadad', 'dadsgirl', 'blessedbybecks', 'hackerystreet', 'videois', 'remorseless', 'renegotiation', 'tightentheborders', 'taghoot', 'srvcs', 'heartlessness', 'absented', 'sentimentalists', 'titmouse', 'sunsation', 'ssecrist', 'creativecollab', 'chinning', 'grantat', 'bbday', 'nicoletrevino', 'koosta', 'fangayz', 'starli', 'lastfewdaysoffreedom', 'moonbyul', 'werunsocial', 'machimiya', 'toinfinitiandbeyond', 'therealpsl', 'muayad', 'republication', 'chessing', 'princessvictoriatakesover', 'runningmate', 'cascamorras', 'shrolong', 'adamczykankara', 'nawazsharif', 'turkties', 'erdog', 'islamo', 'egpytian', 'mukhtars', 'entranc', 'cenbank', 'basci', 'legislat', 'erdoganum', 'towrds', 'grettune', 'luthern', 'chiefweek', 'pimpnjoy', 'americastrong', 'theafter', 'allentownfair', 'glibert', 'requestingasongviatwitter', 'drinkalittledrink', 'smokealittlesmoke', 'djokernole', 'djojk', 'tiebreaks', 'laaazzzy', 'truepro', 'usopenworld', 'berdy', 'bopanna', 'breakpts', 'deliciano', 'inabudhabi', 'dlwp', 'ciarans', 'vinylrecords', 'grooovin', 'proudmummoment', 'fanrequest', 'braaivleis', 'befokte', 'preesed', 'songofthesummer', 'ejectable', 'pymnts', 'offiically', 'fmea', 'decklists', 'hardhome', 'skrein', 'vancanadians', 'mustpushthrough', 'zcms', 'seasns', 'fiddlenp', 'withholy', 'kyhwana', 'announment', 'connotes', 'serifprobs', 'ecodesign', 'ivsh', 'nightguard', 'bruxism', 'aumrsch', 'smslearn', 'escreveai', '$myec', 'decouple', 'uncoupling', 'motovloggers', 'apurv', 'epicsketchtime', 'angout', 'lichfieldlocal', 'capabiliti', 'worldbuilding', 'worldbuilddive', 'unintuitive', 'gnomies', 'hellmouth', 'refractoria', 'greenvibesstage', 'csnba', 'mindbender', 'owsley', 'besic', \"'ol\", 'fennario', 'hfu', 'nderpants', 'taiul', 'calgarycmmc', 'cmmc', 'mckernan', 'pappademas', 'akbota', 'sakizuke', 'sickrage', 'tracon', 'maddin', 'wonderfalls', 'duceppe', 'goldschimdt', 'elexn', 'stopharper', 'auditthis', 'pogey', 'crreated', 'distnce', 'saphic', 'netherby', 'ignatieff', 'splatitude', 'pottergenes', 'malazan', 'scworld', 'rithin', 'creevey', 'dylanknows', 'whoneedsabf', 'celebrityonholiday', 'palfreyman', 'herdman', 'bunnydoodles', 'sketchdaily', 'rehashes', 'dwarfing', 'sadtrombone', 'llary', 'readyfortheshow', 'pagliano', '<p>hillary', 'ibmcsc', 'wtvox', 'highvail', 'vdzjs', 'thewatercooler', 'beadonor', 'twhyb', 'mynextbigproject', 'fedramp', 'blsaud', 'gerstner', 'smartcamp', 'traversive', 'socialbiz', 'visut', 'skandinavisk', 'karrieremesse', 'enchoice', 'ibmstu', 'ibmtraining', 'indianbizparty', 'omlis', 'thewebfix', 'alpah', 'noapps', 'ibmmobile', 'netezza', 'inmail', 'harreld', 'necessaries', 'proclamat', 'plhek', 'itoa', 'ibmmiddleware', 'informix', 'proceedures', 'ayfx', 'silverpop', 'tabulating', 'weeklytweet', 'whenindoubtpancakeitout', 'illserve', 'tresco', 'treliske', 'quickkey', 'yashan', 'speedenews', 'customfoldericons', 'annonced', 'signded', 'healthkit', 'kander', 'codigames', 'arpg', 'lumino', 'cataloguing', 'articlesection', 'classpagepandroid', 'ugmonk', 'android>star', 'munzee', 'spiritanimal', 'applegenius', 'stillnojobthough', 'maxipad', 'kweent', 'anthonychat', '$tm', 'postexistence', 'kubusfair', 'pokeymanz', 'castleberryisd', 'studyrelief', 'transloader', 'africapkenya', 'adblockers', 'onlineadvertisers', 'relegious', 'photographyproblems', 'ievent', 'unvieling', 'splus', 'gediminas', 'breyana', 'oldtech', 'personalmediadevices', 'tsirtech', 'mondaydaze', 'cancelmonday', 'isopropanol', 'topfootballfacts', 'czarface', 'algeba', 'beyday', 'colberts', 'nocolbert', 'matronly', 'stoptrump', 'fairgoers', 'germophobe', 'fioriana', 'craphole', 'presient', 'irandeal', 'hawkie', 'cobbling', 'blessfull', 'joebiden', 'gropy', 'mcmorning', 'manawaiopuna', 'redlandsbowl', 'humanicators', 'ishouldjustwatchthat', 'tftbl', 'skoyles', 'biomedicalodyssey', 'trevorrow', 'parttimeproblems', 'wwcpd', 'lungnsquats', 'devantae', 'daugaardonomics', 'myro', 'beibber', 'clubstore', 'gionarta', 'harnanes', 'seasoncard', 'allireland', 'actiderm', 'omins', 'relaunche', 'ballybunion', 'lovekerryk', 'atomicko', 'analasys', 'kerryvdublin', 'kerryforthedouble', 'madelines', 'coldrick', 'oppressively', 'fodmap', 'vaselines', 'crecs', 'montageofheck', 'documentarously', 'november>to', 'montageof', 'alburm', 'banksof', 'glamorized', 'sackcloth', 'gluma', 'groul', 'orccon', 'mauibeachblankets', 'kiryas', 'deeproots', 'ludaday', 'cornhusker', 'stylesxxlover', 'notbb', 'pfbc', 'vergecast', 'walkenhorst', 'hoverboar', 'martymcfly', 'suec', 'spinningfields', 'nznews', 'hoverdrift', 'carkit', 'affle', 'suggestacorbynsmear', 'kenbrook', 'livehappy', 'withshenanigans', 'huws', 'communale', 'madonnarama', 'ssanget', 'brucker', 'whosthatgirl', 'fridayfunday', 'tgifholiday', 'hoorayformonday', 'workwork', 'novaturient', 'otautau', 'plunket', 'channingishot', 'magicmikexxl', 'ermahgaaad', 'daaaarn', 'filmgoers', 'rbeautyisenough', 'whistleregister', 'rosebery', 'melson', 'buythe', 'tachyon', 'holidayed', 'jodhi', 'tvkf', 'wanttowantme', \"'ld\", 'mrchip', 'backlift', 'alciato', 'mexicovsargentina', 'jetsapp', 'coleswindell', 'pittickets', 'otrametlife', 'letmeseeyagirl', 'schreier']"
     ]
    },
    {
     "name": "stdout",
     "output_type": "stream",
     "text": [
      "\n"
     ]
    }
   ],
   "source": [
    "print(oovs)"
   ]
  },
  {
   "cell_type": "markdown",
   "metadata": {},
   "source": [
    "# Features"
   ]
  },
  {
   "cell_type": "code",
   "execution_count": 4,
   "metadata": {},
   "outputs": [],
   "source": [
    "feature_df = sem_eval.copy()"
   ]
  },
  {
   "cell_type": "code",
   "execution_count": 36,
   "metadata": {},
   "outputs": [],
   "source": [
    "def create_polarity_dict():\n",
    "    words = Afinn(emoticons=True)\n",
    "    emoticon_lookup_dict = words._dict\n",
    "    \n",
    "    # Emojis are replaced with annotiations e.g. :) -> <smile> and :D -> <smile> perform the same process on the afinn keys\n",
    "    emoji_keys = [':)', ':(', ':|', ':]', ':[', ':}', ':{', ':/', ':\\\\', ':*', ':-)', ':-(', ':-|', ':-]', ':-[', ':-}', ':-?', ':->', ':-*', ':-D', ':-P', ':-S', ':-p', ':-/', ':D', ':P', ':S', ':p', ':o)', \":'(\", '(:', '):', '(-:', ')-:', ';-(', ';)', ';(', ';-)', ';-D', '=(', '=/', '=\\\\', '=^/', '=P', '\\\\o/', '♥', ':-))', ':-)))', ':-))))', ':-)))))', ':-))))))', ':-)))))))', ':-))))))))', ':-)))))))))', '://', ':))', ':)))', ':))))', ':)))))', ':))))))', ':)))))))', ':))))))))', ':)))))))))', ':))))))))))', ':-((', ':-(((', ':-((((', ':((', ';))', ';)))', '<3', '<33', '<333', '<3333', '<33333', '<333333', '<3333333', '<33333333', '<333333333', '8(', '8)', '8-D', '8-)', '8-(', 'X-D', 'x-D']\n",
    "    emoji_type_lookup = {}\n",
    "\n",
    "    for key in emoji_keys:\n",
    "        val = preprocessor.replace_smileys(key).split()[0].strip()\n",
    "\n",
    "        if val == key:\n",
    "            val = hearts_regex.sub('<heart>', key)\n",
    "\n",
    "        if not val == key:\n",
    "            emoji_type_lookup[key] = val\n",
    "\n",
    "\n",
    "    annotation_counts = Counter(emoji_type_lookup.values())\n",
    "    annotation_polarity = {}\n",
    "\n",
    "    for key in emoji_type_lookup:\n",
    "        annotation = emoji_type_lookup[key]\n",
    "        annotation_polarity[annotation] = annotation_polarity.get(annotation, 0) + words.score(key)\n",
    "\n",
    "    for key in annotation_polarity:\n",
    "        annotation_polarity[key] /= annotation_counts[key]\n",
    "    # Create a fresh afinn scorer\n",
    "    words = Afinn()\n",
    "    # Grab the thing we care about\n",
    "    polarity_dict = words._dict\n",
    "    \n",
    "    # Add our annotation polarity scores to the afinn dict.\n",
    "    for key in annotation_polarity:\n",
    "        polarity_dict[key] = annotation_polarity[key]\n",
    "    \n",
    "    return polarity_dict\n",
    "\n",
    "def safe_div(x, y):\n",
    "    return x / y if y else 0\n",
    "\n",
    "def create_sentiment_features(text, polarity_dict):\n",
    "    score = 0\n",
    "    positive_score = 0\n",
    "    positive_count = 0\n",
    "    negative_score = 0\n",
    "    negative_count = 0\n",
    "    # For computing sentiment ranges.   \n",
    "    positive_max = 0\n",
    "    negative_max = 0\n",
    "       \n",
    "    for word in text.split():\n",
    "        # Remove characters also removed by the tokenizer\n",
    "        word = re.sub('[\"%()*+,-.:;=[\\]^_`{|}~]', '', word)\n",
    "        \n",
    "        if word in polarity_dict:\n",
    "            word_score = polarity_dict[word]\n",
    "            \n",
    "            if word_score > 0:\n",
    "                positive_score += word_score\n",
    "                positive_count += 1\n",
    "                if word_score > positive_max:\n",
    "                    positive_max = word_score\n",
    "                    \n",
    "            elif word_score < 0:\n",
    "                negative_score += word_score\n",
    "                negative_count += 1\n",
    "                if word_score > negative_max:\n",
    "                    negative_max = word_score\n",
    "                \n",
    "            score += word_score\n",
    "            \n",
    "\n",
    "    tweet_average = safe_div((positive_score + negative_score), (positive_count + negative_count))\n",
    "    average_positivity = safe_div(positive_score, positive_count)\n",
    "    average_negativity = safe_div(negative_score, negative_count)\n",
    "    sentiment_range = average_positivity - average_negativity\n",
    "    positive_range = positive_max - tweet_average\n",
    "    negative_range = negative_max - tweet_average\n",
    "    \n",
    "    return tweet_average, average_positivity, average_negativity, sentiment_range, positive_range, negative_range\n",
    "    \n",
    "    "
   ]
  },
  {
   "cell_type": "code",
   "execution_count": 37,
   "metadata": {},
   "outputs": [
    {
     "name": "stderr",
     "output_type": "stream",
     "text": [
      "49568it [02:44, 300.74it/s]\n"
     ]
    }
   ],
   "source": [
    "polarity = create_polarity_dict()\n",
    "\n",
    "def create_features(df, polarity_dict):\n",
    "    rows = []\n",
    "    for index, tweet in tqdm(df.iterrows()):\n",
    "        \n",
    "        tweet['orig_text'] = tweet['text']\n",
    "        tweet['text'] = preprocessor.preprocess(tweet['text'])\n",
    "        \n",
    "        average_sent, average_pos, average_neg, sent_range, pos_range, neg_range = create_sentiment_features(tweet['text'], polarity_dict)\n",
    "        \n",
    "        tweet['average_sentiment'] = average_sent\n",
    "        tweet['average_positivity'] = average_pos\n",
    "        tweet['average_negativity'] = average_neg\n",
    "        tweet['sentiment_range'] = sent_range\n",
    "        tweet['positivity_range'] = pos_range\n",
    "        tweet['negativity_range'] = neg_range\n",
    "        rows.append(tweet)\n",
    "        \n",
    "    return pd.DataFrame(rows)\n",
    "    \n",
    "feature_df = create_features(feature_df, polarity)"
   ]
  },
  {
   "cell_type": "code",
   "execution_count": 38,
   "metadata": {},
   "outputs": [
    {
     "data": {
      "text/html": [
       "<div>\n",
       "<style scoped>\n",
       "    .dataframe tbody tr th:only-of-type {\n",
       "        vertical-align: middle;\n",
       "    }\n",
       "\n",
       "    .dataframe tbody tr th {\n",
       "        vertical-align: top;\n",
       "    }\n",
       "\n",
       "    .dataframe thead th {\n",
       "        text-align: right;\n",
       "    }\n",
       "</style>\n",
       "<table border=\"1\" class=\"dataframe\">\n",
       "  <thead>\n",
       "    <tr style=\"text-align: right;\">\n",
       "      <th></th>\n",
       "      <th>class</th>\n",
       "      <th>text</th>\n",
       "      <th>orig_text</th>\n",
       "      <th>average_sentiment</th>\n",
       "      <th>average_positivity</th>\n",
       "      <th>average_negativity</th>\n",
       "      <th>sentiment_range</th>\n",
       "      <th>positivity_range</th>\n",
       "      <th>negativity_range</th>\n",
       "    </tr>\n",
       "  </thead>\n",
       "  <tbody>\n",
       "    <tr>\n",
       "      <th>620152459676282880</th>\n",
       "      <td>negative</td>\n",
       "      <td>the hidden budget tax rises george osborne did...</td>\n",
       "      <td>The hidden Budget tax rises George Osborne did...</td>\n",
       "      <td>1.00</td>\n",
       "      <td>1.0</td>\n",
       "      <td>0.0</td>\n",
       "      <td>1.0</td>\n",
       "      <td>0.00</td>\n",
       "      <td>-1.00</td>\n",
       "    </tr>\n",
       "    <tr>\n",
       "      <th>620331316597391361</th>\n",
       "      <td>negative</td>\n",
       "      <td>&lt;user&gt; you know go set a watchman is not being...</td>\n",
       "      <td>@BBCNews You know Go Set a Watchman is not bei...</td>\n",
       "      <td>2.00</td>\n",
       "      <td>2.0</td>\n",
       "      <td>0.0</td>\n",
       "      <td>2.0</td>\n",
       "      <td>0.00</td>\n",
       "      <td>-2.00</td>\n",
       "    </tr>\n",
       "    <tr>\n",
       "      <th>620419137018429441</th>\n",
       "      <td>negative</td>\n",
       "      <td>also just now starting miss usa &lt;allcaps&gt; so n...</td>\n",
       "      <td>Also just now starting Miss USA so nobody text...</td>\n",
       "      <td>0.25</td>\n",
       "      <td>3.0</td>\n",
       "      <td>-2.5</td>\n",
       "      <td>5.5</td>\n",
       "      <td>3.75</td>\n",
       "      <td>-0.25</td>\n",
       "    </tr>\n",
       "    <tr>\n",
       "      <th>620548396529618944</th>\n",
       "      <td>negative</td>\n",
       "      <td>talk about post holiday blues &lt;number&gt; seconds...</td>\n",
       "      <td>Talk about post holiday blues.15 seconds of Ge...</td>\n",
       "      <td>3.00</td>\n",
       "      <td>3.0</td>\n",
       "      <td>0.0</td>\n",
       "      <td>3.0</td>\n",
       "      <td>0.00</td>\n",
       "      <td>-3.00</td>\n",
       "    </tr>\n",
       "    <tr>\n",
       "      <th>620646196827140096</th>\n",
       "      <td>negative</td>\n",
       "      <td>so watchman is an earlier draft of mockingbird...</td>\n",
       "      <td>So Watchman is an earlier draft of Mockingbird...</td>\n",
       "      <td>2.50</td>\n",
       "      <td>2.5</td>\n",
       "      <td>0.0</td>\n",
       "      <td>2.5</td>\n",
       "      <td>0.50</td>\n",
       "      <td>-2.50</td>\n",
       "    </tr>\n",
       "  </tbody>\n",
       "</table>\n",
       "</div>"
      ],
      "text/plain": [
       "                       class  \\\n",
       "620152459676282880  negative   \n",
       "620331316597391361  negative   \n",
       "620419137018429441  negative   \n",
       "620548396529618944  negative   \n",
       "620646196827140096  negative   \n",
       "\n",
       "                                                                 text  \\\n",
       "620152459676282880  the hidden budget tax rises george osborne did...   \n",
       "620331316597391361  <user> you know go set a watchman is not being...   \n",
       "620419137018429441  also just now starting miss usa <allcaps> so n...   \n",
       "620548396529618944  talk about post holiday blues <number> seconds...   \n",
       "620646196827140096  so watchman is an earlier draft of mockingbird...   \n",
       "\n",
       "                                                            orig_text  \\\n",
       "620152459676282880  The hidden Budget tax rises George Osborne did...   \n",
       "620331316597391361  @BBCNews You know Go Set a Watchman is not bei...   \n",
       "620419137018429441  Also just now starting Miss USA so nobody text...   \n",
       "620548396529618944  Talk about post holiday blues.15 seconds of Ge...   \n",
       "620646196827140096  So Watchman is an earlier draft of Mockingbird...   \n",
       "\n",
       "                    average_sentiment  average_positivity  average_negativity  \\\n",
       "620152459676282880               1.00                 1.0                 0.0   \n",
       "620331316597391361               2.00                 2.0                 0.0   \n",
       "620419137018429441               0.25                 3.0                -2.5   \n",
       "620548396529618944               3.00                 3.0                 0.0   \n",
       "620646196827140096               2.50                 2.5                 0.0   \n",
       "\n",
       "                    sentiment_range  positivity_range  negativity_range  \n",
       "620152459676282880              1.0              0.00             -1.00  \n",
       "620331316597391361              2.0              0.00             -2.00  \n",
       "620419137018429441              5.5              3.75             -0.25  \n",
       "620548396529618944              3.0              0.00             -3.00  \n",
       "620646196827140096              2.5              0.50             -2.50  "
      ]
     },
     "execution_count": 38,
     "metadata": {},
     "output_type": "execute_result"
    }
   ],
   "source": [
    "sentiment_df = feature_df[feature_df['average_sentiment'] > 0.0]\n",
    "sentiment_df = sentiment_df[sentiment_df['class'] == 'negative']\n",
    "sentiment_df.head()"
   ]
  },
  {
   "cell_type": "code",
   "execution_count": 49,
   "metadata": {},
   "outputs": [
    {
     "data": {
      "text/plain": [
       "1720"
      ]
     },
     "execution_count": 49,
     "metadata": {},
     "output_type": "execute_result"
    }
   ],
   "source": [
    "len(sentiment_df)"
   ]
  },
  {
   "cell_type": "code",
   "execution_count": 61,
   "metadata": {},
   "outputs": [
    {
     "name": "stdout",
     "output_type": "stream",
     "text": [
      "Original: @realDonaldTrump I despise Sarah Palin. You may want her support, but she'll end up sinking you like she did McCain. Proceed cautiously.\n",
      "Processed: <user> i despise sarah palin . you may want her support , but she will end up sinking you like she did mccain . proceed cautiously .\n"
     ]
    }
   ],
   "source": [
    "row = shuffle(sentiment_df).iloc[0]\n",
    "print('Original: ' + row['orig_text'])\n",
    "print('Processed: ' + row['text'])"
   ]
  },
  {
   "cell_type": "code",
   "execution_count": null,
   "metadata": {},
   "outputs": [],
   "source": []
  },
  {
   "cell_type": "code",
   "execution_count": null,
   "metadata": {},
   "outputs": [],
   "source": []
  }
 ],
 "metadata": {
  "kernelspec": {
   "display_name": "Python 3",
   "language": "python",
   "name": "python3"
  },
  "language_info": {
   "codemirror_mode": {
    "name": "ipython",
    "version": 3
   },
   "file_extension": ".py",
   "mimetype": "text/x-python",
   "name": "python",
   "nbconvert_exporter": "python",
   "pygments_lexer": "ipython3",
   "version": "3.6.3"
  }
 },
 "nbformat": 4,
 "nbformat_minor": 1
}
