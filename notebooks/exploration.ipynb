{
 "cells": [
  {
   "cell_type": "markdown",
   "metadata": {
    "collapsed": true
   },
   "source": [
    "# Data Exploration "
   ]
  },
  {
   "cell_type": "code",
   "execution_count": 15,
   "metadata": {},
   "outputs": [
    {
     "name": "stderr",
     "output_type": "stream",
     "text": [
      "c:\\users\\chris\\anaconda3\\envs\\chris-dl\\lib\\site-packages\\h5py\\__init__.py:36: FutureWarning: Conversion of the second argument of issubdtype from `float` to `np.floating` is deprecated. In future, it will be treated as `np.float64 == np.dtype(float).type`.\n",
      "  from ._conv import register_converters as _register_converters\n",
      "Using TensorFlow backend.\n"
     ]
    }
   ],
   "source": [
    "import pandas as pd\n",
    "\n",
    "import os\n",
    "import sys\n",
    "\n",
    "module_path = os.path.abspath(os.path.join('..'))\n",
    "if module_path not in sys.path:\n",
    "    sys.path.append(module_path)\n",
    "\n",
    "from afinn import Afinn\n",
    "from src.load_data import get_data_sem_eval"
   ]
  },
  {
   "cell_type": "code",
   "execution_count": 2,
   "metadata": {},
   "outputs": [],
   "source": [
    "words = Afinn()"
   ]
  },
  {
   "cell_type": "code",
   "execution_count": 4,
   "metadata": {},
   "outputs": [
    {
     "name": "stdout",
     "output_type": "stream",
     "text": [
      "3382\n"
     ]
    }
   ],
   "source": [
    "print(len(words._dict))"
   ]
  },
  {
   "cell_type": "code",
   "execution_count": 10,
   "metadata": {},
   "outputs": [],
   "source": [
    "sent_140 = pd.read_csv('../data/training.1600000.processed.noemoticon.csv', names=['class', 'id', 'date', 'query', 'user', 'text'], encoding='latin-1')"
   ]
  },
  {
   "cell_type": "code",
   "execution_count": 17,
   "metadata": {},
   "outputs": [
    {
     "name": "stdout",
     "output_type": "stream",
     "text": [
      "neutral     22144\n",
      "positive    19521\n",
      "negative     7701\n",
      "Name: class, dtype: int64\n"
     ]
    }
   ],
   "source": [
    "sem_eval = get_data_sem_eval('../data/full_dataset/')"
   ]
  },
  {
   "cell_type": "code",
   "execution_count": 18,
   "metadata": {},
   "outputs": [
    {
     "data": {
      "text/plain": [
       "21      4124\n",
       "22      4103\n",
       "20      4087\n",
       "19      3793\n",
       "23      3720\n",
       "18      3333\n",
       "24      3151\n",
       "17      2767\n",
       "25      2639\n",
       "16      2487\n",
       "15      2112\n",
       "14      1902\n",
       "26      1890\n",
       "13      1588\n",
       "27      1419\n",
       "12      1340\n",
       "11      1074\n",
       "28       856\n",
       "10       832\n",
       "9        613\n",
       "29       401\n",
       "8        384\n",
       "30       217\n",
       "7        216\n",
       "6        116\n",
       "31       103\n",
       "32        32\n",
       "5         29\n",
       "33         9\n",
       "4          6\n",
       "41         3\n",
       "38         3\n",
       "1          2\n",
       "35         2\n",
       "36         1\n",
       "704        1\n",
       "2          1\n",
       "34         1\n",
       "43         1\n",
       "1118       1\n",
       "126        1\n",
       "413        1\n",
       "39         1\n",
       "312        1\n",
       "46         1\n",
       "905        1\n",
       "45         1\n",
       "Name: text, dtype: int64"
      ]
     },
     "execution_count": 18,
     "metadata": {},
     "output_type": "execute_result"
    }
   ],
   "source": [
    "sem_eval['text'].str.split().apply(len).value_counts()"
   ]
  },
  {
   "cell_type": "code",
   "execution_count": 12,
   "metadata": {},
   "outputs": [
    {
     "data": {
      "text/plain": [
       "7     89283\n",
       "8     88847\n",
       "6     87307\n",
       "9     87014\n",
       "10    83542\n",
       "5     80835\n",
       "11    80406\n",
       "12    76013\n",
       "13    71814\n",
       "4     67905\n",
       "14    67854\n",
       "15    63609\n",
       "16    60014\n",
       "17    56220\n",
       "18    53751\n",
       "3     52064\n",
       "19    51778\n",
       "20    51499\n",
       "21    48382\n",
       "22    47695\n",
       "23    45550\n",
       "24    42597\n",
       "25    37359\n",
       "26    29781\n",
       "2     25113\n",
       "27    21201\n",
       "28    13212\n",
       "29     7318\n",
       "1      5978\n",
       "30     3576\n",
       "31     1555\n",
       "32      594\n",
       "33      215\n",
       "34       74\n",
       "35       22\n",
       "36        8\n",
       "39        4\n",
       "37        3\n",
       "38        2\n",
       "41        2\n",
       "58        1\n",
       "44        1\n",
       "57        1\n",
       "64        1\n",
       "Name: text, dtype: int64"
      ]
     },
     "execution_count": 12,
     "metadata": {},
     "output_type": "execute_result"
    }
   ],
   "source": [
    "sent_140['text'].str.split().apply(len).value_counts()"
   ]
  },
  {
   "cell_type": "code",
   "execution_count": null,
   "metadata": {},
   "outputs": [],
   "source": []
  }
 ],
 "metadata": {
  "kernelspec": {
   "display_name": "Python 3",
   "language": "python",
   "name": "python3"
  },
  "language_info": {
   "codemirror_mode": {
    "name": "ipython",
    "version": 3
   },
   "file_extension": ".py",
   "mimetype": "text/x-python",
   "name": "python",
   "nbconvert_exporter": "python",
   "pygments_lexer": "ipython3",
   "version": "3.6.3"
  }
 },
 "nbformat": 4,
 "nbformat_minor": 1
}
