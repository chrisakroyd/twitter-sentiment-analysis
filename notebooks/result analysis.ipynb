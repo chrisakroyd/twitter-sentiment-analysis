{
 "cells": [
  {
   "cell_type": "markdown",
   "metadata": {},
   "source": [
    "# Results and Analysis"
   ]
  },
  {
   "cell_type": "code",
   "execution_count": 1,
   "metadata": {},
   "outputs": [
    {
     "name": "stderr",
     "output_type": "stream",
     "text": [
      "c:\\users\\chris\\anaconda3\\envs\\chris-dl\\lib\\site-packages\\h5py\\__init__.py:36: FutureWarning: Conversion of the second argument of issubdtype from `float` to `np.floating` is deprecated. In future, it will be treated as `np.float64 == np.dtype(float).type`.\n",
      "  from ._conv import register_converters as _register_converters\n",
      "Using TensorFlow backend.\n"
     ]
    }
   ],
   "source": [
    "import pandas as pd\n",
    "import os\n",
    "import sys\n",
    "import keras\n",
    "import pathlib\n",
    "import itertools\n",
    "\n",
    "module_path = os.path.abspath(os.path.join('..'))\n",
    "if module_path not in sys.path:\n",
    "    sys.path.append(module_path)\n",
    "\n",
    "import numpy as np\n",
    "import matplotlib.pyplot as plt\n",
    "from sklearn.metrics import confusion_matrix\n",
    "\n",
    "from src.neural_backend.load_data import load_data\n",
    "from src.neural_backend.load_embeddings import load_embeddings, load_afinn_matrix\n",
    "from src.neural_backend.preprocessor import create_polarity_dict, TextPreProcessor\n",
    "from src.neural_backend.util import get_save_path\n",
    "from src.neural_backend.metrics import f1, precision, recall\n",
    "\n",
    "from keras.layers import Input, Dense, Bidirectional, Dropout, LSTM, Embedding, SpatialDropout1D, GaussianNoise\n",
    "from keras.regularizers import l2\n",
    "from keras.optimizers import RMSprop\n",
    "from keras.models import Model\n",
    "from src.neural_backend.layers.Attention import FeedForwardAttention as Attention\n",
    "from keras.preprocessing.sequence import pad_sequences\n",
    "\n",
    "plt.rcParams[\"figure.facecolor\"] = 'w'\n",
    "plt.rcParams[\"axes.facecolor\"] = 'w'\n",
    "plt.rcParams['axes.facecolor'] = 'w'"
   ]
  },
  {
   "cell_type": "code",
   "execution_count": 2,
   "metadata": {},
   "outputs": [],
   "source": [
    "# Paths to glove embeddings.\n",
    "glove_path = '../data/embeddings/glove.twitter.27B.200d.txt'\n",
    "embed_dims = 200\n",
    "embed_type = 'GLOVE'\n",
    "MAX_FEATS = 150000\n",
    "sem_eval_path = '../data/sem_eval/full/'\n",
    "BATCH_SIZE = 128\n",
    "EPOCHS = 50\n",
    "LEARN_RATE = 0.001\n",
    "CLIP_NORM = 5.0\n",
    "NUM_CLASSES = 12\n",
    "RNN_UNITS = 150\n",
    "L2_REG = 0.0001\n",
    "SEQUENCE_LENGTH = 40"
   ]
  },
  {
   "cell_type": "code",
   "execution_count": 3,
   "metadata": {},
   "outputs": [
    {
     "name": "stdout",
     "output_type": "stream",
     "text": [
      "neutral     22211\n",
      "positive    19625\n",
      "negative     7732\n",
      "Name: class, dtype: int64\n"
     ]
    },
    {
     "name": "stderr",
     "output_type": "stream",
     "text": [
      "49568it [00:28, 1764.54it/s]\n"
     ]
    },
    {
     "name": "stdout",
     "output_type": "stream",
     "text": [
      "Number of Data Samples:49568\n",
      "Loading GLOVE embeddings...\n",
      "Reading GLOVE file...\n"
     ]
    },
    {
     "name": "stderr",
     "output_type": "stream",
     "text": [
      "1193514it [01:13, 16347.27it/s]\n"
     ]
    },
    {
     "name": "stdout",
     "output_type": "stream",
     "text": [
      "Generating embedding matrix...\n"
     ]
    },
    {
     "name": "stderr",
     "output_type": "stream",
     "text": [
      "100%|████████████████████████████████████████████████████████████████████████| 40694/40694 [00:00<00:00, 322967.22it/s]\n"
     ]
    },
    {
     "name": "stdout",
     "output_type": "stream",
     "text": [
      "40695 Unique words (vocab size).\n",
      "5954 Unique OOV words.\n"
     ]
    }
   ],
   "source": [
    "(x_train, y_train), (x_val, y_val), word_index, num_classes, lb, tokenizer = load_data(path=sem_eval_path,\n",
    "                                                           data_set='sem_eval',\n",
    "                                                           max_features=MAX_FEATS)\n",
    "embedding_matrix = load_embeddings(path=glove_path,\n",
    "                                   embedding_type=embed_type,\n",
    "                                   word_index=word_index,\n",
    "                                   max_features=MAX_FEATS,\n",
    "                                   embedding_dimensions=embed_dims)"
   ]
  },
  {
   "cell_type": "code",
   "execution_count": 4,
   "metadata": {},
   "outputs": [],
   "source": [
    "vocab_size = len(word_index) + 1\n",
    "input_length = x_train.shape[1]\n",
    "embed_dim = embed_dims"
   ]
  },
  {
   "cell_type": "code",
   "execution_count": 5,
   "metadata": {},
   "outputs": [],
   "source": [
    "rnn_input = Input(shape=(input_length,))\n",
    "\n",
    "embedding = Embedding(vocab_size,\n",
    "                              embed_dim,\n",
    "                              weights=[embedding_matrix],\n",
    "                              input_length=input_length,\n",
    "                              name=\"embedding\")(rnn_input)\n",
    "\n",
    "spatial_dropout_1 = SpatialDropout1D(0.3, name=\"spatial_dropout\")(embedding)\n",
    "\n",
    "noise = GaussianNoise(0.2, name=\"noise\")(spatial_dropout_1)\n",
    "\n",
    "bi_gru_1 = Bidirectional(LSTM(RNN_UNITS,\n",
    "                                           return_sequences=True,\n",
    "                                           recurrent_regularizer=l2(L2_REG),\n",
    "                                           kernel_regularizer=l2(L2_REG),\n",
    "                                           name=\"bi_gru_1\"))(noise)\n",
    "\n",
    "bi_gru_1 = Dropout(0.3, name=\"bi_gru_1_dropout\")(bi_gru_1)\n",
    "\n",
    "bi_gru_2 = Bidirectional(LSTM(RNN_UNITS,\n",
    "                                           return_sequences=True,\n",
    "                                           recurrent_regularizer=l2(L2_REG),\n",
    "                                           kernel_regularizer=l2(L2_REG),\n",
    "                                           name=\"bi_gru_2\"))(bi_gru_1)\n",
    "\n",
    "bi_gru_2 = Dropout(0.3, name=\"bi_gru_2_dropout\")(bi_gru_2)\n",
    "\n",
    "attention, weights = Attention(return_attention=True)(bi_gru_2)\n",
    "\n",
    "drop_1 = Dropout(0.5, name=\"attention_dropout\")(attention)\n",
    "\n",
    "outputs = Dense(num_classes, activation='softmax', name=\"output\")(drop_1)\n",
    "\n",
    "model = Model(inputs=rnn_input, outputs=[outputs, weights])\n",
    "\n",
    "model.compile(loss='categorical_crossentropy', optimizer=RMSprop(lr=LEARN_RATE, clipnorm=CLIP_NORM), metrics=[precision, recall, f1])"
   ]
  },
  {
   "cell_type": "code",
   "execution_count": 6,
   "metadata": {},
   "outputs": [
    {
     "ename": "ValueError",
     "evalue": "Cannot feed value of shape (40694, 200) for Tensor 'embedding/Placeholder:0', which has shape '(40695, 200)'",
     "output_type": "error",
     "traceback": [
      "\u001b[1;31m---------------------------------------------------------------------------\u001b[0m",
      "\u001b[1;31mValueError\u001b[0m                                Traceback (most recent call last)",
      "\u001b[1;32m<ipython-input-6-922fe8b33d8b>\u001b[0m in \u001b[0;36m<module>\u001b[1;34m()\u001b[0m\n\u001b[1;32m----> 1\u001b[1;33m \u001b[0mmodel\u001b[0m\u001b[1;33m.\u001b[0m\u001b[0mload_weights\u001b[0m\u001b[1;33m(\u001b[0m\u001b[1;34m'../model_checkpoints/BiLSTMAttention/BiLSTMAttention.hdf5'\u001b[0m\u001b[1;33m)\u001b[0m\u001b[1;33m\u001b[0m\u001b[0m\n\u001b[0m",
      "\u001b[1;32mc:\\users\\chris\\anaconda3\\envs\\chris-dl\\lib\\site-packages\\keras\\engine\\topology.py\u001b[0m in \u001b[0;36mload_weights\u001b[1;34m(self, filepath, by_name, skip_mismatch, reshape)\u001b[0m\n\u001b[0;32m   2650\u001b[0m             \u001b[1;32melse\u001b[0m\u001b[1;33m:\u001b[0m\u001b[1;33m\u001b[0m\u001b[0m\n\u001b[0;32m   2651\u001b[0m                 load_weights_from_hdf5_group(\n\u001b[1;32m-> 2652\u001b[1;33m                     f, self.layers, reshape=reshape)\n\u001b[0m\u001b[0;32m   2653\u001b[0m \u001b[1;33m\u001b[0m\u001b[0m\n\u001b[0;32m   2654\u001b[0m     \u001b[1;32mdef\u001b[0m \u001b[0m_updated_config\u001b[0m\u001b[1;33m(\u001b[0m\u001b[0mself\u001b[0m\u001b[1;33m)\u001b[0m\u001b[1;33m:\u001b[0m\u001b[1;33m\u001b[0m\u001b[0m\n",
      "\u001b[1;32mc:\\users\\chris\\anaconda3\\envs\\chris-dl\\lib\\site-packages\\keras\\engine\\topology.py\u001b[0m in \u001b[0;36mload_weights_from_hdf5_group\u001b[1;34m(f, layers, reshape)\u001b[0m\n\u001b[0;32m   3187\u001b[0m                              ' elements.')\n\u001b[0;32m   3188\u001b[0m         \u001b[0mweight_value_tuples\u001b[0m \u001b[1;33m+=\u001b[0m \u001b[0mzip\u001b[0m\u001b[1;33m(\u001b[0m\u001b[0msymbolic_weights\u001b[0m\u001b[1;33m,\u001b[0m \u001b[0mweight_values\u001b[0m\u001b[1;33m)\u001b[0m\u001b[1;33m\u001b[0m\u001b[0m\n\u001b[1;32m-> 3189\u001b[1;33m     \u001b[0mK\u001b[0m\u001b[1;33m.\u001b[0m\u001b[0mbatch_set_value\u001b[0m\u001b[1;33m(\u001b[0m\u001b[0mweight_value_tuples\u001b[0m\u001b[1;33m)\u001b[0m\u001b[1;33m\u001b[0m\u001b[0m\n\u001b[0m\u001b[0;32m   3190\u001b[0m \u001b[1;33m\u001b[0m\u001b[0m\n\u001b[0;32m   3191\u001b[0m \u001b[1;33m\u001b[0m\u001b[0m\n",
      "\u001b[1;32mc:\\users\\chris\\anaconda3\\envs\\chris-dl\\lib\\site-packages\\keras\\backend\\tensorflow_backend.py\u001b[0m in \u001b[0;36mbatch_set_value\u001b[1;34m(tuples)\u001b[0m\n\u001b[0;32m   2368\u001b[0m             \u001b[0massign_ops\u001b[0m\u001b[1;33m.\u001b[0m\u001b[0mappend\u001b[0m\u001b[1;33m(\u001b[0m\u001b[0massign_op\u001b[0m\u001b[1;33m)\u001b[0m\u001b[1;33m\u001b[0m\u001b[0m\n\u001b[0;32m   2369\u001b[0m             \u001b[0mfeed_dict\u001b[0m\u001b[1;33m[\u001b[0m\u001b[0massign_placeholder\u001b[0m\u001b[1;33m]\u001b[0m \u001b[1;33m=\u001b[0m \u001b[0mvalue\u001b[0m\u001b[1;33m\u001b[0m\u001b[0m\n\u001b[1;32m-> 2370\u001b[1;33m         \u001b[0mget_session\u001b[0m\u001b[1;33m(\u001b[0m\u001b[1;33m)\u001b[0m\u001b[1;33m.\u001b[0m\u001b[0mrun\u001b[0m\u001b[1;33m(\u001b[0m\u001b[0massign_ops\u001b[0m\u001b[1;33m,\u001b[0m \u001b[0mfeed_dict\u001b[0m\u001b[1;33m=\u001b[0m\u001b[0mfeed_dict\u001b[0m\u001b[1;33m)\u001b[0m\u001b[1;33m\u001b[0m\u001b[0m\n\u001b[0m\u001b[0;32m   2371\u001b[0m \u001b[1;33m\u001b[0m\u001b[0m\n\u001b[0;32m   2372\u001b[0m \u001b[1;33m\u001b[0m\u001b[0m\n",
      "\u001b[1;32mc:\\users\\chris\\anaconda3\\envs\\chris-dl\\lib\\site-packages\\tensorflow\\python\\client\\session.py\u001b[0m in \u001b[0;36mrun\u001b[1;34m(self, fetches, feed_dict, options, run_metadata)\u001b[0m\n\u001b[0;32m    887\u001b[0m     \u001b[1;32mtry\u001b[0m\u001b[1;33m:\u001b[0m\u001b[1;33m\u001b[0m\u001b[0m\n\u001b[0;32m    888\u001b[0m       result = self._run(None, fetches, feed_dict, options_ptr,\n\u001b[1;32m--> 889\u001b[1;33m                          run_metadata_ptr)\n\u001b[0m\u001b[0;32m    890\u001b[0m       \u001b[1;32mif\u001b[0m \u001b[0mrun_metadata\u001b[0m\u001b[1;33m:\u001b[0m\u001b[1;33m\u001b[0m\u001b[0m\n\u001b[0;32m    891\u001b[0m         \u001b[0mproto_data\u001b[0m \u001b[1;33m=\u001b[0m \u001b[0mtf_session\u001b[0m\u001b[1;33m.\u001b[0m\u001b[0mTF_GetBuffer\u001b[0m\u001b[1;33m(\u001b[0m\u001b[0mrun_metadata_ptr\u001b[0m\u001b[1;33m)\u001b[0m\u001b[1;33m\u001b[0m\u001b[0m\n",
      "\u001b[1;32mc:\\users\\chris\\anaconda3\\envs\\chris-dl\\lib\\site-packages\\tensorflow\\python\\client\\session.py\u001b[0m in \u001b[0;36m_run\u001b[1;34m(self, handle, fetches, feed_dict, options, run_metadata)\u001b[0m\n\u001b[0;32m   1094\u001b[0m                 \u001b[1;34m'Cannot feed value of shape %r for Tensor %r, '\u001b[0m\u001b[1;33m\u001b[0m\u001b[0m\n\u001b[0;32m   1095\u001b[0m                 \u001b[1;34m'which has shape %r'\u001b[0m\u001b[1;33m\u001b[0m\u001b[0m\n\u001b[1;32m-> 1096\u001b[1;33m                 % (np_val.shape, subfeed_t.name, str(subfeed_t.get_shape())))\n\u001b[0m\u001b[0;32m   1097\u001b[0m           \u001b[1;32mif\u001b[0m \u001b[1;32mnot\u001b[0m \u001b[0mself\u001b[0m\u001b[1;33m.\u001b[0m\u001b[0mgraph\u001b[0m\u001b[1;33m.\u001b[0m\u001b[0mis_feedable\u001b[0m\u001b[1;33m(\u001b[0m\u001b[0msubfeed_t\u001b[0m\u001b[1;33m)\u001b[0m\u001b[1;33m:\u001b[0m\u001b[1;33m\u001b[0m\u001b[0m\n\u001b[0;32m   1098\u001b[0m             \u001b[1;32mraise\u001b[0m \u001b[0mValueError\u001b[0m\u001b[1;33m(\u001b[0m\u001b[1;34m'Tensor %s may not be fed.'\u001b[0m \u001b[1;33m%\u001b[0m \u001b[0msubfeed_t\u001b[0m\u001b[1;33m)\u001b[0m\u001b[1;33m\u001b[0m\u001b[0m\n",
      "\u001b[1;31mValueError\u001b[0m: Cannot feed value of shape (40694, 200) for Tensor 'embedding/Placeholder:0', which has shape '(40695, 200)'"
     ]
    }
   ],
   "source": [
    "model.load_weights('../model_checkpoints/BiLSTMAttention/BiLSTMAttention.hdf5')"
   ]
  },
  {
   "cell_type": "code",
   "execution_count": 16,
   "metadata": {},
   "outputs": [],
   "source": [
    "train_predictions, train_weights = model.predict(x=x_train)\n",
    "val_predictions, val_weights = model.predict(x=x_val)"
   ]
  },
  {
   "cell_type": "code",
   "execution_count": 17,
   "metadata": {},
   "outputs": [
    {
     "name": "stdout",
     "output_type": "stream",
     "text": [
      "(39654, 3)\n"
     ]
    }
   ],
   "source": [
    "print(train_predictions.shape)"
   ]
  },
  {
   "cell_type": "code",
   "execution_count": 21,
   "metadata": {},
   "outputs": [
    {
     "name": "stdout",
     "output_type": "stream",
     "text": [
      "[0.95390695 0.03977998 0.00631304]\n",
      "negative\n",
      "0.95390695\n"
     ]
    }
   ],
   "source": [
    "train_classes = lb.inverse_transform(train_predictions)\n",
    "val_classes = lb.inverse_transform(val_predictions)\n",
    "confidence = val_predictions.argmax(axis=-1)\n",
    "print(val_predictions[0])\n",
    "print(val_classes[0])\n",
    "print(val_predictions[0][confidence[0]])"
   ]
  },
  {
   "cell_type": "code",
   "execution_count": 28,
   "metadata": {},
   "outputs": [
    {
     "data": {
      "image/png": "[encoded data removed]",
      "text/plain": [
       "<Figure size 432x288 with 2 Axes>"
      ]
     },
     "metadata": {},
     "output_type": "display_data"
    }
   ],
   "source": [
    "t_pred = train_classes\n",
    "t_true = lb.inverse_transform(y_train)\n",
    "\n",
    "y_pred = val_classes\n",
    "y_true = lb.inverse_transform(y_val)\n",
    "\n",
    "def plot_confusion_matrix(cm, classes,\n",
    "                          normalize=False,\n",
    "                          title='Confusion matrix',\n",
    "                          cmap=plt.cm.Blues):\n",
    "    \n",
    "    plt.imshow(cm, interpolation='nearest', cmap=cmap)\n",
    "    plt.title(title)\n",
    "    plt.colorbar()\n",
    "    tick_marks = np.arange(len(classes))\n",
    "    plt.xticks(tick_marks, classes, rotation=45)\n",
    "    plt.yticks(tick_marks, classes)\n",
    "\n",
    "    fmt = '.2f' if normalize else 'd'\n",
    "    thresh = cm.max() / 2.\n",
    "    for i, j in itertools.product(range(cm.shape[0]), range(cm.shape[1])):\n",
    "        plt.text(j, i, format(cm[i, j], fmt),\n",
    "                 horizontalalignment=\"center\",\n",
    "                 color=\"white\" if cm[i, j] > thresh else \"black\")\n",
    "\n",
    "    plt.tight_layout()\n",
    "    plt.ylabel('True label')\n",
    "    plt.xlabel('Predicted label')\n",
    "\n",
    "# Compute confusion matrix\n",
    "cnf_matrix = confusion_matrix(y_true, y_pred)\n",
    "np.set_printoptions(precision=2)\n",
    "\n",
    "# Plot non-normalized confusion matrix\n",
    "plt.figure()\n",
    "plot_confusion_matrix(cnf_matrix, classes=lb.classes_,\n",
    "                      title='')\n"
   ]
  },
  {
   "cell_type": "code",
   "execution_count": 29,
   "metadata": {},
   "outputs": [
    {
     "data": {
      "image/png": "[encoded data removed]",
      "text/plain": [
       "<Figure size 432x288 with 2 Axes>"
      ]
     },
     "metadata": {},
     "output_type": "display_data"
    }
   ],
   "source": [
    "# Compute confusion matrix\n",
    "cnf_matrix = confusion_matrix(t_true, t_pred)\n",
    "np.set_printoptions(precision=2)\n",
    "\n",
    "# Plot non-normalized confusion matrix\n",
    "plt.figure()\n",
    "plot_confusion_matrix(cnf_matrix, classes=lb.classes_,\n",
    "                      title='')"
   ]
  },
  {
   "cell_type": "markdown",
   "metadata": {},
   "source": [
    "# Test With Real Text"
   ]
  },
  {
   "cell_type": "code",
   "execution_count": 7,
   "metadata": {},
   "outputs": [
    {
     "name": "stdout",
     "output_type": "stream",
     "text": [
      "hello , how are you ?\n",
      "(1, 40)\n",
      "positive\n",
      "0.35089812\n",
      "[[   0    0    0    0    0    0    0    0    0    0    0    0    0    0\n",
      "     0    0    0    0    0    0    0    0    0    0    0    0    0    0\n",
      "     0    0    0    0    0    0 1165    4  111   43   23   30]]\n",
      "[0.03063091 0.03305539 0.03440303 0.03345959 0.03134143 0.0284697 ]\n"
     ]
    }
   ],
   "source": [
    "test_text = 'Hello, how are you?'\n",
    "preprocessor = TextPreProcessor()\n",
    "\n",
    "processed = preprocessor.preprocess(test_text)\n",
    "print(processed)\n",
    "text = pad_sequences(tokenizer.texts_to_sequences([processed]), maxlen=SEQUENCE_LENGTH)\n",
    "\n",
    "print(text.shape)\n",
    "\n",
    "prediction, weights = model.predict(x=text)\n",
    "pred_class = lb.inverse_transform(prediction)[0]\n",
    "confidence = prediction[0][prediction.argmax(axis=-1)][0]\n",
    "\n",
    "rel_cells = (SEQUENCE_LENGTH - len(processed.split()))\n",
    "\n",
    "print(pred_class)\n",
    "print(confidence)\n",
    "print(weights[0][rel_cells:])"
   ]
  },
  {
   "cell_type": "code",
   "execution_count": null,
   "metadata": {},
   "outputs": [],
   "source": []
  },
  {
   "cell_type": "code",
   "execution_count": null,
   "metadata": {},
   "outputs": [],
   "source": []
  },
  {
   "cell_type": "code",
   "execution_count": null,
   "metadata": {},
   "outputs": [],
   "source": []
  },
  {
   "cell_type": "code",
   "execution_count": null,
   "metadata": {},
   "outputs": [],
   "source": []
  }
 ],
 "metadata": {
  "kernelspec": {
   "display_name": "Python 3",
   "language": "python",
   "name": "python3"
  },
  "language_info": {
   "codemirror_mode": {
    "name": "ipython",
    "version": 3
   },
   "file_extension": ".py",
   "mimetype": "text/x-python",
   "name": "python",
   "nbconvert_exporter": "python",
   "pygments_lexer": "ipython3",
   "version": "3.6.3"
  }
 },
 "nbformat": 4,
 "nbformat_minor": 2
}
