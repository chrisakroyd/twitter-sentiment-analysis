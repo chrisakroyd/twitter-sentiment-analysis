{
 "cells": [
  {
   "cell_type": "markdown",
   "metadata": {},
   "source": [
    "# Results and Analysis"
   ]
  },
  {
   "cell_type": "code",
   "execution_count": 24,
   "metadata": {},
   "outputs": [],
   "source": [
    "import pandas as pd\n",
    "import os\n",
    "import sys\n",
    "import keras\n",
    "import pathlib\n",
    "import itertools\n",
    "\n",
    "module_path = os.path.abspath(os.path.join('..'))\n",
    "if module_path not in sys.path:\n",
    "    sys.path.append(module_path)\n",
    "\n",
    "import numpy as np\n",
    "import matplotlib.pyplot as plt\n",
    "from sklearn.metrics import confusion_matrix\n",
    "\n",
    "from src.neural_backend.load_data import load_data\n",
    "from src.neural_backend.load_embeddings import load_embeddings, load_afinn_matrix\n",
    "from src.neural_backend.preprocessor import create_polarity_dict\n",
    "from src.neural_backend.util import get_save_path\n",
    "from src.neural_backend.metrics import f1, precision, recall\n",
    "\n",
    "from keras.layers import Input, Dense, Bidirectional, Dropout, LSTM, Embedding, SpatialDropout1D, GaussianNoise\n",
    "from keras.regularizers import l2\n",
    "from keras.optimizers import RMSprop\n",
    "from keras.models import Model\n",
    "from src.neural_backend.layers.Attention import FeedForwardAttention as Attention\n",
    "\n",
    "plt.rcParams[\"figure.facecolor\"] = 'w'\n",
    "plt.rcParams[\"axes.facecolor\"] = 'w'\n",
    "plt.rcParams['axes.facecolor'] = 'w'"
   ]
  },
  {
   "cell_type": "code",
   "execution_count": 2,
   "metadata": {},
   "outputs": [],
   "source": [
    "def get_save_path(model_name='BiLSTMAttention', directory='./model_checkpoints', fold=None):\n",
    "    path = directory + '/{}/{}'.format(model_name, model_name)\n",
    "    # create dirs if they don't exist.\n",
    "    pathlib.Path(directory + '/{}/'.format(model_name)).mkdir(parents=True, exist_ok=True)\n",
    "\n",
    "    if fold is not None:\n",
    "        path = path + '-fold-{}'.format(fold)\n",
    "\n",
    "    path = path + '.hdf5'\n",
    "\n",
    "    return path"
   ]
  },
  {
   "cell_type": "code",
   "execution_count": 3,
   "metadata": {},
   "outputs": [],
   "source": [
    "# Paths to glove embeddings.\n",
    "glove_path = '../data/embeddings/glove.twitter.27B.200d.txt'\n",
    "embed_dims = 200\n",
    "embed_type = 'GLOVE'\n",
    "MAX_FEATS = 150000\n",
    "sem_eval_path = '../data/sem_eval/full/'\n",
    "BATCH_SIZE = 128\n",
    "EPOCHS = 50\n",
    "LEARN_RATE = 0.001\n",
    "CLIP_NORM = 5.0\n",
    "NUM_CLASSES = 12\n",
    "RNN_UNITS = 150\n",
    "L2_REG = 0.0001"
   ]
  },
  {
   "cell_type": "code",
   "execution_count": 4,
   "metadata": {},
   "outputs": [
    {
     "name": "stdout",
     "output_type": "stream",
     "text": [
      "neutral     22211\n",
      "positive    19625\n",
      "negative     7732\n",
      "Name: class, dtype: int64\n"
     ]
    },
    {
     "name": "stderr",
     "output_type": "stream",
     "text": [
      "49568it [00:29, 1696.05it/s]\n"
     ]
    },
    {
     "name": "stdout",
     "output_type": "stream",
     "text": [
      "Number of Data Samples:49568\n",
      "Loading GLOVE embeddings...\n",
      "Reading GLOVE file...\n"
     ]
    },
    {
     "name": "stderr",
     "output_type": "stream",
     "text": [
      "1193514it [01:14, 16031.72it/s]\n"
     ]
    },
    {
     "name": "stdout",
     "output_type": "stream",
     "text": [
      "Generating embedding matrix...\n"
     ]
    },
    {
     "name": "stderr",
     "output_type": "stream",
     "text": [
      "100%|████████████████████████████████████████████████████████████████████████| 40693/40693 [00:00<00:00, 350796.87it/s]\n"
     ]
    },
    {
     "name": "stdout",
     "output_type": "stream",
     "text": [
      "40694 Unique words (vocab size).\n",
      "5954 Unique OOV words.\n"
     ]
    }
   ],
   "source": [
    "(x_train, y_train), (x_val, y_val), word_index, num_classes, lb = load_data(path=sem_eval_path,\n",
    "                                                           data_set='sem_eval',\n",
    "                                                           max_features=MAX_FEATS)\n",
    "embedding_matrix = load_embeddings(path=glove_path,\n",
    "                                   embedding_type=embed_type,\n",
    "                                   word_index=word_index,\n",
    "                                   max_features=MAX_FEATS,\n",
    "                                   embedding_dimensions=embed_dims)"
   ]
  },
  {
   "cell_type": "code",
   "execution_count": null,
   "metadata": {},
   "outputs": [],
   "source": []
  },
  {
   "cell_type": "code",
   "execution_count": 5,
   "metadata": {},
   "outputs": [],
   "source": [
    "vocab_size = len(word_index) + 1\n",
    "input_length = x_train.shape[1]\n",
    "embed_dim = embed_dims"
   ]
  },
  {
   "cell_type": "code",
   "execution_count": 6,
   "metadata": {},
   "outputs": [],
   "source": [
    "rnn_input = Input(shape=(input_length,))\n",
    "\n",
    "embedding = Embedding(vocab_size,\n",
    "                              embed_dim,\n",
    "                              weights=[embedding_matrix],\n",
    "                              input_length=input_length,\n",
    "                              name=\"embedding\")(rnn_input)\n",
    "\n",
    "spatial_dropout_1 = SpatialDropout1D(0.3, name=\"spatial_dropout\")(embedding)\n",
    "\n",
    "noise = GaussianNoise(0.2, name=\"noise\")(spatial_dropout_1)\n",
    "\n",
    "bi_gru_1 = Bidirectional(LSTM(RNN_UNITS,\n",
    "                                           return_sequences=True,\n",
    "                                           recurrent_regularizer=l2(L2_REG),\n",
    "                                           kernel_regularizer=l2(L2_REG),\n",
    "                                           name=\"bi_gru_1\"))(noise)\n",
    "\n",
    "bi_gru_1 = Dropout(0.3, name=\"bi_gru_1_dropout\")(bi_gru_1)\n",
    "\n",
    "bi_gru_2 = Bidirectional(LSTM(RNN_UNITS,\n",
    "                                           return_sequences=True,\n",
    "                                           recurrent_regularizer=l2(L2_REG),\n",
    "                                           kernel_regularizer=l2(L2_REG),\n",
    "                                           name=\"bi_gru_2\"))(bi_gru_1)\n",
    "\n",
    "bi_gru_2 = Dropout(0.3, name=\"bi_gru_2_dropout\")(bi_gru_2)\n",
    "\n",
    "attention = Attention()(bi_gru_2)\n",
    "\n",
    "drop_1 = Dropout(0.5, name=\"attention_dropout\")(attention)\n",
    "\n",
    "outputs = Dense(num_classes, activation='softmax', name=\"output\")(drop_1)\n",
    "\n",
    "model = Model(inputs=rnn_input, outputs=outputs)\n",
    "\n",
    "model.compile(loss='categorical_crossentropy', optimizer=RMSprop(lr=LEARN_RATE, clipnorm=CLIP_NORM), metrics=[precision, recall, f1])"
   ]
  },
  {
   "cell_type": "code",
   "execution_count": 7,
   "metadata": {},
   "outputs": [],
   "source": [
    "model.load_weights('../model_checkpoints/BiLSTMAttention/BiLSTMAttention.hdf5')"
   ]
  },
  {
   "cell_type": "code",
   "execution_count": 22,
   "metadata": {},
   "outputs": [],
   "source": [
    "train_predictions = model.predict(x=x_train)\n",
    "val_predictions = model.predict(x=x_val)"
   ]
  },
  {
   "cell_type": "code",
   "execution_count": 23,
   "metadata": {},
   "outputs": [
    {
     "name": "stdout",
     "output_type": "stream",
     "text": [
      "[0.07 0.46 0.47]\n",
      "positive\n",
      "0.4717965\n"
     ]
    }
   ],
   "source": [
    "train_classes = lb.inverse_transform(train_predictions)\n",
    "val_classes = lb.inverse_transform(val_predictions)\n",
    "confidence = val_predictions.argmax(axis=-1)\n",
    "print(val_predictions[0])\n",
    "print(classes[0])\n",
    "print(val_predictions[0][confidence[0]])"
   ]
  },
  {
   "cell_type": "code",
   "execution_count": 28,
   "metadata": {},
   "outputs": [
    {
     "data": {
      "image/png": "[encoded data removed]",
      "text/plain": [
       "<Figure size 432x288 with 2 Axes>"
      ]
     },
     "metadata": {},
     "output_type": "display_data"
    }
   ],
   "source": [
    "t_pred = train_classes\n",
    "t_true = lb.inverse_transform(y_train)\n",
    "\n",
    "y_pred = val_classes\n",
    "y_true = lb.inverse_transform(y_val)\n",
    "\n",
    "def plot_confusion_matrix(cm, classes,\n",
    "                          normalize=False,\n",
    "                          title='Confusion matrix',\n",
    "                          cmap=plt.cm.Blues):\n",
    "    \n",
    "    plt.imshow(cm, interpolation='nearest', cmap=cmap)\n",
    "    plt.title(title)\n",
    "    plt.colorbar()\n",
    "    tick_marks = np.arange(len(classes))\n",
    "    plt.xticks(tick_marks, classes, rotation=45)\n",
    "    plt.yticks(tick_marks, classes)\n",
    "\n",
    "    fmt = '.2f' if normalize else 'd'\n",
    "    thresh = cm.max() / 2.\n",
    "    for i, j in itertools.product(range(cm.shape[0]), range(cm.shape[1])):\n",
    "        plt.text(j, i, format(cm[i, j], fmt),\n",
    "                 horizontalalignment=\"center\",\n",
    "                 color=\"white\" if cm[i, j] > thresh else \"black\")\n",
    "\n",
    "    plt.tight_layout()\n",
    "    plt.ylabel('True label')\n",
    "    plt.xlabel('Predicted label')\n",
    "\n",
    "# Compute confusion matrix\n",
    "cnf_matrix = confusion_matrix(y_true, y_pred)\n",
    "np.set_printoptions(precision=2)\n",
    "\n",
    "# Plot non-normalized confusion matrix\n",
    "plt.figure()\n",
    "plot_confusion_matrix(cnf_matrix, classes=lb.classes_,\n",
    "                      title='')\n"
   ]
  },
  {
   "cell_type": "code",
   "execution_count": 27,
   "metadata": {},
   "outputs": [
    {
     "data": {
      "image/png": "[encoded data removed]",
      "text/plain": [
       "<Figure size 432x288 with 2 Axes>"
      ]
     },
     "metadata": {},
     "output_type": "display_data"
    }
   ],
   "source": [
    "# Compute confusion matrix\n",
    "cnf_matrix = confusion_matrix(t_true, t_pred)\n",
    "np.set_printoptions(precision=2)\n",
    "\n",
    "# Plot non-normalized confusion matrix\n",
    "plt.figure()\n",
    "plot_confusion_matrix(cnf_matrix, classes=lb.classes_,\n",
    "                      title='')"
   ]
  },
  {
   "cell_type": "code",
   "execution_count": null,
   "metadata": {},
   "outputs": [],
   "source": []
  }
 ],
 "metadata": {
  "kernelspec": {
   "display_name": "Python 3",
   "language": "python",
   "name": "python3"
  },
  "language_info": {
   "codemirror_mode": {
    "name": "ipython",
    "version": 3
   },
   "file_extension": ".py",
   "mimetype": "text/x-python",
   "name": "python",
   "nbconvert_exporter": "python",
   "pygments_lexer": "ipython3",
   "version": "3.6.3"
  }
 },
 "nbformat": 4,
 "nbformat_minor": 2
}
