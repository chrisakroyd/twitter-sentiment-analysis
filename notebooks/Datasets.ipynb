{
 "cells": [
  {
   "cell_type": "markdown",
   "metadata": {},
   "source": [
    "# Datasets"
   ]
  },
  {
   "cell_type": "code",
   "execution_count": 1,
   "metadata": {},
   "outputs": [
    {
     "name": "stderr",
     "output_type": "stream",
     "text": [
      "c:\\users\\chris\\anaconda3\\envs\\chris-dl\\lib\\site-packages\\h5py\\__init__.py:36: FutureWarning: Conversion of the second argument of issubdtype from `float` to `np.floating` is deprecated. In future, it will be treated as `np.float64 == np.dtype(float).type`.\n",
      "  from ._conv import register_converters as _register_converters\n",
      "Using TensorFlow backend.\n"
     ]
    }
   ],
   "source": [
    "import pandas as pd\n",
    "import time\n",
    "import os\n",
    "import operator\n",
    "import sys\n",
    "import re\n",
    "\n",
    "module_path = os.path.abspath(os.path.join('..'))\n",
    "if module_path not in sys.path:\n",
    "    sys.path.append(module_path)\n",
    "    \n",
    "from src.neural_backend.load_data import get_data_sem_eval, get_data_sent_140"
   ]
  },
  {
   "cell_type": "code",
   "execution_count": 14,
   "metadata": {},
   "outputs": [],
   "source": [
    "save_custom = True\n",
    "sent_140_path = '../data/sent_140/training.1600000.processed.noemoticon.csv'\n",
    "sem_eval_path = '../data/sem_eval/full/'\n",
    "weather_path = '../data/weather/weather_emotion.csv'\n",
    "text_emotion_path = '../data/text_emotion/text_emotion.csv'\n",
    "san_analytics_path = '../data/sanders_analytics/full_corpus.csv'\n",
    "custom = '../custom/sem_eval_balanced_with_sent_140.csv'"
   ]
  },
  {
   "cell_type": "markdown",
   "metadata": {},
   "source": [
    "## Sent140 and SemEval"
   ]
  },
  {
   "cell_type": "code",
   "execution_count": 3,
   "metadata": {},
   "outputs": [
    {
     "name": "stderr",
     "output_type": "stream",
     "text": [
      "c:\\users\\chris\\anaconda3\\envs\\chris-dl\\lib\\site-packages\\numpy\\lib\\arraysetops.py:472: FutureWarning: elementwise comparison failed; returning scalar instead, but in the future will perform elementwise comparison\n",
      "  mask |= (ar1 == a)\n"
     ]
    }
   ],
   "source": [
    "sent_140 = get_data_sent_140(sent_140_path, dataset_size=600000, shuffle=True)\n",
    "sem_eval = get_data_sem_eval(sem_eval_path)"
   ]
  },
  {
   "cell_type": "code",
   "execution_count": 4,
   "metadata": {},
   "outputs": [
    {
     "data": {
      "text/html": [
       "<div>\n",
       "<style scoped>\n",
       "    .dataframe tbody tr th:only-of-type {\n",
       "        vertical-align: middle;\n",
       "    }\n",
       "\n",
       "    .dataframe tbody tr th {\n",
       "        vertical-align: top;\n",
       "    }\n",
       "\n",
       "    .dataframe thead th {\n",
       "        text-align: right;\n",
       "    }\n",
       "</style>\n",
       "<table border=\"1\" class=\"dataframe\">\n",
       "  <thead>\n",
       "    <tr style=\"text-align: right;\">\n",
       "      <th></th>\n",
       "      <th>class</th>\n",
       "      <th>date</th>\n",
       "      <th>query</th>\n",
       "      <th>user</th>\n",
       "      <th>text</th>\n",
       "    </tr>\n",
       "    <tr>\n",
       "      <th>id</th>\n",
       "      <th></th>\n",
       "      <th></th>\n",
       "      <th></th>\n",
       "      <th></th>\n",
       "      <th></th>\n",
       "    </tr>\n",
       "  </thead>\n",
       "  <tbody>\n",
       "    <tr>\n",
       "      <th>2001079354</th>\n",
       "      <td>negative</td>\n",
       "      <td>Mon Jun 01 23:46:52 PDT 2009</td>\n",
       "      <td>NO_QUERY</td>\n",
       "      <td>ReddDyver</td>\n",
       "      <td>@misskittymarie nope  the 15th is my first day...</td>\n",
       "    </tr>\n",
       "    <tr>\n",
       "      <th>1962395206</th>\n",
       "      <td>positive</td>\n",
       "      <td>Fri May 29 10:58:52 PDT 2009</td>\n",
       "      <td>NO_QUERY</td>\n",
       "      <td>christinawrd</td>\n",
       "      <td>@marqueshouston what u goin b n atlanta for cu...</td>\n",
       "    </tr>\n",
       "    <tr>\n",
       "      <th>2325494381</th>\n",
       "      <td>negative</td>\n",
       "      <td>Thu Jun 25 05:33:16 PDT 2009</td>\n",
       "      <td>NO_QUERY</td>\n",
       "      <td>tickeyturtle</td>\n",
       "      <td>i want to skate on fri but there's an exam</td>\n",
       "    </tr>\n",
       "    <tr>\n",
       "      <th>2045726965</th>\n",
       "      <td>negative</td>\n",
       "      <td>Fri Jun 05 11:08:50 PDT 2009</td>\n",
       "      <td>NO_QUERY</td>\n",
       "      <td>da_bill</td>\n",
       "      <td>got home an hour early so am off to pub. Shame...</td>\n",
       "    </tr>\n",
       "    <tr>\n",
       "      <th>2068273254</th>\n",
       "      <td>negative</td>\n",
       "      <td>Sun Jun 07 13:47:58 PDT 2009</td>\n",
       "      <td>NO_QUERY</td>\n",
       "      <td>eversoinviting</td>\n",
       "      <td>@sungangs i am home all day today; my mom is s...</td>\n",
       "    </tr>\n",
       "  </tbody>\n",
       "</table>\n",
       "</div>"
      ],
      "text/plain": [
       "               class                          date     query            user  \\\n",
       "id                                                                             \n",
       "2001079354  negative  Mon Jun 01 23:46:52 PDT 2009  NO_QUERY       ReddDyver   \n",
       "1962395206  positive  Fri May 29 10:58:52 PDT 2009  NO_QUERY    christinawrd   \n",
       "2325494381  negative  Thu Jun 25 05:33:16 PDT 2009  NO_QUERY    tickeyturtle   \n",
       "2045726965  negative  Fri Jun 05 11:08:50 PDT 2009  NO_QUERY         da_bill   \n",
       "2068273254  negative  Sun Jun 07 13:47:58 PDT 2009  NO_QUERY  eversoinviting   \n",
       "\n",
       "                                                         text  \n",
       "id                                                             \n",
       "2001079354  @misskittymarie nope  the 15th is my first day...  \n",
       "1962395206  @marqueshouston what u goin b n atlanta for cu...  \n",
       "2325494381        i want to skate on fri but there's an exam   \n",
       "2045726965  got home an hour early so am off to pub. Shame...  \n",
       "2068273254  @sungangs i am home all day today; my mom is s...  "
      ]
     },
     "execution_count": 4,
     "metadata": {},
     "output_type": "execute_result"
    }
   ],
   "source": [
    "sent_140.head()"
   ]
  },
  {
   "cell_type": "code",
   "execution_count": 5,
   "metadata": {},
   "outputs": [
    {
     "data": {
      "text/html": [
       "<div>\n",
       "<style scoped>\n",
       "    .dataframe tbody tr th:only-of-type {\n",
       "        vertical-align: middle;\n",
       "    }\n",
       "\n",
       "    .dataframe tbody tr th {\n",
       "        vertical-align: top;\n",
       "    }\n",
       "\n",
       "    .dataframe thead th {\n",
       "        text-align: right;\n",
       "    }\n",
       "</style>\n",
       "<table border=\"1\" class=\"dataframe\">\n",
       "  <thead>\n",
       "    <tr style=\"text-align: right;\">\n",
       "      <th></th>\n",
       "      <th>class</th>\n",
       "      <th>text</th>\n",
       "    </tr>\n",
       "    <tr>\n",
       "      <th>id</th>\n",
       "      <th></th>\n",
       "      <th></th>\n",
       "    </tr>\n",
       "  </thead>\n",
       "  <tbody>\n",
       "    <tr>\n",
       "      <th>619950566786113536</th>\n",
       "      <td>neutral</td>\n",
       "      <td>Picturehouse's, Pink Floyd's, 'Roger Waters: T...</td>\n",
       "    </tr>\n",
       "    <tr>\n",
       "      <th>619969366986235905</th>\n",
       "      <td>neutral</td>\n",
       "      <td>Order Go Set a Watchman in store or through ou...</td>\n",
       "    </tr>\n",
       "    <tr>\n",
       "      <th>619971047195045888</th>\n",
       "      <td>negative</td>\n",
       "      <td>If these runway renovations at the airport pre...</td>\n",
       "    </tr>\n",
       "    <tr>\n",
       "      <th>619974445185302528</th>\n",
       "      <td>neutral</td>\n",
       "      <td>If you could ask an onstage interview question...</td>\n",
       "    </tr>\n",
       "    <tr>\n",
       "      <th>619987808317407232</th>\n",
       "      <td>positive</td>\n",
       "      <td>A portion of book sales from our Harper Lee/Go...</td>\n",
       "    </tr>\n",
       "  </tbody>\n",
       "</table>\n",
       "</div>"
      ],
      "text/plain": [
       "                       class  \\\n",
       "id                             \n",
       "619950566786113536   neutral   \n",
       "619969366986235905   neutral   \n",
       "619971047195045888  negative   \n",
       "619974445185302528   neutral   \n",
       "619987808317407232  positive   \n",
       "\n",
       "                                                                 text  \n",
       "id                                                                     \n",
       "619950566786113536  Picturehouse's, Pink Floyd's, 'Roger Waters: T...  \n",
       "619969366986235905  Order Go Set a Watchman in store or through ou...  \n",
       "619971047195045888  If these runway renovations at the airport pre...  \n",
       "619974445185302528  If you could ask an onstage interview question...  \n",
       "619987808317407232  A portion of book sales from our Harper Lee/Go...  "
      ]
     },
     "execution_count": 5,
     "metadata": {},
     "output_type": "execute_result"
    }
   ],
   "source": [
    "sem_eval.head()"
   ]
  },
  {
   "cell_type": "markdown",
   "metadata": {},
   "source": [
    "## Weather Emotion Dataset"
   ]
  },
  {
   "cell_type": "code",
   "execution_count": 20,
   "metadata": {},
   "outputs": [
    {
     "data": {
      "text/html": [
       "<div>\n",
       "<style scoped>\n",
       "    .dataframe tbody tr th:only-of-type {\n",
       "        vertical-align: middle;\n",
       "    }\n",
       "\n",
       "    .dataframe tbody tr th {\n",
       "        vertical-align: top;\n",
       "    }\n",
       "\n",
       "    .dataframe thead th {\n",
       "        text-align: right;\n",
       "    }\n",
       "</style>\n",
       "<table border=\"1\" class=\"dataframe\">\n",
       "  <thead>\n",
       "    <tr style=\"text-align: right;\">\n",
       "      <th></th>\n",
       "      <th>_unit_id</th>\n",
       "      <th>_canary</th>\n",
       "      <th>_unit_state</th>\n",
       "      <th>_trusted_judgments</th>\n",
       "      <th>_last_judgment_at</th>\n",
       "      <th>what_emotion_does_the_author_express_specifically_about_the_weather</th>\n",
       "      <th>what_emotion_does_the_author_express_specifically_about_the_weather:confidence</th>\n",
       "      <th>gold_answer</th>\n",
       "      <th>tweet_id</th>\n",
       "      <th>tweet_text</th>\n",
       "    </tr>\n",
       "  </thead>\n",
       "  <tbody>\n",
       "    <tr>\n",
       "      <th>0</th>\n",
       "      <td>314960380</td>\n",
       "      <td>NaN</td>\n",
       "      <td>finalized</td>\n",
       "      <td>20</td>\n",
       "      <td>8/24/13 0:21</td>\n",
       "      <td>Positive</td>\n",
       "      <td>0.8439</td>\n",
       "      <td>NaN</td>\n",
       "      <td>81990560</td>\n",
       "      <td>Grilling kabobs on the grill last night was am...</td>\n",
       "    </tr>\n",
       "    <tr>\n",
       "      <th>1</th>\n",
       "      <td>314960381</td>\n",
       "      <td>NaN</td>\n",
       "      <td>finalized</td>\n",
       "      <td>20</td>\n",
       "      <td>8/24/13 0:49</td>\n",
       "      <td>Negative</td>\n",
       "      <td>0.6963</td>\n",
       "      <td>NaN</td>\n",
       "      <td>84314377</td>\n",
       "      <td>The slowest day ever !! And the weather makes ...</td>\n",
       "    </tr>\n",
       "    <tr>\n",
       "      <th>2</th>\n",
       "      <td>314960382</td>\n",
       "      <td>NaN</td>\n",
       "      <td>finalized</td>\n",
       "      <td>20</td>\n",
       "      <td>8/24/13 0:55</td>\n",
       "      <td>Neutral / author is just sharing information</td>\n",
       "      <td>0.8802</td>\n",
       "      <td>NaN</td>\n",
       "      <td>82846118</td>\n",
       "      <td>Fire Weather Watch issued May 17 at 4:21PM CDT...</td>\n",
       "    </tr>\n",
       "    <tr>\n",
       "      <th>3</th>\n",
       "      <td>314960383</td>\n",
       "      <td>NaN</td>\n",
       "      <td>finalized</td>\n",
       "      <td>20</td>\n",
       "      <td>8/24/13 0:48</td>\n",
       "      <td>Positive</td>\n",
       "      <td>0.6897</td>\n",
       "      <td>NaN</td>\n",
       "      <td>82843785</td>\n",
       "      <td>Im going to lunch early today.   The weather i...</td>\n",
       "    </tr>\n",
       "    <tr>\n",
       "      <th>4</th>\n",
       "      <td>314960384</td>\n",
       "      <td>NaN</td>\n",
       "      <td>finalized</td>\n",
       "      <td>20</td>\n",
       "      <td>8/24/13 1:19</td>\n",
       "      <td>Neutral / author is just sharing information</td>\n",
       "      <td>0.6153</td>\n",
       "      <td>NaN</td>\n",
       "      <td>82840144</td>\n",
       "      <td>Weekend Weather Causes Delays In I-270 Bridge ...</td>\n",
       "    </tr>\n",
       "  </tbody>\n",
       "</table>\n",
       "</div>"
      ],
      "text/plain": [
       "    _unit_id  _canary _unit_state  _trusted_judgments _last_judgment_at  \\\n",
       "0  314960380      NaN   finalized                  20      8/24/13 0:21   \n",
       "1  314960381      NaN   finalized                  20      8/24/13 0:49   \n",
       "2  314960382      NaN   finalized                  20      8/24/13 0:55   \n",
       "3  314960383      NaN   finalized                  20      8/24/13 0:48   \n",
       "4  314960384      NaN   finalized                  20      8/24/13 1:19   \n",
       "\n",
       "  what_emotion_does_the_author_express_specifically_about_the_weather  \\\n",
       "0                                           Positive                    \n",
       "1                                           Negative                    \n",
       "2       Neutral / author is just sharing information                    \n",
       "3                                           Positive                    \n",
       "4       Neutral / author is just sharing information                    \n",
       "\n",
       "   what_emotion_does_the_author_express_specifically_about_the_weather:confidence  \\\n",
       "0                                             0.8439                                \n",
       "1                                             0.6963                                \n",
       "2                                             0.8802                                \n",
       "3                                             0.6897                                \n",
       "4                                             0.6153                                \n",
       "\n",
       "   gold_answer  tweet_id                                         tweet_text  \n",
       "0          NaN  81990560  Grilling kabobs on the grill last night was am...  \n",
       "1          NaN  84314377  The slowest day ever !! And the weather makes ...  \n",
       "2          NaN  82846118  Fire Weather Watch issued May 17 at 4:21PM CDT...  \n",
       "3          NaN  82843785  Im going to lunch early today.   The weather i...  \n",
       "4          NaN  82840144  Weekend Weather Causes Delays In I-270 Bridge ...  "
      ]
     },
     "execution_count": 20,
     "metadata": {},
     "output_type": "execute_result"
    }
   ],
   "source": [
    "weather_df = pd.read_csv(weather_path)\n",
    "weather_df.head()"
   ]
  },
  {
   "cell_type": "markdown",
   "metadata": {},
   "source": [
    "## Text Emotion Dataset"
   ]
  },
  {
   "cell_type": "code",
   "execution_count": 122,
   "metadata": {},
   "outputs": [
    {
     "data": {
      "text/html": [
       "<div>\n",
       "<style scoped>\n",
       "    .dataframe tbody tr th:only-of-type {\n",
       "        vertical-align: middle;\n",
       "    }\n",
       "\n",
       "    .dataframe tbody tr th {\n",
       "        vertical-align: top;\n",
       "    }\n",
       "\n",
       "    .dataframe thead th {\n",
       "        text-align: right;\n",
       "    }\n",
       "</style>\n",
       "<table border=\"1\" class=\"dataframe\">\n",
       "  <thead>\n",
       "    <tr style=\"text-align: right;\">\n",
       "      <th></th>\n",
       "      <th>class</th>\n",
       "      <th>text</th>\n",
       "    </tr>\n",
       "    <tr>\n",
       "      <th>id</th>\n",
       "      <th></th>\n",
       "      <th></th>\n",
       "    </tr>\n",
       "  </thead>\n",
       "  <tbody>\n",
       "    <tr>\n",
       "      <th>1956967341</th>\n",
       "      <td>empty</td>\n",
       "      <td>@tiffanylue i know  i was listenin to bad habi...</td>\n",
       "    </tr>\n",
       "    <tr>\n",
       "      <th>1956967666</th>\n",
       "      <td>sadness</td>\n",
       "      <td>Layin n bed with a headache  ughhhh...waitin o...</td>\n",
       "    </tr>\n",
       "    <tr>\n",
       "      <th>1956967696</th>\n",
       "      <td>sadness</td>\n",
       "      <td>Funeral ceremony...gloomy friday...</td>\n",
       "    </tr>\n",
       "    <tr>\n",
       "      <th>1956967789</th>\n",
       "      <td>enthusiasm</td>\n",
       "      <td>wants to hang out with friends SOON!</td>\n",
       "    </tr>\n",
       "    <tr>\n",
       "      <th>1956968416</th>\n",
       "      <td>neutral</td>\n",
       "      <td>@dannycastillo We want to trade with someone w...</td>\n",
       "    </tr>\n",
       "  </tbody>\n",
       "</table>\n",
       "</div>"
      ],
      "text/plain": [
       "                 class                                               text\n",
       "id                                                                       \n",
       "1956967341       empty  @tiffanylue i know  i was listenin to bad habi...\n",
       "1956967666     sadness  Layin n bed with a headache  ughhhh...waitin o...\n",
       "1956967696     sadness                Funeral ceremony...gloomy friday...\n",
       "1956967789  enthusiasm               wants to hang out with friends SOON!\n",
       "1956968416     neutral  @dannycastillo We want to trade with someone w..."
      ]
     },
     "execution_count": 122,
     "metadata": {},
     "output_type": "execute_result"
    }
   ],
   "source": [
    "text_emotion = pd.read_csv(text_emotion_path)\n",
    "text_emotion = text_emotion.drop(labels='author', axis=1)\n",
    "text_emotion.rename(columns={'tweet_id': 'id', 'content': 'text', 'sentiment' : 'class'}, inplace=True)\n",
    "text_emotion = text_emotion.set_index('id')\n",
    "text_emotion.head()"
   ]
  },
  {
   "cell_type": "code",
   "execution_count": 123,
   "metadata": {},
   "outputs": [
    {
     "data": {
      "text/plain": [
       "neutral       8638\n",
       "worry         8459\n",
       "happiness     5209\n",
       "sadness       5165\n",
       "love          3842\n",
       "surprise      2187\n",
       "fun           1776\n",
       "relief        1526\n",
       "hate          1323\n",
       "empty          827\n",
       "enthusiasm     759\n",
       "boredom        179\n",
       "anger          110\n",
       "Name: class, dtype: int64"
      ]
     },
     "execution_count": 123,
     "metadata": {},
     "output_type": "execute_result"
    }
   ],
   "source": [
    "text_emotion['class'].value_counts()"
   ]
  },
  {
   "cell_type": "code",
   "execution_count": 124,
   "metadata": {},
   "outputs": [],
   "source": [
    "text_emotion['class'] = text_emotion['class'].map({\n",
    "    'neutral': 'neutral',\n",
    "    # Positives \n",
    "#     'enthusiasm': 'positive',\n",
    "    'happiness': 'positive',\n",
    "#     'fun': 'positive',\n",
    "    'love': 'positive',\n",
    "#     'relief': 'positive',\n",
    "    # The Negatives\n",
    "    'sadness': 'negative',\n",
    "    'anger': 'negative',\n",
    "    'hate': 'negative',\n",
    "#     'empty': 'negative',\n",
    "#     'boredom': 'negative',\n",
    "})"
   ]
  },
  {
   "cell_type": "code",
   "execution_count": 125,
   "metadata": {},
   "outputs": [
    {
     "data": {
      "text/plain": [
       "positive    9051\n",
       "neutral     8638\n",
       "negative    6598\n",
       "Name: class, dtype: int64"
      ]
     },
     "execution_count": 125,
     "metadata": {},
     "output_type": "execute_result"
    }
   ],
   "source": [
    "counts = text_emotion['class'].value_counts()\n",
    "counts"
   ]
  },
  {
   "cell_type": "code",
   "execution_count": 129,
   "metadata": {},
   "outputs": [
    {
     "data": {
      "text/plain": [
       "24287"
      ]
     },
     "execution_count": 129,
     "metadata": {},
     "output_type": "execute_result"
    }
   ],
   "source": [
    "len(text_emotion)"
   ]
  },
  {
   "cell_type": "code",
   "execution_count": 127,
   "metadata": {},
   "outputs": [],
   "source": [
    "text_emotion.dropna(inplace=True)"
   ]
  },
  {
   "cell_type": "code",
   "execution_count": 128,
   "metadata": {},
   "outputs": [
    {
     "data": {
      "text/html": [
       "<div>\n",
       "<style scoped>\n",
       "    .dataframe tbody tr th:only-of-type {\n",
       "        vertical-align: middle;\n",
       "    }\n",
       "\n",
       "    .dataframe tbody tr th {\n",
       "        vertical-align: top;\n",
       "    }\n",
       "\n",
       "    .dataframe thead th {\n",
       "        text-align: right;\n",
       "    }\n",
       "</style>\n",
       "<table border=\"1\" class=\"dataframe\">\n",
       "  <thead>\n",
       "    <tr style=\"text-align: right;\">\n",
       "      <th></th>\n",
       "      <th>class</th>\n",
       "      <th>text</th>\n",
       "    </tr>\n",
       "    <tr>\n",
       "      <th>id</th>\n",
       "      <th></th>\n",
       "      <th></th>\n",
       "    </tr>\n",
       "  </thead>\n",
       "  <tbody>\n",
       "    <tr>\n",
       "      <th>1753902379</th>\n",
       "      <td>neutral</td>\n",
       "      <td>cook ; do you wanna measure my dick? its daddy...</td>\n",
       "    </tr>\n",
       "    <tr>\n",
       "      <th>1753837126</th>\n",
       "      <td>negative</td>\n",
       "      <td>@nigs Ah so 15 months. I'm sure he is advanced...</td>\n",
       "    </tr>\n",
       "    <tr>\n",
       "      <th>1753728048</th>\n",
       "      <td>positive</td>\n",
       "      <td>@beautyholic woohoooo ;) to BOTH! retail thera...</td>\n",
       "    </tr>\n",
       "    <tr>\n",
       "      <th>1960949231</th>\n",
       "      <td>negative</td>\n",
       "      <td>@myhaloromance My camera is brokennn</td>\n",
       "    </tr>\n",
       "    <tr>\n",
       "      <th>1695252016</th>\n",
       "      <td>positive</td>\n",
       "      <td>@DonnieWahlberg In Toronto  waiting for YOU!!!...</td>\n",
       "    </tr>\n",
       "  </tbody>\n",
       "</table>\n",
       "</div>"
      ],
      "text/plain": [
       "               class                                               text\n",
       "id                                                                     \n",
       "1753902379   neutral  cook ; do you wanna measure my dick? its daddy...\n",
       "1753837126  negative  @nigs Ah so 15 months. I'm sure he is advanced...\n",
       "1753728048  positive  @beautyholic woohoooo ;) to BOTH! retail thera...\n",
       "1960949231  negative               @myhaloromance My camera is brokennn\n",
       "1695252016  positive  @DonnieWahlberg In Toronto  waiting for YOU!!!..."
      ]
     },
     "execution_count": 128,
     "metadata": {},
     "output_type": "execute_result"
    }
   ],
   "source": [
    "text_emotion.sample(5)"
   ]
  },
  {
   "cell_type": "code",
   "execution_count": 90,
   "metadata": {},
   "outputs": [],
   "source": [
    "if save_custom:\n",
    "    text_emotion.to_csv('../data/text_emotion/text_emotion_processed.csv')"
   ]
  },
  {
   "cell_type": "markdown",
   "metadata": {},
   "source": [
    "## Sanders Analytics"
   ]
  },
  {
   "cell_type": "code",
   "execution_count": 174,
   "metadata": {},
   "outputs": [
    {
     "data": {
      "text/html": [
       "<div>\n",
       "<style scoped>\n",
       "    .dataframe tbody tr th:only-of-type {\n",
       "        vertical-align: middle;\n",
       "    }\n",
       "\n",
       "    .dataframe tbody tr th {\n",
       "        vertical-align: top;\n",
       "    }\n",
       "\n",
       "    .dataframe thead th {\n",
       "        text-align: right;\n",
       "    }\n",
       "</style>\n",
       "<table border=\"1\" class=\"dataframe\">\n",
       "  <thead>\n",
       "    <tr style=\"text-align: right;\">\n",
       "      <th></th>\n",
       "      <th>Topic</th>\n",
       "      <th>Sentiment</th>\n",
       "      <th>TweetId</th>\n",
       "      <th>TweetDate</th>\n",
       "      <th>TweetText</th>\n",
       "    </tr>\n",
       "  </thead>\n",
       "  <tbody>\n",
       "    <tr>\n",
       "      <th>0</th>\n",
       "      <td>apple</td>\n",
       "      <td>positive</td>\n",
       "      <td>126415614616154112</td>\n",
       "      <td>Tue Oct 18 21:53:25 +0000 2011</td>\n",
       "      <td>Now all @Apple has to do is get swype on the i...</td>\n",
       "    </tr>\n",
       "    <tr>\n",
       "      <th>1</th>\n",
       "      <td>apple</td>\n",
       "      <td>positive</td>\n",
       "      <td>126404574230740992</td>\n",
       "      <td>Tue Oct 18 21:09:33 +0000 2011</td>\n",
       "      <td>@Apple will be adding more carrier support to ...</td>\n",
       "    </tr>\n",
       "    <tr>\n",
       "      <th>2</th>\n",
       "      <td>apple</td>\n",
       "      <td>positive</td>\n",
       "      <td>126402758403305474</td>\n",
       "      <td>Tue Oct 18 21:02:20 +0000 2011</td>\n",
       "      <td>Hilarious @youtube video - guy does a duet wit...</td>\n",
       "    </tr>\n",
       "    <tr>\n",
       "      <th>3</th>\n",
       "      <td>apple</td>\n",
       "      <td>positive</td>\n",
       "      <td>126397179614068736</td>\n",
       "      <td>Tue Oct 18 20:40:10 +0000 2011</td>\n",
       "      <td>@RIM you made it too easy for me to switch to ...</td>\n",
       "    </tr>\n",
       "    <tr>\n",
       "      <th>4</th>\n",
       "      <td>apple</td>\n",
       "      <td>positive</td>\n",
       "      <td>126395626979196928</td>\n",
       "      <td>Tue Oct 18 20:34:00 +0000 2011</td>\n",
       "      <td>I just realized that the reason I got into twi...</td>\n",
       "    </tr>\n",
       "  </tbody>\n",
       "</table>\n",
       "</div>"
      ],
      "text/plain": [
       "   Topic Sentiment             TweetId                       TweetDate  \\\n",
       "0  apple  positive  126415614616154112  Tue Oct 18 21:53:25 +0000 2011   \n",
       "1  apple  positive  126404574230740992  Tue Oct 18 21:09:33 +0000 2011   \n",
       "2  apple  positive  126402758403305474  Tue Oct 18 21:02:20 +0000 2011   \n",
       "3  apple  positive  126397179614068736  Tue Oct 18 20:40:10 +0000 2011   \n",
       "4  apple  positive  126395626979196928  Tue Oct 18 20:34:00 +0000 2011   \n",
       "\n",
       "                                           TweetText  \n",
       "0  Now all @Apple has to do is get swype on the i...  \n",
       "1  @Apple will be adding more carrier support to ...  \n",
       "2  Hilarious @youtube video - guy does a duet wit...  \n",
       "3  @RIM you made it too easy for me to switch to ...  \n",
       "4  I just realized that the reason I got into twi...  "
      ]
     },
     "execution_count": 174,
     "metadata": {},
     "output_type": "execute_result"
    }
   ],
   "source": [
    "sanders_analytics = pd.read_csv(san_analytics_path)\n",
    "sanders_analytics.head()"
   ]
  },
  {
   "cell_type": "code",
   "execution_count": 175,
   "metadata": {},
   "outputs": [
    {
     "data": {
      "text/html": [
       "<div>\n",
       "<style scoped>\n",
       "    .dataframe tbody tr th:only-of-type {\n",
       "        vertical-align: middle;\n",
       "    }\n",
       "\n",
       "    .dataframe tbody tr th {\n",
       "        vertical-align: top;\n",
       "    }\n",
       "\n",
       "    .dataframe thead th {\n",
       "        text-align: right;\n",
       "    }\n",
       "</style>\n",
       "<table border=\"1\" class=\"dataframe\">\n",
       "  <thead>\n",
       "    <tr style=\"text-align: right;\">\n",
       "      <th></th>\n",
       "      <th>class</th>\n",
       "      <th>text</th>\n",
       "    </tr>\n",
       "    <tr>\n",
       "      <th>id</th>\n",
       "      <th></th>\n",
       "      <th></th>\n",
       "    </tr>\n",
       "  </thead>\n",
       "  <tbody>\n",
       "    <tr>\n",
       "      <th>126415614616154112</th>\n",
       "      <td>positive</td>\n",
       "      <td>Now all @Apple has to do is get swype on the i...</td>\n",
       "    </tr>\n",
       "    <tr>\n",
       "      <th>126404574230740992</th>\n",
       "      <td>positive</td>\n",
       "      <td>@Apple will be adding more carrier support to ...</td>\n",
       "    </tr>\n",
       "    <tr>\n",
       "      <th>126402758403305474</th>\n",
       "      <td>positive</td>\n",
       "      <td>Hilarious @youtube video - guy does a duet wit...</td>\n",
       "    </tr>\n",
       "    <tr>\n",
       "      <th>126397179614068736</th>\n",
       "      <td>positive</td>\n",
       "      <td>@RIM you made it too easy for me to switch to ...</td>\n",
       "    </tr>\n",
       "    <tr>\n",
       "      <th>126395626979196928</th>\n",
       "      <td>positive</td>\n",
       "      <td>I just realized that the reason I got into twi...</td>\n",
       "    </tr>\n",
       "  </tbody>\n",
       "</table>\n",
       "</div>"
      ],
      "text/plain": [
       "                       class  \\\n",
       "id                             \n",
       "126415614616154112  positive   \n",
       "126404574230740992  positive   \n",
       "126402758403305474  positive   \n",
       "126397179614068736  positive   \n",
       "126395626979196928  positive   \n",
       "\n",
       "                                                                 text  \n",
       "id                                                                     \n",
       "126415614616154112  Now all @Apple has to do is get swype on the i...  \n",
       "126404574230740992  @Apple will be adding more carrier support to ...  \n",
       "126402758403305474  Hilarious @youtube video - guy does a duet wit...  \n",
       "126397179614068736  @RIM you made it too easy for me to switch to ...  \n",
       "126395626979196928  I just realized that the reason I got into twi...  "
      ]
     },
     "execution_count": 175,
     "metadata": {},
     "output_type": "execute_result"
    }
   ],
   "source": [
    "sanders_analytics = sanders_analytics.drop(labels=['Topic', 'TweetDate'], axis=1)\n",
    "sanders_analytics.rename(columns={'TweetId': 'id', 'TweetText': 'text', 'Sentiment' : 'class'}, inplace=True)\n",
    "sanders_analytics = sanders_analytics.set_index('id')\n",
    "sanders_analytics = sanders_analytics[sanders_analytics['class'] != 'irrelevant']\n",
    "sanders_analytics.head()"
   ]
  },
  {
   "cell_type": "code",
   "execution_count": 176,
   "metadata": {},
   "outputs": [
    {
     "data": {
      "text/plain": [
       "neutral     2333\n",
       "negative     572\n",
       "positive     519\n",
       "Name: class, dtype: int64"
      ]
     },
     "execution_count": 176,
     "metadata": {},
     "output_type": "execute_result"
    }
   ],
   "source": [
    "sanders_analytics['class'].value_counts()"
   ]
  },
  {
   "cell_type": "code",
   "execution_count": 177,
   "metadata": {},
   "outputs": [],
   "source": [
    "# if save_custom:\n",
    "sanders_analytics.to_csv('../data/sanders_analytics/sananalytics_processed.csv')"
   ]
  },
  {
   "cell_type": "markdown",
   "metadata": {},
   "source": [
    "## Custom Dataset"
   ]
  },
  {
   "cell_type": "code",
   "execution_count": 6,
   "metadata": {},
   "outputs": [],
   "source": [
    "custom_dataset = sem_eval.copy()"
   ]
  },
  {
   "cell_type": "code",
   "execution_count": 7,
   "metadata": {},
   "outputs": [
    {
     "data": {
      "text/html": [
       "<div>\n",
       "<style scoped>\n",
       "    .dataframe tbody tr th:only-of-type {\n",
       "        vertical-align: middle;\n",
       "    }\n",
       "\n",
       "    .dataframe tbody tr th {\n",
       "        vertical-align: top;\n",
       "    }\n",
       "\n",
       "    .dataframe thead th {\n",
       "        text-align: right;\n",
       "    }\n",
       "</style>\n",
       "<table border=\"1\" class=\"dataframe\">\n",
       "  <thead>\n",
       "    <tr style=\"text-align: right;\">\n",
       "      <th></th>\n",
       "      <th>class</th>\n",
       "      <th>text</th>\n",
       "    </tr>\n",
       "    <tr>\n",
       "      <th>id</th>\n",
       "      <th></th>\n",
       "      <th></th>\n",
       "    </tr>\n",
       "  </thead>\n",
       "  <tbody>\n",
       "    <tr>\n",
       "      <th>619950566786113536</th>\n",
       "      <td>neutral</td>\n",
       "      <td>Picturehouse's, Pink Floyd's, 'Roger Waters: T...</td>\n",
       "    </tr>\n",
       "    <tr>\n",
       "      <th>619969366986235905</th>\n",
       "      <td>neutral</td>\n",
       "      <td>Order Go Set a Watchman in store or through ou...</td>\n",
       "    </tr>\n",
       "    <tr>\n",
       "      <th>619971047195045888</th>\n",
       "      <td>negative</td>\n",
       "      <td>If these runway renovations at the airport pre...</td>\n",
       "    </tr>\n",
       "    <tr>\n",
       "      <th>619974445185302528</th>\n",
       "      <td>neutral</td>\n",
       "      <td>If you could ask an onstage interview question...</td>\n",
       "    </tr>\n",
       "    <tr>\n",
       "      <th>619987808317407232</th>\n",
       "      <td>positive</td>\n",
       "      <td>A portion of book sales from our Harper Lee/Go...</td>\n",
       "    </tr>\n",
       "  </tbody>\n",
       "</table>\n",
       "</div>"
      ],
      "text/plain": [
       "                       class  \\\n",
       "id                             \n",
       "619950566786113536   neutral   \n",
       "619969366986235905   neutral   \n",
       "619971047195045888  negative   \n",
       "619974445185302528   neutral   \n",
       "619987808317407232  positive   \n",
       "\n",
       "                                                                 text  \n",
       "id                                                                     \n",
       "619950566786113536  Picturehouse's, Pink Floyd's, 'Roger Waters: T...  \n",
       "619969366986235905  Order Go Set a Watchman in store or through ou...  \n",
       "619971047195045888  If these runway renovations at the airport pre...  \n",
       "619974445185302528  If you could ask an onstage interview question...  \n",
       "619987808317407232  A portion of book sales from our Harper Lee/Go...  "
      ]
     },
     "execution_count": 7,
     "metadata": {},
     "output_type": "execute_result"
    }
   ],
   "source": [
    "custom_dataset.head()"
   ]
  },
  {
   "cell_type": "code",
   "execution_count": 8,
   "metadata": {},
   "outputs": [],
   "source": [
    "counts = custom_dataset['class'].value_counts()\n",
    "neut_count = counts['neutral']\n",
    "pos_deficit = neut_count - counts['positive']\n",
    "neg_deficit = neut_count - counts['negative']"
   ]
  },
  {
   "cell_type": "code",
   "execution_count": 9,
   "metadata": {},
   "outputs": [],
   "source": [
    "pos_sample = sent_140[sent_140['class'] == 'positive'].sample(pos_deficit)\n",
    "neg_sample = sent_140[sent_140['class'] == 'negative'].sample(neg_deficit)"
   ]
  },
  {
   "cell_type": "code",
   "execution_count": 10,
   "metadata": {},
   "outputs": [],
   "source": [
    "pos_sample = pos_sample.drop(labels=['date', 'query', 'user'], axis=1)\n",
    "neg_sample = neg_sample.drop(labels=['date', 'query', 'user'], axis=1)"
   ]
  },
  {
   "cell_type": "code",
   "execution_count": 11,
   "metadata": {},
   "outputs": [
    {
     "data": {
      "text/plain": [
       "neutral     27954\n",
       "positive    21977\n",
       "negative    11543\n",
       "Name: class, dtype: int64"
      ]
     },
     "execution_count": 11,
     "metadata": {},
     "output_type": "execute_result"
    }
   ],
   "source": [
    "custom_dataset['class'].value_counts()"
   ]
  },
  {
   "cell_type": "code",
   "execution_count": 12,
   "metadata": {},
   "outputs": [
    {
     "data": {
      "text/plain": [
       "positive    27954\n",
       "negative    27954\n",
       "neutral     27954\n",
       "Name: class, dtype: int64"
      ]
     },
     "execution_count": 12,
     "metadata": {},
     "output_type": "execute_result"
    }
   ],
   "source": [
    "balancing = pos_sample.append(neg_sample)\n",
    "custom_dataset = custom_dataset.append(balancing)\n",
    "custom_dataset['class'].value_counts()"
   ]
  },
  {
   "cell_type": "code",
   "execution_count": 16,
   "metadata": {},
   "outputs": [],
   "source": [
    "if save_custom:\n",
    "    custom_dataset.to_csv('../data/custom/sem_eval_balanced_with_sent_140.csv')"
   ]
  },
  {
   "cell_type": "markdown",
   "metadata": {},
   "source": [
    "## Composite Datasets"
   ]
  },
  {
   "cell_type": "markdown",
   "metadata": {},
   "source": [
    "### SemEval + SandersAnalytics + Sent-140"
   ]
  },
  {
   "cell_type": "code",
   "execution_count": 178,
   "metadata": {},
   "outputs": [],
   "source": [
    "composite_dataset = sem_eval.copy()\n",
    "composite_dataset = composite_dataset.append(sanders_analytics)"
   ]
  },
  {
   "cell_type": "code",
   "execution_count": 179,
   "metadata": {},
   "outputs": [
    {
     "data": {
      "text/plain": [
       "neutral     24544\n",
       "positive    20144\n",
       "negative     8304\n",
       "Name: class, dtype: int64"
      ]
     },
     "execution_count": 179,
     "metadata": {},
     "output_type": "execute_result"
    }
   ],
   "source": [
    "composite_dataset['class'].value_counts()"
   ]
  },
  {
   "cell_type": "code",
   "execution_count": 180,
   "metadata": {},
   "outputs": [
    {
     "data": {
      "text/plain": [
       "negative    24544\n",
       "positive    24544\n",
       "neutral     24544\n",
       "Name: class, dtype: int64"
      ]
     },
     "execution_count": 180,
     "metadata": {},
     "output_type": "execute_result"
    }
   ],
   "source": [
    "counts = composite_dataset['class'].value_counts()\n",
    "neut_count = counts['neutral']\n",
    "pos_deficit = neut_count - counts['positive']\n",
    "neg_deficit = neut_count - counts['negative']\n",
    "pos_sample = sent_140[sent_140['class'] == 'positive'].sample(pos_deficit)\n",
    "neg_sample = sent_140[sent_140['class'] == 'negative'].sample(neg_deficit)\n",
    "pos_sample = pos_sample.drop(labels=['date', 'query', 'user'], axis=1)\n",
    "neg_sample = neg_sample.drop(labels=['date', 'query', 'user'], axis=1)\n",
    "balancing = pos_sample.append(neg_sample)\n",
    "composite_dataset = composite_dataset.append(balancing)\n",
    "composite_dataset['class'].value_counts()"
   ]
  },
  {
   "cell_type": "code",
   "execution_count": 181,
   "metadata": {},
   "outputs": [],
   "source": [
    "if save_custom:\n",
    "    composite_dataset.to_csv('../data/custom/sem_eval_sanders_balanced.csv')"
   ]
  },
  {
   "cell_type": "markdown",
   "metadata": {},
   "source": [
    "### SemEval + TextEmoticon + Sent-140"
   ]
  },
  {
   "cell_type": "code",
   "execution_count": 147,
   "metadata": {},
   "outputs": [],
   "source": [
    "composite_dataset = sem_eval.copy()\n",
    "composite_dataset = composite_dataset.append(text_emotion)"
   ]
  },
  {
   "cell_type": "code",
   "execution_count": 148,
   "metadata": {},
   "outputs": [
    {
     "data": {
      "text/plain": [
       "neutral     30849\n",
       "positive    28676\n",
       "negative    14330\n",
       "Name: class, dtype: int64"
      ]
     },
     "execution_count": 148,
     "metadata": {},
     "output_type": "execute_result"
    }
   ],
   "source": [
    "composite_dataset['class'].value_counts()"
   ]
  },
  {
   "cell_type": "code",
   "execution_count": 149,
   "metadata": {},
   "outputs": [],
   "source": [
    "counts = composite_dataset['class'].value_counts()\n",
    "neut_count = counts['neutral']\n",
    "pos_deficit = neut_count - counts['positive']\n",
    "neg_deficit = neut_count - counts['negative']\n",
    "pos_sample = sent_140[sent_140['class'] == 'positive'].sample(pos_deficit)\n",
    "neg_sample = sent_140[sent_140['class'] == 'negative'].sample(neg_deficit)\n",
    "pos_sample = pos_sample.drop(labels=['date', 'query', 'user'], axis=1)\n",
    "neg_sample = neg_sample.drop(labels=['date', 'query', 'user'], axis=1)"
   ]
  },
  {
   "cell_type": "code",
   "execution_count": 150,
   "metadata": {},
   "outputs": [
    {
     "data": {
      "text/plain": [
       "negative    30849\n",
       "positive    30849\n",
       "neutral     30849\n",
       "Name: class, dtype: int64"
      ]
     },
     "execution_count": 150,
     "metadata": {},
     "output_type": "execute_result"
    }
   ],
   "source": [
    "balancing = pos_sample.append(neg_sample)\n",
    "composite_dataset = composite_dataset.append(balancing)\n",
    "composite_dataset['class'].value_counts()"
   ]
  },
  {
   "cell_type": "code",
   "execution_count": 151,
   "metadata": {},
   "outputs": [],
   "source": [
    "if save_custom:\n",
    "    composite_dataset.to_csv('../data/custom/sem_eval_text_emotion_balanced.csv')"
   ]
  },
  {
   "cell_type": "code",
   "execution_count": null,
   "metadata": {},
   "outputs": [],
   "source": []
  },
  {
   "cell_type": "code",
   "execution_count": null,
   "metadata": {},
   "outputs": [],
   "source": []
  },
  {
   "cell_type": "code",
   "execution_count": null,
   "metadata": {},
   "outputs": [],
   "source": []
  },
  {
   "cell_type": "code",
   "execution_count": null,
   "metadata": {},
   "outputs": [],
   "source": []
  },
  {
   "cell_type": "code",
   "execution_count": null,
   "metadata": {},
   "outputs": [],
   "source": []
  },
  {
   "cell_type": "code",
   "execution_count": null,
   "metadata": {},
   "outputs": [],
   "source": []
  },
  {
   "cell_type": "code",
   "execution_count": null,
   "metadata": {},
   "outputs": [],
   "source": []
  }
 ],
 "metadata": {
  "kernelspec": {
   "display_name": "Python 3",
   "language": "python",
   "name": "python3"
  },
  "language_info": {
   "codemirror_mode": {
    "name": "ipython",
    "version": 3
   },
   "file_extension": ".py",
   "mimetype": "text/x-python",
   "name": "python",
   "nbconvert_exporter": "python",
   "pygments_lexer": "ipython3",
   "version": "3.6.3"
  }
 },
 "nbformat": 4,
 "nbformat_minor": 2
}
